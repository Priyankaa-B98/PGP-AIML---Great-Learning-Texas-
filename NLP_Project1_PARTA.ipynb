{
 "cells": [
  {
   "cell_type": "markdown",
   "id": "324dadf2",
   "metadata": {},
   "source": [
    "# PART_A"
   ]
  },
  {
   "cell_type": "markdown",
   "id": "8bbeaf34",
   "metadata": {},
   "source": [
    "#### DOMAIN: \n",
    "\n",
    "Digital content management\n",
    "\n",
    "#### CONTEXT: \n",
    "\n",
    "Classification is probably the most popular task that you would deal with in real life. Text in the form of blogs, posts, articles, etc. are written every second. It is a challenge to predict the information about the writer without knowing about him/her. We are going to create a classifier that predicts multiple features of the author of a given text. We have designed it as a Multi label classification problem.\n",
    "\n",
    "#### DATA DESCRIPTION: \n",
    "\n",
    "Over 600,000 posts from more than 19 thousand bloggers The Blog Authorship Corpus consists of the collected posts of \n",
    "19,320 bloggers gathered from blogger.com in August 2004. The corpus incorporates a total of 681,288 posts and over 140 million words - or approximately 35 posts and 7250 words per person. Each blog is presented as a separate file, the name of which indicates a blogger id# and the blogger’s self-provided gender, age, industry, and astrological sign. (All are labelled for gender and age but for many, industry and/or sign is marked as unknown.) All bloggers included in the corpus fall into one of three age groups:\n",
    "\n",
    "• 8240 \"10s\" blogs (ages 13-17),\n",
    "\n",
    "• 8086 \"20s\" blogs(ages 23-27) and\n",
    "\n",
    "• 2994 \"30s\" blogs (ages 33-47)\n",
    "\n",
    "• For each age group, there is an equal number of male and female bloggers. Each blog in the corpus includes at least 200 occurrences of common English words. All formatting has been stripped with two exceptions. Individual posts within a single blogger are separated by the date of the following post and links within a post are denoted by the label url link.\n",
    "\n",
    "#### PROJECT OBJECTIVE: \n",
    "\n",
    "To build a NLP classifier which can use input text parameters to determine the label/s of the blog. Specific to this case \n",
    "study, you can consider the text of the blog: ‘text’ feature as independent variable and ‘topic’ as dependent variable"
   ]
  },
  {
   "cell_type": "code",
   "execution_count": 1,
   "id": "60e0c6a0",
   "metadata": {},
   "outputs": [],
   "source": [
    "# The neccesary libraries are imported here:\n",
    "\n",
    "import os\n",
    "import pandas as pd\n",
    "import numpy as np\n",
    "import cv2\n",
    "import tensorflow as tf\n",
    "from tensorflow import keras\n",
    "import warnings\n",
    "warnings.filterwarnings('ignore')\n",
    "%matplotlib inline\n",
    "import pandas as pd\n",
    "import numpy as np\n",
    "import seaborn as sns\n",
    "import matplotlib.pyplot as plt\n",
    "\n",
    "from sklearn.model_selection import train_test_split\n",
    "from sklearn import preprocessing\n",
    "from sklearn.preprocessing import LabelEncoder\n",
    "\n",
    "import random\n",
    "import tensorflow as tf\n",
    "from tensorflow import keras\n",
    "from tensorflow.keras.models import Sequential\n",
    "from tensorflow.keras.layers import Dense, Dropout, BatchNormalization, Flatten\n",
    "from keras.utils import to_categorical\n",
    "from sklearn.metrics import accuracy_score, confusion_matrix, precision_score, recall_score, f1_score, precision_recall_curve, auc,classification_report, roc_curve\n",
    "from tensorflow.keras import optimizers\n",
    "from keras import regularizers\n",
    "from keras.optimizers import SGD\n",
    "from tensorflow.keras import backend\n",
    "from sklearn.model_selection import GridSearchCV\n",
    "from keras.wrappers.scikit_learn import KerasClassifier\n",
    "from keras import optimizers\n",
    "from keras.utils import np_utils\n",
    "from sklearn.preprocessing import StandardScaler\n",
    "\n",
    "#Import necessary libraries \n",
    "import numpy as np\n",
    "import pandas as pd\n",
    "import matplotlib.pyplot as plt\n",
    "import seaborn as sns\n",
    "%matplotlib inline\n",
    "import warnings\n",
    "warnings.filterwarnings(\"ignore\")\n",
    "\n",
    "from sklearn.model_selection import train_test_split\n",
    "from sklearn import preprocessing\n",
    "from sklearn.preprocessing import LabelEncoder\n",
    "\n",
    "import tensorflow as tf\n",
    "from tensorflow import keras\n",
    "from tensorflow.keras.models import Sequential\n",
    "from tensorflow.keras.layers import Convolution2D\n",
    "from tensorflow.keras.layers import Dense,Dropout,Flatten,Conv2D, MaxPooling2D, MaxPool2D, GlobalMaxPooling2D, BatchNormalization\n",
    "from keras.utils import to_categorical\n",
    "from sklearn.metrics import accuracy_score, confusion_matrix, precision_score, recall_score, f1_score, precision_recall_curve, auc,classification_report, roc_curve\n",
    "from tensorflow.keras import optimizers\n",
    "from keras import regularizers\n",
    "from keras.optimizers import SGD\n",
    "from tensorflow.keras import backend\n",
    "from sklearn.model_selection import GridSearchCV\n",
    "from keras.wrappers.scikit_learn import KerasClassifier\n",
    "from keras import optimizers\n",
    "from keras.utils import np_utils\n",
    "from sklearn.preprocessing import StandardScaler\n",
    "from glob import glob\n",
    "import cv2\n",
    "from collections import Counter\n",
    "from sklearn.model_selection import train_test_split\n",
    "from tensorflow.keras.layers import ZeroPadding2D\n",
    "from tensorflow.keras.layers import Softmax,Flatten,Activation\n",
    "from tensorflow.keras.preprocessing.image import load_img,img_to_array\n",
    "from tensorflow.keras.applications.imagenet_utils import preprocess_input\n",
    "import tensorflow.keras.backend as K"
   ]
  },
  {
   "cell_type": "code",
   "execution_count": 2,
   "id": "41909db3",
   "metadata": {},
   "outputs": [],
   "source": [
    "import numpy as np # linear algebra\n",
    "import pandas as pd # data processing, CSV file I/O (e.g. pd.read_csv)\n",
    "import re # regular expression\n",
    "import seaborn as sns\n",
    "import matplotlib as plt\n",
    "%matplotlib inline\n",
    "import nltk\n",
    "\n",
    "import os"
   ]
  },
  {
   "cell_type": "code",
   "execution_count": 3,
   "id": "89694c3f",
   "metadata": {},
   "outputs": [],
   "source": [
    "# Extract the ZIP file\n",
    "file_path = \"C:\\\\Users\\\\ASUS\\\\blogs.zip\"\n",
    "\n",
    "from zipfile import ZipFile\n",
    "with ZipFile(file_path,'r') as zip:\n",
    "  zip.extractall(path='C:\\\\Users\\\\ASUS\\\\blogs')"
   ]
  },
  {
   "cell_type": "code",
   "execution_count": 4,
   "id": "a035376d",
   "metadata": {},
   "outputs": [],
   "source": [
    "#Import the data set\n",
    "df = pd.read_csv('C:\\\\Users\\\\ASUS\\\\blogs\\\\blogtext.csv')"
   ]
  },
  {
   "cell_type": "markdown",
   "id": "63d639ee",
   "metadata": {},
   "source": [
    "### 1. Read and Analyse Dataset.\n",
    "\n",
    "- A. Clearly write outcome of data analysis:"
   ]
  },
  {
   "cell_type": "code",
   "execution_count": 5,
   "id": "5276a8c2",
   "metadata": {},
   "outputs": [
    {
     "data": {
      "text/html": [
       "<div>\n",
       "<style scoped>\n",
       "    .dataframe tbody tr th:only-of-type {\n",
       "        vertical-align: middle;\n",
       "    }\n",
       "\n",
       "    .dataframe tbody tr th {\n",
       "        vertical-align: top;\n",
       "    }\n",
       "\n",
       "    .dataframe thead th {\n",
       "        text-align: right;\n",
       "    }\n",
       "</style>\n",
       "<table border=\"1\" class=\"dataframe\">\n",
       "  <thead>\n",
       "    <tr style=\"text-align: right;\">\n",
       "      <th></th>\n",
       "      <th>id</th>\n",
       "      <th>gender</th>\n",
       "      <th>age</th>\n",
       "      <th>topic</th>\n",
       "      <th>sign</th>\n",
       "      <th>date</th>\n",
       "      <th>text</th>\n",
       "    </tr>\n",
       "  </thead>\n",
       "  <tbody>\n",
       "    <tr>\n",
       "      <th>0</th>\n",
       "      <td>2059027</td>\n",
       "      <td>male</td>\n",
       "      <td>15</td>\n",
       "      <td>Student</td>\n",
       "      <td>Leo</td>\n",
       "      <td>14,May,2004</td>\n",
       "      <td>Info has been found (+/- 100 pages,...</td>\n",
       "    </tr>\n",
       "    <tr>\n",
       "      <th>1</th>\n",
       "      <td>2059027</td>\n",
       "      <td>male</td>\n",
       "      <td>15</td>\n",
       "      <td>Student</td>\n",
       "      <td>Leo</td>\n",
       "      <td>13,May,2004</td>\n",
       "      <td>These are the team members:   Drewe...</td>\n",
       "    </tr>\n",
       "    <tr>\n",
       "      <th>2</th>\n",
       "      <td>2059027</td>\n",
       "      <td>male</td>\n",
       "      <td>15</td>\n",
       "      <td>Student</td>\n",
       "      <td>Leo</td>\n",
       "      <td>12,May,2004</td>\n",
       "      <td>In het kader van kernfusie op aarde...</td>\n",
       "    </tr>\n",
       "    <tr>\n",
       "      <th>3</th>\n",
       "      <td>2059027</td>\n",
       "      <td>male</td>\n",
       "      <td>15</td>\n",
       "      <td>Student</td>\n",
       "      <td>Leo</td>\n",
       "      <td>12,May,2004</td>\n",
       "      <td>testing!!!  testing!!!</td>\n",
       "    </tr>\n",
       "    <tr>\n",
       "      <th>4</th>\n",
       "      <td>3581210</td>\n",
       "      <td>male</td>\n",
       "      <td>33</td>\n",
       "      <td>InvestmentBanking</td>\n",
       "      <td>Aquarius</td>\n",
       "      <td>11,June,2004</td>\n",
       "      <td>Thanks to Yahoo!'s Toolbar I can ...</td>\n",
       "    </tr>\n",
       "  </tbody>\n",
       "</table>\n",
       "</div>"
      ],
      "text/plain": [
       "        id gender  age              topic      sign          date  \\\n",
       "0  2059027   male   15            Student       Leo   14,May,2004   \n",
       "1  2059027   male   15            Student       Leo   13,May,2004   \n",
       "2  2059027   male   15            Student       Leo   12,May,2004   \n",
       "3  2059027   male   15            Student       Leo   12,May,2004   \n",
       "4  3581210   male   33  InvestmentBanking  Aquarius  11,June,2004   \n",
       "\n",
       "                                                text  \n",
       "0             Info has been found (+/- 100 pages,...  \n",
       "1             These are the team members:   Drewe...  \n",
       "2             In het kader van kernfusie op aarde...  \n",
       "3                   testing!!!  testing!!!            \n",
       "4               Thanks to Yahoo!'s Toolbar I can ...  "
      ]
     },
     "execution_count": 5,
     "metadata": {},
     "output_type": "execute_result"
    }
   ],
   "source": [
    "# see few rows of the imported dataset\n",
    "df.head()"
   ]
  },
  {
   "cell_type": "code",
   "execution_count": 6,
   "id": "c83d164a",
   "metadata": {},
   "outputs": [
    {
     "data": {
      "text/plain": [
       "(681284, 7)"
      ]
     },
     "execution_count": 6,
     "metadata": {},
     "output_type": "execute_result"
    }
   ],
   "source": [
    "# Check the number of rows and columns\n",
    "df.shape"
   ]
  },
  {
   "cell_type": "markdown",
   "id": "48522c4e",
   "metadata": {},
   "source": [
    "### Inspecting the dataset:"
   ]
  },
  {
   "cell_type": "code",
   "execution_count": 7,
   "id": "1bb09773",
   "metadata": {},
   "outputs": [
    {
     "name": "stdout",
     "output_type": "stream",
     "text": [
      "<class 'pandas.core.frame.DataFrame'>\n",
      "RangeIndex: 681284 entries, 0 to 681283\n",
      "Data columns (total 7 columns):\n",
      " #   Column  Non-Null Count   Dtype \n",
      "---  ------  --------------   ----- \n",
      " 0   id      681284 non-null  int64 \n",
      " 1   gender  681284 non-null  object\n",
      " 2   age     681284 non-null  int64 \n",
      " 3   topic   681284 non-null  object\n",
      " 4   sign    681284 non-null  object\n",
      " 5   date    681284 non-null  object\n",
      " 6   text    681284 non-null  object\n",
      "dtypes: int64(2), object(5)\n",
      "memory usage: 36.4+ MB\n"
     ]
    }
   ],
   "source": [
    "#Check Data types\n",
    "df.info()"
   ]
  },
  {
   "cell_type": "code",
   "execution_count": 8,
   "id": "097b3c78",
   "metadata": {},
   "outputs": [
    {
     "data": {
      "text/html": [
       "<div>\n",
       "<style scoped>\n",
       "    .dataframe tbody tr th:only-of-type {\n",
       "        vertical-align: middle;\n",
       "    }\n",
       "\n",
       "    .dataframe tbody tr th {\n",
       "        vertical-align: top;\n",
       "    }\n",
       "\n",
       "    .dataframe thead th {\n",
       "        text-align: right;\n",
       "    }\n",
       "</style>\n",
       "<table border=\"1\" class=\"dataframe\">\n",
       "  <thead>\n",
       "    <tr style=\"text-align: right;\">\n",
       "      <th></th>\n",
       "      <th>id</th>\n",
       "      <th>age</th>\n",
       "    </tr>\n",
       "  </thead>\n",
       "  <tbody>\n",
       "    <tr>\n",
       "      <th>count</th>\n",
       "      <td>6.812840e+05</td>\n",
       "      <td>681284.000000</td>\n",
       "    </tr>\n",
       "    <tr>\n",
       "      <th>mean</th>\n",
       "      <td>2.397802e+06</td>\n",
       "      <td>23.932326</td>\n",
       "    </tr>\n",
       "    <tr>\n",
       "      <th>std</th>\n",
       "      <td>1.247723e+06</td>\n",
       "      <td>7.786009</td>\n",
       "    </tr>\n",
       "    <tr>\n",
       "      <th>min</th>\n",
       "      <td>5.114000e+03</td>\n",
       "      <td>13.000000</td>\n",
       "    </tr>\n",
       "    <tr>\n",
       "      <th>25%</th>\n",
       "      <td>1.239610e+06</td>\n",
       "      <td>17.000000</td>\n",
       "    </tr>\n",
       "    <tr>\n",
       "      <th>50%</th>\n",
       "      <td>2.607577e+06</td>\n",
       "      <td>24.000000</td>\n",
       "    </tr>\n",
       "    <tr>\n",
       "      <th>75%</th>\n",
       "      <td>3.525660e+06</td>\n",
       "      <td>26.000000</td>\n",
       "    </tr>\n",
       "    <tr>\n",
       "      <th>max</th>\n",
       "      <td>4.337650e+06</td>\n",
       "      <td>48.000000</td>\n",
       "    </tr>\n",
       "  </tbody>\n",
       "</table>\n",
       "</div>"
      ],
      "text/plain": [
       "                 id            age\n",
       "count  6.812840e+05  681284.000000\n",
       "mean   2.397802e+06      23.932326\n",
       "std    1.247723e+06       7.786009\n",
       "min    5.114000e+03      13.000000\n",
       "25%    1.239610e+06      17.000000\n",
       "50%    2.607577e+06      24.000000\n",
       "75%    3.525660e+06      26.000000\n",
       "max    4.337650e+06      48.000000"
      ]
     },
     "execution_count": 8,
     "metadata": {},
     "output_type": "execute_result"
    }
   ],
   "source": [
    "df.describe()"
   ]
  },
  {
   "cell_type": "code",
   "execution_count": 9,
   "id": "b3f89685",
   "metadata": {},
   "outputs": [
    {
     "data": {
      "text/plain": [
       "Index(['id', 'gender', 'age', 'topic', 'sign', 'date', 'text'], dtype='object')"
      ]
     },
     "execution_count": 9,
     "metadata": {},
     "output_type": "execute_result"
    }
   ],
   "source": [
    "df.columns"
   ]
  },
  {
   "cell_type": "code",
   "execution_count": 10,
   "id": "b022ce65",
   "metadata": {},
   "outputs": [
    {
     "data": {
      "text/plain": [
       "id    -0.239704\n",
       "age    0.807838\n",
       "dtype: float64"
      ]
     },
     "execution_count": 10,
     "metadata": {},
     "output_type": "execute_result"
    }
   ],
   "source": [
    "df.skew()"
   ]
  },
  {
   "cell_type": "code",
   "execution_count": 11,
   "id": "5c542728",
   "metadata": {},
   "outputs": [
    {
     "data": {
      "text/plain": [
       "object    5\n",
       "int64     2\n",
       "dtype: int64"
      ]
     },
     "execution_count": 11,
     "metadata": {},
     "output_type": "execute_result"
    }
   ],
   "source": [
    "df.dtypes.value_counts()"
   ]
  },
  {
   "cell_type": "markdown",
   "id": "7c80d5dd",
   "metadata": {},
   "source": [
    "#### The zip file dataset is extracted and stored in \"df\" variable.\n",
    "\n",
    "1. The dataset has 681284 rows and 7 columns.\n",
    "\n",
    "2. There are 7 columns of which 2 are of int and rest 5 are of object datatype.\n",
    "\n",
    "3. The average age of the people is 24 years."
   ]
  },
  {
   "cell_type": "markdown",
   "id": "3aec8f10",
   "metadata": {},
   "source": [
    "### 1. B. Clean the Structured Data \n",
    "\n",
    " - i. Missing value analysis and imputation. \n",
    "\n",
    " - ii. Eliminate Non-English textual data.\n"
   ]
  },
  {
   "cell_type": "code",
   "execution_count": 12,
   "id": "e06e82bc",
   "metadata": {},
   "outputs": [
    {
     "name": "stdout",
     "output_type": "stream",
     "text": [
      "Number of missing values across columns-\n",
      " id        0\n",
      "gender    0\n",
      "age       0\n",
      "topic     0\n",
      "sign      0\n",
      "date      0\n",
      "text      0\n",
      "dtype: int64\n"
     ]
    }
   ],
   "source": [
    "# Check for missing values present\n",
    "print('Number of missing values across columns-\\n', df.isnull().sum())"
   ]
  },
  {
   "cell_type": "markdown",
   "id": "4429f9ea",
   "metadata": {},
   "source": [
    "#### There are no missing values and we are dropping the Non-English textual features:"
   ]
  },
  {
   "cell_type": "code",
   "execution_count": 13,
   "id": "075c3040",
   "metadata": {},
   "outputs": [
    {
     "data": {
      "text/plain": [
       "<AxesSubplot:xlabel='gender', ylabel='count'>"
      ]
     },
     "execution_count": 13,
     "metadata": {},
     "output_type": "execute_result"
    },
    {
     "data": {
      "image/png": "[encoded data removed]",
      "text/plain": [
       "<Figure size 432x288 with 1 Axes>"
      ]
     },
     "metadata": {
      "needs_background": "light"
     },
     "output_type": "display_data"
    }
   ],
   "source": [
    "# Checking gendre distribution\n",
    "sns.countplot(x='gender',data=df)"
   ]
  },
  {
   "cell_type": "code",
   "execution_count": 14,
   "id": "1d90de52",
   "metadata": {},
   "outputs": [],
   "source": [
    "# Creation of data sub-set\n",
    "data = df.head(5000)"
   ]
  },
  {
   "cell_type": "code",
   "execution_count": 15,
   "id": "f812e6d4",
   "metadata": {},
   "outputs": [],
   "source": [
    "# dropping non value added variables - id & date\n",
    "\n",
    "## Eliminating the non-english Textual data:\n",
    "\n",
    "data.drop(['id','date'], axis=1, inplace=True)"
   ]
  },
  {
   "cell_type": "code",
   "execution_count": 16,
   "id": "a65ac230",
   "metadata": {},
   "outputs": [
    {
     "data": {
      "text/html": [
       "<div>\n",
       "<style scoped>\n",
       "    .dataframe tbody tr th:only-of-type {\n",
       "        vertical-align: middle;\n",
       "    }\n",
       "\n",
       "    .dataframe tbody tr th {\n",
       "        vertical-align: top;\n",
       "    }\n",
       "\n",
       "    .dataframe thead th {\n",
       "        text-align: right;\n",
       "    }\n",
       "</style>\n",
       "<table border=\"1\" class=\"dataframe\">\n",
       "  <thead>\n",
       "    <tr style=\"text-align: right;\">\n",
       "      <th></th>\n",
       "      <th>gender</th>\n",
       "      <th>age</th>\n",
       "      <th>topic</th>\n",
       "      <th>sign</th>\n",
       "      <th>text</th>\n",
       "    </tr>\n",
       "  </thead>\n",
       "  <tbody>\n",
       "    <tr>\n",
       "      <th>0</th>\n",
       "      <td>male</td>\n",
       "      <td>15</td>\n",
       "      <td>Student</td>\n",
       "      <td>Leo</td>\n",
       "      <td>Info has been found (+/- 100 pages,...</td>\n",
       "    </tr>\n",
       "    <tr>\n",
       "      <th>1</th>\n",
       "      <td>male</td>\n",
       "      <td>15</td>\n",
       "      <td>Student</td>\n",
       "      <td>Leo</td>\n",
       "      <td>These are the team members:   Drewe...</td>\n",
       "    </tr>\n",
       "    <tr>\n",
       "      <th>2</th>\n",
       "      <td>male</td>\n",
       "      <td>15</td>\n",
       "      <td>Student</td>\n",
       "      <td>Leo</td>\n",
       "      <td>In het kader van kernfusie op aarde...</td>\n",
       "    </tr>\n",
       "    <tr>\n",
       "      <th>3</th>\n",
       "      <td>male</td>\n",
       "      <td>15</td>\n",
       "      <td>Student</td>\n",
       "      <td>Leo</td>\n",
       "      <td>testing!!!  testing!!!</td>\n",
       "    </tr>\n",
       "    <tr>\n",
       "      <th>4</th>\n",
       "      <td>male</td>\n",
       "      <td>33</td>\n",
       "      <td>InvestmentBanking</td>\n",
       "      <td>Aquarius</td>\n",
       "      <td>Thanks to Yahoo!'s Toolbar I can ...</td>\n",
       "    </tr>\n",
       "  </tbody>\n",
       "</table>\n",
       "</div>"
      ],
      "text/plain": [
       "  gender  age              topic      sign  \\\n",
       "0   male   15            Student       Leo   \n",
       "1   male   15            Student       Leo   \n",
       "2   male   15            Student       Leo   \n",
       "3   male   15            Student       Leo   \n",
       "4   male   33  InvestmentBanking  Aquarius   \n",
       "\n",
       "                                                text  \n",
       "0             Info has been found (+/- 100 pages,...  \n",
       "1             These are the team members:   Drewe...  \n",
       "2             In het kader van kernfusie op aarde...  \n",
       "3                   testing!!!  testing!!!            \n",
       "4               Thanks to Yahoo!'s Toolbar I can ...  "
      ]
     },
     "execution_count": 16,
     "metadata": {},
     "output_type": "execute_result"
    }
   ],
   "source": [
    "# looking at few rows post dropping non value added variables\n",
    "data.head()"
   ]
  },
  {
   "cell_type": "code",
   "execution_count": 17,
   "id": "10ef639b",
   "metadata": {},
   "outputs": [
    {
     "data": {
      "text/plain": [
       "(5000, 5)"
      ]
     },
     "execution_count": 17,
     "metadata": {},
     "output_type": "execute_result"
    }
   ],
   "source": [
    "data.shape"
   ]
  },
  {
   "cell_type": "code",
   "execution_count": 18,
   "id": "db2bb912",
   "metadata": {},
   "outputs": [],
   "source": [
    "# converting \"age\"(non-English textual data) from int to object\n",
    "\n",
    "data['age']=data['age'].astype('object')"
   ]
  },
  {
   "cell_type": "code",
   "execution_count": 19,
   "id": "f964324b",
   "metadata": {},
   "outputs": [
    {
     "name": "stdout",
     "output_type": "stream",
     "text": [
      "<class 'pandas.core.frame.DataFrame'>\n",
      "RangeIndex: 5000 entries, 0 to 4999\n",
      "Data columns (total 5 columns):\n",
      " #   Column  Non-Null Count  Dtype \n",
      "---  ------  --------------  ----- \n",
      " 0   gender  5000 non-null   object\n",
      " 1   age     5000 non-null   object\n",
      " 2   topic   5000 non-null   object\n",
      " 3   sign    5000 non-null   object\n",
      " 4   text    5000 non-null   object\n",
      "dtypes: object(5)\n",
      "memory usage: 195.4+ KB\n"
     ]
    }
   ],
   "source": [
    "# check to ensure all columns in object type\n",
    "data.info()"
   ]
  },
  {
   "cell_type": "markdown",
   "id": "3043ef56",
   "metadata": {},
   "source": [
    "### 2. Preprocess unstructured data to make it consumable for model training. \n",
    "\n",
    "- A. Eliminate All special Characters and Numbers [2 Marks]\n",
    "\n",
    "- B. Lowercase all textual data [1 Marks]\n",
    "\n",
    "- C. Remove all Stopwords [1 Marks]\n",
    "\n",
    "- D. Remove all extra white spaces [1 Marks]"
   ]
  },
  {
   "cell_type": "code",
   "execution_count": 20,
   "id": "b77c5771",
   "metadata": {},
   "outputs": [],
   "source": [
    "# remove unwanted chars other than alphanumeric\n",
    "data['clean_data']=data['text'].apply(lambda x: re.sub(r'[^A-Za-z]+',' ',x))"
   ]
  },
  {
   "cell_type": "code",
   "execution_count": 21,
   "id": "14f6c3ff",
   "metadata": {},
   "outputs": [],
   "source": [
    "# covert text to lower\n",
    "data['clean_data']=data['clean_data'].apply(lambda x: x.lower())"
   ]
  },
  {
   "cell_type": "code",
   "execution_count": 22,
   "id": "e1831ff8",
   "metadata": {},
   "outputs": [],
   "source": [
    "# remove unwanted spaces\n",
    "data['clean_data']=data['clean_data'].apply(lambda x: x.strip())"
   ]
  },
  {
   "cell_type": "code",
   "execution_count": 23,
   "id": "303a1583",
   "metadata": {},
   "outputs": [
    {
     "name": "stdout",
     "output_type": "stream",
     "text": [
      "Actual data=======>            These are the team members:   Drewes van der Laag           urlLink mail  Ruiyu Xie                     urlLink mail  Bryan Aaldering (me)          urlLink mail          \n"
     ]
    }
   ],
   "source": [
    "print(\"Actual data=======> {}\".format(data['text'][1]))"
   ]
  },
  {
   "cell_type": "markdown",
   "id": "10431210",
   "metadata": {},
   "source": [
    "#### C. Remove all stopwords: "
   ]
  },
  {
   "cell_type": "code",
   "execution_count": 24,
   "id": "6457eb01",
   "metadata": {},
   "outputs": [
    {
     "name": "stderr",
     "output_type": "stream",
     "text": [
      "[nltk_data] Downloading package stopwords to\n",
      "[nltk_data]     C:\\Users\\ASUS\\AppData\\Roaming\\nltk_data...\n",
      "[nltk_data]   Package stopwords is already up-to-date!\n"
     ]
    }
   ],
   "source": [
    "#remove stopwords\n",
    "import nltk\n",
    "from nltk.corpus import stopwords\n",
    "nltk.download('stopwords')\n",
    "stop = stopwords.words('english')"
   ]
  },
  {
   "cell_type": "code",
   "execution_count": 25,
   "id": "77524351",
   "metadata": {},
   "outputs": [],
   "source": [
    "stopwords=set(stopwords.words('english'))"
   ]
  },
  {
   "cell_type": "code",
   "execution_count": 26,
   "id": "539d9379",
   "metadata": {},
   "outputs": [],
   "source": [
    "data['clean_data']=data['clean_data'].apply(lambda x: ' '.join([words for words in x.split() if words not in stopwords]))"
   ]
  },
  {
   "cell_type": "code",
   "execution_count": 27,
   "id": "767ae663",
   "metadata": {},
   "outputs": [
    {
     "data": {
      "text/plain": [
       "'somehow coca cola way summing things well early flagship jingle like buy world coke tune like teach world sing pretty much summed post woodstock era well add much sales catchy tune korea coke theme urllink stop thinking feel pretty much sums lot korea koreans look relaxed couple stopped thinking started feeling course high regard education math logic deep think many koreans really like work emotion anything else westerners seem sublimate moreso least display different way maybe scratch westerners koreans probably pretty similar context different anyways think losing korea repeat stop thinking feel stop thinking feel stop thinking feel everything alright'"
      ]
     },
     "execution_count": 27,
     "metadata": {},
     "output_type": "execute_result"
    }
   ],
   "source": [
    "data['clean_data'][6]"
   ]
  },
  {
   "cell_type": "markdown",
   "id": "7c45b318",
   "metadata": {},
   "source": [
    "### Merging all other columns into label column"
   ]
  },
  {
   "cell_type": "code",
   "execution_count": 28,
   "id": "da87a662",
   "metadata": {},
   "outputs": [],
   "source": [
    "# merging cols. gender, age, topic and sign into lables col\n",
    "data['labels']=data.apply(lambda col: [col['gender'],str(col['age']),col['topic'],col['sign']], axis=1)"
   ]
  },
  {
   "cell_type": "code",
   "execution_count": 29,
   "id": "71f78184",
   "metadata": {},
   "outputs": [
    {
     "data": {
      "text/html": [
       "<div>\n",
       "<style scoped>\n",
       "    .dataframe tbody tr th:only-of-type {\n",
       "        vertical-align: middle;\n",
       "    }\n",
       "\n",
       "    .dataframe tbody tr th {\n",
       "        vertical-align: top;\n",
       "    }\n",
       "\n",
       "    .dataframe thead th {\n",
       "        text-align: right;\n",
       "    }\n",
       "</style>\n",
       "<table border=\"1\" class=\"dataframe\">\n",
       "  <thead>\n",
       "    <tr style=\"text-align: right;\">\n",
       "      <th></th>\n",
       "      <th>gender</th>\n",
       "      <th>age</th>\n",
       "      <th>topic</th>\n",
       "      <th>sign</th>\n",
       "      <th>text</th>\n",
       "      <th>clean_data</th>\n",
       "      <th>labels</th>\n",
       "    </tr>\n",
       "  </thead>\n",
       "  <tbody>\n",
       "    <tr>\n",
       "      <th>0</th>\n",
       "      <td>male</td>\n",
       "      <td>15</td>\n",
       "      <td>Student</td>\n",
       "      <td>Leo</td>\n",
       "      <td>Info has been found (+/- 100 pages,...</td>\n",
       "      <td>info found pages mb pdf files wait untill team...</td>\n",
       "      <td>[male, 15, Student, Leo]</td>\n",
       "    </tr>\n",
       "    <tr>\n",
       "      <th>1</th>\n",
       "      <td>male</td>\n",
       "      <td>15</td>\n",
       "      <td>Student</td>\n",
       "      <td>Leo</td>\n",
       "      <td>These are the team members:   Drewe...</td>\n",
       "      <td>team members drewes van der laag urllink mail ...</td>\n",
       "      <td>[male, 15, Student, Leo]</td>\n",
       "    </tr>\n",
       "    <tr>\n",
       "      <th>2</th>\n",
       "      <td>male</td>\n",
       "      <td>15</td>\n",
       "      <td>Student</td>\n",
       "      <td>Leo</td>\n",
       "      <td>In het kader van kernfusie op aarde...</td>\n",
       "      <td>het kader van kernfusie op aarde maak je eigen...</td>\n",
       "      <td>[male, 15, Student, Leo]</td>\n",
       "    </tr>\n",
       "    <tr>\n",
       "      <th>3</th>\n",
       "      <td>male</td>\n",
       "      <td>15</td>\n",
       "      <td>Student</td>\n",
       "      <td>Leo</td>\n",
       "      <td>testing!!!  testing!!!</td>\n",
       "      <td>testing testing</td>\n",
       "      <td>[male, 15, Student, Leo]</td>\n",
       "    </tr>\n",
       "    <tr>\n",
       "      <th>4</th>\n",
       "      <td>male</td>\n",
       "      <td>33</td>\n",
       "      <td>InvestmentBanking</td>\n",
       "      <td>Aquarius</td>\n",
       "      <td>Thanks to Yahoo!'s Toolbar I can ...</td>\n",
       "      <td>thanks yahoo toolbar capture urls popups means...</td>\n",
       "      <td>[male, 33, InvestmentBanking, Aquarius]</td>\n",
       "    </tr>\n",
       "  </tbody>\n",
       "</table>\n",
       "</div>"
      ],
      "text/plain": [
       "  gender age              topic      sign  \\\n",
       "0   male  15            Student       Leo   \n",
       "1   male  15            Student       Leo   \n",
       "2   male  15            Student       Leo   \n",
       "3   male  15            Student       Leo   \n",
       "4   male  33  InvestmentBanking  Aquarius   \n",
       "\n",
       "                                                text  \\\n",
       "0             Info has been found (+/- 100 pages,...   \n",
       "1             These are the team members:   Drewe...   \n",
       "2             In het kader van kernfusie op aarde...   \n",
       "3                   testing!!!  testing!!!             \n",
       "4               Thanks to Yahoo!'s Toolbar I can ...   \n",
       "\n",
       "                                          clean_data  \\\n",
       "0  info found pages mb pdf files wait untill team...   \n",
       "1  team members drewes van der laag urllink mail ...   \n",
       "2  het kader van kernfusie op aarde maak je eigen...   \n",
       "3                                    testing testing   \n",
       "4  thanks yahoo toolbar capture urls popups means...   \n",
       "\n",
       "                                    labels  \n",
       "0                 [male, 15, Student, Leo]  \n",
       "1                 [male, 15, Student, Leo]  \n",
       "2                 [male, 15, Student, Leo]  \n",
       "3                 [male, 15, Student, Leo]  \n",
       "4  [male, 33, InvestmentBanking, Aquarius]  "
      ]
     },
     "execution_count": 29,
     "metadata": {},
     "output_type": "execute_result"
    }
   ],
   "source": [
    "# look at data set post merging cols\n",
    "data.head()"
   ]
  },
  {
   "cell_type": "code",
   "execution_count": 30,
   "id": "283acd7d",
   "metadata": {},
   "outputs": [],
   "source": [
    "# retain data set with two pre-processed columns \n",
    "data = data[['clean_data','labels']]"
   ]
  },
  {
   "cell_type": "code",
   "execution_count": 31,
   "id": "e25ca119",
   "metadata": {},
   "outputs": [
    {
     "data": {
      "text/html": [
       "<div>\n",
       "<style scoped>\n",
       "    .dataframe tbody tr th:only-of-type {\n",
       "        vertical-align: middle;\n",
       "    }\n",
       "\n",
       "    .dataframe tbody tr th {\n",
       "        vertical-align: top;\n",
       "    }\n",
       "\n",
       "    .dataframe thead th {\n",
       "        text-align: right;\n",
       "    }\n",
       "</style>\n",
       "<table border=\"1\" class=\"dataframe\">\n",
       "  <thead>\n",
       "    <tr style=\"text-align: right;\">\n",
       "      <th></th>\n",
       "      <th>clean_data</th>\n",
       "      <th>labels</th>\n",
       "    </tr>\n",
       "  </thead>\n",
       "  <tbody>\n",
       "    <tr>\n",
       "      <th>0</th>\n",
       "      <td>info found pages mb pdf files wait untill team...</td>\n",
       "      <td>[male, 15, Student, Leo]</td>\n",
       "    </tr>\n",
       "    <tr>\n",
       "      <th>1</th>\n",
       "      <td>team members drewes van der laag urllink mail ...</td>\n",
       "      <td>[male, 15, Student, Leo]</td>\n",
       "    </tr>\n",
       "    <tr>\n",
       "      <th>2</th>\n",
       "      <td>het kader van kernfusie op aarde maak je eigen...</td>\n",
       "      <td>[male, 15, Student, Leo]</td>\n",
       "    </tr>\n",
       "    <tr>\n",
       "      <th>3</th>\n",
       "      <td>testing testing</td>\n",
       "      <td>[male, 15, Student, Leo]</td>\n",
       "    </tr>\n",
       "    <tr>\n",
       "      <th>4</th>\n",
       "      <td>thanks yahoo toolbar capture urls popups means...</td>\n",
       "      <td>[male, 33, InvestmentBanking, Aquarius]</td>\n",
       "    </tr>\n",
       "  </tbody>\n",
       "</table>\n",
       "</div>"
      ],
      "text/plain": [
       "                                          clean_data  \\\n",
       "0  info found pages mb pdf files wait untill team...   \n",
       "1  team members drewes van der laag urllink mail ...   \n",
       "2  het kader van kernfusie op aarde maak je eigen...   \n",
       "3                                    testing testing   \n",
       "4  thanks yahoo toolbar capture urls popups means...   \n",
       "\n",
       "                                    labels  \n",
       "0                 [male, 15, Student, Leo]  \n",
       "1                 [male, 15, Student, Leo]  \n",
       "2                 [male, 15, Student, Leo]  \n",
       "3                 [male, 15, Student, Leo]  \n",
       "4  [male, 33, InvestmentBanking, Aquarius]  "
      ]
     },
     "execution_count": 31,
     "metadata": {},
     "output_type": "execute_result"
    }
   ],
   "source": [
    "data.head()"
   ]
  },
  {
   "cell_type": "markdown",
   "id": "43b88205",
   "metadata": {},
   "source": [
    "## 3. Build a base Classification model \n",
    "\n",
    "A. Create dependent and independent variables \n",
    "\n",
    "\n",
    "B. Split data into train and test.\n",
    "\n",
    "C. Vectorize data using any one vectorizer.\n",
    "\n",
    "D. Build a base model for Supervised Learning - Classification. \n",
    "\n",
    "E. Clearly print Performance Metrics."
   ]
  },
  {
   "cell_type": "markdown",
   "id": "e8afdf70",
   "metadata": {},
   "source": [
    "## Splitting the data into X and Y"
   ]
  },
  {
   "cell_type": "code",
   "execution_count": 32,
   "id": "b999def8",
   "metadata": {},
   "outputs": [],
   "source": [
    "X=data['clean_data']"
   ]
  },
  {
   "cell_type": "code",
   "execution_count": 33,
   "id": "ed67cf68",
   "metadata": {},
   "outputs": [],
   "source": [
    "Y=data['labels']"
   ]
  },
  {
   "cell_type": "markdown",
   "id": "2a1f8d11",
   "metadata": {},
   "source": [
    "#### Perform count vectorizer with bi-grams and tri-grams to get the count vectors of the X data"
   ]
  },
  {
   "cell_type": "code",
   "execution_count": 34,
   "id": "5fc580fa",
   "metadata": {},
   "outputs": [],
   "source": [
    "from sklearn.feature_extraction.text import CountVectorizer"
   ]
  },
  {
   "cell_type": "code",
   "execution_count": 35,
   "id": "6ece851a",
   "metadata": {},
   "outputs": [],
   "source": [
    "vectorizer=CountVectorizer(binary=True, ngram_range=(1,2))"
   ]
  },
  {
   "cell_type": "code",
   "execution_count": 36,
   "id": "21263825",
   "metadata": {},
   "outputs": [],
   "source": [
    "X=vectorizer.fit_transform(X)"
   ]
  },
  {
   "cell_type": "code",
   "execution_count": 37,
   "id": "5a67fb83",
   "metadata": {},
   "outputs": [
    {
     "data": {
      "text/plain": [
       "<1x329324 sparse matrix of type '<class 'numpy.int64'>'\n",
       "\twith 25 stored elements in Compressed Sparse Row format>"
      ]
     },
     "execution_count": 37,
     "metadata": {},
     "output_type": "execute_result"
    }
   ],
   "source": [
    "X[1]"
   ]
  },
  {
   "cell_type": "code",
   "execution_count": 38,
   "id": "7e26c782",
   "metadata": {},
   "outputs": [],
   "source": [
    "import pandas as pd\n",
    "import matplotlib.pyplot as plt\n",
    "import plotly.express as px\n",
    "from sklearn.feature_extraction.text import CountVectorizer\n",
    "from collections import Counter\n",
    "from wordcloud import WordCloud"
   ]
  },
  {
   "cell_type": "code",
   "execution_count": 39,
   "id": "a6302f26",
   "metadata": {},
   "outputs": [
    {
     "data": {
      "text/plain": [
       "array(['aa', 'aa amazing', 'aa anger', 'aa compared', 'aa nice', 'aaa'],\n",
       "      dtype=object)"
      ]
     },
     "execution_count": 39,
     "metadata": {},
     "output_type": "execute_result"
    }
   ],
   "source": [
    "# check feature names post vectorization\n",
    "\n",
    "vectorizer.get_feature_names_out()[:6]"
   ]
  },
  {
   "cell_type": "code",
   "execution_count": 40,
   "id": "c23822b5",
   "metadata": {},
   "outputs": [],
   "source": [
    "label_counts=dict()\n",
    "\n",
    "for labels in data.labels.values:\n",
    "    for label in labels:\n",
    "        if label in label_counts:\n",
    "            label_counts[label]+=1\n",
    "        else:\n",
    "            label_counts[label]=1"
   ]
  },
  {
   "cell_type": "code",
   "execution_count": 41,
   "id": "72b57c4d",
   "metadata": {},
   "outputs": [
    {
     "data": {
      "text/plain": [
       "{'male': 3294,\n",
       " '15': 339,\n",
       " 'Student': 569,\n",
       " 'Leo': 190,\n",
       " '33': 101,\n",
       " 'InvestmentBanking': 70,\n",
       " 'Aquarius': 329,\n",
       " 'female': 1706,\n",
       " '14': 170,\n",
       " 'indUnk': 1381,\n",
       " 'Aries': 2483,\n",
       " '25': 268,\n",
       " 'Capricorn': 84,\n",
       " '17': 331,\n",
       " 'Gemini': 86,\n",
       " '23': 137,\n",
       " 'Non-Profit': 47,\n",
       " 'Cancer': 94,\n",
       " 'Banking': 16,\n",
       " '37': 19,\n",
       " 'Sagittarius': 704,\n",
       " '26': 96,\n",
       " '24': 353,\n",
       " 'Scorpio': 408,\n",
       " '27': 86,\n",
       " 'Education': 118,\n",
       " '45': 14,\n",
       " 'Engineering': 119,\n",
       " 'Libra': 414,\n",
       " 'Science': 33,\n",
       " '34': 540,\n",
       " '41': 14,\n",
       " 'Communications-Media': 61,\n",
       " 'BusinessServices': 87,\n",
       " 'Sports-Recreation': 75,\n",
       " 'Virgo': 41,\n",
       " 'Taurus': 100,\n",
       " 'Arts': 31,\n",
       " 'Pisces': 67,\n",
       " '44': 3,\n",
       " '16': 67,\n",
       " 'Internet': 20,\n",
       " 'Museums-Libraries': 2,\n",
       " 'Accounting': 2,\n",
       " '39': 79,\n",
       " '35': 2307,\n",
       " 'Technology': 2332,\n",
       " '36': 60,\n",
       " 'Law': 3,\n",
       " '46': 7,\n",
       " 'Consulting': 16,\n",
       " 'Automotive': 14,\n",
       " '42': 9,\n",
       " 'Religion': 4}"
      ]
     },
     "execution_count": 41,
     "metadata": {},
     "output_type": "execute_result"
    }
   ],
   "source": [
    "label_counts"
   ]
  },
  {
   "cell_type": "markdown",
   "id": "ebd7977e",
   "metadata": {},
   "source": [
    "### Pre-processing the labels"
   ]
  },
  {
   "cell_type": "code",
   "execution_count": 42,
   "id": "5f17aa0b",
   "metadata": {},
   "outputs": [],
   "source": [
    "from sklearn.preprocessing import MultiLabelBinarizer\n",
    "binarizer=MultiLabelBinarizer(classes=sorted(label_counts.keys()))"
   ]
  },
  {
   "cell_type": "code",
   "execution_count": 43,
   "id": "ae465888",
   "metadata": {},
   "outputs": [],
   "source": [
    "Y=binarizer.fit_transform(data.labels)"
   ]
  },
  {
   "cell_type": "markdown",
   "id": "90a7e619",
   "metadata": {},
   "source": [
    "### Splitting the data into 80% Train set :20% Test set"
   ]
  },
  {
   "cell_type": "code",
   "execution_count": 44,
   "id": "37170bbd",
   "metadata": {},
   "outputs": [],
   "source": [
    "from sklearn.model_selection import train_test_split"
   ]
  },
  {
   "cell_type": "code",
   "execution_count": 45,
   "id": "2f88bbf8",
   "metadata": {},
   "outputs": [],
   "source": [
    "Xtrain,Xtest,Ytrain,Ytest=train_test_split(X,Y,random_state=2,test_size = 0.2)"
   ]
  },
  {
   "cell_type": "code",
   "execution_count": 46,
   "id": "8acb9714",
   "metadata": {},
   "outputs": [
    {
     "name": "stdout",
     "output_type": "stream",
     "text": [
      "(4000, 329324)\n",
      "(4000, 54)\n"
     ]
    }
   ],
   "source": [
    "print(Xtrain.shape)\n",
    "print(Ytrain.shape)"
   ]
  },
  {
   "cell_type": "code",
   "execution_count": 47,
   "id": "3b8334eb",
   "metadata": {},
   "outputs": [
    {
     "name": "stdout",
     "output_type": "stream",
     "text": [
      "(1000, 329324)\n",
      "(1000, 54)\n"
     ]
    }
   ],
   "source": [
    "print(Xtest.shape)\n",
    "print(Ytest.shape)"
   ]
  },
  {
   "cell_type": "code",
   "execution_count": 48,
   "id": "6b2f5d17",
   "metadata": {},
   "outputs": [],
   "source": [
    "from sklearn.multiclass import OneVsRestClassifier\n",
    "from sklearn.linear_model import LogisticRegression"
   ]
  },
  {
   "cell_type": "markdown",
   "id": "9786d9d3",
   "metadata": {},
   "source": [
    "### Building Supervised Learning Classification model"
   ]
  },
  {
   "cell_type": "markdown",
   "id": "0c28da1c",
   "metadata": {},
   "source": [
    "1. Here,Logistic Regression model is fit on the training data.\n",
    "\n",
    "2. Then,Xtest values are used to predict the outputs and stored in pred.\n",
    "\n",
    "3. YPred and Ytest values are compared , its accuracy is found."
   ]
  },
  {
   "cell_type": "code",
   "execution_count": 49,
   "id": "e13ace34",
   "metadata": {},
   "outputs": [],
   "source": [
    "model=LogisticRegression(solver='lbfgs')"
   ]
  },
  {
   "cell_type": "code",
   "execution_count": 50,
   "id": "186d3254",
   "metadata": {},
   "outputs": [],
   "source": [
    "model=OneVsRestClassifier(model)"
   ]
  },
  {
   "cell_type": "code",
   "execution_count": 51,
   "id": "5ae3cf4a",
   "metadata": {},
   "outputs": [
    {
     "data": {
      "text/html": [
       "<style>#sk-container-id-1 {color: black;background-color: white;}#sk-container-id-1 pre{padding: 0;}#sk-container-id-1 div.sk-toggleable {background-color: white;}#sk-container-id-1 label.sk-toggleable__label {cursor: pointer;display: block;width: 100%;margin-bottom: 0;padding: 0.3em;box-sizing: border-box;text-align: center;}#sk-container-id-1 label.sk-toggleable__label-arrow:before {content: \"▸\";float: left;margin-right: 0.25em;color: #696969;}#sk-container-id-1 label.sk-toggleable__label-arrow:hover:before {color: black;}#sk-container-id-1 div.sk-estimator:hover label.sk-toggleable__label-arrow:before {color: black;}#sk-container-id-1 div.sk-toggleable__content {max-height: 0;max-width: 0;overflow: hidden;text-align: left;background-color: #f0f8ff;}#sk-container-id-1 div.sk-toggleable__content pre {margin: 0.2em;color: black;border-radius: 0.25em;background-color: #f0f8ff;}#sk-container-id-1 input.sk-toggleable__control:checked~div.sk-toggleable__content {max-height: 200px;max-width: 100%;overflow: auto;}#sk-container-id-1 input.sk-toggleable__control:checked~label.sk-toggleable__label-arrow:before {content: \"▾\";}#sk-container-id-1 div.sk-estimator input.sk-toggleable__control:checked~label.sk-toggleable__label {background-color: #d4ebff;}#sk-container-id-1 div.sk-label input.sk-toggleable__control:checked~label.sk-toggleable__label {background-color: #d4ebff;}#sk-container-id-1 input.sk-hidden--visually {border: 0;clip: rect(1px 1px 1px 1px);clip: rect(1px, 1px, 1px, 1px);height: 1px;margin: -1px;overflow: hidden;padding: 0;position: absolute;width: 1px;}#sk-container-id-1 div.sk-estimator {font-family: monospace;background-color: #f0f8ff;border: 1px dotted black;border-radius: 0.25em;box-sizing: border-box;margin-bottom: 0.5em;}#sk-container-id-1 div.sk-estimator:hover {background-color: #d4ebff;}#sk-container-id-1 div.sk-parallel-item::after {content: \"\";width: 100%;border-bottom: 1px solid gray;flex-grow: 1;}#sk-container-id-1 div.sk-label:hover label.sk-toggleable__label {background-color: #d4ebff;}#sk-container-id-1 div.sk-serial::before {content: \"\";position: absolute;border-left: 1px solid gray;box-sizing: border-box;top: 0;bottom: 0;left: 50%;z-index: 0;}#sk-container-id-1 div.sk-serial {display: flex;flex-direction: column;align-items: center;background-color: white;padding-right: 0.2em;padding-left: 0.2em;position: relative;}#sk-container-id-1 div.sk-item {position: relative;z-index: 1;}#sk-container-id-1 div.sk-parallel {display: flex;align-items: stretch;justify-content: center;background-color: white;position: relative;}#sk-container-id-1 div.sk-item::before, #sk-container-id-1 div.sk-parallel-item::before {content: \"\";position: absolute;border-left: 1px solid gray;box-sizing: border-box;top: 0;bottom: 0;left: 50%;z-index: -1;}#sk-container-id-1 div.sk-parallel-item {display: flex;flex-direction: column;z-index: 1;position: relative;background-color: white;}#sk-container-id-1 div.sk-parallel-item:first-child::after {align-self: flex-end;width: 50%;}#sk-container-id-1 div.sk-parallel-item:last-child::after {align-self: flex-start;width: 50%;}#sk-container-id-1 div.sk-parallel-item:only-child::after {width: 0;}#sk-container-id-1 div.sk-dashed-wrapped {border: 1px dashed gray;margin: 0 0.4em 0.5em 0.4em;box-sizing: border-box;padding-bottom: 0.4em;background-color: white;}#sk-container-id-1 div.sk-label label {font-family: monospace;font-weight: bold;display: inline-block;line-height: 1.2em;}#sk-container-id-1 div.sk-label-container {text-align: center;}#sk-container-id-1 div.sk-container {/* jupyter's `normalize.less` sets `[hidden] { display: none; }` but bootstrap.min.css set `[hidden] { display: none !important; }` so we also need the `!important` here to be able to override the default hidden behavior on the sphinx rendered scikit-learn.org. See: https://github.com/scikit-learn/scikit-learn/issues/21755 */display: inline-block !important;position: relative;}#sk-container-id-1 div.sk-text-repr-fallback {display: none;}</style><div id=\"sk-container-id-1\" class=\"sk-top-container\"><div class=\"sk-text-repr-fallback\"><pre>OneVsRestClassifier(estimator=LogisticRegression())</pre><b>In a Jupyter environment, please rerun this cell to show the HTML representation or trust the notebook. <br />On GitHub, the HTML representation is unable to render, please try loading this page with nbviewer.org.</b></div><div class=\"sk-container\" hidden><div class=\"sk-item sk-dashed-wrapped\"><div class=\"sk-label-container\"><div class=\"sk-label sk-toggleable\"><input class=\"sk-toggleable__control sk-hidden--visually\" id=\"sk-estimator-id-1\" type=\"checkbox\" ><label for=\"sk-estimator-id-1\" class=\"sk-toggleable__label sk-toggleable__label-arrow\">OneVsRestClassifier</label><div class=\"sk-toggleable__content\"><pre>OneVsRestClassifier(estimator=LogisticRegression())</pre></div></div></div><div class=\"sk-parallel\"><div class=\"sk-parallel-item\"><div class=\"sk-item\"><div class=\"sk-label-container\"><div class=\"sk-label sk-toggleable\"><input class=\"sk-toggleable__control sk-hidden--visually\" id=\"sk-estimator-id-2\" type=\"checkbox\" ><label for=\"sk-estimator-id-2\" class=\"sk-toggleable__label sk-toggleable__label-arrow\">estimator: LogisticRegression</label><div class=\"sk-toggleable__content\"><pre>LogisticRegression()</pre></div></div></div><div class=\"sk-serial\"><div class=\"sk-item\"><div class=\"sk-estimator sk-toggleable\"><input class=\"sk-toggleable__control sk-hidden--visually\" id=\"sk-estimator-id-3\" type=\"checkbox\" ><label for=\"sk-estimator-id-3\" class=\"sk-toggleable__label sk-toggleable__label-arrow\">LogisticRegression</label><div class=\"sk-toggleable__content\"><pre>LogisticRegression()</pre></div></div></div></div></div></div></div></div></div></div>"
      ],
      "text/plain": [
       "OneVsRestClassifier(estimator=LogisticRegression())"
      ]
     },
     "execution_count": 51,
     "metadata": {},
     "output_type": "execute_result"
    }
   ],
   "source": [
    "model.fit(Xtrain,Ytrain)"
   ]
  },
  {
   "cell_type": "code",
   "execution_count": 52,
   "id": "02b6b039",
   "metadata": {},
   "outputs": [],
   "source": [
    "Ypred = model.predict(Xtest)"
   ]
  },
  {
   "cell_type": "markdown",
   "id": "58f4d9e8",
   "metadata": {},
   "source": [
    "### 3.E. Clearly print Performance Metrics."
   ]
  },
  {
   "cell_type": "markdown",
   "id": "dd7d4724",
   "metadata": {},
   "source": [
    "### The performance metrics are :\n",
    "\n",
    "1. Accuracy\n",
    "\n",
    "2. Classification report - precision,recall,f1_score"
   ]
  },
  {
   "cell_type": "code",
   "execution_count": 53,
   "id": "05cc37b8",
   "metadata": {},
   "outputs": [],
   "source": [
    "from sklearn.metrics import accuracy_score\n",
    "from sklearn.metrics import f1_score\n",
    "from sklearn.metrics import average_precision_score\n",
    "from sklearn.metrics import recall_score\n",
    "\n",
    "def print_evaluation_scores_micro(Ytest, Ypred):\n",
    "    print('Accuracy score: ', accuracy_score(Ytest, Ypred))\n",
    "    print('F1 score: ', f1_score(Ytest, Ypred, average='micro'))\n",
    "    print('Average precision score: ', average_precision_score(Ytest, Ypred, average='micro'))\n",
    "    print('Average recall score: ', recall_score(Ytest, Ypred, average='micro'))"
   ]
  },
  {
   "cell_type": "code",
   "execution_count": 54,
   "id": "ce008b2a",
   "metadata": {},
   "outputs": [
    {
     "name": "stdout",
     "output_type": "stream",
     "text": [
      "Accuracy score:  0.52\n",
      "F1 score:  0.7418851878100639\n",
      "Average precision score:  0.5860602927805056\n",
      "Average recall score:  0.65425\n"
     ]
    }
   ],
   "source": [
    "print_evaluation_scores_micro(Ytest, Ypred)"
   ]
  },
  {
   "cell_type": "code",
   "execution_count": 55,
   "id": "92606fa7",
   "metadata": {},
   "outputs": [],
   "source": [
    "def print_evaluation_scores_macro(Ytest, Ypred):\n",
    "    print('Accuracy score: ', accuracy_score(Ytest, Ypred))\n",
    "    print('F1 score: ', f1_score(Ytest, Ypred, average='macro'))\n",
    "    print('Average precision score: ', average_precision_score(Ytest, Ypred, average='macro'))\n",
    "    print('Average recall score: ', recall_score(Ytest, Ypred, average='macro'))"
   ]
  },
  {
   "cell_type": "code",
   "execution_count": 56,
   "id": "22709458",
   "metadata": {},
   "outputs": [
    {
     "name": "stdout",
     "output_type": "stream",
     "text": [
      "Accuracy score:  0.52\n",
      "F1 score:  0.22492698419819893\n",
      "Average precision score:  0.18737172954015455\n",
      "Average recall score:  0.18057623472448958\n"
     ]
    }
   ],
   "source": [
    "print_evaluation_scores_macro(Ytest, Ypred)"
   ]
  },
  {
   "cell_type": "code",
   "execution_count": 57,
   "id": "c505a3c2",
   "metadata": {},
   "outputs": [],
   "source": [
    "def print_evaluation_scores_weighted(Ytest, Ypred):\n",
    "    print('Accuracy score of Base Model - SuperVised Learning: ', accuracy_score(Ytest, Ypred))\n",
    "    print('F1 score: ', f1_score(Ytest, Ypred, average='weighted'))\n",
    "    print('Average precision score: ', average_precision_score(Ytest, Ypred, average='weighted'))\n",
    "    print('Average recall score: ', recall_score(Ytest, Ypred, average='weighted'))"
   ]
  },
  {
   "cell_type": "code",
   "execution_count": 58,
   "id": "54a4c589",
   "metadata": {},
   "outputs": [
    {
     "name": "stdout",
     "output_type": "stream",
     "text": [
      "Accuracy score of Base Model - SuperVised Learning:  0.52\n",
      "F1 score:  0.6820843994052541\n",
      "Average precision score:  0.6169459969144537\n",
      "Average recall score:  0.65425\n"
     ]
    }
   ],
   "source": [
    "print_evaluation_scores_weighted(Ytest, Ypred)"
   ]
  },
  {
   "cell_type": "code",
   "execution_count": 59,
   "id": "f86c20a8",
   "metadata": {},
   "outputs": [
    {
     "name": "stdout",
     "output_type": "stream",
     "text": [
      "Classification Matrix:\n",
      "               precision    recall  f1-score   support\n",
      "\n",
      "           0       1.00      0.03      0.06        35\n",
      "           1       0.91      0.30      0.46        69\n",
      "           2       0.00      0.00      0.00        19\n",
      "           3       0.94      0.24      0.38        67\n",
      "           4       0.00      0.00      0.00        29\n",
      "           5       1.00      0.27      0.43        66\n",
      "           6       0.80      0.10      0.18        39\n",
      "           7       0.00      0.00      0.00        25\n",
      "           8       0.00      0.00      0.00        21\n",
      "           9       1.00      0.18      0.31        22\n",
      "          10       0.99      0.76      0.86       117\n",
      "          11       0.84      0.91      0.88       449\n",
      "          12       1.00      0.09      0.17        11\n",
      "          13       0.00      0.00      0.00         7\n",
      "          14       0.00      0.00      0.00        15\n",
      "          15       0.00      0.00      0.00         6\n",
      "          16       0.00      0.00      0.00         1\n",
      "          17       0.00      0.00      0.00         0\n",
      "          18       0.00      0.00      0.00         2\n",
      "          19       0.00      0.00      0.00         0\n",
      "          20       0.00      0.00      0.00         1\n",
      "          21       0.85      0.16      0.28        67\n",
      "          22       0.84      0.89      0.86       489\n",
      "          23       0.00      0.00      0.00         7\n",
      "          24       0.00      0.00      0.00         3\n",
      "          25       0.00      0.00      0.00         4\n",
      "          26       0.80      0.22      0.35        18\n",
      "          27       1.00      0.23      0.38        13\n",
      "          28       1.00      0.29      0.45        17\n",
      "          29       0.00      0.00      0.00        14\n",
      "          30       0.00      0.00      0.00         1\n",
      "          31       0.00      0.00      0.00        28\n",
      "          32       1.00      0.09      0.17        22\n",
      "          33       0.00      0.00      0.00        10\n",
      "          34       0.00      0.00      0.00         4\n",
      "          35       1.00      0.07      0.13        14\n",
      "          36       0.00      0.00      0.00         0\n",
      "          37       0.00      0.00      0.00        50\n",
      "          38       0.82      0.27      0.40        86\n",
      "          39       0.00      0.00      0.00         1\n",
      "          40       0.00      0.00      0.00         2\n",
      "          41       1.00      0.09      0.17        11\n",
      "          42       0.00      0.00      0.00         1\n",
      "          43       0.98      0.60      0.74       154\n",
      "          44       0.00      0.00      0.00         5\n",
      "          45       1.00      0.12      0.22        81\n",
      "          46       1.00      0.33      0.50        15\n",
      "          47       0.80      0.30      0.43       125\n",
      "          48       1.00      0.08      0.14        13\n",
      "          49       0.85      0.92      0.88       451\n",
      "          50       0.00      0.00      0.00         9\n",
      "          51       0.86      0.71      0.78       361\n",
      "          52       0.84      0.55      0.66       284\n",
      "          53       0.85      0.94      0.89       639\n",
      "\n",
      "   micro avg       0.86      0.65      0.74      4000\n",
      "   macro avg       0.46      0.18      0.22      4000\n",
      "weighted avg       0.81      0.65      0.68      4000\n",
      " samples avg       0.82      0.65      0.70      4000\n",
      "\n"
     ]
    }
   ],
   "source": [
    "print('Classification Matrix:\\n',classification_report(Ytest,Ypred))"
   ]
  },
  {
   "cell_type": "markdown",
   "id": "c9d12c82",
   "metadata": {},
   "source": [
    "#### The accuracy score of Base Model - SuperVised Learning with CountVectorizer is: 52%\n",
    "\n",
    "#### From the classification report, the macro and micro average of precision ranges from 46% to 86%."
   ]
  },
  {
   "cell_type": "markdown",
   "id": "9ee7c180",
   "metadata": {},
   "source": [
    "### 4. Improve Performance of model. \n",
    "\n",
    "- A. Experiment with other vectorisers. \n",
    "\n",
    "- B. Build classifier Models using other algorithms than base model.\n",
    "\n",
    "- C. Tune Parameters/Hyperparameters of the model/s.\n",
    "\n",
    "- D. Clearly print Performance Metrics. "
   ]
  },
  {
   "cell_type": "markdown",
   "id": "f5267853",
   "metadata": {},
   "source": [
    "#### Again processing the dataset from the start to use other vectorizers:"
   ]
  },
  {
   "cell_type": "code",
   "execution_count": 60,
   "id": "57c564ad",
   "metadata": {},
   "outputs": [],
   "source": [
    "# Extract the ZIP file\n",
    "file_path = \"C:\\\\Users\\\\ASUS\\\\blog.zip\"\n",
    "\n",
    "from zipfile import ZipFile\n",
    "with ZipFile(file_path,'r') as zip:\n",
    "  zip.extractall(path='C:\\\\Users\\\\ASUS\\\\blog')"
   ]
  },
  {
   "cell_type": "code",
   "execution_count": 61,
   "id": "7f89838e",
   "metadata": {},
   "outputs": [],
   "source": [
    "#Import the data set\n",
    "df1 = pd.read_csv('C:\\\\Users\\\\ASUS\\\\blog\\\\blogtext.csv')"
   ]
  },
  {
   "cell_type": "code",
   "execution_count": 62,
   "id": "a490f42d",
   "metadata": {},
   "outputs": [
    {
     "data": {
      "text/html": [
       "<div>\n",
       "<style scoped>\n",
       "    .dataframe tbody tr th:only-of-type {\n",
       "        vertical-align: middle;\n",
       "    }\n",
       "\n",
       "    .dataframe tbody tr th {\n",
       "        vertical-align: top;\n",
       "    }\n",
       "\n",
       "    .dataframe thead th {\n",
       "        text-align: right;\n",
       "    }\n",
       "</style>\n",
       "<table border=\"1\" class=\"dataframe\">\n",
       "  <thead>\n",
       "    <tr style=\"text-align: right;\">\n",
       "      <th></th>\n",
       "      <th>id</th>\n",
       "      <th>gender</th>\n",
       "      <th>age</th>\n",
       "      <th>topic</th>\n",
       "      <th>sign</th>\n",
       "      <th>date</th>\n",
       "      <th>text</th>\n",
       "    </tr>\n",
       "  </thead>\n",
       "  <tbody>\n",
       "    <tr>\n",
       "      <th>0</th>\n",
       "      <td>2059027</td>\n",
       "      <td>male</td>\n",
       "      <td>15</td>\n",
       "      <td>Student</td>\n",
       "      <td>Leo</td>\n",
       "      <td>14,May,2004</td>\n",
       "      <td>Info has been found (+/- 100 pages,...</td>\n",
       "    </tr>\n",
       "    <tr>\n",
       "      <th>1</th>\n",
       "      <td>2059027</td>\n",
       "      <td>male</td>\n",
       "      <td>15</td>\n",
       "      <td>Student</td>\n",
       "      <td>Leo</td>\n",
       "      <td>13,May,2004</td>\n",
       "      <td>These are the team members:   Drewe...</td>\n",
       "    </tr>\n",
       "    <tr>\n",
       "      <th>2</th>\n",
       "      <td>2059027</td>\n",
       "      <td>male</td>\n",
       "      <td>15</td>\n",
       "      <td>Student</td>\n",
       "      <td>Leo</td>\n",
       "      <td>12,May,2004</td>\n",
       "      <td>In het kader van kernfusie op aarde...</td>\n",
       "    </tr>\n",
       "    <tr>\n",
       "      <th>3</th>\n",
       "      <td>2059027</td>\n",
       "      <td>male</td>\n",
       "      <td>15</td>\n",
       "      <td>Student</td>\n",
       "      <td>Leo</td>\n",
       "      <td>12,May,2004</td>\n",
       "      <td>testing!!!  testing!!!</td>\n",
       "    </tr>\n",
       "    <tr>\n",
       "      <th>4</th>\n",
       "      <td>3581210</td>\n",
       "      <td>male</td>\n",
       "      <td>33</td>\n",
       "      <td>InvestmentBanking</td>\n",
       "      <td>Aquarius</td>\n",
       "      <td>11,June,2004</td>\n",
       "      <td>Thanks to Yahoo!'s Toolbar I can ...</td>\n",
       "    </tr>\n",
       "  </tbody>\n",
       "</table>\n",
       "</div>"
      ],
      "text/plain": [
       "        id gender  age              topic      sign          date  \\\n",
       "0  2059027   male   15            Student       Leo   14,May,2004   \n",
       "1  2059027   male   15            Student       Leo   13,May,2004   \n",
       "2  2059027   male   15            Student       Leo   12,May,2004   \n",
       "3  2059027   male   15            Student       Leo   12,May,2004   \n",
       "4  3581210   male   33  InvestmentBanking  Aquarius  11,June,2004   \n",
       "\n",
       "                                                text  \n",
       "0             Info has been found (+/- 100 pages,...  \n",
       "1             These are the team members:   Drewe...  \n",
       "2             In het kader van kernfusie op aarde...  \n",
       "3                   testing!!!  testing!!!            \n",
       "4               Thanks to Yahoo!'s Toolbar I can ...  "
      ]
     },
     "execution_count": 62,
     "metadata": {},
     "output_type": "execute_result"
    }
   ],
   "source": [
    "df1.head()"
   ]
  },
  {
   "cell_type": "code",
   "execution_count": 63,
   "id": "622676be",
   "metadata": {},
   "outputs": [],
   "source": [
    "# Creation of data sub-set\n",
    "data1 = df1.head(6000)"
   ]
  },
  {
   "cell_type": "code",
   "execution_count": 64,
   "id": "83192218",
   "metadata": {},
   "outputs": [],
   "source": [
    "# dropping non value added variables - id & date\n",
    "\n",
    "## Eliminating the non-english Textual data:\n",
    "\n",
    "data1.drop(['id','date'], axis=1, inplace=True)"
   ]
  },
  {
   "cell_type": "code",
   "execution_count": 65,
   "id": "3972a175",
   "metadata": {},
   "outputs": [
    {
     "data": {
      "text/html": [
       "<div>\n",
       "<style scoped>\n",
       "    .dataframe tbody tr th:only-of-type {\n",
       "        vertical-align: middle;\n",
       "    }\n",
       "\n",
       "    .dataframe tbody tr th {\n",
       "        vertical-align: top;\n",
       "    }\n",
       "\n",
       "    .dataframe thead th {\n",
       "        text-align: right;\n",
       "    }\n",
       "</style>\n",
       "<table border=\"1\" class=\"dataframe\">\n",
       "  <thead>\n",
       "    <tr style=\"text-align: right;\">\n",
       "      <th></th>\n",
       "      <th>gender</th>\n",
       "      <th>age</th>\n",
       "      <th>topic</th>\n",
       "      <th>sign</th>\n",
       "      <th>text</th>\n",
       "    </tr>\n",
       "  </thead>\n",
       "  <tbody>\n",
       "    <tr>\n",
       "      <th>0</th>\n",
       "      <td>male</td>\n",
       "      <td>15</td>\n",
       "      <td>Student</td>\n",
       "      <td>Leo</td>\n",
       "      <td>Info has been found (+/- 100 pages,...</td>\n",
       "    </tr>\n",
       "    <tr>\n",
       "      <th>1</th>\n",
       "      <td>male</td>\n",
       "      <td>15</td>\n",
       "      <td>Student</td>\n",
       "      <td>Leo</td>\n",
       "      <td>These are the team members:   Drewe...</td>\n",
       "    </tr>\n",
       "    <tr>\n",
       "      <th>2</th>\n",
       "      <td>male</td>\n",
       "      <td>15</td>\n",
       "      <td>Student</td>\n",
       "      <td>Leo</td>\n",
       "      <td>In het kader van kernfusie op aarde...</td>\n",
       "    </tr>\n",
       "    <tr>\n",
       "      <th>3</th>\n",
       "      <td>male</td>\n",
       "      <td>15</td>\n",
       "      <td>Student</td>\n",
       "      <td>Leo</td>\n",
       "      <td>testing!!!  testing!!!</td>\n",
       "    </tr>\n",
       "    <tr>\n",
       "      <th>4</th>\n",
       "      <td>male</td>\n",
       "      <td>33</td>\n",
       "      <td>InvestmentBanking</td>\n",
       "      <td>Aquarius</td>\n",
       "      <td>Thanks to Yahoo!'s Toolbar I can ...</td>\n",
       "    </tr>\n",
       "  </tbody>\n",
       "</table>\n",
       "</div>"
      ],
      "text/plain": [
       "  gender  age              topic      sign  \\\n",
       "0   male   15            Student       Leo   \n",
       "1   male   15            Student       Leo   \n",
       "2   male   15            Student       Leo   \n",
       "3   male   15            Student       Leo   \n",
       "4   male   33  InvestmentBanking  Aquarius   \n",
       "\n",
       "                                                text  \n",
       "0             Info has been found (+/- 100 pages,...  \n",
       "1             These are the team members:   Drewe...  \n",
       "2             In het kader van kernfusie op aarde...  \n",
       "3                   testing!!!  testing!!!            \n",
       "4               Thanks to Yahoo!'s Toolbar I can ...  "
      ]
     },
     "execution_count": 65,
     "metadata": {},
     "output_type": "execute_result"
    }
   ],
   "source": [
    "# looking at few rows post dropping non value added variables\n",
    "data1.head()"
   ]
  },
  {
   "cell_type": "code",
   "execution_count": 66,
   "id": "b0606e5d",
   "metadata": {},
   "outputs": [],
   "source": [
    "# converting \"age\"(non-English textual data) from int to object\n",
    "\n",
    "data1['age'] = data1['age'].astype('object')"
   ]
  },
  {
   "cell_type": "code",
   "execution_count": 67,
   "id": "4d2b7981",
   "metadata": {},
   "outputs": [
    {
     "name": "stdout",
     "output_type": "stream",
     "text": [
      "<class 'pandas.core.frame.DataFrame'>\n",
      "RangeIndex: 6000 entries, 0 to 5999\n",
      "Data columns (total 5 columns):\n",
      " #   Column  Non-Null Count  Dtype \n",
      "---  ------  --------------  ----- \n",
      " 0   gender  6000 non-null   object\n",
      " 1   age     6000 non-null   object\n",
      " 2   topic   6000 non-null   object\n",
      " 3   sign    6000 non-null   object\n",
      " 4   text    6000 non-null   object\n",
      "dtypes: object(5)\n",
      "memory usage: 234.5+ KB\n"
     ]
    }
   ],
   "source": [
    "data1.info()"
   ]
  },
  {
   "cell_type": "code",
   "execution_count": 68,
   "id": "29a63f38",
   "metadata": {},
   "outputs": [],
   "source": [
    "# remove unwanted chars other than alphanumeric\n",
    "data1['clean_data'] = data1['text'].apply(lambda x: re.sub(r'[^A-Za-z]+',' ',x))"
   ]
  },
  {
   "cell_type": "code",
   "execution_count": 69,
   "id": "e6af2ad8",
   "metadata": {},
   "outputs": [],
   "source": [
    "# covert text to lower\n",
    "data1['clean_data'] = data1['clean_data'].apply(lambda x: x.lower())"
   ]
  },
  {
   "cell_type": "code",
   "execution_count": 70,
   "id": "e95e6b50",
   "metadata": {},
   "outputs": [],
   "source": [
    "# remove unwanted spaces\n",
    "data1['clean_data'] = data1['clean_data'].apply(lambda x: x.strip())"
   ]
  },
  {
   "cell_type": "code",
   "execution_count": 71,
   "id": "47e3edef",
   "metadata": {},
   "outputs": [
    {
     "name": "stdout",
     "output_type": "stream",
     "text": [
      "Actual data=======>            These are the team members:   Drewes van der Laag           urlLink mail  Ruiyu Xie                     urlLink mail  Bryan Aaldering (me)          urlLink mail          \n"
     ]
    }
   ],
   "source": [
    "print(\"Actual data=======> {}\".format(data1['text'][1]))"
   ]
  },
  {
   "cell_type": "code",
   "execution_count": 72,
   "id": "f7790349",
   "metadata": {},
   "outputs": [
    {
     "name": "stderr",
     "output_type": "stream",
     "text": [
      "[nltk_data] Downloading package stopwords to\n",
      "[nltk_data]     C:\\Users\\ASUS\\AppData\\Roaming\\nltk_data...\n",
      "[nltk_data]   Package stopwords is already up-to-date!\n",
      "[nltk_data] Downloading package stopwords to\n",
      "[nltk_data]     C:\\Users\\ASUS\\AppData\\Roaming\\nltk_data...\n",
      "[nltk_data]   Package stopwords is already up-to-date!\n",
      "[nltk_data] Downloading package punkt to\n",
      "[nltk_data]     C:\\Users\\ASUS\\AppData\\Roaming\\nltk_data...\n",
      "[nltk_data]   Package punkt is already up-to-date!\n"
     ]
    }
   ],
   "source": [
    "#remove stopwords\n",
    "import nltk\n",
    "from nltk.corpus import stopwords\n",
    "nltk.download('stopwords')\n",
    "stop = stopwords.words('english')\n",
    "\n",
    "import numpy as np\n",
    "import nltk\n",
    "# importing stopwords list\n",
    "nltk.download('stopwords')\n",
    "nltk.download('punkt')\n",
    "from nltk.corpus import stopwords \n",
    "from nltk.tokenize import word_tokenize "
   ]
  },
  {
   "cell_type": "code",
   "execution_count": 73,
   "id": "52f57d3a",
   "metadata": {},
   "outputs": [],
   "source": [
    "stopwords=set(stopwords.words('english'))"
   ]
  },
  {
   "cell_type": "code",
   "execution_count": 74,
   "id": "c94849b0",
   "metadata": {},
   "outputs": [
    {
     "data": {
      "text/plain": [
       "array({'who', 'couldn', 'hasn', 'needn', \"didn't\", 'than', 'their', 'more', 'as', 'themselves', \"it's\", 'hadn', 'you', \"hasn't\", 'doing', \"mightn't\", \"mustn't\", 'its', 'she', 'yourselves', 'when', 'wouldn', 'which', 'can', 'very', 'or', \"weren't\", 'them', 'own', 'itself', 'no', \"haven't\", 'mustn', 'what', 'that', 'it', 'such', 'too', 'so', 'are', 'm', 'we', 'now', 'against', 'himself', 'mightn', 'her', 'if', 'there', 'do', 'until', \"wasn't\", 'where', 'on', 'y', 'out', 'were', 'through', 'ain', \"that'll\", 'be', 'before', 'how', 'only', 'off', 'few', 'myself', 'my', 'hers', 'those', 'does', \"should've\", 's', 'herself', 'was', \"she's\", \"doesn't\", 'theirs', 'this', 'down', \"needn't\", 'during', 'him', 'below', 'having', 'some', 'with', 'while', 'into', 'ourselves', 'between', \"shouldn't\", 'they', 'because', 'other', 've', \"couldn't\", 'wasn', 'in', 'all', 'i', 'and', \"hadn't\", 'doesn', 'didn', 'should', 'been', 'shouldn', 'above', 'further', 'he', 'each', \"won't\", \"you've\", 'is', 'yours', 'the', 'under', 'any', 'ma', \"isn't\", 'at', 'don', 'me', 'from', \"you're\", 'd', 'shan', 'up', 'for', 'by', 'after', 'but', 'have', 'being', 'to', 'a', 'yourself', 'just', 'weren', 're', 'has', 'over', 'then', 'an', 'nor', 'won', 'aren', 'had', 'our', 'of', 'these', 'did', 'ours', 'o', \"don't\", 'here', 'haven', 'why', 'same', \"you'd\", 'your', 'whom', 'about', \"shan't\", 'once', \"aren't\", 'll', 'his', 't', 'not', \"wouldn't\", 'am', 'will', \"you'll\", 'most', 'again', 'both', 'isn'},\n",
       "      dtype=object)"
      ]
     },
     "execution_count": 74,
     "metadata": {},
     "output_type": "execute_result"
    }
   ],
   "source": [
    "np.array(stopwords)"
   ]
  },
  {
   "cell_type": "code",
   "execution_count": 75,
   "id": "4ee19484",
   "metadata": {},
   "outputs": [],
   "source": [
    "data1['clean_data'] = data1['clean_data'].apply(lambda x: ' '.join([words for words in x.split() if words not in stopwords]))"
   ]
  },
  {
   "cell_type": "code",
   "execution_count": 76,
   "id": "21141399",
   "metadata": {},
   "outputs": [],
   "source": [
    "# merging cols. gender, age, topic and sign into lables col\n",
    "data1['labels'] = data1.apply(lambda col: [col['gender'],str(col['age']),col['topic'],col['sign']], axis=1)"
   ]
  },
  {
   "cell_type": "code",
   "execution_count": 77,
   "id": "2cf61b6d",
   "metadata": {},
   "outputs": [],
   "source": [
    "# retain data set with two pre-processed columns \n",
    "data1 = data1[['clean_data','labels']]"
   ]
  },
  {
   "cell_type": "code",
   "execution_count": 78,
   "id": "6ffb7c85",
   "metadata": {},
   "outputs": [
    {
     "data": {
      "text/html": [
       "<div>\n",
       "<style scoped>\n",
       "    .dataframe tbody tr th:only-of-type {\n",
       "        vertical-align: middle;\n",
       "    }\n",
       "\n",
       "    .dataframe tbody tr th {\n",
       "        vertical-align: top;\n",
       "    }\n",
       "\n",
       "    .dataframe thead th {\n",
       "        text-align: right;\n",
       "    }\n",
       "</style>\n",
       "<table border=\"1\" class=\"dataframe\">\n",
       "  <thead>\n",
       "    <tr style=\"text-align: right;\">\n",
       "      <th></th>\n",
       "      <th>clean_data</th>\n",
       "      <th>labels</th>\n",
       "    </tr>\n",
       "  </thead>\n",
       "  <tbody>\n",
       "    <tr>\n",
       "      <th>0</th>\n",
       "      <td>info found pages mb pdf files wait untill team...</td>\n",
       "      <td>[male, 15, Student, Leo]</td>\n",
       "    </tr>\n",
       "    <tr>\n",
       "      <th>1</th>\n",
       "      <td>team members drewes van der laag urllink mail ...</td>\n",
       "      <td>[male, 15, Student, Leo]</td>\n",
       "    </tr>\n",
       "    <tr>\n",
       "      <th>2</th>\n",
       "      <td>het kader van kernfusie op aarde maak je eigen...</td>\n",
       "      <td>[male, 15, Student, Leo]</td>\n",
       "    </tr>\n",
       "    <tr>\n",
       "      <th>3</th>\n",
       "      <td>testing testing</td>\n",
       "      <td>[male, 15, Student, Leo]</td>\n",
       "    </tr>\n",
       "    <tr>\n",
       "      <th>4</th>\n",
       "      <td>thanks yahoo toolbar capture urls popups means...</td>\n",
       "      <td>[male, 33, InvestmentBanking, Aquarius]</td>\n",
       "    </tr>\n",
       "  </tbody>\n",
       "</table>\n",
       "</div>"
      ],
      "text/plain": [
       "                                          clean_data  \\\n",
       "0  info found pages mb pdf files wait untill team...   \n",
       "1  team members drewes van der laag urllink mail ...   \n",
       "2  het kader van kernfusie op aarde maak je eigen...   \n",
       "3                                    testing testing   \n",
       "4  thanks yahoo toolbar capture urls popups means...   \n",
       "\n",
       "                                    labels  \n",
       "0                 [male, 15, Student, Leo]  \n",
       "1                 [male, 15, Student, Leo]  \n",
       "2                 [male, 15, Student, Leo]  \n",
       "3                 [male, 15, Student, Leo]  \n",
       "4  [male, 33, InvestmentBanking, Aquarius]  "
      ]
     },
     "execution_count": 78,
     "metadata": {},
     "output_type": "execute_result"
    }
   ],
   "source": [
    "data1.head(5)"
   ]
  },
  {
   "cell_type": "code",
   "execution_count": 79,
   "id": "957050d3",
   "metadata": {},
   "outputs": [
    {
     "name": "stderr",
     "output_type": "stream",
     "text": [
      "[nltk_data] Downloading package wordnet to\n",
      "[nltk_data]     C:\\Users\\ASUS\\AppData\\Roaming\\nltk_data...\n",
      "[nltk_data]   Package wordnet is already up-to-date!\n"
     ]
    }
   ],
   "source": [
    "from nltk.stem import WordNetLemmatizer\n",
    "nltk.download('wordnet')\n",
    "\n",
    "lemmatizer = WordNetLemmatizer()\n",
    "def lemmafun(text):\n",
    "  text = [lemmatizer.lemmatize(word)for word in text.split()]\n",
    "  return \" \".join(text)"
   ]
  },
  {
   "cell_type": "code",
   "execution_count": 80,
   "id": "186a5a37",
   "metadata": {},
   "outputs": [
    {
     "data": {
      "text/html": [
       "<div>\n",
       "<style scoped>\n",
       "    .dataframe tbody tr th:only-of-type {\n",
       "        vertical-align: middle;\n",
       "    }\n",
       "\n",
       "    .dataframe tbody tr th {\n",
       "        vertical-align: top;\n",
       "    }\n",
       "\n",
       "    .dataframe thead th {\n",
       "        text-align: right;\n",
       "    }\n",
       "</style>\n",
       "<table border=\"1\" class=\"dataframe\">\n",
       "  <thead>\n",
       "    <tr style=\"text-align: right;\">\n",
       "      <th></th>\n",
       "      <th>clean_data</th>\n",
       "      <th>labels</th>\n",
       "    </tr>\n",
       "  </thead>\n",
       "  <tbody>\n",
       "    <tr>\n",
       "      <th>0</th>\n",
       "      <td>info found page mb pdf file wait untill team l...</td>\n",
       "      <td>[male, 15, Student, Leo]</td>\n",
       "    </tr>\n",
       "    <tr>\n",
       "      <th>1</th>\n",
       "      <td>team member drewes van der laag urllink mail r...</td>\n",
       "      <td>[male, 15, Student, Leo]</td>\n",
       "    </tr>\n",
       "    <tr>\n",
       "      <th>2</th>\n",
       "      <td>het kader van kernfusie op aarde maak je eigen...</td>\n",
       "      <td>[male, 15, Student, Leo]</td>\n",
       "    </tr>\n",
       "    <tr>\n",
       "      <th>3</th>\n",
       "      <td>testing testing</td>\n",
       "      <td>[male, 15, Student, Leo]</td>\n",
       "    </tr>\n",
       "    <tr>\n",
       "      <th>4</th>\n",
       "      <td>thanks yahoo toolbar capture url popups mean s...</td>\n",
       "      <td>[male, 33, InvestmentBanking, Aquarius]</td>\n",
       "    </tr>\n",
       "  </tbody>\n",
       "</table>\n",
       "</div>"
      ],
      "text/plain": [
       "                                          clean_data  \\\n",
       "0  info found page mb pdf file wait untill team l...   \n",
       "1  team member drewes van der laag urllink mail r...   \n",
       "2  het kader van kernfusie op aarde maak je eigen...   \n",
       "3                                    testing testing   \n",
       "4  thanks yahoo toolbar capture url popups mean s...   \n",
       "\n",
       "                                    labels  \n",
       "0                 [male, 15, Student, Leo]  \n",
       "1                 [male, 15, Student, Leo]  \n",
       "2                 [male, 15, Student, Leo]  \n",
       "3                 [male, 15, Student, Leo]  \n",
       "4  [male, 33, InvestmentBanking, Aquarius]  "
      ]
     },
     "execution_count": 80,
     "metadata": {},
     "output_type": "execute_result"
    }
   ],
   "source": [
    "data1['clean_data'] = data1['clean_data'].apply(lemmafun)\n",
    "data1.head(5)"
   ]
  },
  {
   "cell_type": "code",
   "execution_count": 81,
   "id": "9568d56b",
   "metadata": {},
   "outputs": [],
   "source": [
    "# Check the colwidth \n",
    "#pd.options.display.max_colwidth\n",
    "# resize\n",
    "#pd.options.display.max_colwidth = 120\n",
    "\n",
    "# Setting it to max\n",
    "pd.set_option('display.max_rows', None)\n",
    "pd.set_option('display.max_columns', None)\n",
    "pd.set_option('display.width', None)\n",
    "pd.set_option('display.max_colwidth', -1)"
   ]
  },
  {
   "cell_type": "code",
   "execution_count": 82,
   "id": "67f92274",
   "metadata": {},
   "outputs": [],
   "source": [
    "X1 = data1['clean_data']\n",
    "y1 = data1['labels']"
   ]
  },
  {
   "cell_type": "code",
   "execution_count": 83,
   "id": "56dad1ec",
   "metadata": {},
   "outputs": [],
   "source": [
    "from sklearn.model_selection import train_test_split\n",
    "\n",
    "#X_train, X_test, y_train, y_test = train_test_split(X, y, test_size=0.30, random_state=42)\n",
    "X_train1, X_test1, y_train1, y_test1 = train_test_split(X1, y1, test_size=0.20)"
   ]
  },
  {
   "cell_type": "code",
   "execution_count": 84,
   "id": "b93c313c",
   "metadata": {},
   "outputs": [
    {
     "data": {
      "text/plain": [
       "(4800,)"
      ]
     },
     "execution_count": 84,
     "metadata": {},
     "output_type": "execute_result"
    }
   ],
   "source": [
    "X_train1.shape"
   ]
  },
  {
   "cell_type": "markdown",
   "id": "2988b5e3",
   "metadata": {},
   "source": [
    "### Using the TfidfVectorizer:"
   ]
  },
  {
   "cell_type": "code",
   "execution_count": 85,
   "id": "41db083c",
   "metadata": {},
   "outputs": [
    {
     "name": "stdout",
     "output_type": "stream",
     "text": [
      "{'new': 16538, 'favorite': 8891, 'bumpersticker': 3227, 'seen': 21713, 'bumper': 3226, 'shiny': 22057, 'volvo': 26705, 'groomed': 10633, 'woman': 27414, 'wheel': 27141, 'behaved': 2180, 'rarely': 19798, 'make': 14862, 'history': 11469, 'diva': 7001, 'important': 12166, 'infuriating': 12456, 'article': 1342, 'read': 19868, 'urllink': 26265, 'http': 11765, 'www': 27617, 'salon': 21247, 'com': 4678, 'news': 16553, 'wire': 27340, 'linguist': 14301, 'index': 12312, 'html': 11763, 'mwt': 16224, 'orphanage': 17308, 'gun': 10753, 'good': 10352, 'friend': 9678, 'john': 13205, 'robinson': 20896, 'asked': 1401, 'excellent': 8446, 'question': 19584, 'month': 15899, 'ago': 501, 'road': 20863, 'ohio': 17063, 'ben': 2234, 'voting': 26719, 'kerry': 13490, 'george': 10096, 'bush': 3287, 'replied': 20433, 'know': 13666, 'thank': 24717, 'changed': 3929, 'mind': 15599, 'night': 16613, 'volunteered': 26698, 'work': 27484, 'campaign': 3475, 'virginia': 26617, 'tonight': 25128, 'love': 14598, 'country': 5396, 'proud': 19320, 'america': 805, 'fellow': 8965, 'american': 806, 'united': 26041, 'simple': 22331, 'purpose': 19478, 'stronger': 23695, 'home': 11563, 'respected': 20551, 'world': 27499, 'great': 10549, 'novelist': 16803, 'wrote': 27591, 'imagined': 12067, 'evening': 8364, 'public': 19391, 'life': 14209, 'began': 2162, 'possible': 18788, 'live': 14374, 'nation': 16354, 'written': 27583, 'blood': 2591, 'idealism': 11968, 'hope': 11646, 'parent': 17719, 'showed': 22162, 'value': 26363, 'family': 8794, 'faith': 8762, 'welcome': 27075, 'forget': 9489, 'wish': 27353, 'share': 21967, 'moment': 15837, 'went': 27094, 'rest': 20573, 'year': 27716, 'example': 8436, 'inspiration': 12583, 'gift': 10152, 'open': 17183, 'eye': 8671, 'endless': 7965, 'bigger': 2351, 'lasting': 13888, 'word': 27477, 'born': 2794, 'colorado': 4662, 'fitzsimmons': 9207, 'army': 1286, 'hospital': 11694, 'dad': 5843, 'pilot': 18345, 'war': 26858, 'ii': 12020, 'thing': 24792, 'guess': 10715, 'wing': 27316, 'maternity': 15146, 'ward': 26863, 'making': 14868, 'west': 27102, 'mother': 15989, 'rock': 20901, 'stayed': 23416, 'late': 13893, 'help': 11289, 'homework': 11588, 'sat': 21337, 'bed': 2138, 'sick': 22241, 'answered': 994, 'child': 4109, 'like': 14245, 'wonder': 27421, 'mystery': 16244, 'den': 6320, 'cub': 5681, 'scout': 21543, 'pin': 18352, 'girl': 10187, 'leader': 13981, 'gave': 9995, 'passion': 17803, 'environment': 8118, 'taught': 24439, 'tree': 25421, 'cathedral': 3727, 'nature': 16366, 'power': 18856, 'finish': 9146, 'march': 15000, 'equality': 8158, 'boy': 2867, 'remembers': 20325, 'model': 15784, 'airplane': 567, 'baseball': 1992, 'mitt': 15730, 'bicycle': 2344, 'lived': 14375, 'responsibility': 20569, 'sacrifice': 21163, 'greatest': 10551, 'generation': 10051, 'owe': 17517, 'young': 27801, 'man': 14901, 'state': 23394, 'department': 6351, 'stationed': 23403, 'berlin': 2279, 'divided': 7012, 'democracy': 6299, 'communism': 4759, 'unforgettable': 25993, 'memory': 15378, 'kid': 13536, 'mesmerized': 15430, 'british': 3032, 'french': 9650, 'troop': 25512, 'guarding': 10701, 'city': 4311, 'russian': 21132, 'standing': 23340, 'guard': 10698, 'stark': 23366, 'line': 14287, 'separating': 21820, 'east': 7545, 'occasion': 16968, 'rode': 20916, 'bike': 2362, 'soviet': 22966, 'proudly': 19322, 'told': 25087, 'promptly': 19247, 'grounded': 10647, 'learned': 14001, 'lifetime': 14220, 'saw': 21394, 'different': 6648, 'fear': 8907, 'people': 18015, 'free': 9629, 'gratitude': 10529, 'felt': 8968, 'goose': 10382, 'bump': 3224, 'got': 10398, 'military': 15573, 'train': 25296, 'heard': 11180, 'band': 1886, 'strike': 23671, 'star': 23352, 'stripe': 23678, 'forever': 9484, 'meant': 15266, 'best': 2288, 'pride': 19076, 'freedom': 9632, 'determined': 6510, 'restore': 20587, 'look': 14513, 'join': 13217, 'strong': 23694, 'winning': 27325, 'cold': 4610, 'service': 21869, 'brought': 3076, 'peace': 17906, 'prosperity': 19295, 'inspired': 12586, 'serve': 21865, 'junior': 13327, 'high': 11393, 'school': 21488, 'kennedy': 13470, 'called': 3434, 'beginning': 2172, 'journey': 13263, 'time': 24971, 'civil': 4313, 'right': 20787, 'believed': 2209, 'change': 3927, 'finished': 9147, 'complete': 4815, 'promise': 19234, 'perfected': 18047, 'setting': 21881, 'going': 10319, 'write': 27577, 'chapter': 3951, 'story': 23590, 'true': 25543, 'ideal': 11967, 'start': 23373, 'telling': 24560, 'truth': 25563, 'pledge': 18522, 'president': 19020, 'trust': 25558, 'credibility': 5538, 'white': 27185, 'house': 11728, 'ask': 1399, 'judge': 13284, 'record': 20026, 'prosecutor': 19289, 'fought': 9546, 'victim': 26540, 'prosecuting': 19287, 'violence': 26609, 'priority': 19103, 'came': 3464, 'senate': 21771, 'broke': 3052, 'party': 17778, 'vote': 26715, 'balanced': 1860, 'budget': 3152, 'thought': 24835, 'cop': 5256, 'street': 23644, 'reached': 19856, 'aisle': 570, 'mccain': 15212, 'pow': 18852, 'missing': 15695, 'action': 250, 'finally': 9121, 'vietnam': 26562, 'commander': 4722, 'chief': 4106, 'mislead': 15679, 'vice': 26531, 'conduct': 4932, 'secret': 21675, 'meeting': 15323, 'polluter': 18647, 'rewrite': 20709, 'environmental': 8119, 'law': 13942, 'secretary': 21676, 'defense': 6188, 'listen': 14338, 'advice': 396, 'appoint': 1145, 'attorney': 1576, 'general': 10041, 'actually': 268, 'upholds': 26207, 'constitution': 5083, 'election': 7731, 'stake': 23314, 'global': 10250, 'terror': 24657, 'enemy': 7977, 'unlike': 26061, 'known': 13674, 'wage': 26776, 'falling': 8777, 'health': 11172, 'care': 3591, 'cost': 5358, 'rising': 20832, 'middle': 15524, 'class': 4366, 'shrinking': 22190, 'working': 27492, 'weekend': 27039, 'job': 13187, 'getting': 10124, 'ahead': 519, 'outsourcing': 17408, 'pay': 17877, 'le': 13978, 'lost': 14565, 'say': 21399, 'economy': 7588, 'think': 24798, 'pessimist': 18147, 'answer': 992, 'pessimistic': 18148, 'saying': 21403, 'better': 2307, 'optimist': 17231, 'future': 9842, 'let': 14123, 'paid': 17586, 'debt': 6072, 'created': 5528, 'million': 15586, 'lifted': 14223, 'poverty': 18851, 'standard': 23334, 'living': 14385, 'need': 16439, 'believe': 2208, 'block': 2553, 'son': 22875, 'daughter': 5984, 'liberty': 14185, 'birth': 2406, 'behalf': 2178, 'deserve': 6431, 'champion': 3915, 'struggling': 23708, 'fair': 8748, 'shot': 22139, 'brave': 2930, 'men': 15380, 'uniform': 26019, 'risk': 20833, 'day': 5999, 'pray': 18907, 'return': 20651, 'accept': 140, 'nomination': 16699, 'running': 21119, 'mate': 15139, 'dream': 7284, 'worked': 27487, 'real': 19880, 'senator': 21772, 'edward': 7632, 'north': 16750, 'carolina': 3626, 'wonderful': 27423, 'wife': 27246, 'elizabeth': 7785, 'worker': 27488, 'ready': 19877, 'lead': 13980, 'january': 13022, 'fighter': 9077, 'succeed': 23841, 'dick': 6611, 'cheney': 4060, 'teresa': 24628, 'strongest': 23696, 'moral': 15939, 'compass': 4784, 'earth': 7534, 'nurturing': 16868, 'courageous': 5409, 'wise': 27348, 'smart': 22620, 'speaks': 23031, 'embrace': 7847, 'lady': 13804, 'matter': 15165, 'hold': 11532, 'past': 17810, 'given': 10195, 'mean': 15253, 'laugh': 13916, 'holding': 11535, 'foot': 9441, 'letting': 14134, 'away': 1716, 'andre': 890, 'alex': 623, 'chris': 4208, 'vanessa': 26374, 'accompanied': 163, 'extraordinary': 8651, 'brother': 3075, 'led': 14021, 'hero': 11346, 'patriot': 17838, 'named': 16295, 'max': 15179, 'cleland': 4412, 'veteran': 26510, 'soldier': 22825, 'loved': 14600, 'deep': 6164, 'belief': 2205, 'extra': 8643, 'little': 14367, 'older': 17091, 'grayer': 10543, 'fight': 9076, 'shared': 21968, 'long': 14496, 'season': 21648, 'primary': 19083, 'carol': 3625, 'moseley': 15982, 'braun': 2928, 'wesley': 27100, 'clark': 4359, 'howard': 11742, 'dean': 6043, 'gephardt': 10099, 'bob': 2665, 'graham': 10463, 'dennis': 6329, 'kucinich': 13734, 'joe': 13193, 'lieberman': 14201, 'al': 584, 'sharpton': 21978, 'teaching': 24471, 'testing': 24677, 'giving': 10199, 'unity': 26042, 'forward': 9536, 'equal': 8156, 'challenge': 3905, 'remember': 20320, 'hour': 11726, 'september': 21831, 'th': 24705, 'attack': 1551, 'homeland': 11570, 'drew': 7304, 'strength': 23648, 'firefighter': 9160, 'ran': 19760, 'stair': 23311, 'risked': 20834, 'rescuer': 20492, 'rushed': 21125, 'smoke': 22654, 'pentagon': 18010, 'flight': 9299, 'sacrificed': 21164, 'save': 21381, 'capitol': 3554, 'flag': 9221, 'hanging': 10988, 'porch': 18728, 'stranger': 23615, 'worst': 27518, 'rallied': 19742, 'meet': 15322, 'danger': 5914, 'democrat': 6300, 'republican': 20463, 'way': 26962, 'criticize': 5589, 'seeing': 21708, 'complexity': 4823, 'issue': 12928, 'weapon': 26990, 'mass': 15106, 'destruction': 6483, 'iraq': 12857, 'cheap': 4009, 'doesnt': 7070, 'proclaiming': 19156, 'mission': 15696, 'accomplished': 169, 'certainly': 3862, 'hard': 11032, 'demand': 6286, 'evidence': 8394, 'immediately': 12095, 'reform': 20136, 'intelligence': 12649, 'policy': 18621, 'guided': 10724, 'fact': 8720, 'distorted': 6971, 'politics': 18638, 'bring': 3018, 'honored': 11615, 'tradition': 25275, 'want': 26852, 'carrying': 3640, 'dangerous': 5915, 'place': 18442, 'tell': 24557, 'foe': 9399, 'patrol': 17842, 'coming': 4713, 'bend': 2237, 'letter': 14130, 'sure': 24033, 'lesson': 14120, 'battle': 2045, 'able': 63, 'truthfully': 25565, 'tried': 25462, 'avoid': 1694, 'sending': 21778, 'harm': 11050, 'choice': 4172, 'protect': 19300, 'fundamental': 9789, 'threat': 24848, 'imminent': 12108, 'justification': 13342, 'office': 17037, 'send': 21774, 'message': 15433, 'armed': 1274, 'force': 9457, 'plan': 18455, 'win': 27296, 'ally': 708, 'burden': 3247, 'reduce': 20089, 'taxpayer': 24451, 'reality': 19891, 'happen': 11005, 'restores': 20589, 'respect': 20549, 'leadership': 13983, 'rebuild': 19945, 'alliance': 685, 'terrorist': 24659, 'defended': 6183, 'defend': 6181, 'mistake': 15709, 'hesitate': 11356, 'use': 26279, 'required': 20477, 'met': 15443, 'swift': 24184, 'certain': 3861, 'response': 20566, 'international': 12710, 'institution': 12611, 'veto': 26511, 'national': 16355, 'security': 21689, 'build': 3177, 'add': 288, 'active': 253, 'duty': 7473, 'strengthen': 23649, 'overstretched': 17494, 'overextended': 17448, 'pressure': 19027, 'double': 7188, 'special': 23036, 'anti': 1014, 'operation': 17194, 'provide': 19327, 'newest': 16548, 'technology': 24503, 'end': 7953, 'backdoor': 1789, 'draft': 7243, 'reservist': 20510, 'today': 25063, 'smarter': 22621, 'effective': 7662, 'deploy': 6372, 'tool': 25140, 'arsenal': 1333, 'economic': 7584, 'principle': 19095, 'firepower': 9167, 'wrong': 27587, 'tough': 25216, 'decade': 6079, 'experience': 8559, 'reach': 19855, 'beacon': 2077, 'looked': 14514, 'feared': 8908, 'effort': 7672, 'nuclear': 16827, 'proliferation': 19224, 'hand': 10951, 'confidence': 4948, 'determination': 6508, 'lose': 14557, 'belong': 2224, 'belongs': 2227, 'far': 8821, 'shore': 22120, 'airport': 568, 'potentially': 18824, 'town': 25241, 'begin': 2169, 'commission': 4740, 'path': 17823, 'follow': 9411, 'endorsed': 7969, 'evade': 8351, 'equivocate': 8173, 'implement': 12152, 'recommendation': 20007, 'ninety': 16638, 'percent': 18032, 'container': 5111, 'ship': 22058, 'come': 4692, 'port': 18745, 'physically': 18259, 'inspected': 12579, 'leaving': 14013, 'chemical': 4051, 'plant': 18464, 'protection': 19303, 'opening': 17187, 'firehouse': 9163, 'baghdad': 1831, 'closing': 4478, 'patriotism': 17840, 'offer': 17033, 'direction': 6747, 'wrapping': 27555, 'shutting': 22220, 'ear': 7516, 'really': 19899, 'idea': 11966, 'reclaim': 19989, 'affirm': 431, 'stand': 23333, 'speak': 23027, 'heart': 11187, 'soul': 22937, 'old': 17088, 'glory': 10262, 'flew': 9290, 'turret': 25654, 'head': 11149, 'tattered': 24435, 'ceased': 3791, 'wave': 26951, 'wind': 27300, 'draped': 7264, 'casket': 3676, 'served': 21866, 'grew': 10581, 'powerful': 18862, 'symbol': 24225, 'diversity': 7010, 'ideology': 11983, 'political': 18633, 'citizen': 4305, 'program': 19200, 'sits': 22412, 'desk': 6449, 'lot': 14567, 'talk': 24327, 'spoken': 23156, 'taken': 24317, 'slogan': 22576, 'cause': 3754, 'valuing': 26366, 'kicking': 13534, 'taking': 24321, 'enron': 8046, 'tax': 24442, 'break': 2943, 'caring': 3611, 'protecting': 19302, 'neighborhood': 16465, 'walk': 26816, 'play': 18485, 'denying': 6346, 'prescription': 19004, 'drug': 7356, 'coverage': 5432, 'senior': 21783, 'big': 2348, 'company': 4772, 'windfall': 27302, 'expressed': 8614, 'oldest': 17092, 'commandment': 4724, 'honor': 11613, 'thy': 24914, 'father': 8867, 'privatize': 19115, 'social': 22779, 'cut': 5793, 'benefit': 2247, 'pill': 18338, 'half': 10901, 'afford': 440, 'saving': 21384, 'medicine': 15300, 'collection': 4635, 'buy': 3327, 'body': 2678, 'armor': 1280, 'deny': 6345, 'wait': 26801, 'wealthiest': 26988, 'narrow': 16327, 'appeal': 1115, 'masquerading': 15105, 'face': 8701, 'divide': 7011, 'unite': 26040, 'opportunity': 17211, 'god': 10301, 'potential': 18823, 'dave': 5986, 'mccune': 15221, 'steel': 23442, 'canton': 3530, 'sent': 21800, 'overseas': 17481, 'equipment': 8166, 'factory': 8724, 'literally': 14355, 'unbolted': 25854, 'crated': 5500, 'shipped': 22061, 'thousand': 24840, 'mile': 15564, 'foreign': 9472, 'replacement': 20421, 'mary': 15081, 'ann': 952, 'knowles': 13673, 'breast': 2952, 'cancer': 3500, 'hampshire': 10942, 'chemotherapy': 4056, 'terrified': 24651, 'losing': 14562, 'insurance': 12630, 'deborah': 6070, 'kromins': 13720, 'philadelphia': 18197, 'pennsylvania': 18004, 'pension': 18007, 'disappeared': 6773, 'air': 554, 'executive': 8487, 'looted': 14538, 'bailed': 1842, 'golden': 10324, 'parachute': 17681, 'harlem': 11048, 'asthma': 1476, 'pollution': 18649, 'huddled': 11781, 'blanket': 2485, 'sleeping': 22535, 'lafayette': 13807, 'park': 17732, 'doorstep': 7162, 'number': 16849, 'risen': 20831, 'conscience': 5026, 'rural': 21123, 'small': 22613, 'urban': 26250, 'suburban': 23830, 'main': 14834, 'alive': 658, 'land': 13841, 'bursting': 3280, 'earned': 7525, 'week': 27036, 'lift': 14222, 'quality': 19552, 'squeezed': 23252, 'incentive': 12235, 'revitalize': 20695, 'manufacturing': 14981, 'second': 21670, 'investment': 12816, 'innovation': 12530, 'create': 5527, 'paying': 17884, 'close': 4470, 'loophole': 14528, 'reward': 20705, 'shipping': 22062, 'instead': 12603, 'export': 8606, 'product': 19174, 'subsidize': 23813, 'loss': 14563, 'trade': 25270, 'compete': 4796, 'playing': 18495, 'field': 9065, 'fiscal': 9180, 'foundation': 9549, 'deficit': 6199, 'ending': 7964, 'giveaway': 10194, 'corporate': 5309, 'welfare': 27079, 'government': 10422, 'rule': 21092, 'raise': 19726, 'false': 8782, 'charge': 3964, 'recent': 19961, 'straight': 23597, 'business': 3295, 'roll': 20933, 'individual': 12343, 'invest': 12807, 'creation': 5531, 'education': 7630, 'set': 21876, 'accountability': 180, 'teacher': 24470, 'provides': 19331, 'smaller': 22614, 'size': 22423, 'treat': 25413, 'professional': 19184, 'credit': 5540, 'college': 4638, 'trouble': 25520, 'abandoned': 30, 'adult': 373, 'stop': 23573, 'content': 5126, 'spend': 23078, 'person': 18112, 'prison': 19108, 'early': 7523, 'affordable': 442, 'accessible': 149, 'happening': 11010, 'premium': 18977, 'payment': 17886, 'deductible': 6155, 'gone': 10345, 'roof': 20966, 'crack': 5456, 'waste': 26910, 'greed': 10555, 'abuse': 124, 'pick': 18280, 'doctor': 7055, 'patient': 17830, 'bureaucrat': 3252, 'medical': 15294, 'decision': 6111, 'medicare': 15295, 'negotiate': 16459, 'lower': 14618, 'price': 19066, 'expensive': 8554, 'canada': 3488, 'member': 15366, 'congress': 4990, 'politician': 18636, 'washington': 26904, 'advanced': 376, 'fails': 8744, 'understand': 25932, 'privilege': 19117, 'wealthy': 26989, 'connected': 5004, 'elected': 7729, 'control': 5176, 'destiny': 6476, 'independent': 12309, 'mideast': 15527, 'oil': 17069, 'reserve': 20507, 'rely': 20300, 'consume': 5096, 'relies': 20282, 'ingenuity': 12462, 'saudi': 21369, 'royal': 21049, 'energy': 7983, 'alternative': 740, 'fuel': 9762, 'car': 3574, 'held': 11266, 'hostage': 11698, 'dependence': 6358, 'independence': 12308, 'franklin': 9602, 'roosevelt': 20977, 'said': 21210, 'acceptance': 143, 'speech': 23062, 'johnkerry': 13208, 'address': 302, 'directly': 6749, 'opponent': 17209, 'angry': 927, 'division': 7017, 'misuse': 15723, 'precious': 18930, 'document': 7060, 'harder': 11037, 'contest': 5131, 'minded': 15600, 'reject': 20232, 'kind': 13574, 'calculated': 3417, 'race': 19660, 'group': 10651, 'region': 20178, 'maybe': 15187, 'red': 20055, 'blue': 2618, 'enlist': 8029, 'talent': 24323, 'common': 4750, 'ground': 10645, 'contribute': 5170, 'left': 14032, 'sideline': 22255, 'plainly': 18453, 'ron': 20960, 'reagan': 19878, 'wear': 26991, 'sleeve': 22539, 'sunday': 23941, 'claim': 4329, 'abraham': 80, 'lincoln': 14283, 'humbly': 11812, 'bind': 2379, 'measure': 15270, 'character': 3952, 'willingness': 27287, 'democratic': 6301, 'stretch': 23660, 'impossible': 12174, 'horizon': 11665, 'mechanic': 15280, 'dayton': 6007, 'kitty': 13620, 'hawk': 11125, 'moon': 15913, 'exploring': 8600, 'solar': 22822, 'entrepreneur': 8104, 'information': 12442, 'library': 14188, 'chip': 4143, 'fingernail': 9141, 'breakthrough': 2951, 'cure': 5742, 'parkinson': 17736, 'diabetes': 6581, 'alzheimer': 758, 'aid': 538, 'science': 21504, 'unleash': 26057, 'discovery': 6827, 'stem': 23457, 'cell': 3818, 'research': 20494, 'illness': 12043, 'safe': 21193, 'afternoon': 466, 'bigotry': 2360, 'hatred': 11101, 'steal': 23427, 'gunboat': 10755, 'patrolling': 17843, 'mekong': 15340, 'delta': 6276, 'iowa': 12845, 'oregon': 17266, 'arkansas': 1269, 'florida': 9344, 'california': 3430, 'cared': 3592, 'background': 1792, 'boat': 2662, 'urgent': 26256, 'step': 23461, 'define': 6205, 'outcome': 17367, 'sun': 23929, 'goodnight': 10359, 'bless': 2521, 'horse': 11686, 'mouth': 16035, 'jazeera': 13051, 'muffin': 16098, 'hiding': 11389, 'najaf': 16285, 'realization': 19892, 'bravado': 2929, 'demagoguery': 6284, 'likely': 14251, 'result': 20603, 'riddled': 20764, 'plethora': 18528, 'cal': 3408, 'round': 21023, 'pleasant': 18508, 'happened': 11008, 'marine': 15026, 'cordoned': 5288, 'threatened': 24850, 'fuck': 9750, 'appeased': 1124, 'respond': 20560, 'upset': 26230, 'press': 19022, 'concerning': 4887, 'trying': 25569, 'poster': 18799, 'merely': 15411, 'stating': 23400, 'point': 18593, 'used': 26283, 'blogger': 2570, 'familiar': 8792, 'encourages': 7946, 'participation': 17764, 'blog': 2560, 'offend': 17026, 'rich': 20742, 'single': 22367, 'dependent': 6359, 'current': 5760, 'level': 14139, 'cap': 3537, 'yes': 27747, 'dollar': 7094, 'considered': 5047, 'poor': 18701, 'federal': 8934, 'deal': 6038, 'economics': 7586, 'cyclical': 5814, 'act': 247, 'determine': 6509, 'cycle': 5813, 'odd': 17006, 'ian': 11932, 'type': 25721, 'sprouted': 23217, 'fc': 8903, 'earlier': 7520, 'stumbled': 23742, 'website': 27016, 'looking': 14517, 'amnesty': 827, 'declared': 6119, 'july': 13311, 'st': 23283, 'murderess': 16156, 'christa': 4211, 'pike': 18329, 'doubt': 7192, 'guilty': 10735, 'crime': 5566, 'wanted': 26853, 'committed': 4746, 'search': 21639, 'google': 10369, 'site': 22407, 'difficult': 6657, 'spared': 22999, 'defending': 6185, 'criminally': 5571, 'insane': 12543, 'vicious': 26533, 'killer': 13556, 'killed': 13555, 'imagine': 12066, 'pain': 17587, 'horror': 11684, 'stain': 23308, 'humanity': 11807, 'took': 25139, 'shit': 22071, 'chest': 4076, 'mortgage': 15978, 'banker': 1909, 'basically': 2002, 'glorified': 10259, 'correspondent': 5327, 'fannie': 8813, 'mae': 14787, 'freddie': 9626, 'mac': 14736, 'perform': 18053, 'diligence': 6691, 'loan': 14427, 'apartment': 1075, 'complex': 4821, 'securitize': 21688, 'commercial': 4735, 'backed': 1790, 'bond': 2721, 'principal': 19093, 'guaranteed': 10696, 'meaning': 15260, 'yield': 27757, 'driven': 7328, 'implicit': 12157, 'guaranty': 10697, 'aaa': 1, 'rated': 19815, 'borrowing': 2805, 'net': 16506, 'effect': 7660, 'schmoe': 21482, 'rating': 19819, 'rate': 19814, 'property': 19268, 'decent': 6096, 'shape': 21960, 'market': 15034, 'borrower': 2804, 'technically': 24498, 'traded': 25271, 'exchange': 8457, 'governmental': 10423, 'organization': 17277, 'argument': 1250, 'unfair': 25980, 'advantage': 378, 'lend': 14087, 'forcing': 9463, 'competition': 4801, 'gmac': 10283, 'guy': 10785, 'et': 8296, 'dogging': 7075, 'regulator': 20199, 'disassociate': 6785, 'competitive': 4802, 'landscape': 13847, 'problem': 19135, 'politically': 18634, 'economically': 7585, 'lb': 13970, 'gorilla': 10393, 'order': 17256, 'gse': 10685, 'sponsored': 23166, 'entity': 8091, 'status': 23410, 'alan': 590, 'greenspan': 10565, 'official': 17041, 'willing': 27285, 'kaibosh': 13368, 'multi': 16119, 'trillion': 25474, 'industry': 12365, 'consider': 5043, 'writing': 27582, 'wall': 26825, 'update': 26195, 'tired': 25009, 'jot': 13256, 'feeling': 8949, 'emotion': 7878, 'tomorrow': 25120, 'dark': 5943, 'kiss': 13607, 'breath': 2955, 'sign': 22279, 'fred': 9625, 'horoscope': 11674, 'bit': 2421, 'rusty': 21137, 'caving': 3770, 'touched': 25213, 'feel': 8947, 'gonna': 10348, 'yeah': 27710, 'wanna': 26849, 'push': 19494, 'granted': 10503, 'lie': 14200, 'untrusting': 26174, 'hurt': 11864, 'ya': 27670, 'stay': 23414, 'near': 16404, 'shine': 22050, 'cuz': 5806, 'dirty': 6758, 'nice': 16582, 'cheated': 4016, 'wronged': 27589, 'oh': 17058, 'bowl': 2858, 'minute': 15640, 'kinda': 13575, 'fell': 8961, 'apart': 1073, 'crazy': 5515, 'rush': 21124, 'baby': 1778, 'figured': 9085, 'coarse': 4526, 'knew': 13647, 'comfortable': 4702, 'hell': 11272, 'loose': 14529, 'surley': 24049, 'causing': 3757, 'havoc': 11121, 'bother': 2821, 'anymore': 1050, 'dissapoint': 6936, 'slight': 22552, 'chance': 3920, 'happy': 11018, 'york': 27789, 'graduated': 10454, 'fucking': 9756, 'decided': 6102, 'rob': 20880, 'student': 23727, 'fund': 9788, 'extremly': 8662, 'unaffordable': 25823, 'hint': 11443, 'tylenole': 25716, 'thinking': 24802, 'suck': 23858, 'express': 8613, 'tear': 24480, 'shed': 21997, 'seriously': 21856, 'prime': 19084, 'easier': 7542, 'dressed': 7301, 'everyday': 8383, 'wittled': 27386, 'fatness': 8873, 'absolutly': 103, 'scare': 21437, 'hate': 11097, 'exactly': 8428, 'okay': 17077, 'uberly': 25741, 'corner': 5301, 'thats': 24729, 'lucky': 14648, 'cool': 5235, 'basketcase': 2010, 'wondering': 27427, 'spilling': 23109, 'phoney': 18228, 'pretend': 19033, 'im': 12057, 'havent': 11114, 'kill': 13553, 'inside': 12558, 'mess': 15432, 'pissed': 18403, 'horrible': 11678, 'hang': 10984, 'everyones': 8385, 'subconcious': 23781, 'building': 3179, 'spill': 23107, 'normal': 16742, 'conciousness': 4896, 'fine': 9134, 'understands': 25936, 'ala': 585, 'ive': 12954, 'dont': 7141, 'starting': 23377, 'atleast': 1534, 'brookfield': 3066, 'judicial': 13293, 'sco': 21510, 'case': 3664, 'beg': 2161, 'differ': 6646, 'duped': 7448, 'lawyer': 13949, 'believing': 2212, 'groklaw': 10629, 'kimball': 13567, 'odds': 17011, 'slim': 22557, 'comical': 4710, 'bad': 1815, 'money': 15861, 'software': 22811, 'linux': 14313, 'obviously': 16964, 'grassroots': 10522, 'movement': 16040, 'hugging': 11792, 'hippie': 11450, 'hollywood': 11555, 'movie': 16044, 'probably': 19128, 'entire': 8087, 'fiasco': 9044, 'huge': 11787, 'pr': 18876, 'exercise': 8493, 'prove': 19323, 'code': 4561, 'utterly': 26318, 'copyright': 5275, 'holder': 11533, 'chosen': 4200, 'release': 20264, 'gpl': 10429, 'maker': 14865, 'unix': 26048, 'rip': 20820, 'operating': 17193, 'higher': 11395, 'praise': 18896, 'stock': 23548, 'eat': 7553, 'sell': 21752, 'worse': 27509, 'vcu': 26419, 'soooo': 22895, 'dear': 6045, 'attaching': 1549, 'attache': 1547, 'riskier': 20835, 'moree': 15948, 'hazardous': 11141, 'survival': 24078, 'song': 22878, 'immediate': 12094, 'hear': 11179, 'handmaid': 10971, 'tale': 24322, 'margaret': 15010, 'atwood': 1590, 'ipanema': 12848, 'restaurant': 20576, 'evil': 8400, 'dat': 5976, 'waz': 26973, 'buhlsheet': 3175, 'mahn': 14824, 'pretty': 19044, 'luuuv': 14705, 'hearing': 11181, 'lemme': 14082, 'mr': 16058, 'terrorism': 24658, 'gauche': 9989, 'particularly': 17769, 'interesting': 12690, 'revealing': 20667, 'irked': 12866, 'minister': 15627, 'especially': 8251, 'declarative': 6117, 'statement': 23396, 'coordinate': 5250, 'technical': 24496, 'allow': 695, 'ass': 1420, 'effectively': 7663, 'qualifier': 19548, 'waffle': 26773, 'ish': 12904, 'disagree': 6766, 'argue': 1245, 'file': 9090, 'frog': 9703, 'email': 7816, 'holiday': 11543, 'decoration': 6136, 'reminder': 20328, 'ensure': 8052, 'fairly': 8752, 'nondenominational': 16708, 'thanks': 24724, 'methodist': 15469, 'presbyterian': 19000, 'alike': 653, 'awesome': 1722, 'simply': 22341, 'allah': 662, 'pundit': 19444, 'reason': 19919, 'gem': 10033, 'douche': 7196, 'gay': 9999, 'watch': 26919, 'effing': 7671, 'rpg': 21055, 'dork': 7170, 'playstation': 18500, 'role': 20931, 'game': 9917, 'final': 9116, 'fantasy': 8819, 'spent': 23081, 'logged': 14462, 'beat': 2103, 'played': 18489, 'additional': 299, 'instance': 12598, 'gamefaqs': 9919, 'ffx': 9035, 'jeesus': 13080, 'bought': 2831, 'sequel': 21832, 'series': 21852, 'learn': 14000, 'interface': 12692, 'bullshit': 3211, 'typically': 25727, 'ff': 9033, 'handling': 10969, 'figuring': 9087, 'intuitively': 12789, 'aneurism': 903, 'stuff': 23735, 'possibility': 18787, 'jaw': 13045, 'dropped': 7344, 'started': 23374, 'layered': 13954, 'badass': 1816, 'graphic': 10510, 'concept': 4881, 'downside': 7223, 'lag': 13808, 'scene': 21457, 'ram': 19746, 'upgrade': 26200, 'conclusion': 4899, 'hah': 10852, 'portent': 18751, 'justice': 13341, 'previously': 19060, 'reported': 20438, 'scalia': 21415, 'plane': 18456, 'duck': 7396, 'hunting': 11852, 'court': 5416, 'accepted': 144, 'refusal': 20155, 'task': 24418, 'involve': 12834, 'lawsuit': 13948, 'private': 19113, 'trip': 25484, 'acceptable': 142, 'practice': 18886, 'socialize': 22783, 'branch': 2910, 'personal': 18114, 'quack': 19534, 'nbsp': 16391, 'nok': 16691, 'mooooo': 15924, 'yuhuuuu': 27828, 'inok': 12533, 'ucok': 25748, 'tromba': 25509, 'posaun': 18769, 'wowww': 27543, 'kau': 13424, 'di': 6579, 'mana': 14902, 'udah': 25751, 'hahahha': 10868, 'masih': 15093, 'amp': 836, 'diseased': 6850, 'sympathy': 24235, 'sky': 22476, 'outside': 17405, 'finch': 9128, 'eged': 7678, 'sword': 24213, 'gots': 10407, 'camcorder': 3463, 'xmas': 27642, 'editing': 7614, 'script': 21587, 'non': 16701, 'actor': 261, 'monday': 15853, 'joy': 13267, 'sarcasim': 21323, 'gorgeous': 10390, 'jon': 13233, 'previous': 19059, 'entry': 8109, 'smile': 22640, 'sydney': 24220, 'harbor': 11028, 'brige': 3000, 'jump': 13313, 'ocean': 16993, 'truly': 25550, 'capable': 3539, 'satisfyed': 21356, 'ataris': 1511, 'stomach': 23560, 'hungry': 11846, 'backpacking': 1799, 'israel': 12924, 'landed': 13842, 'northern': 16752, 'hill': 11423, 'tzfat': 25738, 'aka': 578, 'safed': 21194, 'epicenter': 8139, 'jewish': 13140, 'mysticism': 16247, 'mecca': 15277, 'interested': 12688, 'thoroughly': 24828, 'exhaustive': 8504, 'ritual': 20843, 'worship': 27513, 'focus': 9393, 'esoteric': 8247, 'kabbalah': 13359, 'literal': 14354, 'judaism': 13282, 'prevelent': 19052, 'jerusalem': 13120, 'arrive': 1318, 'wanting': 26855, 'dabble': 5841, 'moving': 16046, 'dramatically': 7261, 'changing': 3931, 'lodging': 14455, 'hostel': 11700, 'run': 21109, 'orthodox': 17314, 'providing': 19332, 'shelter': 22014, 'attendance': 1563, 'religious': 20287, 'tourist': 25227, 'traveling': 25389, 'hidden': 11383, 'agenda': 482, 'spiritual': 23121, 'holy': 11558, 'jew': 13134, 'spirituality': 23123, 'marginalized': 15014, 'invariably': 12798, 'formed': 9515, 'asking': 1405, 'eating': 7557, 'date': 5980, 'recently': 19963, 'prayed': 18908, 'holiest': 11546, 'western': 27104, 'remnant': 20342, 'temple': 24577, 'destroyed': 6479, 'roman': 20947, 'incredible': 12287, 'visit': 26639, 'weight': 27057, 'echo': 7574, 'prayer': 18909, 'supposed': 24013, 'catharsis': 3725, 'awakening': 1709, 'dramatic': 7260, 'spirit': 23120, 'attended': 1565, 'morning': 15961, 'rabbi': 19655, 'sadly': 21186, 'stuck': 23723, 'talking': 24333, 'book': 2755, 'genesis': 10057, 'contain': 5109, 'discussion': 6846, 'quoting': 19648, 'commentary': 4730, 'analyzing': 869, 'sentence': 21804, 'course': 5413, 'numerous': 16856, 'interpretation': 12717, 'translating': 25350, 'hebrew': 11222, 'scrutiny': 21605, 'green': 10559, 'light': 14228, 'bugged': 3167, 'hjm': 11488, 'heaven': 11213, 'modern': 15792, 'suggest': 23891, 'lasted': 13887, 'carbon': 3583, 'fossil': 9540, 'scientist': 21507, 'surface': 24038, 'remarkable': 20310, 'wore': 27483, 'traditional': 25276, 'black': 2452, 'clothes': 4484, 'hair': 10877, 'beard': 2095, 'characteristically': 3954, 'unkempt': 26050, 'forgotten': 9501, 'hindsight': 11439, 'realize': 19893, 'significant': 22288, 'utter': 26316, 'sincerity': 22353, 'quiet': 19606, 'conviction': 5217, 'peacefulness': 17910, 'exuded': 8666, 'comforted': 4704, 'whatsoever': 27130, 'justify': 13344, 'desire': 6445, 'view': 26564, 'profess': 19181, 'passionate': 17804, 'misfortune': 15674, 'confronted': 4971, 'zealotry': 27875, 'entirely': 8088, 'presentation': 19008, 'zealot': 27874, 'desperation': 6457, 'operate': 17191, 'panic': 17652, 'personally': 18117, 'responsible': 20570, 'salvation': 21262, 'liked': 14248, 'degree': 6228, 'shame': 21946, 'delight': 6259, 'pointing': 18596, 'blind': 2527, 'shunning': 22212, 'scientific': 21505, 'favor': 8886, 'bible': 2336, 'scholar': 21485, 'solid': 22835, 'mileage': 15565, 'anecdote': 898, 'missed': 15692, 'completely': 4817, 'benevolent': 2251, 'origin': 17294, 'universe': 26046, 'tolerance': 25090, 'human': 11802, 'version': 26497, 'motivated': 15997, 'position': 18778, 'prosletyzing': 19291, 'hardly': 11039, 'enlightened': 8026, 'totally': 25205, 'incapable': 12227, 'demonstrating': 6312, 'sound': 22943, 'awfully': 1727, 'galaxy': 9897, 'quest': 19583, 'regardless': 20168, 'happens': 11011, 'guest': 10719, 'murder': 16153, 'music': 16179, 'darude': 5966, 'sandstorm': 21293, 'robert': 20891, 'rethink': 20627, 'comment': 4729, 'cup': 5732, 'miss': 15691, 'glad': 10202, 'yesterday': 27751, 'settle': 21882, 'visa': 26628, 'settled': 21883, 'till': 24960, 'woohooo': 27449, 'mum': 16130, 'turned': 25643, 'session': 21875, 'contemplating': 5118, 'worry': 27506, 'acting': 249, 'understandable': 25933, 'teenage': 24523, 'angst': 929, 'worried': 27505, 'mixing': 15734, 'caught': 3746, 'shoplifting': 22113, 'stealing': 23430, 'winona': 27326, 'ryder': 21144, 'esque': 8262, 'thrill': 24859, 'pack': 17556, 'spoilt': 23154, 'bored': 2788, 'bandy': 1896, 'wealth': 26987, 'troupe': 25530, 'marauding': 14996, 'monkey': 15878, 'sucking': 23862, 'innocent': 12528, 'judgemental': 13287, 'honestly': 11600, 'bro': 3037, 'sigh': 22270, 'financial': 9123, 'situation': 22417, 'toll': 25098, 'hoping': 11656, 'apply': 1143, 'bursary': 3278, 'expense': 8553, 'graduate': 10453, 'rent': 20372, 'subsidises': 23812, 'hopefully': 11651, 'string': 23675, 'attached': 1548, 'prayerfully': 18910, 'somewhat': 22868, 'alleviate': 680, 'quite': 19625, 'pathetic': 17824, 'understandle': 25935, 'church': 4244, 'reading': 19873, 'bogged': 2684, 'mundaneness': 16144, 'appropriately': 1168, 'inertia': 12376, 'picking': 18285, 'meditate': 15307, 'reaching': 19857, 'form': 9507, 'vast': 26405, 'expanse': 8533, 'short': 22122, 'engagement': 7994, 'topic': 25155, 'deliverer': 6270, 'sermon': 21859, 'exist': 8513, 'entertain': 8070, 'educate': 7626, 'broadest': 3044, 'sense': 21788, 'coz': 5447, 'tune': 25622, 'awhile': 1728, 'receptive': 19967, 'humour': 11828, 'creates': 5529, 'switch': 24201, 'connect': 5003, 'speaker': 23028, 'daily': 5861, 'basis': 2005, 'relationship': 20249, 'honest': 11599, 'proper': 19266, 'conversation': 5199, 'audibly': 1600, 'based': 1994, 'touching': 25214, 'tangibility': 24366, 'ah': 515, 'worm': 27503, 'hole': 11536, 'cigarette': 4258, 'yipee': 27764, 'sit': 22405, 'lol': 14481, 'yay': 27701, 'moulin': 16015, 'rouge': 21015, 'self': 21744, 'meow': 15398, 'blush': 2640, 'terrible': 24646, 'influence': 12430, 'drag': 7247, 'muuhaahaahaa': 16214, 'silly': 22312, 'damn': 5886, 'fun': 9780, 'gent': 10072, 'soon': 22891, 'asshole': 1443, 'proof': 19257, 'positive': 18780, 'goat': 10293, 'supposedly': 24014, 'ep': 8130, 'novel': 16802, 'discus': 6843, 'lack': 13789, 'anakin': 856, 'sanpped': 21305, 'slaughtering': 22519, 'tuskins': 25659, 'pan': 17637, 'yoda': 27775, 'qui': 19592, 'gon': 10342, 'windu': 27311, 'puzzled': 19514, 'aparently': 1072, 'report': 20436, 'afterlife': 464, 'assume': 1463, 'obi': 16920, 'wan': 26837, 'warns': 26883, 'vader': 26335, 'explain': 8576, 'mir': 15645, 'communicate': 4755, 'luke': 14663, 'death': 6052, 'possibly': 18789, 'explaining': 8579, 'sensing': 21793, 'leia': 14071, 'easy': 7552, 'attuned': 1589, 'masking': 15096, 'displayed': 6912, 'gallery': 9904, 'corcoran': 5280, 'dj': 7033, 'mom': 15835, 'yelling': 27734, 'waking': 26812, 'susan': 24085, 'contentment': 5130, 'hyu': 11924, 'surrounded': 24071, 'art': 1335, 'ed': 7596, 'weird': 27066, 'focused': 9394, 'learning': 14003, 'wow': 27541, 'sleepy': 22538, 'yahoo': 27678, 'nd': 16396, 'surgery': 24046, 'sweet': 24161, 'jeebus': 13071, 'crucifix': 5630, 'dominican': 7117, 'infant': 12392, 'undergo': 25915, 'risky': 20836, 'friday': 9675, 'remove': 20348, 'appendage': 1127, 'partially': 17759, 'brain': 2899, 'lip': 14318, 'ew': 8414, 'twin': 25690, 'conjoined': 4994, 'extremely': 8658, 'rare': 19796, 'accounting': 184, 'parasitic': 17710, 'rebeca': 19931, 'rarer': 19799, 'shut': 22216, 'franken': 9598, 'rd': 19852, 'burn': 3265, 'declare': 6118, 'eighth': 7705, 'documented': 7064, 'craniopagus': 5479, 'parasiticus': 17711, 'dr': 7239, 'santiago': 21311, 'hazim': 11143, 'director': 6750, 'center': 3836, 'orthopedic': 17316, 'specialty': 23041, 'santo': 21312, 'domingo': 7116, 'performed': 18055, 'died': 6631, 'lazareff': 13961, 'joke': 13222, 'ouch': 17353, 'disturbing': 6990, 'coup': 5400, 'grace': 10439, 'test': 24666, 'indicate': 12319, 'activity': 258, 'fuuuuuuuuuuuuuck': 9846, 'sorry': 22929, 'weee': 27032, 'saturday': 21364, 'dinner': 6720, 'allen': 673, 'sexual': 21906, 'slave': 22520, 'funny': 9818, 'ultra': 25791, 'liberal': 14176, 'bos': 2808, 'btw': 3120, 'bent': 2262, 'sentiment': 21809, 'finding': 9131, 'frontpage': 9712, 'magazine': 14793, 'fourth': 9557, 'knock': 13659, 'vigilance': 26571, 'fat': 8861, 'optional': 17236, 'preservation': 19013, 'emphasis': 7887, 'rapidly': 19790, 'dwindling': 7492, 'repurcussions': 20468, 'freddy': 9627, 'pete': 18156, 'sitting': 22415, 'lovely': 14605, 'sudden': 23865, 'bay': 2059, 'window': 27306, 'room': 20971, 'gigantic': 10156, 'nut': 16870, 'thrown': 24884, 'luton': 14703, 'london': 14491, 'sux': 24111, 'ha': 10813, 'wont': 27435, 'sheffield': 22005, 'managed': 14904, 'pull': 19420, 'muscle': 16166, 'pulled': 19421, 'parallelism': 17695, 'sing': 22359, 'pudding': 19402, 'pop': 18706, 'marketer': 15037, 'wet': 27111, 'piece': 18305, 'entertainment': 8074, 'weekly': 27041, 'skin': 22458, 'entering': 8065, 'betterment': 2308, 'phase': 18187, 'bust': 3301, 'plastic': 18474, 'mall': 14888, 'saks': 21223, 'pleased': 18511, 'shelf': 22010, 'browsing': 3083, 'zihr': 27903, 'querry': 19580, 'check': 4018, 'helping': 11293, 'card': 3586, 'borderline': 2786, 'shaving': 21986, 'gel': 10029, 'gotten': 10409, 'dropping': 7346, 'sizable': 22422, 'load': 14422, 'cash': 3669, 'shave': 21984, 'usually': 26301, 'razor': 19848, 'lazy': 13968, 'sister': 22402, 'flipped': 9311, 'water': 26928, 'midnight': 15535, 'using': 26293, 'undereye': 25913, 'cream': 5521, 'mo': 15763, 'genetic': 10059, 'predisposition': 18950, 'bag': 1824, 'prada': 18892, 'bottle': 2826, 'galore': 9909, 'instruction': 12618, 'confused': 4974, 'curious': 5747, 'kick': 13528, 'moisturizer': 15816, 'instantly': 12601, 'producing': 19173, 'coupla': 5401, 'continue': 5141, 'benjamin': 2258, 'toilet': 25077, 'suitable': 23900, 'gotta': 10408, 'yr': 27819, 'dentist': 6341, 'chick': 4097, 'responds': 20564, 'mail': 14828, 'cross': 5611, 'finger': 9139, 'static': 23399, 'affirmative': 433, 'fever': 9028, 'breaking': 2949, 'sweating': 24151, 'texas': 24691, 'urged': 26254, 'food': 9428, 'hot': 11706, 'belly': 2223, 'salad': 21225, 'breathing': 2958, 'choke': 4174, 'sayin': 21402, 'blowing': 2613, 'nose': 16756, 'turning': 25646, 'ac': 130, 'weather': 27001, 'tramp': 25307, 'shop': 22111, 'wardrobe': 26864, 'gray': 10541, 'dominate': 7110, 'closet': 4477, 'sprinked': 23208, 'shirt': 22067, 'occasional': 16969, 'tropical': 25516, 'splendor': 23140, 'surrounding': 24072, 'pink': 18367, 'yellow': 27735, 'nope': 16731, 'laced': 13785, 'conservative': 5038, 'dazzling': 6016, 'dance': 5900, 'scenario': 21456, 'rockin': 20908, 'remix': 20338, 'oingo': 17072, 'boingo': 2695, 'dead': 6031, 'louder': 14580, 'encouraging': 7947, 'host': 11697, 'dancing': 5906, 'kitchen': 13613, 'geek': 10021, 'freak': 9616, 'goth': 10402, 'wannabe': 26850, 'hyperventilate': 11908, 'travolta': 25401, 'delivered': 6269, 'trumpet': 25554, 'player': 18490, 'stirring': 23543, 'crowd': 5622, 'intrepid': 12762, 'misfit': 15673, 'surly': 24050, 'dissolve': 6956, 'brawl': 2936, 'damnedest': 5888, 'involved': 12835, 'plotting': 18535, 'blow': 2611, 'governement': 10419, 'yard': 27691, 'snot': 22739, 'leave': 14012, 'disaffected': 6764, 'sycophant': 24219, 'baritone': 1953, 'doe': 7069, 'eyed': 8675, 'clarinet': 4356, 'whip': 27167, 'ok': 17076, 'sulk': 23904, 'hop': 11645, 'ate': 1513, 'watermelon': 26940, 'salt': 21250, 'subject': 23786, 'surprised': 24057, 'actual': 265, 'note': 16774, 'item': 12942, 'shoulds': 22148, 'key': 13503, 'carpet': 3630, 'freshly': 9667, 'steam': 23434, 'cleaned': 4392, 'damp': 5893, 'extension': 8629, 'assignment': 1446, 'extended': 8626, 'frantically': 9606, 'remains': 20307, 'belonging': 2226, 'prepare': 18986, 'evie': 8398, 'sturt': 23759, 'transport': 25361, 'hello': 11281, 'kensington': 13477, 'mediocre': 15305, 'understanding': 25934, 'australian': 1639, 'medium': 15312, 'thursday': 24908, 'tv': 25670, 'taping': 24391, 'episode': 8143, 'watching': 26925, 'tape': 24386, 'bah': 1834, 'woo': 27436, 'fiznucking': 9216, 'shiz': 22084, 'espio': 8256, 'remembering': 20324, 'appear': 1119, 'significance': 22287, 'suspect': 24088, 'affected': 423, 'appearance': 1120, 'woke': 27407, 'radio': 19691, 'reminding': 20329, 'sadness': 21187, 'impact': 12122, 'continued': 5142, 'spoke': 23155, 'policeman': 18619, 'concerned': 4886, 'mouring': 16025, 'police': 18618, 'received': 19958, 'relief': 20279, 'recieved': 19976, 'average': 1683, 'figure': 9084, 'disturbed': 6989, 'unbalanced': 25843, 'total': 25199, 'offered': 17034, 'placed': 18443, 'replace': 20418, 'revenge': 20674, 'greater': 10550, 'scope': 21523, 'base': 1991, 'honoring': 11616, 'anger': 917, 'reacting': 19862, 'saddens': 21175, 'caused': 3755, 'guide': 10723, 'knowledge': 13671, 'era': 8176, 'prejudice': 18969, 'grateful': 10524, 'strife': 23670, 'hype': 11902, 'bogus': 2689, 'meter': 15462, 'flashing': 9249, 'gist': 10191, 'commissiont': 4742, 'centralized': 3843, 'yep': 27744, 'unto': 26169, 'quaida': 19540, 'wished': 27355, 'curtail': 5769, 'failure': 8745, 'imagination': 12065, 'expert': 8566, 'imagining': 12069, 'implication': 12156, 'reverse': 20681, 'relation': 20248, 'overall': 17427, 'safety': 21198, 'attentive': 1570, 'increased': 12284, 'actively': 255, 'engaged': 7993, 'dictate': 6617, 'extent': 8632, 'affect': 422, 'attentiveness': 1571, 'pre': 18914, 'centralization': 3841, 'oppressive': 17221, 'regime': 20173, 'overpopulation': 17473, 'disaffection': 6765, 'islamic': 12912, 'puppet': 19455, 'afghanistan': 448, 'turn': 25640, 'corrupt': 5340, 'nepotistic': 16491, 'installed': 12595, 'breeding': 2963, 'arabia': 1197, 'gap': 9936, 'lessen': 14116, 'tuesday': 25599, 'exam': 8433, 'review': 20686, 'filming': 9108, 'theater': 24735, 'highlander': 11397, 'stadium': 23296, 'miscommunication': 15663, 'athletic': 1524, 'liability': 14163, 'waiver': 26809, 'martin': 15071, 'boyer': 2871, 'specifically': 23044, 'playoff': 18499, 'hillcrest': 11426, 'picture': 18295, 'edit': 7612, 'ap': 1067, 'mid': 15523, 'dsl': 7381, 'hooked': 11629, 'hardware': 11041, 'activated': 252, 'majority': 14859, 'van': 26370, 'helsing': 11297, 'grandmother': 10491, 'list': 14336, 'summer': 23921, 'troy': 25532, 'shrek': 22181, 'harry': 11075, 'potter': 18833, 'prisoner': 19109, 'azkaban': 1759, 'chronicle': 4227, 'riddick': 20762, 'robot': 20897, 'bourne': 2847, 'supremacy': 24023, 'king': 13589, 'arthur': 1340, 'village': 26577, 'ffxi': 9036, 'sleep': 22531, 'normally': 16747, 'hmmmm': 11493, 'grape': 10506, 'wrath': 27557, 'upload': 26211, 'post': 18792, 'clip': 4452, 'andrew': 892, 'uploading': 26215, 'linking': 14309, 'markup': 15041, 'borrowed': 2803, 'ahem': 520, 'thinning': 24805, 'graying': 10544, 'farm': 8829, 'iceland': 11946, 'disclaimer': 6804, 'reader': 19869, 'december': 6092, 'goodbye': 10353, 'warm': 26873, 'palindrome': 17622, 'successful': 23846, 'detested': 6516, 'hide': 11386, 'reflects': 20134, 'mirror': 15654, 'staring': 23365, 'reflection': 20131, 'image': 12060, 'fake': 8766, 'grown': 10660, 'cynical': 5822, 'voice': 26677, 'boldly': 2701, 'track': 25261, 'reflected': 20129, 'ugly': 25765, 'headed': 11151, 'sanity': 21302, 'happiness': 11016, 'lottery': 14575, 'worth': 27519, 'support': 24007, 'inspire': 12585, 'friendship': 9683, 'pauly': 17859, 'dec': 6078, 'spam': 22988, 'regarding': 20167, 'divine': 7015, 'divalicious': 7003, 'web': 27007, 'log': 14459, 'click': 4427, 'clever': 4423, 'ditty': 6997, 'magically': 14801, 'dying': 7499, 'downtowndiva': 7229, 'hotmail': 11715, 'stopped': 23579, 'adbusters': 287, 'stupid': 23752, 'ole': 17096, 'papa': 17667, 'giddy': 10148, 'italy': 12934, 'beautiful': 2113, 'bologna': 2705, 'commercialized': 4736, 'english': 8006, 'speaking': 23030, 'fourteen': 9556, 'understood': 25938, 'experiencing': 8561, 'repetitiveness': 20413, 'culture': 5720, 'europe': 8339, 'richer': 20746, 'shallow': 21943, 'sixteen': 22420, 'incredibly': 12288, 'naive': 16283, 'intend': 12651, 'famous': 8798, 'ramblings': 19752, 'someday': 22858, 'lent': 14101, 'easter': 7547, 'carnevale': 3622, 'venician': 26456, 'mardi': 15009, 'gras': 10516, 'amazing': 777, 'ornate': 17305, 'costume': 5363, 'everybody': 8382, 'mask': 15094, 'partying': 17779, 'wearing': 26996, 'ordinary': 17262, 'piazza': 18271, 'vias': 26525, 'venice': 26455, 'venezia': 26451, 'filled': 9100, 'mix': 15732, 'vibrant': 26527, 'color': 4661, 'laughter': 13923, 'singing': 22366, 'duomo': 7446, 'basilica': 2004, 'florence': 9340, 'firework': 9171, 'italian': 12933, 'lieing': 14203, 'apparently': 1113, 'suppose': 24012, 'hopeless': 11653, 'dreaming': 7289, 'posted': 18798, 'sort': 22930, 'mood': 15909, 'listened': 14339, 'deception': 6098, 'charade': 3958, 'cover': 5431, 'award': 1710, 'awkward': 1729, 'scream': 21561, 'waiting': 26806, 'flow': 9351, 'ignoring': 12014, 'phone': 18223, 'calling': 3439, 'gracious': 10445, 'warrant': 26887, 'bye': 3341, 'dashboard': 5974, 'confessional': 4942, 'sean': 21635, 'talked': 24329, 'couple': 5403, 'asleep': 1408, 'smiling': 22643, 'josh': 13253, 'marshall': 15061, 'mercenary': 15402, 'arrested': 1312, 'conducting': 4934, 'appointed': 1146, 'counterterrorism': 5392, 'included': 12251, 'abusing': 126, 'inmate': 12515, 'jail': 12986, 'unclear': 25867, 'hired': 11454, 'paragraph': 17690, 'unless': 26060, 'revenue': 20675, 'stream': 23639, 'intended': 12652, 'humor': 11826, 'uncomfortable': 25872, 'comparison': 4780, 'choose': 4185, 'link': 14306, 'abcnews': 41, 'page': 17581, 'appears': 1123, 'cia': 4251, 'agent': 483, 'sir': 22393, 'umm': 25808, 'bandmates': 1892, 'rehersal': 20210, 'sucked': 23859, 'usual': 26299, 'woah': 27402, 'tomarrow': 25105, 'football': 9443, 'um': 25798, 'conneaut': 5002, 'cough': 5373, 'jackass': 12968, 'later': 13897, 'catch': 3707, 'addressing': 304, 'eva': 8348, 'league': 13989, 'miraculously': 15648, 'ex': 8424, 'johnathan': 13207, 'bridge': 2989, 'richmond': 20750, 'architectural': 1219, 'triumph': 25494, 'elegant': 7746, 'satisfying': 21357, 'nickel': 16593, 'lane': 13850, 'intricate': 12766, 'iron': 12868, 'lighted': 14231, 'lamp': 13836, 'quaint': 19543, 'pas': 17780, 'proximity': 19342, 'quitely': 19626, 'powhite': 18867, 'pkwy': 18439, 'difference': 6647, 'enjoy': 8016, 'clearly': 4407, 'built': 3182, 'grandeur': 10485, 'beauty': 2117, 'transportation': 25362, 'grey': 10582, 'stone': 23564, 'slender': 22540, 'arch': 1212, 'flat': 9256, 'everytime': 8387, 'riding': 20776, 'cafe': 3388, 'sipping': 22390, 'tea': 24466, 'south': 22957, 'fabulous': 8696, 'visible': 26633, 'shorter': 22128, 'whisper': 27178, 'distance': 6959, 'powhit': 18866, 'james': 13000, 'river': 20847, 'lined': 14290, 'bank': 1908, 'rocky': 20913, 'gauge': 9991, 'percepitation': 18035, 'bird': 2396, 'perch': 18038, 'barely': 1947, 'tiny': 24997, 'wondered': 27422, 'daredevil': 5938, 'hugenot': 11788, 'cary': 3658, 'extends': 8628, 'posh': 18775, 'westend': 27103, 'rail': 19713, 'mimic': 15595, 'picket': 18283, 'fince': 9127, 'metalic': 15450, 'piping': 18387, 'length': 14092, 'fascinating': 8842, 'quarter': 19561, 'enter': 8063, 'curve': 5775, 'grove': 10653, 'suspended': 24093, 'forest': 9482, 'quickly': 19600, 'fairytale': 8760, 'magical': 14800, 'unnexpected': 26085, 'willey': 27275, 'memorial': 15374, 'description': 6419, 'concrete': 4908, 'lit': 14349, 'lee': 14025, 'connets': 5013, 'downtown': 7228, 'area': 1229, 'referred': 20114, 'project': 19216, 'sad': 21168, 'large': 13866, 'troubled': 25521, 'pedestrian': 17943, 'blank': 2483, 'guarded': 10699, 'chain': 3892, 'fencing': 8981, 'wide': 27230, 'boxed': 2863, 'underneath': 25923, 'rushing': 21126, 'elevate': 7754, 'drab': 7240, 'brief': 2993, 'descript': 6418, 'grand': 10476, 'glass': 10216, 'discovered': 6824, 'walking': 26822, 'suspension': 24096, 'towering': 25239, 'reminds': 20330, 'millineum': 15584, 'georgetown': 10097, 'campus': 3485, 'design': 6437, 'jesus': 13129, 'christ': 4210, 'nervous': 16496, 'awe': 1719, 'framed': 9583, 'photo': 18229, 'wrapped': 27553, 'wrap': 27551, 'pillar': 18339, 'monument': 15905, 'interview': 12739, 'admission': 341, 'smother': 22671, 'ga': 9858, 'evolution': 8407, 'debate': 6061, 'trial': 25446, 'april': 1182, 'atlanta': 1531, 'refused': 20157, 'dismiss': 6889, 'district': 6985, 'posting': 18802, 'textbook': 24695, 'theory': 24760, 'cobb': 4535, 'county': 5398, 'sticker': 23504, 'advancing': 377, 'inhibiting': 12484, 'religion': 20286, 'clarence': 4351, 'cooper': 5246, 'ruled': 21093, 'ordering': 17258, 'suit': 23899, 'excited': 8461, 'michael': 15500, 'manely': 14922, 'represents': 20449, 'sued': 23868, 'august': 1616, 'argues': 1248, 'restricts': 20598, 'promotes': 19240, 'requires': 20479, 'creationism': 5532, 'discriminates': 6838, 'particular': 17768, 'contains': 5113, 'material': 15141, 'approached': 1162, 'studied': 23730, 'carefully': 3599, 'critically': 5587, 'weighed': 27055, 'constitutionality': 5085, 'applying': 1144, 'pronged': 19249, 'handed': 10954, 'supreme': 24024, 'dismissed': 6891, 'board': 2653, 'adopted': 358, 'secular': 21683, 'advance': 375, 'inhibits': 12486, 'excessive': 8456, 'entanglement': 8059, 'signed': 22285, 'wednesday': 27025, 'satisfied': 21353, 'noted': 16776, 'biblical': 2338, 'reference': 20111, 'concurred': 4911, 'specie': 23042, 'evolved': 8411, 'natural': 16364, 'selection': 21740, 'determines': 6511, 'survive': 24079, 'parlez': 17739, 'vouz': 26723, 'coolest': 5238, 'translation': 25351, 'spanish': 22995, 'hotel': 11710, 'writes': 27579, 'language': 13852, 'translate': 25347, 'text': 24692, 'os': 17320, 'posso': 18790, 'tradurre': 25281, 'cose': 5349, 'io': 12841, 'stesso': 23487, 'tradurr': 25280, 'soltanto': 22847, 'una': 25815, 'parola': 17747, 'blocco': 2552, 'testo': 24679, 'intero': 12715, 'persino': 18107, 'controllilo': 5184, 'fuori': 9819, 'nu': 16825, 'kan': 13382, 'ik': 12025, 'dingen': 6716, 'zelf': 27880, 'vertalen': 26499, 'niet': 16605, 'alleen': 666, 'zal': 27860, 'het': 11360, 'een': 7651, 'woord': 27474, 'twee': 25678, 'maar': 14732, 'geheel': 10028, 'blok': 2583, 'tekst': 24537, 'zelfs': 27881, 'controleer': 5178, 'hacia': 10831, 'fuera': 9764, 'phoenix': 18222, 'carytown': 3659, 'chop': 4188, 'suey': 23869, 'visited': 26641, 'nursing': 16866, 'blessed': 2522, 'heh': 11247, 'sweat': 24147, 'needed': 16440, 'stranglehold': 23619, 'loosened': 14532, 'broken': 3053, 'relative': 20251, 'effectiveness': 7664, 'equate': 8161, 'slipped': 22567, 'radar': 19683, 'snowball': 22744, 'entrepreneurial': 8105, 'frankly': 9603, 'plus': 18562, 'gate': 9978, 'isnt': 12919, 'loathe': 14428, 'enuf': 8110, 'easily': 7544, 'ppl': 18872, 'attitude': 1575, 'blessing': 2523, 'curse': 5765, 'hott': 11719, 'hehe': 11248, 'dun': 7432, 'slide': 22549, 'outta': 17412, 'dripping': 7324, 'disrespect': 6933, 'unimportance': 26025, 'thot': 24832, 'manipulating': 14947, 'pedestal': 17942, 'slapping': 22508, 'whoa': 27198, 'venting': 26462, 'mythology': 16252, 'blondish': 2589, 'cursed': 5766, 'ability': 59, 'repeat': 20395, 'wat': 26916, 'brunette': 3096, 'cupid': 5735, 'psyche': 19361, 'convince': 5219, 'wasnt': 26908, 'idk': 11993, 'fix': 9211, 'omg': 17118, 'frikin': 9694, 'scary': 21449, 'suddenly': 23866, 'anywayz': 1061, 'guyz': 10786, 'gurlz': 10768, 'jst': 13277, 'listening': 14342, 'sam': 21264, 'boring': 2792, 'plez': 18530, 'beach': 2075, 'agrees': 509, 'sounding': 22947, 'hmmm': 11492, 'luv': 14706, 'camera': 3467, 'fast': 8851, 'punch': 19439, 'choir': 4173, 'obligation': 16931, 'congregation': 4989, 'try': 25566, 'analogy': 863, 'whore': 27216, 'poetic': 18587, 'tapestry': 24389, 'taker': 24319, 'nude': 16830, 'poem': 18584, 'hymn': 11900, 'drowning': 7351, 'nammalvar': 16300, 'cowherd': 5444, 'fish': 9182, 'wild': 27263, 'encounter': 7941, 'rang': 19771, 'newly': 16549, 'acquired': 237, 'familiarity': 8793, 'rampage': 19757, 'furthermore': 9830, 'obama': 16909, 'abortion': 75, 'akin': 582, 'trader': 25273, 'decide': 6101, 'commitment': 4745, 'oddly': 17010, 'affable': 420, 'morality': 15941, 'shtim': 22198, 'author': 1643, 'talmud': 24343, 'perogative': 18085, 'rebbe': 19930, 'miriam': 15650, 'sarcasm': 21324, 'marry': 15057, 'tip': 25000, 'throw': 24881, 'sight': 22272, 'knee': 13641, 'shake': 21935, 'bile': 2366, 'rise': 20830, 'throat': 24866, 'internet': 12712, 'disconnecting': 6815, 'reconnecting': 20016, 'twice': 25686, 'annoying': 973, 'complicated': 4826, 'awake': 1707, 'crotch': 5618, 'goblin': 10299, 'jessica': 13124, 'simpson': 22343, 'nick': 16591, 'lachey': 13788, 'sooo': 22894, 'obvise': 16965, 'creature': 5537, 'retarded': 20623, 'bear': 2092, 'trap': 25368, 'wham': 27123, 'intelligent': 12650, 'bunch': 3231, 'presade': 18998, 'reed': 20098, 'bedroom': 2147, 'shoot': 22107, 'enters': 8069, 'source': 22953, 'awesomly': 1724, 'elimating': 7770, 'critter': 5595, 'imformation': 12078, 'chinese': 4137, 'reunion': 20658, 'sob': 22766, 'notice': 16784, 'hehehe': 11251, 'huh': 11795, 'portrait': 18759, 'aforementioned': 454, 'essay': 8264, 'bribe': 2983, 'circa': 4285, 'jennifer': 13103, 'cute': 5794, 'cindy': 4275, 'knife': 13649, 'fit': 9199, 'sexy': 21909, 'stiletto': 23517, 'generally': 10046, 'surgical': 24047, 'procedure': 19143, 'shorten': 22126, 'toe': 25068, 'suzanne': 24112, 'levine': 14146, 'avenue': 1682, 'podiatrist': 18580, 'bone': 2727, 'goodness': 10358, 'bumming': 3222, 'wds': 26979, 'argh': 1240, 'cracking': 5462, 'juan': 13280, 'loser': 14558, 'meanderings': 15256, 'vaguely': 26340, 'online': 17141, 'stalker': 23320, 'stalked': 23319, 'planet': 18457, 'dostoevsky': 7182, 'nearly': 16409, 'brilliant': 3014, 'underbelly': 25905, 'exposed': 8609, 'signing': 22293, 'paper': 17672, 'congratulation': 4986, 'sbac': 21406, 'damnit': 5890, 'tobacco': 25053, 'section': 21681, 'bart': 1985, 'lately': 13894, 'revamping': 20664, 'ibook': 11935, 'qn': 19531, 'temporary': 24580, 'solution': 22851, 'permanent': 18074, 'sama': 21265, 'chantele': 3938, 'chik': 4108, 'fliks': 9300, 'agreed': 506, 'horribly': 11679, 'depressing': 6386, 'kissing': 13609, 'ride': 20766, 'trick': 25454, 'pony': 18680, 'wtf': 27599, 'catwoman': 3740, 'selina': 21750, 'kyle': 13765, 'patience': 17829, 'prince': 19090, 'halle': 10910, 'berry': 2283, 'rid': 20759, 'original': 17295, 'imdb': 12074, 'title': 25027, 'react': 19860, 'dragged': 7248, 'nail': 16278, 'hey': 11368, 'whatta': 27131, 'core': 5291, 'bask': 2006, 'cheer': 4030, 'aol': 1065, 'lonely': 14494, 'suttin': 24109, 'sum': 23913, 'witty': 27387, 'corrects': 5321, 'grammer': 10472, 'sugarbebe': 23886, 'smarterchild': 22622, 'drunk': 7370, 'yea': 27708, 'fascinated': 8841, 'katie': 13419, 'buddy': 3150, 'icon': 11953, 'dude': 7401, 'duuuuuuuude': 7477, 'font': 9426, 'info': 12437, 'boob': 2742, 'aye': 1753, 'unstand': 26152, 'master': 15118, 'seaworld': 21662, 'dictionary': 6623, 'encyclopedia': 7952, 'geography': 10091, 'zknds': 27919, 'typing': 25728, 'jdnsfdghsd': 13060, 'awful': 1726, 'typist': 25729, 'keyboard': 13504, 'ymmy': 27773, 'yummy': 27842, 'magicly': 14804, 'tasteysmarterchild': 24427, 'tastey': 24426, 'dunno': 7442, 'aha': 516, 'bingo': 2384, 'quote': 19646, 'ticker': 24924, 'lookup': 14519, 'noo': 16719, 'zip': 27912, 'digit': 6675, 'brat': 2922, 'hiss': 11460, 'uh': 25767, 'scrach': 21545, 'szamlknsdads': 24260, 'adjust': 320, 'aaarrrrggggghhhhh': 15, 'realized': 19894, 'maintenance': 14846, 'error': 8210, 'downloaded': 7214, 'template': 24576, 'tag': 24288, 'grief': 10587, 'evolutionism': 8409, 'propaganda': 19260, 'spread': 23200, 'argued': 1246, 'constantly': 5073, 'evolving': 8413, 'darwin': 5968, 'helpless': 11294, 'treating': 25415, 'disease': 6849, 'conveniently': 5194, 'neglect': 16454, 'darwinistic': 5970, 'equating': 8164, 'animal': 936, 'helped': 11290, 'photograph': 18236, 'nostalgic': 16763, 'collected': 4633, 'brightest': 3007, 'bulb': 3188, 'chandelier': 3922, 'hook': 11627, 'existing': 8520, 'connection': 5007, 'network': 16519, 'deoderant': 6348, 'spice': 23093, 'stick': 23503, 'pool': 18688, 'drink': 7317, 'shooting': 22110, 'poorly': 18704, 'phrase': 18248, 'fo': 9388, 'growth': 10662, 'listeng': 14341, 'mutilating': 16205, 'banter': 1921, 'bluejays': 2623, 'melissa': 15348, 'etheridge': 8310, 'concert': 4888, 'drop': 7341, 'porn': 18735, 'incarnate': 12230, 'chair': 3895, 'dancer': 5904, 'adore': 364, 'matlock': 15156, 'morphine': 15967, 'injection': 12498, 'combine': 4687, 'percocet': 18041, 'birthday': 2408, 'kate': 13413, 'spin': 23111, 'driedel': 7309, 'ring': 20809, 'yelled': 27732, 'upside': 26232, 'bowling': 2860, 'scored': 21528, 'rae': 19699, 'poke': 18607, 'rachel': 19667, 'cringe': 5573, 'hysterically': 11923, 'vvvvvvvvvvvvv': 26740, 'computer': 4859, 'watched': 26921, 'aaaaahhhh': 8, 'heath': 11205, 'ledger': 14024, 'hottie': 11722, 'rolled': 20935, 'cheek': 4029, 'grinning': 10611, 'evily': 8401, 'harrassing': 11066, 'ugh': 25761, 'emailing': 7818, 'complication': 4828, 'aware': 1713, 'employer': 7897, 'crucial': 5628, 'drooling': 7339, 'increase': 12283, 'likelihood': 14250, 'overview': 17508, 'absorb': 106, 'urgency': 26255, 'excitement': 8464, 'motivates': 15998, 'bet': 2294, 'headline': 11155, 'magnetic': 14810, 'accomplishment': 172, 'cliff': 4435, 'hanger': 10986, 'hi': 11373, 'stir': 23540, 'teasing': 24489, 'sale': 21230, 'communicating': 4756, 'dozen': 7236, 'recommend': 20006, 'houston': 11738, 'filter': 9110, 'according': 175, 'filtered': 9111, 'inbox': 12225, 'stole': 23556, 'thief': 24785, 'arrives': 1321, 'exact': 8425, 'statistic': 23405, 'educated': 7627, 'ether': 8307, 'folder': 9406, 'receive': 19957, 'automatically': 1662, 'trigger': 25467, 'resource': 20548, 'detects': 6501, 'lyris': 14727, 'contentchecker': 5127, 'critical': 5586, 'include': 12250, 'attachment': 1550, 'beware': 2316, 'scrambled': 21546, 'format': 9511, 'structure': 23703, 'prevent': 19053, 'msn': 16066, 'account': 179, 'formatted': 9513, 'correctly': 5319, 'checker': 4020, 'resume': 20607, 'david': 5989, 'hiring': 11455, 'manager': 14906, 'distinguish': 6968, 'marketing': 15038, 'llc': 14403, 'including': 12253, 'career': 3595, 'portfolio': 18753, 'forcareersuccess': 9456, 'age': 477, 'flopped': 9337, 'goldfish': 10326, 'ad': 275, 'featureing': 8922, 'swimming': 24187, 'cot': 5364, 'sorta': 22931, 'monitor': 15874, 'fisher': 9188, 'paykel': 17885, 'crunch': 5646, 'piahing': 18269, 'piah': 18268, 'following': 9414, 'packed': 17560, 'dreary': 7296, 'butt': 3314, 'mayer': 15189, 'emily': 7865, 'emerald': 7855, 'performance': 18054, 'strange': 23612, 'ivan': 12953, 'heng': 11317, 'favourite': 8896, 'bibik': 2335, 'melbourne': 15346, 'tix': 25034, 'cheaper': 4011, 'theatre': 24737, 'festival': 9009, 'unfortunately': 25997, 'prob': 19125, 'hunt': 11849, 'nov': 16800, 'jan': 13009, 'hols': 11557, 'customer': 5789, 'rep': 20385, 'sounded': 22945, 'promising': 19236, 'revamp': 20662, 'cv': 5808, 'dynamic': 7504, 'blah': 2473, 'seek': 21709, 'au': 1591, 'application': 1139, 'upnote': 26217, 'charles': 3975, 'imax': 12073, 'ticket': 24925, 'expires': 8575, 'anyways': 1059, 'tata': 24431, 'chuckie': 4234, 'planning': 18463, 'suggests': 23895, 'useful': 26284, 'cooky': 5234, 'christmas': 4220, 'homeless': 11571, 'unemployed': 25968, 'marlin': 15044, 'sport': 23182, 'impaired': 12123, 'fan': 8801, 'ette': 8320, 'youth': 27811, 'littlest': 14369, 'daddy': 5845, 'grow': 10656, 'perfect': 18046, 'prefers': 18962, 'admit': 342, 'satisfaction': 21351, 'event': 8366, 'petty': 18167, 'snicker': 22712, 'nonetheless': 16710, 'grin': 10602, 'contingency': 5137, 'investigator': 12814, 'survey': 24075, 'specific': 23043, 'civilian': 4314, 'defensive': 6191, 'ordered': 17257, 'hussein': 11871, 'conflict': 4963, 'carried': 3635, 'ignored': 12012, 'breakdown': 2945, 'controlling': 5185, 'spec': 23035, 'ops': 17224, 'folk': 9410, 'regular': 20195, 'longer': 14499, 'shift': 22035, 'implementing': 12154, 'schedule': 21465, 'casual': 3693, 'vague': 26339, 'shock': 22090, 'pple': 18873, 'shanghainese': 21957, 'partner': 17776, 'soemthing': 22803, 'lah': 13816, 'firing': 9173, 'nicely': 16583, 'keeping': 13454, 'lil': 14257, 'pinky': 18370, 'depend': 6354, 'filler': 9101, 'training': 25299, 'shifted': 22036, 'bleedin': 2510, 'sake': 21222, 'cancel': 3494, 'scheduled': 21466, 'transfer': 25333, 'maximiser': 15181, 'aside': 1395, 'earn': 7524, 'semester': 21763, 'fly': 9381, 'mon': 15846, 'thurs': 24907, 'stink': 23532, 'arrrghhhhh': 1330, 'gastric': 9974, 'daring': 5941, 'mylanta': 16232, 'medication': 15298, 'majorly': 14860, 'impress': 12181, 'whoop': 27210, 'michalengelo': 15502, 'mutant': 16199, 'ninja': 16641, 'turtle': 25655, 'cowabunga': 5439, 'duuude': 7476, 'dvd': 7482, 'cd': 3785, 'floor': 9330, 'arranged': 1304, 'meaningful': 15261, 'disaster': 6786, 'storage': 23581, 'unit': 26039, 'ikea': 12026, 'essentially': 8269, 'int': 12635, 'screw': 21578, 'sofa': 22804, 'couch': 5369, 'sorted': 22932, 'lazboy': 13963, 'store': 23582, 'option': 17235, 'arrival': 1317, 'girlfriend': 10188, 'drive': 7326, 'nifty': 16607, 'driver': 7329, 'amusing': 848, 'leesburg': 14030, 'outlet': 17384, 'slaving': 22522, 'prefer': 18955, 'whipped': 27169, 'quadriplegic': 19536, 'midget': 15529, 'spangled': 22993, 'banner': 1915, 'casio': 3675, 'tongue': 25126, 'suggestion': 23894, 'gig': 10154, 'boutique': 2850, 'digital': 6676, 'citysearch': 4312, 'fyi': 9856, 'jacques': 12975, 'addressed': 303, 'jimi': 13160, 'editor': 7616, 'priscilla': 19105, 'taboo': 24268, 'soo': 22889, 'brandon': 2916, 'didnt': 6627, 'sumthing': 23927, 'gurl': 10766, 'conspiracy': 5069, 'desperate': 6455, 'personality': 18115, 'fictional': 9057, 'presidency': 19019, 'miserable': 15668, 'raised': 19727, 'unilateral': 26023, 'reckless': 19987, 'approach': 1161, 'raising': 19730, 'kicked': 13531, 'obtaining': 16960, 'adjustable': 321, 'hitler': 11478, 'addition': 298, 'dis': 6759, 'capital': 3547, 'plunging': 18560, 'futher': 9839, 'quagmire': 19538, 'opposite': 17215, 'produce': 19170, 'serf': 21846, 'improve': 12194, 'dickchenyhalliburtonenrontexasoilsaudiarabiaalquaidanoconnection': 6612, 'betweeniraqandalquaedanotcountingtheobviousonesunshouldtellthe': 2312, 'uswhattodob': 26304, 'ctheyhavethemoralhighgroundnevermindtheunoilforfood': 5674, 'scamthatkofiannan': 21423, 'sownsonwasinchargeofandembezzeledmillionsof': 22969, 'dollarsandnowthemedia': 7095, 'snotpayinganyattentiontoitb': 22740, 'citwouldtakeaway': 4310, 'fromobviousnessofbushbeinghitlerreincarnated': 9708, 'tantrum': 24382, 'loud': 14579, 'bawling': 2058, 'controllably': 5181, 'gain': 9880, 'ignore': 12011, 'checked': 4019, 'cnn': 4519, 'cassini': 3682, 'saturn': 21365, 'orbit': 17246, 'stern': 23481, 'moore': 15926, 'fashion': 8846, 'quoted': 19647, 'fired': 9159, 'employed': 7895, 'bloc': 2551, 'classmate': 4375, 'jc': 13057, 'plain': 18452, 'nite': 16654, 'embargo': 7826, 'raving': 19837, 'clubbing': 4496, 'wee': 27026, 'impressing': 12183, 'cancelled': 3498, 'bout': 2848, 'random': 19766, 'spaztic': 23022, 'saekho': 21190, 'evne': 8403, 'dig': 6664, 'reliable': 20275, 'distinguishing': 6970, 'harmony': 11058, 'user': 26287, 'id': 11963, 'em': 7813, 'lyric': 14726, 'uptight': 26238, 'cleaning': 4396, 'bathroom': 2035, 'scrubbed': 21596, 'bathtub': 2036, 'counter': 5389, 'mopped': 15936, 'sticky': 23508, 'forced': 9458, 'filing': 9095, 'grass': 10520, 'neighbor': 16464, 'cat': 3697, 'hit': 11472, 'ball': 1865, 'range': 19772, 'exciting': 8465, 'score': 21527, 'math': 15147, 'iic': 12021, 'chemistry': 4054, 'shocked': 22091, 'slept': 22542, 'mention': 15393, 'sniffling': 22718, 'coughing': 5376, 'percentile': 18034, 'smiley': 22642, 'breakfast': 2947, 'lyn': 14720, 'amanda': 762, 'goooood': 10378, 'flash': 9245, 'tense': 24612, 'matt': 15161, 'video': 26549, 'enjoyable': 8017, 'roxy': 21047, 'manda': 14914, 'suggested': 23892, 'discussing': 6845, 'patch': 17820, 'quick': 19596, 'lunch': 14677, 'taco': 24277, 'bell': 2215, 'parting': 17771, 'seperate': 21823, 'circuit': 4289, 'buying': 3330, 'selling': 21755, 'ended': 7961, 'spotted': 23190, 'disk': 6878, 'target': 24400, 'picked': 18281, 'drove': 7348, 'jason': 13037, 'lucie': 14643, 'cousin': 5427, 'welp': 27089, 'mouse': 16030, 'warning': 26882, 'bread': 2941, 'convicted': 5216, 'criminal': 5570, 'eater': 7555, 'household': 11731, 'standardized': 23335, 'iq': 12853, 'century': 3851, 'virtually': 26624, 'baked': 1852, 'expectancy': 8539, 'mortality': 15975, 'unacceptably': 25819, 'childbirth': 4110, 'typhoid': 25724, 'scarlet': 21446, 'smallpox': 22617, 'influenza': 12435, 'ravaged': 19832, 'violent': 26610, 'substance': 23818, 'dough': 7199, 'researcher': 20496, 'proven': 19325, 'pound': 18840, 'eats': 7559, 'addictive': 295, 'deprived': 6390, 'begged': 2165, 'gateway': 9980, 'butter': 3316, 'jam': 12995, 'peanut': 17919, 'bacon': 1813, 'uncovered': 25893, 'alarming': 595, 'eventually': 8372, 'die': 6629, 'unattended': 25838, 'newborn': 16545, 'temperature': 24571, 'fahrenheit': 8739, 'heat': 11202, 'eaten': 7554, 'mango': 14930, 'cruller': 5639, 'plea': 18504, 'begging': 2167, 'conceived': 4875, 'housewife': 11735, 'columbine': 4673, 'protesting': 19313, 'nra': 16818, 'amendment': 803, 'propagandizing': 19261, 'gang': 9931, 'related': 20245, 'callous': 3441, 'jacked': 12970, 'nah': 16274, 'authority': 1648, 'disseminate': 6948, 'guilt': 10734, 'strip': 23677, 'mentioned': 15394, 'slip': 22564, 'hr': 11754, 'fifth': 9074, 'flavor': 9269, 'dealing': 6041, 'xxx': 27666, 'platform': 18478, 'participate': 17761, 'register': 20180, 'listed': 14337, 'registering': 20182, 'accommodate': 159, 'request': 20472, 'donation': 7127, 'payable': 17878, 'lieu': 14207, 'flower': 9353, 'grandaughter': 10478, 'organizing': 17282, 'team': 24472, 'locally': 14441, 'unluckily': 26070, 'fail': 8740, 'grasp': 10517, 'favorable': 8887, 'biggest': 2352, 'fewest': 9031, 'anonymous': 982, 'wasting': 26915, 'sucker': 23860, 'orthographical': 17315, 'term': 24632, 'occurred': 16988, 'upper': 26219, 'popular': 18716, 'usage': 26271, 'universally': 26045, 'inquiring': 12540, 'listener': 14340, 'hears': 11184, 'carry': 3639, 'observed': 16949, 'distinction': 6965, 'insignificant': 12565, 'irrelevant': 12880, 'grafted': 10460, 'inseparable': 12554, 'postscript': 18810, 'frequent': 9659, 'commonly': 4751, 'method': 15467, 'arguably': 1244, 'republic': 20462, 'designed': 6440, 'cultural': 5718, 'saturation': 21363, 'pointless': 18597, 'attempt': 1559, 'epublican': 8154, 'illustrative': 12052, 'minor': 15633, 'quibble': 19593, 'capitalization': 3551, 'intense': 12657, 'possession': 18786, 'pleasure': 18518, 'frustration': 9738, 'overwhelming': 17512, 'cling': 4445, 'tightly': 24951, 'stepping': 23470, 'agonizing': 502, 'burdensome': 3248, 'difficulty': 6658, 'putting': 19509, 'perspective': 18122, 'defined': 6206, 'limited': 14274, 'passing': 17802, 'circumstance': 4292, 'ralph': 19745, 'marston': 15064, 'hee': 11229, 'sub': 23779, 'dividing': 7014, 'yel': 27729, 'grouchy': 10644, 'excuse': 8478, 'sheesh': 22003, 'pretended': 19034, 'visiting': 26642, 'palm': 17623, 'bar': 1925, 'moved': 16039, 'owned': 17525, 'blackwell': 2467, 'island': 12917, 'marley': 15043, 'smooth': 22664, 'vibe': 26526, 'slouched': 22585, 'purple': 19474, 'cushion': 5781, 'shoe': 22096, 'jazz': 13052, 'convinced': 5220, 'poet': 18586, 'tall': 24337, 'encouraged': 7944, 'followed': 9412, 'february': 8925, 'shining': 22055, 'breeze': 2964, 'cloud': 4486, 'floated': 9320, 'hammock': 10941, 'nestled': 16505, 'pm': 18568, 'glowing': 10270, 'remind': 20326, 'finale': 9117, 'survivor': 24082, 'roommate': 20975, 'wine': 27314, 'beer': 2155, 'noon': 16723, 'rambling': 19751, 'drunken': 7372, 'wishing': 27359, 'tony': 25135, 'flaming': 9233, 'fortunately': 9533, 'luncheon': 14680, 'hangover': 10990, 'oops': 17174, 'lagmonkey': 13811, 'apologize': 1100, 'kept': 13482, 'relatively': 20252, 'low': 14616, 'profile': 19187, 'pic': 18272, 'aaron': 23, 'club': 4495, 'renovation': 20370, 'friznucking': 9700, 'sbc': 21407, 'kay': 13425, 'neve': 16532, 'randomly': 19768, 'layed': 13952, 'justifys': 13346, 'endebted': 7960, 'gaze': 10004, 'lucre': 14650, 'lileks': 14258, 'soory': 22902, 'fox': 9562, 'enthralling': 8076, 'princess': 19091, 'stupider': 23753, 'modeling': 15785, 'dislike': 6881, 'ignorant': 12010, 'dishonesty': 6871, 'moth': 15988, 'hyper': 11904, 'dog': 7072, 'screen': 21567, 'smooch': 22662, 'crown': 5626, 'laughed': 13918, 'troll': 25506, 'giver': 10196, 'liaison': 14166, 'vacay': 26329, 'highlight': 11398, 'salazar': 21229, 'mark': 15031, 'june': 13324, 'cannon': 3521, 'til': 24957, 'officially': 17042, 'logro': 14477, 'entender': 8061, 'porque': 18742, 'pero': 18084, 'encanta': 7919, 'newspaper': 16563, 'staff': 23297, 'rumor': 21102, 'crossed': 5614, 'dread': 7278, 'remaining': 20306, 'opinion': 17204, 'reasoning': 19922, 'infomration': 12438, 'listing': 14345, 'france': 9589, 'germany': 10108, 'lesser': 14119, 'russia': 21131, 'opposition': 17216, 'proposed': 19278, 'exploration': 8596, 'refining': 20127, 'violating': 26607, 'sanction': 21280, 'lucrative': 14649, 'contract': 5155, 'infrastructure': 12448, 'opposed': 17213, 'locate': 14442, 'complaining': 4810, 'iraqi': 12858, 'additionally': 300, 'uk': 25775, 'childish': 4114, 'definitely': 6211, 'timely': 24976, 'qualified': 19547, 'reap': 19907, 'sow': 22967, 'clean': 4391, 'percentage': 18033, 'described': 6415, 'sweltering': 24175, 'farther': 8836, 'par': 17679, 'anomaly': 980, 'frustrating': 9737, 'cody': 4567, 'chad': 3885, 'weak': 26980, 'popcorn': 18707, 'seth': 21878, 'gemperline': 10035, 'hadnt': 10840, 'rain': 19717, 'depending': 6361, 'overcome': 17438, 'referring': 20118, 'behavior': 2182, 'moderate': 15788, 'forum': 9535, 'taste': 24421, 'filling': 9103, 'loop': 14527, 'amused': 846, 'delighful': 6258, 'chaos': 3942, 'pooped': 18695, 'exhausted': 8501, 'wiped': 27336, 'administrative': 331, 'shadow': 21922, 'racked': 19679, 'strenous': 23653, 'physical': 18257, 'convention': 5195, 'attendee': 1566, 'banquet': 1918, 'table': 24265, 'seat': 21652, 'prepping': 18992, 'greeted': 10568, 'registration': 20183, 'packet': 17561, 'stuffed': 23736, 'nightly': 16617, 'delivery': 6273, 'accustomed': 204, 'lime': 14269, 'wink': 27319, 'caffeine': 3392, 'dry': 7378, 'aunt': 1620, 'coast': 4527, 'uploadimages': 26214, 'pict': 18293, 'jpg': 13272, 'travel': 25386, 'banana': 1884, 'hav': 11111, 'somit': 22869, 'angel': 908, 'beautifully': 2114, 'decayed': 6085, 'considering': 5049, 'url': 26264, 'tj': 25035, 'peachy': 17915, 'ur': 26247, 'mayb': 15186, 'crush': 5652, 'practically': 18884, 'wake': 26810, 'tho': 24816, 'coulda': 5378, 'torus': 25193, 'haha': 10853, 'chore': 4196, 'updating': 26198, 'dishwasher': 6874, 'dish': 6866, 'sry': 23276, 'ummmm': 25810, 'alot': 716, 'alwayz': 755, 'fault': 8880, 'altho': 742, 'caller': 3435, 'min': 15597, 'blunt': 2633, 'absolutely': 98, 'hilarious': 11419, 'mutual': 16212, 'mucho': 16087, 'ummm': 25809, 'perfectly': 18051, 'invite': 12823, 'arent': 1232, 'shower': 22163, 'xoxoxoxoxoxoxoxoxoxoxo': 27654, 'kofi': 13683, 'defining': 6208, 'damning': 5889, 'mandate': 14916, 'smuggling': 22680, 'annan': 955, 'genuine': 10080, 'saddam': 21170, 'invade': 12791, 'telephone': 24547, 'hallo': 10914, 'heavily': 11218, 'accented': 138, 'paddy': 17570, 'harp': 11061, 'pub': 19387, 'sligo': 22556, 'ireland': 12859, 'ringing': 20810, 'inform': 12439, 'declaring': 6121, 'calculation': 3419, 'door': 7158, 'seamus': 21634, 'dart': 5962, 'paused': 17861, 'command': 4718, 'begorra': 2174, 'acquire': 236, 'infantry': 12394, 'bulldozer': 3205, 'murphy': 16162, 'tractor': 25268, 'sighed': 22271, 'tank': 24375, 'armored': 1281, 'personnel': 18121, 'carrier': 3636, 'saint': 21216, 'preserve': 19015, 'airborne': 558, 'modified': 15798, 'harrigan': 11069, 'shotgun': 22140, 'cockpit': 4548, 'shamrock': 21953, 'joined': 13218, 'silent': 22302, 'cleared': 4403, 'bomber': 2714, 'laser': 13881, 'missile': 15693, 'joseph': 13251, 'mornin': 15960, 'chat': 3992, 'pint': 18377, 'feed': 8943, 'meat': 15274, 'frozen': 9723, 'ukrops': 25778, 'bocca': 2675, 'burger': 3256, 'chicken': 4099, 'nugget': 16840, 'patty': 17856, 'guessing': 10717, 'hotdog': 11709, 'plenty': 18526, 'protein': 19307, 'cheese': 4039, 'blogging': 2573, 'married': 15052, 'combination': 4686, 'colombian': 4652, 'maiden': 14827, 'irish': 12864, 'creative': 5533, 'slightly': 22555, 'moniker': 15871, 'darling': 5954, 'holly': 11554, 'golightly': 10335, 'license': 14190, 'asks': 1407, 'dammit': 5885, 'fighting': 9079, 'darker': 5946, 'grocery': 10625, 'egg': 7680, 'cart': 3643, 'blonde': 2587, 'curly': 5755, 'smiled': 22641, 'mama': 14898, 'mxpx': 16225, 'ipod': 12850, 'spiffy': 23102, 'relent': 20269, 'convenience': 5192, 'slowly': 22593, 'creeping': 5548, 'slacker': 22491, 'quiz': 19635, 'youre': 27806, 'christina': 4218, 'aguilera': 513, 'follower': 9413, 'unique': 26037, 'touch': 25211, 'latest': 13900, 'trend': 25435, 'afraid': 455, 'blurred': 2637, 'midst': 15538, 'youve': 27815, 'jonah': 13234, 'eek': 7649, 'medusa': 15313, 'skinny': 22460, 'waaaay': 26751, 'jose': 13250, 'identify': 11978, 'jaded': 12978, 'dazey': 6012, 'hehehehe': 11252, 'hid': 11380, 'bewilderment': 2319, 'secrete': 21677, 'sorrow': 22926, 'fully': 9775, 'ol': 17086, 'traveler': 25388, 'icongrill': 11954, 'promotion': 19242, 'winner': 27322, 'htm': 11762, 'husband': 11868, 'stable': 23291, 'wholeheartedly': 27202, 'paternal': 17822, 'balance': 1859, 'properly': 19267, 'evicted': 8392, 'necessity': 16429, 'enforcement': 7988, 'legal': 14040, 'arrest': 1311, 'shitty': 22078, 'stood': 23569, 'firm': 9175, 'knowing': 13669, 'esp': 8248, 'sunny': 23956, 'shouldnt': 22147, 'allowed': 698, 'eeeeevvverrrrrrrryyyyyyy': 7641, 'boooooooooooodddddddddddyyyyy': 2769, 'eeeeeeeelllllllllllsssssseeeeee': 7640, 'wwwwaaaaasssssss': 27619, 'dddddoooooiiiiiiiinnnnnnggggg': 6027, 'iiiittt': 12024, 'horrid': 11680, 'bor': 2783, 'dom': 7100, 'plate': 18476, 'ivory': 12957, 'leaf': 13986, 'eleanor': 7726, 'aquitaine': 1194, 'kidding': 13538, 'pad': 17563, 'academy': 134, 'prep': 18984, 'twister': 25697, 'count': 5385, 'mat': 15128, 'smell': 22635, 'coconut': 4555, 'verbena': 26476, 'yukky': 27832, 'sunrise': 23957, 'groan': 10621, 'ungodly': 26006, 'inherited': 12483, 'ophobia': 17200, 'homecoming': 11566, 'dress': 7300, 'depends': 6362, 'answering': 995, 'machine': 14749, 'saloriana': 21249, 'calvin': 3451, 'chocolate': 4170, 'vanilla': 26375, 'swirl': 24196, 'fastno': 8860, 'teddy': 24509, 'storm': 23585, 'spade': 22983, 'mommy': 15845, 'schilling': 21473, 'michel': 15504, 'angelo': 915, 'mysoginistic': 16239, 'sp': 22974, 'scorpio': 21533, 'november': 16805, 'broccoli': 3047, 'ranch': 19761, 'dressing': 7303, 'dip': 6734, 'photographer': 18238, 'residence': 20516, 'geographic': 10088, 'colored': 4663, 'daisy': 5864, 'delirious': 6265, 'refilled': 20123, 'tammy': 24354, 'queen': 19574, 'speedy': 23069, 'stash': 23390, 'glue': 10273, 'volleyball': 26688, 'docter': 7054, 'messed': 15437, 'marching': 15003, 'jelly': 13095, 'sandwich': 21294, 'sugarcult': 23888, 'sold': 22824, 'nighttime': 16621, 'letterman': 14132, 'mustard': 16194, 'ketchup': 13494, 'relish': 20290, 'hamburger': 10934, 'canyon': 3536, 'flying': 9384, 'saver': 21383, 'coke': 4605, 'pepsi': 18025, 'appliance': 1137, 'toaster': 25051, 'trailerpark': 25294, 'ashley': 1388, 'whirlwind': 27172, 'wourld': 27539, 'object': 16921, 'england': 8003, 'cairo': 3403, 'tibet': 24918, 'swear': 24144, 'parked': 17733, 'pizza': 18435, 'gross': 10637, 'ing': 12460, 'alchol': 608, 'drum': 7364, 'pile': 18333, 'miz': 15736, 'scahlett': 21412, 'nothin': 16780, 'birthin': 2409, 'period': 18063, 'precal': 18920, 'pap': 17666, 'physic': 18256, 'varsity': 26398, 'necessary': 16427, 'trainer': 25298, 'rearranged': 19916, 'baak': 1766, 'challenged': 3906, 'interweaving': 12744, 'forgetfulness': 9490, 'meaningless': 15263, 'existence': 8517, 'mattered': 15166, 'encountered': 7942, 'continually': 5139, 'renew': 20363, 'lennon': 14097, 'surely': 24035, 'hellenic': 11275, 'polytheism': 18661, 'concern': 4885, 'variation': 26389, 'overspecialized': 17491, 'represent': 20445, 'present': 19007, 'community': 4762, 'includes': 12252, 'hellenion': 11276, 'reconstructionist': 20024, 'wiccan': 27226, 'devoted': 6559, 'deity': 6235, 'reconstructionism': 20023, 'traditionalist': 25278, 'divisive': 7018, 'driving': 7331, 'wedge': 27023, 'necessarily': 16426, 'healthy': 11176, 'helpful': 11291, 'antagonistic': 998, 'witnessing': 27382, 'campbell': 3478, 'criticism': 5588, 'worthless': 27521, 'objectively': 16925, 'reflecting': 20130, 'subjective': 23789, 'impression': 12184, 'objectified': 16922, 'offended': 17027, 'sponde': 23161, 'various': 26395, 'camp': 3474, 'publishing': 19400, 'definite': 6210, 'poured': 18844, 'agree': 505, 'sheep': 21999, 'innocently': 12529, 'journal': 13257, 'remembered': 20323, 'logging': 14465, 'courtesy': 5418, 'quirky': 19622, 'outlook': 17388, 'unfinished': 25987, 'traced': 25259, 'lame': 13831, 'ton': 25123, 'calorie': 3450, 'burned': 3267, 'seven': 21888, 'teen': 24522, 'nagging': 16272, 'chaise': 3898, 'lounge': 14591, 'shuffler': 22208, 'pillowmint': 18344, 'collaboration': 4622, 'vishal': 26631, 'parpia': 17749, 'rom': 20946, 'ebrahim': 7571, 'covering': 5435, 'incorrect': 12281, 'ef': 7658, 'dialo': 6590, 'expansion': 8534, 'bombing': 2715, 'sovereign': 22965, 'emptively': 7905, 'linky': 14310, 'apple': 1135, 'practicing': 18888, 'wedding': 27021, 'thankee': 24719, 'nuttin': 16879, 'fort': 9524, 'robbed': 20883, 'hojo': 11528, 'vision': 26637, 'sumthin': 23926, 'makeup': 14866, 'absence': 92, 'amazon': 779, 'handy': 10982, 'dink': 6719, 'overhill': 17456, 'dale': 5872, 'roozies': 20981, 'reasonable': 19920, 'tinyurl': 24998, 'browser': 3082, 'toolbar': 25141, 'snap': 22694, 'hmm': 11491, 'jen': 13097, 'button': 3325, 'creating': 5530, 'greatly': 10552, 'repeated': 20397, 'berating': 2270, 'fiddle': 9060, 'faddle': 8729, 'floooo': 9329, 'oklahoma': 17084, 'worthy': 27524, 'disturbs': 6991, 'notion': 16791, 'egotistical': 7687, 'ultimately': 25787, 'tragic': 25288, 'invention': 12803, 'misname': 15684, 'founding': 9552, 'puritan': 19471, 'evident': 8396, 'unify': 26021, 'space': 22976, 'colonization': 4658, 'available': 1674, 'evolutionary': 8408, 'theme': 24749, 'persistent': 18111, 'mindful': 15602, 'empire': 7892, 'pervasive': 18139, 'solve': 22852, 'coherent': 4590, 'poetry': 18588, 'highest': 11396, 'verbal': 26473, 'rhetoric': 20722, 'occur': 16983, 'sphere': 23090, 'pattern': 17853, 'matching': 15137, 'foolish': 9437, 'refrigerator': 20150, 'microwave': 15520, 'handle': 10966, 'premature': 18971, 'incomplete': 12264, 'advertisement': 390, 'artistic': 1355, 'achievement': 214, 'cinnamon': 4281, 'toast': 25049, 'threatening': 24851, 'gender': 10039, 'marriage': 15051, 'expending': 8552, 'outlaw': 17382, 'annoyed': 972, 'buffyverse': 3165, 'slayage': 22524, 'dearer': 6047, 'breathe': 2956, 'studying': 23733, 'latin': 13903, 'ego': 7684, 'volo': 26690, 'benem': 2250, 'fortunam': 9531, 'stats': 23408, 'quipping': 19619, 'instalanche': 12592, 'neal': 16401, 'boortz': 2771, 'traffic': 25282, 'glenn': 10233, 'foray': 9453, 'yellowstone': 27737, 'albeit': 600, 'faerieland': 8735, 'eluded': 7805, 'symbolic': 24226, 'arrogance': 1323, 'vanity': 26380, 'romanticism': 20951, 'semi': 21764, 'mythical': 16250, 'cent': 3834, 'applied': 1140, 'wachovia': 26756, 'hoo': 11621, 'salut': 21256, 'toutes': 25232, 'martini': 15074, 'extravaganza': 8655, 'kim': 13566, 'negatively': 16452, 'portrayed': 18762, 'phenomenal': 18192, 'viewed': 26565, 'male': 14877, 'mag': 14791, 'oak': 16902, 'laurier': 13936, 'cumberland': 5722, 'anne': 957, 'sophie': 22910, 'popping': 18714, 'pedagogy': 17935, 'inch': 12240, 'clit': 4458, 'envisioned': 8121, 'devise': 6552, 'prepared': 18987, 'diagram': 6587, 'headache': 11150, 'coffee': 4574, 'quietly': 19609, 'stimulate': 23524, 'ibuprofen': 11937, 'praying': 18911, 'grabbed': 10435, 'spare': 22998, 'remote': 20345, 'clicker': 4429, 'unused': 26175, 'battery': 2043, 'keychain': 13505, 'danglers': 5917, 'umbrella': 25804, 'opened': 17184, 'stepped': 23469, 'manually': 14977, 'unlock': 26067, 'rear': 19912, 'hopped': 11658, 'passenger': 17798, 'ignition': 12007, 'piddily': 18300, 'altenater': 732, 'noise': 16688, 'classroom': 4376, 'clear': 4401, 'notoriously': 16793, 'confuse': 4973, 'dealership': 6040, 'expensively': 8555, 'safely': 21196, 'anytrhing': 1057, 'commence': 4727, 'bitch': 2422, 'commute': 4763, 'blahhhh': 2474, 'wheeler': 27143, 'bottomed': 2828, 'snapped': 22696, 'popoid': 18711, 'popoids': 18712, 'weebles': 27028, 'tushie': 25658, 'tyson': 25737, 'jender': 13098, 'thai': 24713, 'trafficky': 25286, 'accident': 152, 'completed': 4816, 'beltway': 2231, 'arghh': 1242, 'jean': 13064, 'mannequin': 14955, 'rowdy': 21042, 'drinking': 7321, 'geoff': 10085, 'invited': 12824, 'messing': 15439, 'genius': 10067, 'strolled': 23690, 'chatted': 3995, 'snapfish': 22695, 'album': 606, 'donate': 7124, 'tally': 24342, 'growing': 10658, 'miami': 15494, 'stroll': 23689, 'farmer': 8830, 'fresh': 9664, 'fruit': 9727, 'tasted': 24423, 'antique': 1027, 'starbucks': 23353, 'shortage': 22124, 'museum': 16171, 'provoking': 19339, 'exhibit': 8505, 'shirin': 22064, 'neshat': 16498, 'iran': 12856, 'dickens': 6613, 'shakespeare': 21939, 'nap': 16310, 'segment': 21720, 'ht': 11760, 'tp': 25251, 'defenselink': 6190, 'mil': 15558, 'faq': 8820, 'munday': 16145, 'lengthy': 14094, 'deterred': 6513, 'expound': 8612, 'drudgery': 7355, 'parenthood': 17725, 'prevented': 19054, 'excursion': 8477, 'madame': 14767, 'entertaining': 8073, 'envying': 8124, 'feminine': 8972, 'heel': 11238, 'peeing': 17955, 'stall': 23322, 'twist': 25695, 'twisted': 25696, 'potty': 18835, 'mcbeal': 15209, 'discrepancy': 6831, 'insistence': 12570, 'initially': 12492, 'television': 24554, 'fictionalizing': 9058, 'obvious': 16963, 'badly': 1819, 'reveals': 20668, 'assumption': 1466, 'mindedness': 15601, 'factual': 8726, 'preferred': 18960, 'aide': 540, 'confusing': 4976, 'unnecessary': 26082, 'sea': 21622, 'timestamps': 24979, 'outrage': 17397, 'smoking': 22660, 'slow': 22589, 'chineese': 4136, 'dan': 5898, 'pat': 17819, 'jeanette': 13065, 'comming': 4738, 'plead': 18505, 'alright': 726, 'da': 5834, 'sock': 22792, 'forgot': 9500, 'dosent': 7179, 'gma': 10282, 'sn': 22686, 'xsurfpunk': 27658, 'drama': 7259, 'treasury': 25412, 'snow': 22743, 'preparing': 18989, 'timothy': 24985, 'arvo': 1364, 'shifting': 22037, 'darnit': 5958, 'disciplined': 6803, 'tagboard': 24290, 'wisdom': 27347, 'discernment': 6799, 'tackle': 24274, 'pastoral': 17816, 'tackling': 24275, 'ack': 220, 'usatoday': 26275, 'replaceable': 20419, 'vendor': 26447, 'owner': 17526, 'fiesta': 9072, 'lynne': 14724, 'stevens': 23490, 'brovaz': 3077, 'aloud': 717, 'sugababes': 23884, 'peter': 18157, 'pickled': 18287, 'beetroot': 2158, 'ashton': 1391, 'asda': 1375, 'shopping': 22119, 'yorkshire': 27791, 'realise': 19883, 'jess': 13122, 'joking': 13227, 'mountain': 16019, 'olympics': 17110, 'olympic': 17109, 'mainline': 14838, 'ginko': 10179, 'si': 22229, 'dim': 6697, 'trunk': 25556, 'pitch': 18412, 'hinge': 11441, 'unhitch': 26013, 'witch': 27365, 'satisfy': 21355, 'itch': 12938, 'broomstick': 3071, 'thumbing': 24894, 'hitch': 11473, 'tailed': 24303, 'hurricane': 11858, 'dimly': 6706, 'recall': 19950, 'reversed': 20682, 'ferris': 9000, 'vantage': 26383, 'remained': 20304, 'cane': 3511, 'swallowed': 24120, 'margerie': 15012, 'bumbed': 3216, 'blown': 2614, 'steph': 23463, 'catholic': 3730, 'balcony': 1862, 'pulling': 19422, 'suicide': 23898, 'caption': 3565, 'holdin': 11534, 'jumped': 13314, 'grab': 10434, 'cought': 5377, 'saftey': 21201, 'booted': 2774, 'edge': 7602, 'saved': 21382, 'apathy': 1078, 'ice': 11940, 'attendant': 1564, 'scoop': 21517, 'amber': 783, 'proceed': 19144, 'successfully': 23847, 'complained': 4809, 'wackyness': 26764, 'ensued': 8050, 'chased': 3990, 'tch': 24459, 'switching': 24206, 'sickenly': 22243, 'spectacle': 23051, 'hetero': 11361, 'vh': 26519, 'kickin': 13533, 'gear': 10017, 'experimental': 8563, 'pant': 17658, 'pleasing': 18515, 'regaurdless': 20170, 'selfish': 21745, 'waiter': 26804, 'upscale': 26229, 'ho': 11502, 'golddigger': 10323, 'def': 6172, 'licking': 14197, 'eyelid': 8679, 'lick': 14195, 'pillow': 18342, 'repertoire': 20409, 'likin': 14253, 'bolted': 2709, 'unconsciousness': 25884, 'lesbian': 14113, 'hectic': 11226, 'accurate': 195, 'booked': 2757, 'deposition': 6377, 'expected': 8542, 'associate': 1457, 'sincerely': 22351, 'clerk': 4421, 'returned': 20653, 'fend': 8982, 'improved': 12195, 'fed': 8932, 'bathed': 2032, 'guitar': 10742, 'grows': 10661, 'yankee': 27686, 'doodle': 7149, 'skynard': 22482, 'riff': 20779, 'undecided': 25900, 'designer': 6441, 'girly': 10189, 'tiara': 24917, 'catalog': 3701, 'appropriate': 1167, 'female': 8971, 'prohibit': 19211, 'definition': 6212, 'hmmph': 11498, 'cook': 5225, 'throwing': 24883, 'heating': 11209, 'routine': 21034, 'cooking': 5231, 'stove': 23595, 'recipe': 19979, 'baking': 1856, 'mixture': 15735, 'concoct': 4901, 'runnier': 21117, 'teacake': 24467, 'cookie': 5229, 'substinence': 23820, 'cake': 3407, 'placing': 18446, 'unattractive': 25839, 'luck': 14644, 'hobby': 11513, 'partly': 17775, 'flatly': 9257, 'habit': 10821, 'groove': 10635, 'armada': 1271, 'michelle': 15506, 'circumstancial': 4293, 'shaggy': 21933, 'craig': 5468, 'tropfest': 25514, 'domain': 7101, 'film': 9104, 'picnic': 18291, 'miscellaneous': 15660, 'lounging': 14592, 'fetish': 9022, 'dessert': 6472, 'peach': 17914, 'pie': 18304, 'hrmm': 11755, 'jls': 13176, 'voicemail': 26679, 'cozy': 5449, 'featured': 8921, 'knit': 13651, 'pointed': 18594, 'knitting': 13655, 'needle': 16444, 'cast': 3683, 'stitch': 23544, 'row': 21039, 'rib': 20734, 'scrap': 21548, 'novelty': 16804, 'yarn': 27694, 'halfway': 10906, 'tog': 25073, 'sixth': 22421, 'eyelash': 8678, 'decrease': 6140, 'hoodie': 11624, 'umbilical': 25802, 'cord': 5281, 'hat': 11093, 'cuties': 5799, 'viv': 26657, 'lily': 14262, 'cotton': 5368, 'joann': 13184, 'clearing': 4406, 'ribby': 20736, 'pissing': 18404, 'revelant': 20670, 'avenged': 1680, 'docment': 7053, 'development': 6539, 'management': 14905, 'develops': 6541, 'consulting': 5095, 'gained': 9881, 'tacit': 24271, 'explicit': 8585, 'golf': 10331, 'calendar': 3424, 'ecstatic': 7593, 'backyard': 1812, 'backswing': 1808, 'swing': 24191, 'bucket': 3134, 'goal': 10292, 'reborn': 19940, 'tryout': 25570, 'optimism': 17230, 'permeating': 18077, 'hunchback': 11836, 'nauseous': 16372, 'throbbing': 24870, 'indian': 12316, 'nasty': 16346, 'blaming': 2480, 'lostprophets': 14566, 'yellowcard': 27736, 'obsessed': 16951, 'tarzan': 24415, 'quizilla': 19636, 'heck': 11224, 'thanksgiving': 24725, 'numerical': 16854, 'feb': 8924, 'tee': 24513, 'tipped': 25003, 'comeback': 4693, 'fortunate': 9532, 'bogey': 2683, 'wood': 27438, 'putt': 19505, 'werent': 27096, 'secure': 21685, 'manliness': 14951, 'nyc': 16891, 'mainstream': 14840, 'genericized': 10054, 'dl': 7034, 'busy': 3307, 'los': 14554, 'verdaderos': 26478, 'amigo': 820, 'vienen': 26558, 'solitos': 22841, 'aswell': 1504, 'loneliness': 14493, 'flirt': 9314, 'untill': 26166, 'shhh': 22030, 'grievous': 10591, 'consequence': 5034, 'marcus': 15007, 'aurelius': 1626, 'gracias': 10444, 'linis': 14305, 'accoustic': 185, 'naked': 16287, 'kart': 13409, 'weels': 27042, 'eternity': 8304, 'emptiness': 7903, 'trully': 25549, 'lieslieslieslieslieslieslieslieslieslies': 14204, 'stranded': 23611, 'fading': 8733, 'fuc': 9749, 'voy': 26726, 'volar': 26683, 'como': 4765, 'guila': 10730, 'en': 7911, 'su': 23772, 'defecto': 6178, 'caer': 3385, 'vaca': 26325, 'jd': 13059, 'greg': 10573, 'uprooted': 26227, 'shall': 21942, 'secretly': 21679, 'illegal': 12035, 'mini': 15617, 'fridge': 9676, 'inexpensive': 12386, 'supplement': 24002, 'illustration': 12051, 'warned': 26881, 'lay': 13951, 'onslaught': 17145, 'insomnia': 12576, 'fruitless': 9731, 'secondary': 21671, 'gcse': 10014, 'sweaty': 24154, 'cockroft': 4550, 'mccririck': 15219, 'studio': 23731, 'blacked': 2457, 'relaxed': 20259, 'whilst': 27157, 'lasy': 13890, 'giggling': 10160, 'subsided': 23810, 'systematic': 24258, 'relaxation': 20258, 'technique': 24499, 'discipline': 6802, 'enjoyed': 8018, 'mysterious': 16242, 'mischievious': 15662, 'reckon': 19988, 'sooner': 22892, 'bleed': 2509, 'aar': 21, 'toy': 25248, 'emotionally': 7880, 'sidewalk': 22259, 'farthest': 8837, 'prize': 19121, 'whats': 27129, 'absolution': 99, 'belive': 2214, 'wouldnt': 27532, 'heartache': 11188, 'experiance': 8557, 'likley': 14255, 'certian': 3866, 'clue': 4500, 'intentionally': 12667, 'stared': 23361, 'allister': 689, 'planned': 18460, 'remorse': 20343, 'scar': 21432, 'neosporin': 16488, 'plot': 18533, 'hitchiker': 11476, 'entrance': 8096, 'ramp': 19756, 'acquainted': 234, 'circle': 4286, 'columbus': 4675, 'louis': 14586, 'creepy': 5549, 'humorous': 11827, 'spot': 23187, 'exit': 8523, 'highway': 11407, 'consideration': 5046, 'trucker': 25539, 'dispute': 6927, 'thingy': 24795, 'aim': 547, 'bc': 2068, 'towed': 25236, 'jane': 13010, 'eyre': 8684, 'michener': 15507, 'expectation': 8541, 'espn': 8258, 'athlete': 1523, 'musician': 16181, 'audio': 1602, 'pro': 19123, 'wrestler': 27566, 'elmer': 7796, 'fudd': 9758, 'banging': 1902, 'pot': 18817, 'prop': 19259, 'angie': 920, 'lass': 13886, 'aimless': 551, 'fall': 8773, 'practical': 18882, 'laying': 13956, 'cuny': 5731, 'columbia': 4672, 'nyu': 16899, 'subverted': 23835, 'intention': 12665, 'castillion': 3687, 'rescued': 20491, 'collapse': 4624, 'unnamed': 26079, 'ethereal': 8308, 'din': 6711, 'dal': 5869, 'kut': 13752, 'resides': 20519, 'splinter': 23142, 'thulos': 24892, 'terranel': 24644, 'local': 14437, 'multiverse': 16129, 'torn': 25176, 'miniature': 15618, 'occurence': 16986, 'gathering': 9984, 'unknown': 26052, 'millenia': 15579, 'dedicated': 6150, 'renewing': 20367, 'contact': 5106, 'recommened': 20011, 'harper': 11062, 'society': 22788, 'elven': 7807, 'bard': 1940, 'retreat': 20640, 'calleum': 3436, 'heironeous': 11262, 'viewing': 26567, 'painting': 17602, 'frame': 9582, 'burne': 3266, 'leapt': 13997, 'mentor': 15396, 'rashemen': 19808, 'border': 2784, 'portal': 18748, 'unable': 25816, 'castillon': 3688, 'gregory': 10574, 'tilverton': 24965, 'demise': 6296, 'stage': 23301, 'expanded': 8532, 'accomodate': 161, 'rap': 19784, 'resolved': 20537, 'fellowship': 8966, 'larger': 13868, 'spanning': 22997, 'epic': 8138, 'epa': 8131, 'supported': 24008, 'whitehouse': 27187, 'kyoto': 13768, 'treaty': 25417, 'importantly': 12168, 'npr': 16815, 'station': 23401, 'mixed': 15733, 'rescue': 20490, 'bub': 3122, 'prozac': 19343, 'suicidal': 23897, 'tendency': 24593, 'tidbit': 24933, 'eyeing': 8677, 'multitasking': 16127, 'abreast': 82, 'bbc': 2065, 'inane': 12214, 'analytic': 866, 'dribble': 7307, 'drabble': 7241, 'procludes': 19158, 'foxnews': 9564, 'broadcast': 3040, 'copy': 5272, 'grade': 10448, 'audience': 1601, 'ignores': 12013, 'continues': 5143, 'dumbed': 7420, 'subscribe': 23802, 'clock': 4461, 'depth': 6393, 'closer': 4475, 'improves': 12197, 'bug': 3166, 'unlikely': 26062, 'disney': 6893, 'hilary': 11421, 'duff': 7405, 'weary': 26997, 'sings': 22369, 'describes': 6416, 'upbeat': 26190, 'carefree': 3596, 'ups': 26228, 'cried': 5564, 'wipe': 27335, 'bleeding': 2511, 'boulder': 2832, 'shout': 22150, 'shoulder': 22144, 'colder': 4611, 'immovable': 12114, 'clover': 4492, 'washed': 26901, 'camel': 3465, 'protest': 19308, 'visting': 26648, 'op': 17179, 'showing': 22166, 'topple': 25159, 'statue': 23409, 'chirac': 4149, 'schroeder': 21496, 'siding': 22260, 'invasion': 12799, 'fry': 9741, 'invented': 12801, 'belgium': 2204, 'goti': 10405, 'haircut': 10879, 'pose': 18770, 'iii': 12022, 'sith': 22409, 'jedi': 13069, 'anticipated': 1018, 'gigli': 10161, 'tower': 25238, 'refers': 20120, 'gettin': 10123, 'laid': 13820, 'dilated': 6686, 'exclamation': 8469, 'cocktail': 4552, 'clockwise': 4463, 'draw': 7271, 'amos': 833, 'toritoritoritoritori': 25172, 'consumes': 5100, 'amosamosamos': 834, 'searing': 21646, 'intellect': 12644, 'melting': 15364, 'burst': 3279, 'heave': 11211, 'aaaaaaah': 4, 'fade': 8731, 'jonhs': 13240, 'ghetto': 10134, 'lexington': 14157, 'danielle': 5924, 'caitlin': 3404, 'jonhathan': 13239, 'confirms': 4961, 'womyyyyyn': 27419, 'grrrrrl': 10668, 'doc': 7048, 'tripped': 25488, 'barefoot': 1946, 'plug': 18545, 'inconvenience': 12275, 'ravioli': 19838, 'tuna': 25620, 'bottled': 2827, 'powered': 18861, 'experienced': 8560, 'tragedy': 25287, 'helloooo': 11283, 'workin': 27491, 'ny': 16889, 'er': 8175, 'style': 23763, 'superbowl': 23970, 'moveon': 16041, 'org': 17268, 'cbs': 3780, 'feminista': 8976, 'posing': 18777, 'asian': 1394, 'bride': 2987, 'manifesto': 14941, 'debating': 6063, 'subverting': 23836, 'patriarchal': 17836, 'oppression': 17220, 'controversial': 5186, 'nihilistic': 16623, 'bashing': 2000, 'humble': 11810, 'resident': 20518, 'ranting': 19783, 'patrairchal': 17835, 'deconstruct': 6132, 'femininity': 8973, 'albiet': 603, 'confrontational': 4970, 'satirise': 21350, 'boast': 2659, 'teeheehee': 24519, 'gesture': 10118, 'subvert': 23834, 'norm': 16741, 'parody': 17746, 'feminist': 8975, 'yadayada': 27675, 'prosaic': 19284, 'velle': 26441, 'feminsism': 8977, 'diff': 6645, 'climb': 4440, 'uphold': 26206, 'lotus': 14577, 'blossom': 2607, 'wacked': 26761, 'feminism': 8974, 'legitimises': 14065, 'womyn': 27418, 'casually': 3694, 'feminsit': 8978, 'sem': 21757, 'stare': 23360, 'equates': 8163, 'activism': 256, 'bra': 2881, 'burning': 3272, 'butch': 3310, 'stereotype': 23476, 'subversive': 23833, 'equated': 8162, 'techno': 24500, 'bigbadchinesemama': 2349, 'aimed': 549, 'boyfriend': 2875, 'firstly': 9179, 'cathartic': 3726, 'fume': 9779, 'inhaling': 12477, 'jif': 13151, 'secondly': 21672, 'sparkling': 23006, 'estate': 8281, 'inspection': 12580, 'thirdly': 24808, 'deplorable': 6371, 'defence': 6180, 'sept': 21830, 'doggy': 7076, 'gunpowder': 10761, 'treason': 25408, 'jimmy': 13163, 'sundown': 23942, 'progress': 19205, 'tin': 24986, 'sunshine': 23960, 'useasonably': 26282, 'menopause': 15388, 'pocket': 18574, 'ovum': 17515, 'banned': 1914, 'involving': 12838, 'cooler': 5237, 'strolling': 23692, 'noticed': 16787, 'study': 23732, 'tinge': 24990, 'jealousy': 13063, 'busted': 3303, 'cheesy': 4045, 'promised': 19235, 'vocab': 26670, 'bold': 2699, 'jealous': 13062, 'ba': 1761, 'lang': 13851, 'hated': 11098, 'struggled': 23707, 'elementary': 7752, 'majoring': 14858, 'surprise': 24056, 'entered': 8064, 'loathing': 14429, 'assistance': 1451, 'originally': 17296, 'major': 14856, 'psychology': 19375, 'professor': 19185, 'pushed': 19495, 'failing': 8743, 'guidance': 10722, 'struggle': 23706, 'collapsing': 4626, 'therapy': 24764, 'cognition': 4584, 'primarily': 19082, 'trained': 25297, 'chemwipes': 4058, 'rocked': 20903, 'heartbroken': 11192, 'betrayed': 2303, 'winter': 27332, 'flinch': 9303, 'surprisingly': 24060, 'retake': 20616, 'looming': 14521, 'gilamesh': 10163, 'anthropology': 1013, 'analysis': 864, 'craved': 5503, 'crammed': 5473, 'raisin': 19729, 'drown': 7349, 'native': 16360, 'cymbeline': 5820, 'bluest': 2624, 'assigned': 1445, 'gawain': 9996, 'chaucer': 4001, 'excite': 8460, 'colonial': 4654, 'passage': 17795, 'voracious': 26713, 'unfold': 25992, 'silently': 22303, 'speed': 23066, 'skip': 22461, 'faster': 8855, 'map': 14986, 'synopsis': 24246, 'jog': 13199, 'mastered': 15119, 'realizing': 19896, 'skim': 22455, 'crave': 5502, 'cognize': 4587, 'context': 5134, 'ascertain': 1371, 'ameliorate': 799, 'rally': 19743, 'waterfront': 26935, 'crossword': 5617, 'stretched': 23661, 'dumbass': 7418, 'vet': 26509, 'builiding': 3181, 'solicitor': 22834, 'protester': 19312, 'repent': 20403, 'wicked': 27228, 'loudmouth': 14582, 'funniest': 9812, 'trifecta': 25463, 'irony': 12874, 'defends': 6186, 'manly': 14952, 'astute': 1498, 'cheerleader': 4036, 'silence': 22297, 'moron': 15964, 'mumbled': 16133, 'goldmine': 10328, 'verge': 26483, 'checkpoint': 4024, 'marshal': 15060, 'fence': 8980, 'bon': 2717, 'jovi': 13265, 'bus': 3283, 'buzz': 3332, 'squinting': 23258, 'emerge': 7856, 'shook': 22104, 'unlucky': 26071, 'jim': 13158, 'rassman': 19811, 'yearning': 27718, 'edited': 7613, 'muse': 16168, 'scarf': 21441, 'armwamers': 1285, 'silas': 22296, 'cheapy': 4014, 'lion': 14316, 'brand': 2911, 'chenille': 4061, 'deathly': 6054, 'ruining': 21088, 'discover': 6823, 'seattle': 21659, 'facecloths': 8702, 'vivienne': 26664, 'kerchief': 13483, 'booga': 2749, 'felting': 8970, 'noro': 16748, 'kureyon': 13745, 'sweater': 24149, 'chronologically': 4229, 'manage': 14903, 'felted': 8969, 'cascade': 3662, 'dalegarn': 5873, 'wool': 27451, 'sparkly': 23007, 'cone': 4935, 'lys': 14728, 'spring': 23203, 'paton': 17834, 'fresco': 9663, 'loooved': 14526, 'ribbon': 20735, 'shawl': 21988, 'plymouth': 18566, 'eros': 8200, 'preschool': 19001, 'annual': 976, 'auction': 1595, 'olive': 17102, 'success': 23845, 'garment': 9956, 'addiction': 294, 'goof': 10364, 'dorky': 7172, 'pure': 19462, 'closeout': 4474, 'lana': 13838, 'oro': 17306, 'currently': 5761, 'frogging': 9704, 'seamed': 21630, 'brings': 3022, 'plugging': 18547, 'knitty': 13656, 'cleo': 4419, 'helen': 11267, 'cardigan': 3588, 'kristin': 13715, 'sperklund': 23084, 'interweave': 12743, 'subscriber': 23803, 'chart': 3986, 'supervillian': 23993, 'clemency': 4413, 'disenfranchised': 6853, 'dorothy': 7175, 'gaines': 9882, 'wol': 27409, 'choate': 4165, 'hall': 10907, 'stewart': 23496, 'anybody': 1047, 'spending': 23079, 'somebody': 22857, 'crochet': 5600, 'sentencing': 21806, 'wheee': 27137, 'primal': 19081, 'purge': 19466, 'queer': 19576, 'mattel': 15164, 'ken': 13463, 'junk': 13328, 'tent': 24615, 'pair': 17603, 'gym': 10801, 'midge': 15528, 'mocha': 15776, 'skinned': 22459, 'christie': 4217, 'accidentally': 153, 'covered': 5433, 'intimate': 12749, 'ladyshave': 13805, 'majorette': 14857, 'boot': 2773, 'pajama': 17607, 'skipper': 22463, 'nozzle': 16811, 'redi': 20078, 'chin': 4132, 'gurgling': 10765, 'surgically': 24048, 'gag': 9872, 'reflex': 20135, 'rolling': 20943, 'laughing': 13921, 'anna': 953, 'julie': 13307, 'korea': 13696, 'extreme': 8657, 'fad': 8728, 'invaded': 12792, 'occupation': 16977, 'japanese': 13025, 'korean': 13697, 'turmoil': 25639, 'chung': 4242, 'dictator': 6620, 'assassination': 1425, 'ilk': 12032, 'backward': 1810, 'industrialization': 12364, 'japan': 13024, 'stripped': 23680, 'palace': 17613, 'razed': 19847, 'orchestrated': 17252, 'han': 10949, 'miracle': 15646, 'hangang': 10985, 'seoul': 21815, 'terrific': 24650, 'stride': 23669, 'fastforward': 8857, 'wired': 27341, 'finland': 9151, 'craze': 5511, 'pc': 17896, 'bang': 1898, 'gamers': 9923, 'communal': 4753, 'typical': 25726, 'pause': 17860, 'eliminated': 7773, 'pcbang': 17898, 'ramen': 19753, 'nooodles': 16725, 'clientele': 4434, 'casulty': 3696, 'obtuse': 16962, 'unconsciously': 25883, 'resulting': 20606, 'attention': 1569, 'sloppy': 22580, 'gentle': 10074, 'tomato': 25107, 'mph': 16056, 'limit': 14272, 'frustrated': 9735, 'trapped': 25369, 'grrrrr': 10667, 'slowed': 22590, 'crankled': 5484, 'lying': 14717, 'roadside': 20867, 'ambulance': 794, 'ashamed': 1383, 'frenzy': 9657, 'avoided': 1697, 'reminded': 20327, 'occassionally': 16974, 'comatose': 4681, 'allows': 700, 'globe': 10254, 'clovis': 4493, 'portales': 18749, 'kkyc': 13625, 'fm': 9385, 'kica': 13526, 'satellite': 21345, 'dallas': 5878, 'denver': 6344, 'exception': 8450, 'hometown': 11587, 'typed': 25722, 'proverbial': 19326, 'recorded': 20029, 'recording': 20030, 'biz': 2438, 'compelled': 4790, 'blast': 2490, 'necessitates': 16428, 'attacking': 1554, 'arguing': 1249, 'vitriolic': 26656, 'neutral': 16528, 'observer': 16950, 'hating': 11100, 'clinton': 4451, 'hater': 11099, 'bombshell': 2716, 'drudge': 7353, 'infidelity': 12410, 'investigation': 12812, 'ang': 906, 'hallelujah': 10911, 'disagreement': 6767, 'added': 290, 'fourty': 9558, 'audiovent': 1605, 'postal': 18794, 'saens': 21191, 'danse': 5928, 'macabre': 14737, 'britney': 3033, 'spear': 23032, 'evanescence': 8357, 'fastball': 8852, 'avril': 1700, 'lavigne': 13939, 'jet': 13130, 'fountain': 9554, 'wayne': 26963, 'mexican': 15483, 'fi': 9038, 'diversion': 7009, 'beatles': 2107, 'yeahs': 27712, 'incubus': 12294, 'stellar': 23454, 'prophet': 19271, 'radiohead': 19695, 'linkin': 14308, 'jewel': 13135, 'pearl': 17922, 'ricky': 20755, 'votolato': 26720, 'chorus': 4198, 'everclear': 8374, 'acid': 219, 'konstantine': 13687, 'crowes': 5625, 'anthem': 1008, 'matchbox': 15135, 'glycerine': 10279, 'rowboat': 21041, 'christopher': 4222, 'allbritton': 665, 'reporter': 20440, 'collecting': 4634, 'kurdistan': 13744, 'gulf': 10746, 'redux': 20096, 'panasonic': 17640, 'iridium': 12862, 'investor': 12817, 'donated': 7125, 'endeavour': 7959, 'directed': 6745, 'oblige': 16933, 'hemmed': 11306, 'beholden': 2193, 'advertiser': 391, 'unduly': 25960, 'influenced': 12431, 'handcuffed': 10953, 'embedding': 7838, 'process': 19148, 'reporting': 20441, 'journalism': 13259, 'urge': 26253, 'istanbul': 12930, 'paine': 17588, 'driveway': 7330, 'freed': 9631, 'puppy': 19456, 'pen': 17979, 'attacked': 1552, 'locked': 14447, 'kitten': 13617, 'waging': 26780, 'fierce': 9069, 'infringement': 12450, 'seemingly': 21712, 'oblivious': 16938, 'sharing': 21972, 'blame': 2478, 'launch': 13924, 'peerguardian': 17963, 'downloads': 7216, 'riaa': 20733, 'informant': 12441, 'connecting': 5006, 'ip': 12847, 'swappers': 24129, 'mow': 16047, 'lawn': 13946, 'scandinavian': 21428, 'tiesto': 24942, 'funeral': 9800, 'stanza': 23349, 'chill': 4122, 'burial': 3259, 'ceremony': 3859, 'bagpipe': 1832, 'instrument': 12620, 'eerily': 7656, 'european': 8340, 'reflective': 20132, 'motivating': 15999, 'chaim': 3891, 'potok': 18829, 'fiction': 9056, 'hardcore': 11034, 'philosophy': 18212, 'separate': 21817, 'engrossing': 8007, 'considers': 5050, 'themself': 24751, 'introspective': 12781, 'conjunction': 4996, 'morbid': 15946, 'snl': 22728, 'iris': 12863, 'blooming': 2603, 'sheet': 22004, 'buried': 3260, 'rose': 20988, 'carve': 3654, 'altar': 729, 'offering': 17035, 'ooo': 17162, 'la': 13771, 'chef': 4046, 'herald': 11324, 'correct': 5314, 'union': 26036, 'steriod': 23480, 'soundly': 22948, 'occupy': 16981, 'fag': 8738, 'sickening': 22242, 'diane': 6594, 'sawyer': 21397, 'laura': 13931, 'vacant': 26326, 'scared': 21439, 'published': 19397, 'intriguing': 12770, 'searching': 21644, 'grandpa': 10492, 'distract': 6975, 'juana': 13281, 'shrug': 22195, 'destroy': 6478, 'symmetry': 24232, 'vp': 26730, 'centrist': 3850, 'repubs': 20466, 'unhappy': 26009, 'deaux': 6057, 'lash': 13883, 'disappear': 6771, 'yell': 27731, 'beating': 2106, 'heartburn': 11193, 'vessel': 26505, 'pump': 19433, 'mar': 14991, 'oz': 17543, 'brigadoon': 2999, 'narnia': 16325, 'voted': 26717, 'chronological': 4228, 'fletcher': 9288, 'revelation': 20671, 'klc': 13627, 'resort': 20545, 'antigua': 1023, 'hawksbill': 11130, 'yelahneb': 27730, 'hiking': 11418, 'finailly': 9115, 'wifi': 27249, 'laptop': 13864, 'smc': 22633, 'wbr': 26976, 'mbps': 15204, 'router': 21033, 'wireless': 27342, 'access': 147, 'pcmcia': 17901, 'impressed': 12182, 'divx': 7027, 'desktop': 6450, 'mike': 15553, 'portnoy': 18758, 'inducted': 12356, 'drummer': 7366, 'fame': 8789, 'dreamtheater': 7292, 'receiving': 19960, 'poll': 18642, 'progressive': 19209, 'catagory': 3699, 'announced': 966, 'induction': 12357, 'elite': 7779, 'drumming': 7367, 'legend': 14051, 'gene': 10040, 'krupa': 13724, 'bonham': 2731, 'keith': 13457, 'neil': 16469, 'peart': 17923, 'steve': 23488, 'gadd': 9868, 'louie': 14585, 'bellson': 2222, 'williams': 27279, 'billy': 2375, 'cobham': 4537, 'morello': 15950, 'carl': 3612, 'palmer': 17625, 'bruford': 3088, 'blakey': 2477, 'roach': 20862, 'jeff': 13084, 'porcaro': 18726, 'larrie': 13871, 'londin': 14490, 'elvin': 7808, 'jones': 13237, 'vinnie': 26595, 'colaiuta': 4608, 'terry': 24663, 'bozzio': 2879, 'ringo': 20812, 'starr': 23368, 'roy': 21048, 'haynes': 11136, 'weckl': 27019, 'chamber': 3909, 'smith': 22649, 'simon': 22329, 'phillips': 18205, 'youngest': 27804, 'prestigious': 19030, 'becuz': 2137, 'dt': 7383, 'yo': 27774, 'homeslices': 11584, 'hari': 11045, 'kari': 13403, 'raped': 19787, 'allotted': 694, 'gerbilman': 10104, 'rant': 19781, 'motherhood': 15991, 'bunny': 3243, 'closed': 4471, 'suburb': 23829, 'puked': 19417, 'mega': 15326, 'juxtaposed': 13351, 'restocking': 20583, 'fee': 8940, 'depot': 6378, 'kroger': 13718, 'ham': 10930, 'mcdonald': 15226, 'wal': 26813, 'mart': 15065, 'heathen': 11206, 'redneck': 20082, 'parking': 17735, 'walton': 26836, 'grave': 10532, 'nordstrom': 16738, 'observe': 16948, 'barring': 1977, 'purchase': 19457, 'judging': 13288, 'corporation': 5310, 'mint': 15636, 'almighty': 711, 'christian': 4215, 'juice': 13300, 'joint': 13220, 'fam': 8788, 'blasphemous': 2489, 'wiser': 27352, 'pious': 18381, 'banished': 1906, 'fishing': 9190, 'pole': 18616, 'rtg': 21061, 'shadowy': 21926, 'sh': 21916, 'aal': 17, 'eliminate': 7772, 'crimelord': 5567, 'raid': 19710, 'grieson': 10589, 'protected': 19301, 'succeeded': 23842, 'deliver': 6268, 'altered': 735, 'shadowdale': 21923, 'eve': 8362, 'rumored': 21103, 'arriving': 1322, 'departed': 6350, 'joining': 13219, 'rank': 19777, 'achieve': 212, 'healing': 11169, 'ultimate': 25786, 'restoration': 20585, 'faerun': 8736, 'zmx': 27923, 'jragon': 13274, 'chase': 3989, 'prevous': 19061, 'nate': 16352, 'jaguar': 12983, 'darting': 5965, 'passed': 17797, 'appeared': 1121, 'brick': 2984, 'smashed': 22629, 'jag': 12980, 'slammed': 22496, 'brake': 2908, 'nearest': 16407, 'shouting': 22152, 'threw': 24856, 'apologetic': 1095, 'mister': 15711, 'pleaded': 18506, 'curb': 5739, 'wheelchair': 27142, 'sobbing': 22768, 'stunned': 23749, 'heavy': 11220, 'swallow': 24119, 'swelling': 24174, 'lump': 14670, 'hurriedly': 11861, 'handicapped': 10962, 'linen': 14291, 'handkerchief': 10965, 'dabbed': 5839, 'scrape': 21550, 'chid': 4104, 'bound': 2839, 'damage': 5880, 'noticeable': 16785, 'bothered': 2822, 'repair': 20388, 'dented': 6340, 'dent': 6338, 'articulate': 1344, 'presented': 19009, 'ck': 4320, 'imperialist': 12142, 'bully': 3212, 'nosed': 16757, 'stomping': 23563, 'whining': 27165, 'audacious': 1596, 'wounded': 27536, 'screaming': 21564, 'bratty': 2926, 'embarrassment': 7832, 'arm': 1270, 'disguise': 6860, 'dy': 7495, 'pondering': 18671, 'scarier': 21443, 'stoppable': 23578, 'mole': 15827, 'buzzing': 3336, 'vez': 26516, 'pa': 17547, 'ahorrarme': 534, 'problemas': 19137, 'esto': 8290, 'puede': 19408, 'ser': 21839, 'poco': 18575, 'para': 17680, 'alguna': 639, 'gente': 10073, 'ultimamente': 25785, 'estoy': 8292, 'escribiendo': 8237, 'muy': 16215, 'crudo': 5633, 'pues': 19411, 'decidi': 6105, 'aca': 131, 'tonces': 25124, 'jeje': 13089, 'se': 21621, 'cama': 3455, 'ma': 14730, 'esperando': 8253, 'cliente': 4433, 'nuevito': 16835, 'del': 6238, 'dia': 6580, 'nada': 16262, 'cambi': 3459, 'habitaci': 10822, 'entr': 8094, 'hombre': 11562, 'desagradable': 6404, 'gordo': 10387, 'poca': 18572, 'clase': 4363, 'sabia': 21151, 'que': 19568, 'iba': 11933, 'peores': 18017, 'noches': 16678, 'vida': 26548, 'podium': 18581, 'impedirlo': 12136, 'el': 7713, 'tipo': 25001, 'pagaba': 17574, 'bien': 2347, 'ella': 7788, 'necesitaba': 16424, 'ese': 8240, 'dinerito': 6714, 'despues': 6469, 'todo': 25066, 'tan': 24360, 'sencilla': 21773, 'facil': 8711, 'cuando': 5679, 'toca': 25057, 'noche': 16677, 'transcurrio': 25332, 'cualquier': 5678, 'otra': 17350, 'hizo': 11486, 'trabajo': 25257, 'fue': 9761, 'eso': 8245, 'sali': 21238, 'habitacion': 10823, 'dispuso': 6926, 'ir': 12854, 'casa': 3660, 'encontro': 7939, 'jefe': 13082, 'ste': 23421, 'pago': 17584, 'ofreci': 17053, 'taxi': 24446, 'sta': 23284, 'acepto': 206, 'puso': 19498, 'gabardina': 9861, 'negra': 16462, 'hab': 10818, 'regalado': 20163, 'navidad': 16377, 'mont': 15892, 'olia': 17099, 'algo': 636, 'raro': 19802, 'lo': 14421, 'ignor': 12008, 'tiene': 24940, 'vaina': 26342, 'cay': 3773, 'profundamente': 19195, 'dormida': 7174, 'depronto': 6391, 'despert': 6459, 'donde': 7129, 'estaba': 8275, 'encontr': 7937, 'encadenada': 7918, 'encerrada': 7925, 'cuarto': 5680, 'oscuro': 17326, 'asustada': 1503, 'intento': 12669, 'soltarse': 22849, 'pudo': 19407, 'tanto': 24381, 'miedo': 15544, 'invadia': 12794, 'capaz': 3541, 'nisiquiera': 16652, 'gritar': 10617, 'pasaron': 17786, 'unos': 26092, 'minutos': 15643, 'usando': 26274, 'pasamonta': 17784, 'tenia': 24606, 'voz': 26729, 'aspera': 1414, 'confiable': 4944, 'pregunto': 18967, 'llanto': 14402, 'simplmente': 22340, 'miro': 15652, 'acerco': 207, 'viol': 26601, 'luego': 14653, 'oy': 17540, 'gritos': 10618, 'usted': 26298, 'tocarla': 25058, 'golpes': 10340, 'tiro': 25017, 'pistola': 18408, 'silencio': 22299, 'entendia': 8062, 'profundo': 19196, 'nuevo': 16836, 'bot': 2817, 'plato': 18482, 'comida': 4711, 'dijo': 6683, 'callara': 3433, 'queria': 19579, 'callo': 3440, 'por': 18725, 'violaci': 26603, 'peor': 18016, 'comio': 4714, 'esa': 8218, 'sopita': 22914, 'frijol': 9693, 'habian': 10820, 'botado': 2818, 'ahi': 530, 'preparo': 18990, 'herida': 11337, 'manera': 14923, 'quito': 19629, 'taxista': 24449, 'empez': 7886, 'llorar': 14414, 'este': 8282, 'calm': 3443, 'estuviera': 8295, 'tranquila': 25315, 'sino': 22380, 'explic': 8584, 'preferida': 18959, 'sal': 21224, 'recodo': 19994, 'tarde': 24399, 'llegando': 14406, 'estaban': 8276, 'golpeando': 10339, 'tito': 25030, 'famoso': 8797, 'entre': 8100, 'ellos': 7794, 'tuvo': 25669, 'sentido': 21807, 'momento': 15840, 'recibi': 19973, 'llamada': 14398, 'hicieron': 11378, 'leer': 14029, 'papel': 17670, 'decia': 6100, 'tenemos': 24600, 'samantha': 21266, 'favorita': 8890, 'perro': 18097, 'toco': 25060, 'pagarnos': 17580, 'matamos': 15130, 'volvemos': 26702, 'llamar': 14400, 'ana': 851, 'tenga': 24604, 'respuesta': 20572, 'atengase': 1515, 'lloro': 14415, 'crey': 5561, 'iban': 11934, 'matar': 15131, 'temia': 24565, 'tambien': 24348, 'sido': 22263, 'padre': 17572, 'perderlo': 18043, 'aba': 27, 'sus': 24084, 'hijos': 11416, 'escapar': 8225, 'decidio': 6107, 'intentarlo': 12664, 'daban': 5838, 'lavarse': 13937, 'dientes': 6635, 'demas': 6291, 'ventana': 26459, 'unas': 25835, 'barras': 1971, 'flojas': 9325, 'aflojarlas': 451, 'cada': 3376, 'pedir': 17947, 'tiempo': 24939, 'tras': 25371, 'soltar': 22848, 'funciono': 9781, 'perfecci': 18045, 'escaparia': 8226, 'entro': 8106, 'siempre': 22264, 'paro': 17745, 'tasa': 24416, 'toda': 25061, 'silenciosa': 22300, 'repente': 20405, 'puerta': 19409, 'abri': 84, 'puteo': 19501, 'llevo': 14410, 'encerr': 7924, 'cadenas': 3381, 'ahora': 533, 'atadas': 1507, 'poste': 18797, 'mitad': 15726, 'esta': 8274, 'nueva': 16834, 'peque': 18026, 'colchon': 4609, 'lado': 13802, 'telita': 24556, 'inmunda': 12516, 'maloliente': 14895, 'ojos': 17075, 'golpeada': 10338, 'aunque': 1619, 'nunca': 16859, 'violada': 26604, 'jefesito': 13083, 'quizo': 19637, 'pagar': 17578, 'nosostros': 16759, 'podemos': 18577, 'tenerla': 24601, 'dieron': 6637, 'buen': 3155, 'billete': 2368, 'entonces': 8092, 'hoy': 11749, 'va': 26323, 'trabajito': 25256, 'cogieron': 4580, 'metieron': 15473, 'pusieron': 19497, 'cobija': 4538, 'encima': 7929, 'algun': 638, 'habia': 10819, 'tenido': 24607, 'totalmente': 25206, 'claro': 4360, 'escapaba': 8223, 'tela': 24539, 'semaforo': 21758, 'cogiedo': 4579, 'levanto': 14138, 'comprar': 4842, 'cigarrillos': 4261, 'sigilosamente': 22276, 'seguro': 21724, 'abrio': 88, 'corrio': 5335, 'corrido': 5331, 'solo': 22843, 'corria': 5330, 'tipos': 25002, 'bajaron': 1848, 'carro': 3637, 'corrieron': 5333, 'detras': 6523, 'simplemente': 22332, 'parar': 17706, 'logrado': 14475, 'dificl': 6663, 'quedaba': 19572, 'correr': 5324, 'hasta': 11088, 'poder': 18578, 'pararon': 17707, 'ante': 1002, 'escondio': 8236, 'ferreteria': 8999, 'pasaba': 17781, 'buenas': 3157, 'llamo': 14401, 'dio': 6726, 'peso': 18145, 'pagarlo': 17579, 'vieja': 26557, 'traumada': 25381, 'ni': 16576, 'bate': 2028, 'metia': 15471, 'cogio': 4581, 'llego': 14407, 'familia': 8791, 'volvio': 26704, 'siguiente': 22295, 'sentada': 21801, 'espero': 8255, 'termino': 24640, 'salio': 21240, 'caminar': 3473, 'jamas': 12999, 'volvi': 26703, 'greatness': 10553, 'choosing': 4187, 'tuned': 25623, 'wilbur': 27260, 'introducing': 12777, 'verse': 26496, 'copacabana': 5258, 'pig': 18315, 'snout': 22742, 'fork': 9503, 'bam': 1880, 'doo': 7143, 'haaaamm': 10816, 'chomped': 4180, 'cranberry': 5477, 'tummy': 25617, 'juicy': 13301, 'janice': 13019, 'pet': 18152, 'turkey': 25637, 'turkeeeeey': 25636, 'pigginess': 18318, 'compared': 4777, 'natalie': 16350, 'maine': 14835, 'heavier': 11217, 'comparing': 4778, 'pipcture': 18382, 'chubby': 4232, 'comparitive': 4781, 'kneeling': 13645, 'elevated': 7755, 'porky': 18733, 'piggish': 18319, 'adjective': 319, 'bzzzzz': 3354, 'stung': 23748, 'wasp': 26909, 'brute': 3113, 'glove': 10266, 'swollen': 24208, 'despite': 6466, 'icing': 11949, 'sting': 23529, 'insurence': 12632, 'payback': 17879, 'soda': 22797, 'endanger': 7954, 'sugar': 23885, 'firmly': 9178, 'visitor': 26643, 'coworkers': 5446, 'mental': 15390, 'pour': 18843, 'bark': 1954, 'herbal': 11326, 'extract': 8644, 'metabolism': 15444, 'assist': 1450, 'stored': 23583, 'abdomen': 44, 'hip': 11444, 'thigh': 24787, 'cameroon': 3471, 'africa': 458, 'brown': 3079, 'apetite': 1081, 'fda': 8905, 'acknowledged': 222, 'condition': 4921, 'warn': 26880, 'boston': 2816, 'halloween': 10916, 'scale': 21414, 'china': 4133, 'denominating': 6332, 'euro': 8337, 'severely': 21894, 'commodity': 4749, 'poof': 18685, 'devalue': 6529, 'overnight': 17471, 'crisis': 5578, 'publicly': 19395, 'aggressor': 491, 'wto': 27602, 'subtlely': 23826, 'coerce': 4569, 'capitalism': 3548, 'mutually': 16213, 'assured': 1469, 'continuing': 5144, 'sporting': 23183, 'frock': 9702, 'santa': 21307, 'claus': 4379, 'powell': 18855, 'tim': 24966, 'russert': 21130, 'cited': 4303, 'provided': 19328, 'deliberately': 6253, 'falsified': 8784, 'approval': 1170, 'council': 5380, 'developing': 6538, 'wmd': 27394, 'biological': 2387, 'administration': 330, 'purposefully': 19479, 'misleading': 15680, 'sourcing': 22955, 'inaccurate': 12208, 'disappointed': 6778, 'regret': 20186, 'flu': 9358, 'ache': 208, 'dizziness': 7031, 'nausea': 16371, 'dizzy': 7032, 'stoned': 23565, 'function': 9782, 'medicinal': 15299, 'marijuana': 15022, 'archive': 1222, 'feature': 8920, 'drugwar': 7362, 'communion': 4758, 'celebration': 3810, 'magic': 14799, 'kingdom': 13590, 'epcot': 8134, 'yoga': 27776, 'staying': 23418, 'attending': 1567, 'baron': 1968, 'baptiste': 1923, 'torture': 25189, 'warrior': 26892, 'unarmed': 25834, 'crappy': 5491, 'funded': 9793, 'guessed': 10716, 'raining': 19723, 'cloudy': 4489, 'humid': 11814, 'euch': 8326, 'gnat': 10288, 'nat': 16348, 'geo': 10082, 'programme': 19201, 'slimy': 22561, 'occasionally': 16970, 'expelling': 8548, 'venom': 26457, 'pore': 18729, 'growf': 10657, 'conditioned': 4923, 'pardon': 17716, 'pun': 19438, 'rt': 21060, 'dorkiest': 7171, 'geekiest': 10022, 'tetanus': 24683, 'ruined': 21087, 'hopping': 11659, 'sore': 22920, 'moaning': 15767, 'groaning': 10623, 'waited': 26803, 'antibiotic': 1015, 'sand': 21283, 'saltwater': 21254, 'niece': 16604, 'nephew': 16489, 'eldest': 7725, 'equally': 8160, 'becky': 2131, 'flashback': 9246, 'goten': 10401, 'washing': 26903, 'aneurysm': 904, 'hug': 11786, 'rebekah': 19933, 'leigh': 14073, 'bwa': 3338, 'woola': 27452, 'noticing': 16788, 'realised': 19884, 'wasted': 26911, 'extreamly': 8656, 'sumet': 23915, 'panty': 17661, 'lola': 14482, 'honey': 11602, 'swamped': 24123, 'nutty': 16880, 'mcnuts': 15243, 'boogie': 2752, 'oogie': 17155, 'hef': 11244, 'priest': 19078, 'cleavage': 4408, 'enormous': 8034, 'lollipop': 14485, 'spinning': 23118, 'slows': 22594, 'merry': 15426, 'aleda': 617, 'mb': 15200, 'pdf': 17903, 'processed': 19149, 'learns': 14004, 'margret': 15016, 'loving': 14613, 'chari': 3968, 'roz': 21053, 'robber': 20884, 'assasin': 1421, 'fool': 9433, 'vengeful': 26453, 'greedy': 10557, 'secretive': 21678, 'sly': 22607, 'invisible': 12820, 'deadly': 6035, 'nightshade': 16620, 'javex': 13043, 'skull': 22474, 'laundry': 13930, 'jumping': 13317, 'smashing': 22631, 'pumkin': 19430, 'scornful': 21532, 'disappearing': 6775, 'corpse': 5312, 'saber': 21149, 'puzzle': 19513, 'visibly': 26634, 'arena': 1231, 'anticipate': 1017, 'immanent': 12089, 'meditative': 15310, 'medidate': 15302, 'darth': 5964, 'maul': 15174, 'optimistic': 17232, 'memorize': 15376, 'spell': 23071, 'utilize': 26310, 'initiate': 12493, 'disappearence': 6774, 'fatal': 8862, 'explanation': 8581, 'consistent': 5059, 'annakin': 954, 'ghost': 10135, 'faded': 8732, 'pyre': 19520, 'midichlorians': 15531, 'dumped': 7427, 'obscure': 16944, 'inconsistency': 12270, 'lucas': 14640, 'crap': 5487, 'switched': 24204, 'haloscan': 10923, 'bubble': 3124, 'configured': 4953, 'speechless': 23063, 'brilliance': 3013, 'charm': 3981, 'fixed': 9213, 'pus': 19492, 'permit': 18080, 'bday': 2072, 'october': 17000, 'cele': 3804, 'shizncking': 22085, 'remain': 20302, 'unmentioned': 26075, 'outgoing': 17375, 'quits': 19630, 'heading': 11153, 'ishel': 12905, 'okies': 17082, 'morining': 15955, 'ta': 24262, 'yets': 27752, 'titan': 25022, 'variety': 26393, 'hulk': 11798, 'writer': 27578, 'reinvents': 20230, 'greek': 10558, 'ancient': 881, 'greece': 10554, 'olympus': 17111, 'zeus': 27890, 'hera': 11323, 'hades': 10839, 'poseidon': 18772, 'ft': 9745, 'kronos': 13721, 'tarterus': 24412, 'backwards': 1811, 'tiffany': 24944, 'regretfully': 20188, 'decline': 6124, 'angeles': 910, 'shipley': 22059, 'mcveigh': 15246, 'ensured': 8053, 'seared': 21645, 'pulpit': 19425, 'witness': 27380, 'magnification': 14812, 'feeding': 8945, 'sixpack': 22419, 'fringe': 9697, 'dissatisfied': 6944, 'strongly': 23698, 'horrific': 11681, 'quo': 19642, 'equivalent': 8172, 'descent': 6412, 'formation': 9512, 'testament': 24667, 'comfortably': 4703, 'agnostic': 500, 'leaning': 13995, 'sans': 21306, 'automoblie': 1664, 'inseperable': 12555, 'separation': 21821, 'persecution': 18099, 'bloodshed': 2595, 'merging': 15415, 'henry': 11319, 'viii': 26574, 'anglican': 925, 'founder': 9551, 'wisely': 27350, 'graf': 10458, 'allegiance': 671, 'debacle': 6059, 'preach': 18915, 'mmmm': 15751, 'induced': 12354, 'remake': 20308, 'matriarchy': 15158, 'heheh': 11250, 'designing': 6442, 'ai': 536, 'basic': 2001, 'insight': 12562, 'sap': 21314, 'advertising': 393, 'crusty': 5657, 'bastard': 2016, 'fudge': 9759, 'sundae': 23939, 'meandering': 15255, 'relevant': 20274, 'producer': 19172, 'tube': 25588, 'pinnacle': 18371, 'scallop': 21416, 'paired': 17604, 'carneros': 3621, 'cuvee': 5805, 'oddysey': 17012, 'veal': 26420, 'truffle': 25546, 'jus': 13337, 'ambassador': 781, 'dining': 6718, 'fab': 8689, 'ness': 16499, 'brow': 3078, 'shaped': 21961, 'interpreting': 12720, 'brunch': 3093, 'enlightening': 8027, 'animated': 938, 'nemo': 16479, 'ridiculously': 20775, 'unrealistic': 26123, 'quotation': 19645, 'angle': 923, 'thine': 24791, 'grip': 10612, 'managing': 14908, 'bringing': 3021, 'reconsidered': 20019, 'acheivements': 211, 'unconditionally': 25880, 'nevermind': 16534, 'littel': 14364, 'adminitrative': 333, 'factotum': 8725, 'fak': 8765, 'toh': 25075, 'tuhm': 25604, 'noun': 16798, 'diverse': 7008, 'servant': 21863, 'trace': 25258, 'facere': 8706, 'totum': 25210, 'surname': 24051, 'johannes': 13202, 'desirable': 6444, 'synonym': 24244, 'meddler': 15287, 'busybody': 3308, 'versatile': 26495, 'reply': 20434, 'careful': 3597, 'spelling': 23074, 'devious': 6549, 'babysitting': 1783, 'nosey': 16758, 'goin': 10318, 'dang': 5913, 'pretzel': 19047, 'anytime': 1056, 'eastland': 7551, 'comfort': 4701, 'ima': 12058, 'vacation': 26328, 'expect': 8538, 'probly': 19140, 'milwaukee': 15592, 'wisconsin': 27346, 'colorful': 4664, 'scariness': 21444, 'okie': 17081, 'doke': 7086, 'combined': 4688, 'kc': 13436, 'shes': 22028, 'enjoying': 8019, 'psychic': 19366, 'confident': 4949, 'xoxoxoxoxoxoxoxox': 27652, 'godsmack': 10312, 'orange': 17243, 'changer': 3930, 'singer': 22364, 'mad': 14765, 'apt': 1187, 'pass': 17793, 'aggressive': 488, 'underground': 25918, 'rhyme': 20730, 'rhythm': 20731, 'iambic': 11931, 'pentameter': 18011, 'ill': 12033, 'maya': 15185, 'teenager': 24525, 'cornered': 5302, 'downtrodden': 7230, 'gripe': 10613, 'sentimental': 21810, 'literary': 14356, 'baz': 2062, 'lurmann': 14694, 'oscar': 17325, 'laureate': 13932, 'oprah': 17222, 'pretentious': 19037, 'sullen': 23906, 'lecture': 14018, 'adversity': 386, 'jonathan': 13235, 'franzen': 9609, 'phil': 18196, 'recognized': 20001, 'coupland': 5402, 'collect': 4632, 'furniture': 9827, 'ethan': 8305, 'hawkes': 11128, 'damon': 5892, 'affleck': 436, 'screenplay': 21572, 'pussy': 19499, 'kerouac': 13486, 'fitzgerald': 9206, 'abused': 125, 'thompson': 24820, 'hemingway': 11303, 'pounded': 18841, 'joyce': 13268, 'guinness': 10739, 'vile': 26576, 'filthy': 9113, 'smack': 22609, 'crank': 5481, 'prick': 19074, 'sniggedy': 22720, 'wick': 27227, 'nea': 16400, 'grant': 10502, 'ama': 760, 'passe': 17796, 'darn': 5955, 'tootin': 25153, 'treking': 25425, 'scour': 21541, 'approaching': 1163, 'fuckin': 9755, 'sexuality': 21907, 'sleve': 22543, 'gayest': 10002, 'buffy': 3164, 'newsies': 16559, 'capri': 3561, 'midrif': 15536, 'trepidation': 25438, 'warranted': 26888, 'ucomics': 25749, 'foxtrot': 9565, 'phtml': 18252, 'contradiction': 5162, 'checking': 4022, 'webpage': 27015, 'reson': 20539, 'confirmation': 4958, 'audi': 1599, 'dealer': 6039, 'motion': 15994, 'registered': 20181, 'released': 20265, 'finance': 9122, 'downpayment': 7217, 'initial': 12491, 'adding': 296, 'swinging': 24193, 'thread': 24846, 'fro': 9701, 'curled': 5752, 'cobalt': 4534, 'tremble': 25429, 'unheard': 26011, 'crumbles': 5641, 'delicate': 6255, 'iridescent': 12861, 'orb': 17245, 'shattered': 21981, 'hairpin': 10884, 'fingertip': 9144, 'bloodied': 2593, 'slit': 22572, 'masochistic': 15100, 'whispered': 27179, 'butterfly': 3320, 'firefly': 9161, 'vase': 26401, 'mourning': 16029, 'valentine': 26346, 'donald': 7122, 'rumsfeld': 21107, 'reek': 20101, 'butterscotch': 3321, 'funky': 9806, 'brainfarting': 2902, 'ahhhh': 523, 'freaking': 9620, 'overheating': 17455, 'aaaahh': 10, 'cease': 3790, 'amaze': 773, 'unproductive': 26115, 'accomplish': 168, 'borger': 2790, 'furious': 9821, 'circumvent': 4294, 'amazes': 776, 'turd': 25633, 'leverage': 14142, 'bright': 3003, 'bushgame': 3288, 'adventure': 380, 'hogan': 11523, 'eeeeeeeeeeevil': 7639, 'bushitler': 3292, 'voltron': 26693, 'nazi': 16385, 'abstract': 115, 'claimed': 4330, 'represented': 20448, 'totalitarianism': 25202, 'censurable': 3831, 'musing': 16184, 'addison': 297, 'hut': 11874, 'meal': 15251, 'totalled': 25204, 'wilson': 27292, 'jerren': 13117, 'glutton': 10276, 'leftover': 14036, 'theo': 24753, 'smelled': 22636, 'disgusting': 6864, 'lim': 14263, 'disgusted': 6863, 'tml': 25040, 'lolx': 14488, 'tampered': 24356, 'enterprise': 8066, 'architecture': 1220, 'comic': 4709, 'climate': 4437, 'hidalgo': 11381, 'referrer': 20116, 'referrences': 20115, 'unscientific': 26141, 'sporadic': 23179, 'misspell': 15701, 'engine': 7998, 'weirdest': 27068, 'sparked': 23001, 'searcher': 21641, 'spectator': 23055, 'peaceful': 17908, 'crittters': 5596, 'myran': 16234, 'destination': 6474, 'porta': 18746, 'charased': 3959, 'dump': 7426, 'sleepies': 22533, 'excectionally': 8440, 'exsosted': 8621, 'favoritist': 8892, 'jr': 13273, 'outtda': 17413, 'sneak': 22702, 'snippet': 22724, 'mtv': 16075, 'filth': 9112, 'prudish': 19347, 'enamored': 7917, 'perfection': 18048, 'hotness': 11716, 'careless': 3600, 'crone': 5604, 'lover': 14607, 'stubble': 23717, 'whew': 27151, 'batting': 2044, 'lest': 14121, 'flipping': 9312, 'channel': 3933, 'fuse': 9833, 'flashy': 9254, 'volume': 26694, 'overly': 17469, 'mindless': 15607, 'expose': 8608, 'unreality': 26124, 'teeny': 24528, 'boppers': 2781, 'slumber': 22597, 'terribly': 24648, 'trl': 25501, 'artist': 1353, 'divo': 7020, 'blinked': 2536, 'watered': 26933, 'produced': 19171, 'uncreative': 25896, 'mist': 15708, 'groundbreaking': 10646, 'heartbreaking': 11191, 'demographic': 6302, 'sneaking': 22705, 'childhood': 4113, 'dire': 6741, 'strait': 23609, 'fiddling': 9062, 'techie': 24494, 'colour': 4667, 'shawn': 21989, 'tessa': 24665, 'flooble': 9326, 'chatterbox': 3997, 'updated': 26196, 'javascript': 13042, 'capability': 3538, 'enable': 7912, 'ldfi': 13976, 'blogspot': 2580, 'exists': 8522, 'herefishyfishy': 11334, 'fishbowl': 9186, 'darnnit': 5959, 'absolutist': 100, 'whirl': 27171, 'pounding': 18842, 'stressful': 23657, 'queensberry': 19575, 'lt': 14632, 'bourke': 2846, 'bz': 3352, 'gjs': 10201, 'ironing': 12873, 'erp': 8204, 'gargling': 9952, 'listerine': 14344, 'dangnabbit': 5921, 'depressed': 6384, 'stray': 23634, 'bullet': 3207, 'bedtime': 2150, 'deb': 6058, 'frisbee': 9698, 'shane': 21955, 'prasad': 18901, 'jamie': 13002, 'melody': 15359, 'undergrad': 25916, 'pal': 17612, 'hahahahah': 10859, 'rghhh': 20716, 'statistical': 23406, 'polled': 18644, 'crucified': 5629, 'caucus': 3744, 'jay': 13047, 'leno': 14099, 'mmmmmm': 15753, 'pineapple': 18361, 'tart': 24409, 'mmmmm': 15752, 'excruciating': 8476, 'peranakan': 18027, 'interacting': 12673, 'apologising': 1098, 'hewlow': 11365, 'hella': 11273, 'blogged': 2569, 'importance': 12165, 'brittany': 3034, 'carrie': 3634, 'hoppman': 11660, 'mario': 15027, 'shafted': 21929, 'te': 24465, 'claire': 4332, 'clay': 4385, 'travis': 25399, 'byers': 3342, 'retardidly': 20624, 'travid': 25398, 'massive': 15117, 'climbed': 4441, 'likei': 14249, 'assumed': 1464, 'flashlight': 9250, 'gutted': 10781, 'incase': 12231, 'ont': 17147, 'dew': 6567, 'nightmare': 16618, 'purse': 19483, 'jk': 13174, 'announce': 965, 'barrier': 1976, 'pricklies': 19075, 'wewell': 27115, 'hafta': 10850, 'nintendo': 16643, 'holla': 11548, 'striz': 23687, 'prospective': 19293, 'redo': 20085, 'hire': 11453, 'guebert': 10710, 'appointment': 1148, 'plucking': 18544, 'cutting': 5804, 'tweezing': 25682, 'polishing': 18626, 'whim': 27158, 'jungle': 13326, 'upkeep': 26208, 'skilled': 22452, 'revert': 20684, 'hairdresser': 10880, 'excusively': 8481, 'hairstylist': 10888, 'walked': 26818, 'stylist': 23768, 'framing': 9586, 'enhance': 8011, 'anxiety': 1044, 'complimenting': 4833, 'exceptional': 8451, 'daniel': 5923, 'spiked': 23104, 'blond': 2586, 'shampoo': 21951, 'apprehensive': 1158, 'eyebrow': 8674, 'comforting': 4706, 'trim': 25476, 'sink': 22376, 'comfy': 4707, 'bedlike': 2143, 'plucked': 18543, 'straggling': 23596, 'wax': 26957, 'massaged': 15112, 'waxed': 26958, 'massage': 15111, 'shampooed': 21952, 'massager': 15113, 'styling': 23766, 'combing': 4689, 'parted': 17757, 'subtle': 23825, 'layer': 13953, 'tilt': 24962, 'straightening': 23600, 'blew': 2526, 'brush': 3100, 'straighten': 23599, 'skill': 22451, 'lingers': 14299, 'swish': 24198, 'herb': 11325, 'hairstyle': 10887, 'committing': 4748, 'ying': 27762, 'yang': 27684, 'reviewing': 20688, 'oily': 17071, 'goo': 10350, 'decay': 6084, 'bloated': 2548, 'misguided': 15675, 'swine': 24190, 'overwrought': 17514, 'ode': 17013, 'suffering': 23873, 'disguised': 6861, 'narcissistic': 16322, 'masturbation': 15127, 'numb': 16847, 'rage': 19705, 'suffocating': 23879, 'lung': 14683, 'clenched': 4418, 'fist': 9198, 'minus': 15638, 'inhale': 12475, 'shaky': 21941, 'float': 9319, 'balloon': 1871, 'oxygen': 17538, 'helium': 11271, 'leg': 14039, 'thet': 24777, 'arrived': 1319, 'uruguay': 26268, 'thosed': 24831, 'sandcastles': 21286, 'hunted': 11850, 'ferry': 9001, 'islan': 12916, 'recieve': 19975, 'slab': 22489, 'beef': 2152, 'charla': 3974, 'mirna': 15651, 'sheer': 22001, 'physicality': 18258, 'wit': 27364, 'disability': 6760, 'super': 23967, 'boo': 2741, 'detour': 6521, 'casino': 3674, 'roulette': 21022, 'match': 15133, 'landing': 13844, 'bloody': 2600, 'zipline': 27913, 'descend': 6407, 'storey': 23584, 'pit': 18410, 'erika': 8193, 'taylor': 24454, 'ousted': 17359, 'liberian': 14183, 'rival': 20844, 'alma': 709, 'mater': 15140, 'ethic': 8311, 'lacking': 13792, 'infamous': 12390, 'guatamalan': 10704, 'assassin': 1422, 'secrent': 21674, 'broom': 3070, 'elevator': 7759, 'sunglass': 23947, 'guatemalan': 10706, 'briefly': 2997, 'accursed': 197, 'haunting': 11110, 'pharsalus': 18186, 'albino': 604, 'squirrel': 23263, 'dryer': 7379, 'gen': 10037, 'hahahahahaha': 10861, 'jammin': 13006, 'mercy': 15409, 'genny': 10069, 'jackalope': 12967, 'cherry': 4073, 'bewieve': 2317, 'lite': 14351, 'diet': 6639, 'philosphers': 18213, 'dug': 7407, 'bunker': 3241, 'gore': 10389, 'moonbat': 15914, 'disappoint': 6777, 'gop': 10386, 'dc': 6021, 'rnc': 20859, 'communication': 4757, 'dyke': 7501, 'issued': 12929, 'osama': 17322, 'bin': 2377, 'laden': 13800, 'khobar': 13522, 'embassy': 7836, 'cole': 4616, 'demonstrate': 6309, 'amnesia': 826, 'procrastinating': 19160, 'legendary': 14052, 'unquote': 26120, 'neccessarily': 16422, 'motel': 15987, 'leaked': 13991, 'flapper': 9239, 'package': 17557, 'installation': 12594, 'lou': 14578, 'offense': 17030, 'talkin': 24332, 'capacity': 3540, 'nobady': 16671, 'scroungy': 21594, 'neckbones': 16431, 'gobble': 10297, 'bat': 2025, 'bean': 2088, 'barbara': 1928, 'kingsolver': 13596, 'ironic': 12870, 'ironicizims': 12872, 'kurt': 13749, 'vonnegut': 26711, 'wiping': 27338, 'extremist': 8661, 'throught': 24879, 'prevents': 19057, 'accepting': 145, 'victory': 26546, 'obl': 16928, 'desert': 6427, 'zionist': 27911, 'lackey': 13791, 'usa': 26269, 'judy': 13294, 'garland': 9954, 'outfit': 17374, 'hiphop': 11445, 'arc': 1208, 'inflated': 12421, 'overload': 17463, 'display': 6911, 'namdaemoon': 16293, 'hanky': 10994, 'soppign': 22915, 'humidity': 11815, 'tempted': 24582, 'bricx': 2985, 'anime': 940, 'ohoo': 17067, 'hodge': 11519, 'podge': 18579, 'gal': 9890, 'bikini': 2364, 'manzeer': 14984, 'corny': 5304, 'aussie': 1633, 'rugby': 21084, 'jersey': 13119, 'prominently': 19232, 'bondaegi': 2722, 'unsuspecting': 26159, 'passer': 17799, 'bys': 3349, 'steamed': 23435, 'silkworm': 22310, 'larva': 13874, 'revive': 20698, 'lord': 14545, 'wander': 26841, 'abandon': 29, 'deeper': 6167, 'dancin': 5905, 'presence': 19005, 'sens': 21785, 'machiko': 14747, 'adorable': 362, 'friggin': 9686, 'sample': 21273, 'snapping': 22697, 'fu': 9748, 'gershwin': 10115, 'rhapsody': 20720, 'blackpeopleloveus': 2466, 'yummers': 27838, 'strawberry': 23633, 'yoghurt': 27777, 'freezer': 9645, 'delightful': 6261, 'woopadeedoo': 27468, 'cont': 5105, 'eep': 7653, 'alter': 733, 'sportsgirl': 23185, 'sua': 23773, 'ku': 13729, 'ly': 14714, 'hem': 11299, 'folded': 9405, 'chunk': 4243, 'alteration': 734, 'hemming': 11307, 'tailoring': 24308, 'jj': 13173, 'seamstress': 21633, 'central': 3840, 'reveal': 20665, 'tinted': 24994, 'spying': 23229, 'rack': 19678, 'blouse': 2610, 'friendly': 9682, 'salesgirl': 21234, 'jw': 13354, 'cheapest': 4012, 'charging': 3967, 'compare': 4776, 'grandma': 10490, 'receipt': 19956, 'yippee': 27766, 'kai': 13367, 'sociable': 22778, 'ncyc': 16395, 'swashbuckling': 24136, 'wintery': 27333, 'hillsfar': 11427, 'haiyo': 10893, 'piano': 18270, 'overslept': 17489, 'chatting': 3999, 'mah': 14820, 'alert': 621, 'sch': 21462, 'haiz': 10894, 'nvm': 16885, 'rite': 20839, 'practising': 18891, 'lor': 14544, 'slack': 22490, 'recovered': 20037, 'tue': 25596, 'sushi': 24087, 'wed': 27020, 'ljs': 14395, 'thur': 24903, 'kfc': 13514, 'fri': 9672, 'dumpling': 7430, 'noodle': 16721, 'starfruit': 23363, 'somemore': 22860, 'choc': 4166, 'whitesands': 27190, 'spencer': 23077, 'reduced': 20090, 'digestive': 6668, 'biscuit': 2414, 'fatter': 8875, 'liao': 14170, 'jerome': 13116, 'mths': 16072, 'kg': 13515, 'stamen': 23326, 'tt': 25580, 'citrus': 4308, 'grapefruit': 10507, 'dragonfruit': 7253, 'onwards': 17151, 'tolerate': 25092, 'ren': 20352, 'overdue': 17446, 'inundate': 12790, 'relentlessly': 20272, 'unimportant': 26026, 'overwhelmingly': 17513, 'thesaurus': 24774, 'sunblock': 23932, 'reddest': 20058, 'overcooked': 17443, 'lobster': 14435, 'heedlessly': 11234, 'unprotected': 26117, 'sliver': 22573, 'sunburn': 23933, 'bun': 3230, 'bathing': 2034, 'sunburnt': 23935, 'soaking': 22760, 'lifestyle': 14219, 'initiation': 12495, 'argentinian': 1238, 'grilled': 10598, 'sausage': 21373, 'sauteed': 21376, 'spinach': 23112, 'flambe': 9230, 'caramel': 3578, 'crepe': 5551, 'peruvian': 18136, 'cuisine': 5700, 'multicultural': 16120, 'catching': 3711, 'injured': 12500, 'soccer': 22776, 'heroic': 11347, 'riverfront': 20851, 'faaaabulous': 8688, 'downstairs': 7225, 'pouring': 18846, 'spaced': 22978, 'spilled': 23108, 'mop': 15933, 'splashed': 23133, 'ahhhhhhhhhhhhhhh': 527, 'ewewew': 8416, 'bagel': 1826, 'cereal': 3856, 'bounced': 2835, 'bounce': 2834, 'alarm': 593, 'suppposed': 24019, 'cancelleld': 3499, 'stanley': 23348, 'jo': 13182, 'peterbrough': 18158, 'carsen': 3641, 'stanely': 23344, 'stan': 23331, 'goign': 10317, 'hahahhahaha': 10870, 'heartattack': 11189, 'awwwwwwwwww': 1742, 'adidas': 315, 'awwwwwwwwwwwwww': 1744, 'thankgod': 24722, 'homealone': 11564, 'grrrrrrrrrrrrrrrrrr': 10672, 'screwed': 21579, 'guarenteee': 10703, 'veryvery': 26503, 'hosted': 11699, 'sommelier': 22870, 'assocation': 1456, 'gala': 9891, 'featuring': 8923, 'flowed': 9352, 'sip': 22385, 'veuve': 26513, 'cliquot': 4457, 'seating': 21658, 'ducked': 7397, 'reveler': 20672, 'trekking': 25428, 'hialeah': 11374, 'errand': 8206, 'daycare': 6000, 'dandelion': 5908, 'entertained': 8071, 'explained': 8577, 'replant': 20424, 'planted': 18465, 'planter': 18466, 'compassion': 4785, 'smallest': 22615, 'maintains': 14845, 'compassionate': 4786, 'replanting': 20425, 'realistic': 19888, 'coco': 4553, 'charming': 3984, 'plaything': 18501, 'generous': 10056, 'gq': 10432, 'petted': 18165, 'grumble': 10678, 'strap': 23621, 'copier': 5264, 'printer': 19098, 'overjoyed': 17459, 'quota': 19644, 'explode': 8587, 'gothic': 10404, 'ravensrants': 19835, 'raven': 19834, 'crystal': 5669, 'hung': 11838, 'frigid': 9692, 'pristine': 19110, 'purest': 19464, 'heal': 11166, 'tunafisher': 25621, 'trailer': 25293, 'audra': 1610, 'valley': 26359, 'abort': 73, 'betting': 2309, 'disposal': 6916, 'combat': 4683, 'squash': 23239, 'fuss': 9835, 'jolly': 13230, 'wot': 27526, 'tennis': 24609, 'guv': 10784, 'epitome': 8147, 'yey': 27754, 'hoist': 11527, 'jack': 12966, 'alanna': 592, 'devout': 6566, 'mailer': 14831, 'mwaaa': 16221, 'hhaaa': 11370, 'haaaa': 10815, 'thirsty': 24810, 'cackle': 3373, 'lauren': 13933, 'spidey': 23098, 'tobey': 25055, 'mcguire': 15234, 'jumpy': 13321, 'screamed': 21562, 'preview': 19058, 'sarah': 21319, 'embarrassed': 7830, 'eh': 7691, 'kirsten': 13606, 'dunst': 7444, 'chandler': 3923, 'rebecca': 19932, 'intellegent': 12648, 'hurting': 11866, 'vancouver': 26372, 'sync': 24239, 'dancefloor': 5902, 'arcade': 1209, 'gameroom': 9922, 'recites': 19985, 'singin': 22365, 'dawn': 5998, 'dreamin': 7288, 'autumn': 1668, 'tanking': 24377, 'invested': 12808, 'otoh': 17349, 'margin': 15013, 'asteriod': 1472, 'acquitted': 240, 'supervisor': 23996, 'genet': 10058, 'elle': 7789, 'debut': 6077, 'adapted': 284, 'starring': 23369, 'cumming': 5727, 'pope': 18708, 'roller': 20937, 'skate': 22431, 'stephen': 23467, 'spinella': 23114, 'outer': 17373, 'critic': 5585, 'coleman': 4618, 'alumn': 750, 'anson': 991, 'mount': 16018, 'faye': 8901, 'dunaway': 7433, 'bristle': 3027, 'spectrum': 23058, 'cartoonish': 3650, 'simplistic': 22338, 'ail': 545, 'havnt': 11120, 'puttin': 19508, 'tlkin': 25038, 'cple': 5451, 'breakin': 2948, 'cryin': 5663, 'sumtimes': 23928, 'lettin': 14133, 'vulnerable': 26737, 'wen': 27091, 'cow': 5438, 'il': 12027, 'realy': 19905, 'dnt': 7045, 'intentionaly': 12668, 'gona': 10343, 'writin': 27581, 'babbling': 1773, 'depressin': 6385, 'strep': 23654, 'anyhoo': 1048, 'shania': 21958, 'bnsf': 2648, 'smae': 22612, 'identified': 11976, 'presently': 19012, 'designated': 6438, 'blocked': 2557, 'maintained': 14843, 'asset': 1441, 'hve': 11878, 'bueller': 3154, 'autumnal': 1669, 'crispness': 5582, 'backpack': 1798, 'notebook': 16775, 'signal': 22280, 'harried': 11067, 'chilled': 4123, 'thickly': 24784, 'feathered': 8919, 'duvet': 7479, 'handmade': 10970, 'snuggle': 22755, 'neck': 16430, 'honeysuckle': 11605, 'barren': 1974, 'bud': 3142, 'hillside': 11428, 'clump': 4504, 'shade': 21920, 'gracefully': 10441, 'alley': 682, 'schoolyard': 21493, 'climbing': 4442, 'sweetness': 24169, 'luring': 14691, 'gather': 9981, 'hindered': 11435, 'pluck': 18542, 'gently': 10077, 'midway': 15542, 'petal': 18154, 'pinch': 18357, 'slipping': 22570, 'grabbing': 10436, 'pushing': 19496, 'tickle': 24929, 'watery': 26944, 'confirmed': 4959, 'interlock': 12701, 'vehicle': 26436, 'aclu': 227, 'licensed': 14191, 'rectified': 20049, 'techy': 24507, 'isp': 12923, 'firewire': 9170, 'hosed': 11693, 'overwhelmed': 17511, 'ponder': 18669, 'commit': 4743, 'fathom': 8870, 'obessive': 16916, 'plague': 18448, 'congrat': 4982, 'bachelor': 1786, 'thumb': 24893, 'pish': 18398, 'yikes': 27759, 'lively': 14378, 'mri': 16060, 'delegated': 6245, 'box': 2862, 'skyrocketed': 22484, 'grrr': 10665, 'relegated': 20267, 'mmurphy': 15761, 'nospamyahoo': 16761, 'greeting': 10570, 'shiva': 22079, 'respective': 20556, 'grander': 10482, 'ahvanet': 535, 'indefinitely': 12303, 'portion': 18755, 'tomfoolery': 25112, 'minimum': 15624, 'maintain': 14841, 'morrissey': 15970, 'modest': 15795, 'franz': 9608, 'ferdinand': 8991, 'pixy': 18434, 'shabby': 21918, 'assuming': 1465, 'xanga': 27624, 'nooooo': 16727, 'crusade': 5650, 'outplace': 17393, 'venerable': 26449, 'smokey': 22658, 'reddy': 20060, 'chattering': 3998, 'motto': 16013, 'wildfire': 27268, 'uma': 25799, 'therman': 24771, 'candle': 3507, 'bea': 2073, 'photoshop': 18244, 'surfing': 24043, 'sfw': 21913, 'nsfw': 16820, 'vid': 26547, 'titled': 25028, 'cassie': 3681, 'billion': 2371, 'agreement': 508, 'loses': 14561, 'bn': 2647, 'monies': 15870, 'surplus': 24055, 'handout': 10973, 'william': 27278, 'gibson': 10146, 'johvan': 13215, 'diggin': 6670, 'idiot': 11990, 'blogroll': 2579, 'hmph': 11500, 'sprint': 23212, 'priveledge': 19116, 'sauce': 21367, 'milblogs': 15561, 'dore': 7168, 'gold': 10321, 'wahhabi': 26789, 'cleric': 4420, 'preached': 18916, 'jihad': 13153, 'philanthropist': 18199, 'subsidise': 23811, 'guise': 10740, 'promoting': 19241, 'withdraw': 27367, 'strategic': 23625, 'outweighed': 17418, 'vulnerability': 26736, 'athist': 1522, 'similar': 22321, 'geopolitical': 10094, 'drawback': 7272, 'tying': 25713, 'leak': 13990, 'saud': 21368, 'welcomed': 27076, 'mural': 16152, 'cleanliness': 4397, 'fuzzies': 9848, 'socialite': 22782, 'goer': 10314, 'garden': 9944, 'timing': 24982, 'buffet': 3162, 'chafing': 3889, 'crispy': 5583, 'savory': 21389, 'grease': 10547, 'cholesterol': 4177, 'fortune': 9534, 'perched': 18039, 'stool': 23570, 'milling': 15585, 'assure': 1468, 'performer': 18056, 'bette': 2306, 'miller': 15580, 'impersonator': 12149, 'blinding': 2530, 'goddess': 10305, 'gloria': 10257, 'competent': 4799, 'admitted': 344, 'glued': 10274, 'questionnaire': 19588, 'resolution': 20535, 'catillian': 3734, 'idic': 11984, 'cummings': 5728, 'dearly': 6049, 'compliment': 4831, 'rowland': 21044, 'bobby': 2673, 'kindergarten': 13578, 'monster': 15890, 'wonderfully': 27425, 'curl': 5751, 'slapped': 22505, 'loserdom': 14559, 'kettenhoffer': 13497, 'nikon': 16628, 'prod': 19167, 'nest': 16501, 'ant': 997, 'swarmed': 24132, 'groundhog': 10648, 'butterbuns': 3317, 'underdog': 25910, 'nicky': 16597, 'confusion': 4978, 'polling': 18645, 'bb': 2064, 'bumble': 3217, 'bee': 2151, 'fuzzy': 9850, 'antenae': 1005, 'nickey': 16595, 'punxatawney': 19452, 'stardom': 23359, 'hitting': 11481, 'spotlight': 23189, 'prognasticating': 19198, 'coin': 4596, 'toss': 25195, 'calc': 3414, 'lator': 13908, 'creaking': 5520, 'attic': 1573, 'unsafe': 26136, 'spark': 23000, 'vacuum': 26333, 'void': 26680, 'oddest': 17007, 'bravo': 2935, 'stance': 23332, 'snooty': 22734, 'snob': 22730, 'lends': 14089, 'jpegs': 13271, 'dprk': 7238, 'jong': 13238, 'bono': 2739, 'throng': 24874, 'adoring': 365, 'accompanying': 165, 'entourage': 8093, 'roadies': 20866, 'distant': 6961, 'require': 20476, 'attract': 1579, 'obliquely': 16936, 'worded': 27478, 'legalized': 14048, 'euthenasia': 8347, 'terminally': 24635, 'offensive': 17031, 'sacredness': 21162, 'blondie': 2588, 'elvis': 7809, 'costello': 5361, 'onward': 17150, 'parallel': 17694, 'osmosis': 17330, 'conscious': 5028, 'nascent': 16335, 'maturity': 15172, 'gary': 9964, 'numan': 16846, 'metro': 15477, 'lean': 13993, 'synth': 24251, 'emotional': 7879, 'segway': 21725, 'mt': 16070, 'auto': 1653, 'comparatively': 4775, 'runner': 21116, 'cyclist': 5816, 'homer': 11580, 'philistine': 18204, 'hopeful': 11648, 'stud': 23725, 'raiser': 19728, 'terminator': 24639, 'hearty': 11201, 'magnitude': 14815, 'thrilled': 24860, 'psycho': 19368, 'leading': 13985, 'capped': 3557, 'prior': 19101, 'harpoon': 11064, 'miler': 15567, 'suffer': 23871, 'recurrance': 20052, 'inflammation': 12419, 'recovery': 20039, 'setback': 21877, 'dwell': 7488, 'negative': 16451, 'dealt': 6042, 'kiwi': 13621, 'brazilian': 2940, 'individually': 12346, 'introduced': 12775, 'pontoon': 18679, 'helicopter': 11269, 'underwater': 25942, 'diver': 7006, 'fliming': 9301, 'swim': 24186, 'tighten': 24949, 'choppy': 4193, 'tempo': 24578, 'exited': 8524, 'triathlon': 25448, 'lap': 13860, 'cog': 4576, 'closest': 4476, 'col': 4606, 'tour': 25222, 'transition': 25344, 'crawled': 5507, 'digesting': 6667, 'philosophically': 18210, 'resonated': 20541, 'disasterous': 6787, 'honolulu': 11612, 'countless': 5395, 'mananged': 14910, 'requalify': 20471, 'bellingham': 2218, 'itu': 12948, 'exiting': 8525, 'racing': 19675, 'graciously': 10446, 'sail': 21212, 'quitting': 19632, 'reservoir': 20511, 'karma': 13406, 'tapped': 24392, 'heheheheheehehe': 11254, 'eviiiil': 8399, 'meekest': 15318, 'meek': 15317, 'goodie': 10356, 'zoo': 27931, 'roster': 20995, 'robin': 20895, 'beam': 2085, 'upstairs': 26233, 'deck': 6114, 'bbq': 2066, 'chirped': 4155, 'chirp': 4154, 'dive': 7004, 'bombed': 2713, 'outage': 17361, 'simultaneously': 22348, 'struck': 23701, 'niagara': 16577, 'mohawk': 15811, 'grid': 10585, 'failed': 8741, 'torment': 25173, 'actress': 262, 'crew': 5559, 'bruschetta': 3099, 'colin': 4621, 'guinn': 10738, 'corpus': 5313, 'christi': 4214, 'dating': 5983, 'owns': 17529, 'longevity': 14501, 'wellness': 27085, 'cu': 5676, 'fwy': 9854, 'hooka': 11628, 'carlene': 3613, 'jill': 13155, 'lorraine': 14550, 'bomb': 2710, 'axe': 1746, 'kurianski': 13746, 'muffled': 16099, 'suite': 23901, 'eastern': 7549, 'accent': 137, 'bandwidth': 1895, 'acted': 248, 'responded': 20561, 'testis': 24678, 'haxxor': 11131, 'denmark': 6328, 'resemblance': 20498, 'moby': 15775, 'downright': 7222, 'tex': 24690, 'mysteriously': 16243, 'rubbing': 21066, 'ownage': 17524, 'haughty': 11103, 'bastion': 2020, 'resistance': 20529, 'strategy': 23628, 'solely': 22829, 'constituency': 5078, 'thankyou': 24726, 'walkin': 26821, 'virtual': 26623, 'taiwan': 24312, 'hong': 11606, 'kong': 13685, 'returning': 20655, 'asia': 1393, 'traveled': 25387, 'helsinki': 11298, 'medieval': 15303, 'castle': 3690, 'coat': 4530, 'haze': 11142, 'solongs': 22845, 'ash': 1381, 'parenthesis': 17722, 'soooooo': 22897, 'ami': 814, 'functional': 9783, 'luverly': 14707, 'bearbrick': 2094, 'texted': 24696, 'sex': 21900, 'lotr': 14569, 'arrogant': 1324, 'thou': 24833, 'doth': 7185, 'liar': 14172, 'hamlet': 10937, 'harmful': 11052, 'bake': 1851, 'bite': 2427, 'trent': 25437, 'lott': 14572, 'segregation': 21721, 'garbage': 9941, 'entitled': 8090, 'resign': 20523, 'tom': 25102, 'joyner': 13270, 'voter': 26718, 'perception': 18036, 'wheeee': 27138, 'emo': 7875, 'moody': 15910, 'moodyness': 15911, 'consists': 5061, 'rhcp': 20721, 'slice': 22545, 'mi': 15492, 'torturing': 25191, 'rahn': 19709, 'keth': 13495, 'cube': 5685, 'occupant': 16976, 'dispose': 6917, 'removing': 20350, 'aesthetic': 412, 'waaay': 26753, 'aeroplane': 410, 'coquitlam': 5277, 'mandarin': 14915, 'cantonese': 3531, 'paradise': 17686, 'newport': 16552, 'topography': 25156, 'ensign': 8049, 'trek': 25424, 'voyager': 26728, 'jetlag': 13132, 'boggled': 2685, 'cable': 3369, 'afn': 452, 'homepage': 11579, 'newsanchor': 16554, 'inline': 12513, 'rollerblade': 20938, 'lineup': 14293, 'opsec': 17225, 'operational': 17195, 'enlisted': 8030, 'mp': 16054, 'scheme': 21469, 'fantastic': 8818, 'proving': 19334, 'universal': 26044, 'enhancement': 8013, 'willi': 27277, 'allusion': 707, 'spoof': 23173, 'cnbc': 4518, 'clubhouse': 4497, 'swanky': 24126, 'sunning': 23955, 'gabbing': 9863, 'visor': 26644, 'ray': 19844, 'exercising': 8495, 'flame': 9232, 'idle': 11994, 'sauna': 21370, 'fiber': 9047, 'devoid': 6555, 'derriere': 6403, 'calvinist': 3452, 'confucius': 4972, 'deserved': 6432, 'advertises': 392, 'surprize': 24061, 'completly': 4820, 'diffrent': 6660, 'definitly': 6214, 'courage': 5408, 'esteem': 8283, 'aproch': 1183, 'ee': 7633, 'palestine': 17620, 'wern': 27098, 'expecting': 8543, 'somethings': 22864, 'gravy': 10540, 'pimp': 18348, 'barley': 1957, 'riight': 20797, 'worrying': 27508, 'bald': 1863, 'ramble': 19749, 'flip': 9310, 'nastily': 16344, 'ridiculous': 20774, 'taller': 24339, 'younger': 27803, 'protective': 19304, 'livejournal': 14376, 'boyfr': 2872, 'hilarity': 11420, 'pbase': 17893, 'arg': 1236, 'dumb': 7417, 'mbfgw': 15203, 'ethnic': 8315, 'undeveloped': 25950, 'predictable': 18943, 'trite': 25492, 'mailbox': 14829, 'wooah': 27437, 'woooah': 27458, 'yeh': 27726, 'katrina': 13421, 'allright': 701, 'lantern': 13856, 'nytimes': 16898, 'comi': 4708, 'whoosh': 27215, 'breakneck': 2950, 'buckaroo': 3133, 'wuss': 27607, 'prix': 19119, 'overtake': 17496, 'crashing': 5497, 'hockey': 11517, 'injury': 12502, 'karting': 13410, 'expedition': 8546, 'pedel': 17940, 'metal': 15449, 'straightest': 23601, 'enjpy': 8022, 'tap': 24385, 'skidding': 22448, 'crashed': 5496, 'painful': 17590, 'lurched': 14688, 'tagging': 24292, 'whadda': 27121, 'teach': 24469, 'woohoo': 27448, 'converted': 5208, 'warehouse': 26866, 'slowing': 22592, 'sundance': 23940, 'funneee': 9807, 'duellacathata': 7403, 'representative': 20447, 'falchez': 8770, 'sealed': 21628, 'tomb': 25108, 'gimmick': 10173, 'antipathy': 1025, 'subpar': 23800, 'assert': 1432, 'feeble': 8941, 'endearing': 7956, 'foal': 9389, 'spoiler': 23152, 'havne': 11119, 'matrix': 15159, 'reloaded': 20293, 'candy': 3509, 'problematic': 19138, 'arbitrarily': 1205, 'spit': 23126, 'correlation': 5322, 'referrers': 20117, 'contemptible': 5122, 'tease': 24485, 'byu': 3351, 'cougar': 5372, 'netted': 16516, 'zero': 27887, 'absolute': 97, 'hoot': 11641, 'spends': 23080, 'perpetuate': 18091, 'kathy': 13418, 'mineral': 15610, 'ridge': 20770, 'stopping': 23580, 'carmen': 3618, 'san': 21279, 'diego': 6632, 'awesomerific': 1723, 'desperatly': 6458, 'skidattle': 22447, 'awkwardness': 1731, 'ditch': 6992, 'bitched': 2424, 'roxanne': 21046, 'courney': 5411, 'decides': 6104, 'ewwww': 8423, 'thong': 24822, 'jeez': 13081, 'piss': 18400, 'lovey': 14611, 'duvey': 7480, 'compromise': 4851, 'square': 23236, 'defeat': 6174, 'resent': 20502, 'remark': 20309, 'multiple': 16124, 'repeatedly': 20398, 'amy': 849, 'degrading': 6227, 'nialls': 16578, 'viva': 26658, 'misspelling': 15703, 'waterfall': 26934, 'cny': 4521, 'chu': 4231, 'goody': 10361, 'flyer': 9382, 'organise': 17272, 'fiathful': 9045, 'regularly': 20196, 'grind': 10604, 'escape': 8228, 'geddit': 10019, 'anorexic': 985, 'coupled': 5404, 'doodeedoodeedoo': 7148, 'excerpt': 8454, 'euphorically': 8333, 'revving': 20704, 'roar': 20874, 'machinery': 14751, 'ease': 7541, 'rump': 21106, 'vegan': 26427, 'pork': 18731, 'legislation': 14058, 'whit': 27184, 'association': 1459, 'coalition': 4525, 'incidental': 12246, 'supporting': 24010, 'intimidation': 12752, 'coercion': 4571, 'pared': 17718, 'nefarious': 16448, 'mainly': 14839, 'paint': 17597, 'gerbil': 10103, 'fur': 9820, 'indonesian': 12350, 'nike': 16626, 'deficimy': 6198, 'itching': 12939, 'bow': 2853, 'itunes': 12949, 'tum': 25612, 'lunchtime': 14681, 'jamaican': 12997, 'skit': 22466, 'unavailable': 25840, 'nam': 16290, 'nerve': 16495, 'motherfucker': 15990, 'hyphen': 11909, 'complains': 4811, 'presenter': 19010, 'legit': 14061, 'tshirt': 25572, 'gangsta': 9932, 'tire': 25008, 'grinding': 10606, 'forth': 9526, 'bakersfield': 1854, 'mobile': 15772, 'suv': 24110, 'hybrid': 11887, 'ford': 9464, 'minivan': 15629, 'ripped': 20825, 'johnson': 13213, 'milpitas': 15590, 'auntie': 1621, 'filipino': 9098, 'aurea': 1625, 'oreo': 17267, 'youngster': 27805, 'clutch': 4511, 'phenomenon': 18193, 'bowed': 2855, 'auren': 1627, 'ednalino': 7620, 'aunty': 1623, 'bastos': 2022, 'bawdy': 2056, 'tagalog': 24289, 'ay': 1750, 'ka': 13356, 'tigas': 24945, 'buhok': 3176, 'pancit': 17642, 'richard': 20743, 'biggs': 2355, 'unexpected': 25976, 'staunch': 23412, 'india': 12315, 'destroying': 6481, 'voluntarily': 26695, 'educational': 7631, 'infurirated': 12457, 'mouthin': 16038, 'aptly': 1188, 'illustrated': 12049, 'irritated': 12892, 'embeded': 7839, 'brian': 2981, 'actualy': 269, 'shiter': 22074, 'gota': 10399, 'custody': 5787, 'stil': 23516, 'meanin': 15259, 'observation': 16946, 'harsh': 11077, 'truthful': 25564, 'sensitive': 21795, 'kno': 13657, 'forgive': 9494, 'ne': 16399, 'thort': 24829, 'beca': 2123, 'wld': 27392, 'dsnt': 7382, 'xactly': 27623, 'dope': 7164, 'zombie': 27927, 'upcoming': 26194, 'idol': 11997, 'seacrest': 21623, 'nova': 16801, 'taunting': 24440, 'outgrew': 17376, 'pretending': 19036, 'mending': 15386, 'deed': 6160, 'safer': 21197, 'delighted': 6260, 'toot': 25147, 'horn': 11670, 'tooting': 25154, 'paraphrased': 17704, 'marci': 15004, 'alboher': 605, 'nusbaum': 16869, 'refurbished': 20154, 'deco': 6127, 'sprouting': 23218, 'mushroom': 16177, 'chic': 4095, 'deciding': 6106, 'monique': 15872, 'skruzny': 22472, 'standout': 23341, 'delano': 6239, 'hipness': 11448, 'abound': 76, 'homemade': 11575, 'flavored': 9270, 'lemonade': 14084, 'lobby': 14431, 'recommends': 20010, 'mingle': 15613, 'contacted': 5107, 'extolled': 8641, 'twould': 25707, 'sequin': 21835, 'complaint': 4812, 'dade': 5846, 'clarify': 4355, 'exchanged': 8458, 'weaker': 26984, 'decisive': 6112, 'closure': 4480, 'direct': 6744, 'nonsense': 16717, 'oppressed': 17218, 'clouded': 4487, 'unsatisfied': 26140, 'compelling': 4791, 'cheering': 4034, 'championship': 3916, 'opposing': 17214, 'coach': 4522, 'loudly': 14581, 'stated': 23395, 'roadhouse': 20865, 'arresting': 1313, 'killing': 13558, 'muslim': 16187, 'contained': 5110, 'justified': 13343, 'freely': 9639, 'mighty': 15548, 'darkly': 5949, 'elminated': 7798, 'piloted': 18346, 'hijacked': 11411, 'airliner': 566, 'lake': 13823, 'fertilizer': 9005, 'neutralize': 16529, 'erase': 8180, 'descendent': 6409, 'existed': 8516, 'hound': 11725, 'luc': 14638, 'wooohoooo': 27461, 'reconstruction': 20022, 'heeeeeeeeeee': 11235, 'villian': 26586, 'relieved': 20284, 'tad': 24282, 'melt': 15361, 'domination': 7114, 'disappears': 6776, 'restrained': 20591, 'dismay': 6887, 'spelled': 23073, 'differently': 6652, 'liscious': 14333, 'indulgence': 12360, 'pity': 18425, 'shaking': 21940, 'niceness': 16584, 'romance': 20948, 'upward': 26244, 'eternal': 8301, 'insists': 12572, 'penis': 18000, 'grimley': 10601, 'clash': 4364, 'civilization': 4316, 'powder': 18853, 'keg': 13456, 'ignite': 12006, 'hoped': 11647, 'catalyst': 3703, 'lighting': 14237, 'marx': 15080, 'opiate': 17201, 'thrive': 24864, 'soaked': 22759, 'thunder': 24895, 'sends': 21779, 'spine': 23113, 'mmm': 15747, 'streaming': 23641, 'depended': 6357, 'screeching': 21565, 'thomas': 24819, 'occured': 16985, 'booger': 2750, 'sinking': 22378, 'supply': 24005, 'hahaha': 10856, 'hawaii': 11124, 'vega': 26426, 'nevada': 16531, 'ironically': 12871, 'chicago': 4096, 'baltimore': 1878, 'orleans': 17302, 'mounting': 16023, 'cuter': 5796, 'yeouido': 27743, 'rarity': 19800, 'brutal': 3108, 'canadian': 3490, 'junseok': 13332, 'hye': 11896, 'kyung': 13770, 'deok': 6349, 'bluff': 2628, 'ri': 20732, 'obligatory': 16932, 'cha': 3883, 'correction': 5317, 'hongdae': 11607, 'university': 26047, 'nak': 16286, 'ji': 13143, 'octopus': 17001, 'noraebang': 16734, 'karaoke': 13396, 'clubnb': 4499, 'basement': 1995, 'kangnam': 13387, 'crawling': 5508, 'balk': 1864, 'sedate': 21696, 'mba': 15201, 'fitting': 9205, 'hae': 10841, 'ewha': 8417, 'daldeong': 5871, 'hormone': 11669, 'definately': 6203, 'melted': 15363, 'puddle': 19403, 'tutorial': 25667, 'wraith': 27550, 'hoggle': 11525, 'kristensen': 13714, 'shattering': 21982, 'savvy': 21393, 'opinionated': 17205, 'inner': 12521, 'foutsy': 9560, 'outright': 17400, 'outjump': 17379, 'squeal': 23247, 'shrill': 22185, 'soprano': 22916, 'fallen': 8775, 'groom': 10632, 'scrotal': 21592, 'bling': 2534, 'fouts': 9559, 'magnificent': 14813, 'bonus': 2740, 'gaining': 9886, 'squishy': 23269, 'flattering': 9262, 'rubberbanded': 21065, 'neato': 16417, 'establishment': 8279, 'coworker': 5445, 'gina': 10175, 'acquaintance': 233, 'unfortunate': 25996, 'tora': 25167, 'teenus': 24527, 'synpopsis': 24247, 'boom': 2763, 'crash': 5494, 'yap': 27690, 'whack': 27118, 'swoosh': 24211, 'concluded': 4898, 'select': 21737, 'fastidiously': 8859, 'dedicate': 6149, 'bulk': 3200, 'pitcher': 18414, 'hitter': 11479, 'tasteless': 24425, 'encumbered': 7951, 'shakeer': 21936, 'counting': 5394, 'disappointment': 6780, 'osphere': 17333, 'steven': 23489, 'levy': 14149, 'newsweek': 16566, 'crutial': 5659, 'sentece': 21803, 'opera': 17190, 'romeo': 20956, 'juliette': 13309, 'intermission': 12703, 'donned': 7135, 'skirt': 22465, 'brooch': 3061, 'gloss': 10263, 'selected': 21738, 'topped': 25157, 'peering': 17964, 'alternately': 738, 'evaluated': 8355, 'ymca': 27771, 'bixby': 2437, 'stank': 23347, 'freestyle': 9642, 'flutter': 9378, 'critiqued': 5594, 'freestlye': 9641, 'drill': 7315, 'alternate': 737, 'stroke': 23688, 'breaststroke': 2954, 'pointer': 18595, 'endurance': 7972, 'backstroke': 1807, 'zoomed': 27935, 'chlorine': 4162, 'chlorined': 4163, 'ciao': 4252, 'watchin': 26924, 'sane': 21298, 'complain': 4808, 'surreal': 24062, 'surroundings': 24073, 'yearn': 27717, 'unexplainable': 25978, 'uncomprehendable': 25876, 'oneself': 17133, 'terrifying': 24654, 'transparent': 25357, 'exposing': 8610, 'blindness': 2532, 'depression': 6387, 'insightful': 12563, 'deceptive': 6099, 'moreso': 15951, 'winnie': 27323, 'lotta': 14573, 'convergence': 5198, 'harkening': 11047, 'influencing': 12433, 'christianity': 4216, 'usurping': 26302, 'radical': 19689, 'aprently': 1181, 'woooo': 27462, 'yeaaaa': 27709, 'gnawing': 10290, 'everythung': 8386, 'tooth': 25148, 'amuse': 845, 'wordplay': 27480, 'perilous': 18062, 'pontifications': 18677, 'sysop': 24257, 'eeba': 7634, 'deeba': 6159, 'visuals': 26652, 'artwork': 1361, 'iconography': 11956, 'stylistic': 23769, 'dissappointed': 6941, 'unpleasant': 26102, 'eager': 7512, 'weirdness': 27069, 'celebrate': 3806, 'bastille': 2019, 'celebrating': 3809, 'monarchal': 15849, 'pimped': 18349, 'baguette': 1833, 'croissant': 5603, 'yummier': 27839, 'dijon': 6684, 'champagne': 3913, 'cannes': 3518, 'paris': 17730, 'hilton': 11430, 'jaques': 13027, 'costeau': 5360, 'marc': 14999, 'gaspard': 9970, 'itard': 12936, 'aveyron': 1687, 'matisse': 15155, 'degas': 6223, 'cezanne': 3873, 'monet': 15858, 'rodin': 20918, 'renior': 20368, 'joan': 13183, 'endorse': 7968, 'welcoming': 27077, 'revolution': 20701, 'bestowed': 2292, 'blowin': 2612, 'meee': 15315, 'explodingdog': 8590, 'mainland': 14837, 'babylon': 1779, 'buchanan': 3130, 'zone': 27929, 'efficacy': 7666, 'adverse': 385, 'allergic': 675, 'sneezing': 22711, 'pepper': 18020, 'wendy': 27092, 'flush': 9374, 'flick': 9293, 'occupied': 16979, 'negativity': 16453, 'arise': 1261, 'condemn': 4914, 'bury': 3281, 'saintly': 21219, 'grist': 10615, 'rejoice': 20236, 'investigate': 12809, 'bhante': 2329, 'henepola': 11316, 'gunaratana': 10754, 'mindfulness': 15604, 'beliefnet': 2206, 'navy': 16382, 'serving': 21871, 'appreciate': 1152, 'ado': 348, 'festive': 9010, 'ongoing': 17136, 'holmes': 11556, 'largest': 13869, 'population': 18720, 'amish': 821, 'electricity': 7739, 'automobile': 1663, 'dbms': 6020, 'tbcm': 24457, 'hofm': 11521, 'arh': 1253, 'duh': 7409, 'drawing': 7274, 'wowchow': 27542, 'taekwondo': 24287, 'starving': 23387, 'kenny': 13474, 'rogers': 20926, 'craving': 5504, 'tampines': 24357, 'ntuc': 16824, 'fren': 9649, 'learnt': 14005, 'luo': 14685, 'guo': 10764, 'spider': 23095, 'rearranging': 19917, 'replacing': 20423, 'shoebox': 22097, 'reassured': 19927, 'sufficient': 23876, 'reassure': 19926, 'wickedly': 27229, 'seduced': 21700, 'stormy': 23588, 'wale': 26815, 'haunt': 11108, 'comedy': 4695, 'chortle': 4197, 'reviewed': 20687, 'disregarding': 6931, 'regard': 20165, 'applies': 1141, 'ratify': 19818, 'distanced': 6960, 'illusion': 12046, 'answerable': 993, 'cosmetic': 5350, 'shown': 22167, 'hypothesis': 11918, 'introduce': 12774, 'mandatory': 14918, 'turnout': 25648, 'legitimacy': 14062, 'coerced': 4570, 'dilemma': 6689, 'legitimately': 14064, 'candidate': 3503, 'electorate': 7736, 'comprehensive': 4846, 'electoral': 7735, 'spoiling': 23153, 'interpreted': 12718, 'recap': 19952, 'chomsky': 4181, 'itty': 12947, 'bitty': 2436, 'paste': 17812, 'eurogamer': 8338, 'microsoft': 15519, 'xna': 27644, 'consumer': 5098, 'electronics': 7744, 'hardest': 11038, 'waazoo': 26755, 'manufacturer': 14980, 'competing': 4800, 'opengl': 17186, 'directx': 6753, 'console': 5063, 'adoption': 361, 'phantom': 18180, 'infinim': 12413, 'bandwagon': 1894, 'trail': 25290, 'technologically': 24502, 'dolby': 7089, 'mono': 15879, 'churning': 4246, 'upwards': 26245, 'fps': 9568, 'handheld': 10959, 'flexible': 9292, 'oftentimes': 17055, 'psp': 19356, 'oversimplification': 17486, 'kida': 13537, 'rig': 20784, 'audition': 1607, 'energetic': 7978, 'rude': 21074, 'coinsidently': 4603, 'chakras': 3901, 'marathon': 14994, 'desolate': 6451, 'glorious': 10261, 'err': 8205, 'profusely': 19197, 'kool': 13692, 'obsession': 16953, 'vampire': 26369, 'aspiration': 1417, 'versa': 26494, 'invitation': 12822, 'oral': 17241, 'teeth': 24531, 'seminal': 21765, 'plasma': 18470, 'zinc': 27908, 'calcium': 3415, 'retard': 20622, 'omit': 17120, 'suffice': 23875, 'squeezing': 23253, 'crest': 5555, 'tartar': 24410, 'parenthetically': 17724, 'etiquette': 8318, 'brushing': 3103, 'intimacy': 12748, 'promote': 19238, 'hygiene': 11899, 'purely': 19463, 'physiological': 18262, 'psychologist': 19374, 'gordon': 10388, 'gallup': 9908, 'sexually': 21908, 'participant': 17760, 'condom': 4929, 'causality': 3752, 'prostoglandin': 19298, 'semen': 21762, 'absorbed': 107, 'genital': 10064, 'tract': 25266, 'modulating': 15801, 'mindi': 15605, 'pisces': 18397, 'romantic': 20950, 'twelfth': 25683, 'zodiac': 27924, 'regarded': 20166, 'sensitivity': 21796, 'receptivity': 19968, 'chameleon': 3911, 'mutable': 16198, 'infinitely': 12415, 'keywords': 13513, 'ruler': 21094, 'neptune': 16492, 'imprison': 12188, 'governs': 10425, 'facet': 8707, 'realm': 19901, 'intuition': 12787, 'aspect': 1413, 'unconscious': 25882, 'telepathic': 24545, 'sector': 21682, 'associated': 1458, 'seclusion': 21669, 'restriction': 20596, 'wellspring': 27086, 'psychological': 19372, 'repress': 20450, 'adapt': 282, 'exigency': 8510, 'ingeniously': 12461, 'interaction': 12674, 'personable': 18113, 'altruistic': 748, 'empathetic': 7882, 'healer': 11168, 'highly': 11401, 'creativity': 5535, 'predispose': 18949, 'expression': 8616, 'weakness': 26986, 'willed': 27274, 'passive': 17806, 'indecisive': 12301, 'indulge': 12358, 'dreamworld': 7294, 'frustrate': 9734, 'oversensitive': 17483, 'fragile': 9572, 'victimized': 26542, 'aries': 1259, 'outdo': 17369, 'decisiveness': 6113, 'enables': 7914, 'excel': 8445, 'impulsive': 12202, 'hastily': 11091, 'reconsider': 20018, 'irreversible': 12886, 'influential': 12434, 'ambitious': 789, 'quail': 19541, 'inadvertently': 12213, 'recognize': 20000, 'separated': 21818, 'instinct': 12606, 'controlled': 5182, 'concentration': 4880, 'remedial': 20318, 'thrust': 24887, 'blink': 2535, 'reaction': 19863, 'capitalistic': 3550, 'stress': 23655, 'individuality': 12345, 'aggrandize': 484, 'root': 20979, 'viewpoint': 26569, 'extensive': 8630, 'controllable': 5180, 'intertwined': 12735, 'potent': 18821, 'blithering': 2544, 'recognizable': 19999, 'contortion': 5151, 'differs': 6655, 'exert': 8496, 'destructive': 6484, 'solace': 22821, 'yardstick': 27692, 'moan': 15765, 'flattery': 9263, 'basest': 1996, 'rawest': 19842, 'boiled': 2693, 'instinctive': 12607, 'behaviour': 2185, 'lovin': 14612, 'irrational': 12876, 'illogical': 12044, 'measuring': 15273, 'maintaining': 14844, 'fairy': 8758, 'poisoning': 18604, 'sittin': 22414, 'puke': 19416, 'shivering': 22082, 'phlegm': 18217, 'mmmmmmmmm': 15756, 'patrick': 17837, 'forceful': 9460, 'appendix': 1128, 'objectivist': 16926, 'professing': 19182, 'undying': 25961, 'arthouse': 1338, 'deteriorated': 6506, 'startling': 23379, 'comply': 4834, 'accord': 173, 'explicitly': 8586, 'disposed': 6918, 'documentation': 7063, 'inflection': 12424, 'convey': 5213, 'canm': 3516, 'resolve': 20536, 'kelly': 13459, 'moranweb': 15944, 'reasonably': 19921, 'virtue': 26625, 'straightforward': 23602, 'logical': 14467, 'attribute': 1587, 'naturally': 16365, 'notch': 16771, 'profession': 19183, 'quirk': 19620, 'predicament': 18939, 'leeway': 14031, 'bothersome': 2824, 'factor': 8723, 'logic': 14466, 'location': 14445, 'nearby': 16405, 'periodic': 18064, 'typo': 25730, 'uplifting': 26210, 'patriotic': 17839, 'rageous': 19706, 'identity': 11980, 'stephanie': 23465, 'saliba': 21239, 'buddddieeee': 3145, 'pssssssst': 19357, 'whynot': 27222, 'funnnnnnnnniiiiiieeeeeeeeeeeeeeeesttttttttttttttttttt': 9817, 'hahahaha': 10858, 'eeeew': 7643, 'infuriate': 12453, 'criticizes': 5591, 'criticized': 5590, 'partial': 17758, 'ovation': 17423, 'jeer': 13077, 'documentary': 7062, 'nominee': 16700, 'solidarity': 22836, 'nonfiction': 16712, 'fictitious': 9059, 'elect': 7727, 'duct': 7400, 'applause': 1134, 'orchestra': 17250, 'cue': 5695, 'filmmaker': 9109, 'shouted': 22151, 'afterward': 472, 'levity': 14148, 'backstage': 1804, 'joked': 13223, 'teamster': 24476, 'limo': 14277, 'gunman': 10758, 'eric': 8189, 'harris': 11070, 'dylan': 7502, 'klebold': 13628, 'split': 23144, 'booed': 2747, 'rotund': 21011, 'scruffy': 21598, 'bearded': 2096, 'activist': 257, 'flint': 9309, 'mich': 15499, 'roger': 20924, 'pursued': 19485, 'motor': 16006, 'corp': 5307, 'confront': 4968, 'favoring': 8889, 'scattered': 21454, 'grim': 10600, 'sober': 22770, 'contrast': 5166, 'glitzy': 10247, 'glorification': 10258, 'adaptation': 283, 'meryl': 15427, 'streep': 23643, 'scorsese': 21534, 'dove': 7202, 'formal': 9508, 'netflix': 16507, 'omelette': 17116, 'volunteermatch': 26700, 'leeched': 14028, 'trusty': 25562, 'voucher': 26722, 'taped': 24387, 'underside': 25930, 'cement': 3827, 'bench': 2235, 'justg': 13340, 'banger': 1901, 'bugging': 3169, 'spontaneous': 23170, 'kilda': 13551, 'pier': 18307, 'requested': 20473, 'reparked': 20391, 'broad': 3038, 'daylight': 6002, 'freaky': 9623, 'bic': 2340, 'runga': 21114, 'collision': 4647, 'jb': 13056, 'hifi': 11391, 'heidi': 11255, 'wooohooo': 27460, 'thaaaaaaaaaaaaaat': 24707, 'sue': 23867, 'playboy': 18487, 'daytona': 6008, 'dragon': 7251, 'baaaaaah': 1763, 'obsessive': 16954, 'compulsive': 4856, 'muahahhahahha': 16086, 'client': 4432, 'supplier': 24004, 'subway': 23837, 'feedback': 8944, 'sated': 21343, 'hunger': 11840, 'noooooo': 16728, 'bratpage': 2925, 'nuff': 16839, 'epitaph': 8145, 'graveyard': 10536, 'craggly': 5467, 'overhanging': 17451, 'twilight': 25689, 'chirping': 4156, 'flittering': 9317, 'dragonfly': 7252, 'amidst': 818, 'serenity': 21845, 'tombstone': 25110, 'etched': 8300, 'granite': 10497, 'eternally': 8303, 'aaahhh': 12, 'cryptic': 5667, 'embody': 7846, 'innate': 12519, 'quirkiness': 19621, 'mundane': 16143, 'boss': 2814, 'plural': 18561, 'edgy': 7605, 'unfocused': 25991, 'rested': 20578, 'buttery': 3322, 'twitching': 25702, 'developed': 6535, 'twitch': 25701, 'condone': 4930, 'exasperation': 8439, 'hurry': 11862, 'sped': 23061, 'seed': 21703, 'anxious': 1045, 'calmer': 3446, 'oatmeal': 16907, 'conditioner': 4924, 'riot': 20819, 'bosco': 2809, 'explosion': 8601, 'completing': 4819, 'doom': 7154, 'gloom': 10255, 'lifelong': 14215, 'eliz': 7784, 'swiped': 24195, 'cocoon': 4556, 'yayyyyyyyy': 27706, 'napping': 16316, 'borrow': 2802, 'xbox': 27625, 'spiderman': 23096, 'poland': 18613, 'needing': 16443, 'jsut': 13278, 'mclean': 15240, 'arctic': 1225, 'everest': 8376, 'dominion': 7118, 'wierd': 27242, 'awwwwwwwwwwwww': 1743, 'marshmellows': 15063, 'ricecakes': 20741, 'ripe': 20821, 'uhhhhhhh': 25771, 'cutter': 5803, 'lookin': 14516, 'hahahahhahahahahha': 10865, 'ca': 3357, 'nt': 16821, 'coughcoughbullshitcoughcough': 5374, 'gunna': 10759, 'homedepot': 11567, 'walmart': 26832, 'phoned': 18226, 'purported': 19476, 'stressed': 23656, 'chem': 4050, 'lab': 13775, 'fury': 9832, 'presidential': 19021, 'summary': 23918, 'dhimmicratic': 6575, 'hanoi': 10996, 'groupie': 10652, 'richest': 20747, 'marrying': 15058, 'carter': 3647, 'governed': 10418, 'whiter': 27189, 'jackson': 12973, 'mayor': 15194, 'bankruptcy': 1912, 'alien': 646, 'chemtrails': 4057, 'device': 6545, 'mullah': 16114, 'pogrom': 18591, 'baiter': 1846, 'cockalorum': 4545, 'kah': 13365, 'kuh': 13736, 'boastful': 2660, 'giggle': 10158, 'overloaded': 17464, 'grr': 10664, 'sullivan': 23907, 'gentleman': 10075, 'wsj': 27596, 'claiming': 4331, 'cheny': 4064, 'tie': 24937, 'halliburton': 10912, 'sacrificing': 21165, 'dubya': 7393, 'strongman': 23699, 'tantamount': 24380, 'gannon': 9935, 'hamas': 10932, 'militant': 15571, 'liquidation': 14326, 'truck': 25537, 'temporarily': 24579, 'incapacitated': 12228, 'installing': 12596, 'nostalgia': 16762, 'dow': 7204, 'richie': 20748, 'rockhurst': 20907, 'stabbed': 23286, 'induce': 12353, 'wrtitings': 27592, 'diagnosed': 6583, 'bi': 2331, 'polar': 18614, 'schitzophrenic': 21474, 'depressant': 6383, 'abhor': 53, 'casablanca': 3661, 'classic': 4368, 'chock': 4167, 'cynicism': 5823, 'practicality': 18883, 'societal': 22787, 'weekday': 27037, 'stumbling': 23743, 'bourbon': 2844, 'chanel': 3925, 'lamenting': 13834, 'slap': 22503, 'rephrase': 20414, 'eventful': 8367, 'consisted': 5057, 'interent': 12684, 'spotty': 23191, 'loaded': 14423, 'spyware': 23231, 'virus': 26627, 'firefox': 9162, 'adpoted': 367, 'jessie': 13125, 'russell': 21129, 'terrier': 24649, 'rough': 21016, 'timid': 24981, 'settling': 21884, 'dgrove': 6570, 'hooking': 11631, 'primo': 19088, 'guster': 10778, 'rufus': 21082, 'wainwright': 26798, 'onstage': 17146, 'leonard': 14104, 'cohen': 4589, 'fold': 9404, 'singalong': 22360, 'backing': 1794, 'mellow': 15353, 'companion': 4770, 'rocking': 20909, 'tribute': 25453, 'elliot': 7791, 'bf': 2324, 'respectfully': 20554, 'wilco': 27261, 'disappointing': 6779, 'hayden': 11134, 'photography': 18241, 'apprentice': 1159, 'snowed': 22747, 'jcl': 13058, 'magna': 14808, 'cum': 5721, 'laude': 13914, 'silver': 22317, 'medal': 15285, 'rave': 19833, 'kevin': 13500, 'yuuki': 27849, 'miaka': 15493, 'yourfamily': 27807, 'tyring': 25736, 'bail': 1841, 'dissappoint': 6940, 'loyalty': 14627, 'neat': 16411, 'molar': 15823, 'miraculous': 15647, 'ankle': 949, 'pregnant': 18966, 'bruise': 3090, 'explains': 8580, 'sprain': 23196, 'cystic': 5830, 'fibrosis': 9053, 'opener': 17185, 'bach': 1785, 'rabbit': 19656, 'strangle': 23617, 'musquito': 16188, 'nile': 16630, 'weenie': 27045, 'blockbuster': 2556, 'grilling': 10599, 'steak': 23425, 'chord': 4195, 'impermanence': 12144, 'meditation': 15309, 'digitally': 6677, 'enhanced': 8012, 'wolf': 27411, 'topsy': 25164, 'turvy': 25656, 'froze': 9722, 'dare': 5936, 'afterthought': 471, 'sided': 22253, 'tunnel': 25627, 'bull': 3202, 'spokesman': 23157, 'justifying': 13345, 'rebuttal': 19948, 'exploded': 8588, 'trivia': 25499, 'versus': 26498, 'blade': 2470, 'decker': 6115, 'replicant': 20432, 'temptation': 24581, 'ignorance': 12009, 'stumble': 23741, 'maladjusted': 14871, 'talented': 24324, 'cigna': 4263, 'milking': 15576, 'penny': 18005, 'horray': 11675, 'roomates': 20973, 'splendid': 23138, 'blackberry': 2453, 'infused': 12458, 'pancake': 17641, 'yum': 27837, 'sooke': 22890, 'pothole': 18826, 'hike': 11417, 'refreshing': 20145, 'ambled': 792, 'solitude': 22842, 'aways': 1718, 'picturing': 18298, 'lacerated': 13786, 'spleen': 23137, 'swam': 24121, 'sunbathing': 23930, 'munch': 16139, 'samosa': 21271, 'veggie': 26430, 'candied': 3506, 'ginger': 10176, 'rowing': 21043, 'gymnastics': 10805, 'gymnists': 10806, 'oona': 17161, 'steamer': 23436, 'velvet': 26443, 'funk': 9804, 'awaiting': 1705, 'extinguish': 8639, 'riley': 20806, 'maria': 15018, 'hesitated': 11357, 'hogging': 11524, 'alison': 655, 'donny': 7138, 'mentality': 15391, 'cheat': 4015, 'flirting': 9315, 'slvage': 22606, 'deviled': 6547, 'reputation': 20470, 'lance': 13840, 'alpha': 720, 'gerard': 10102, 'brennan': 2971, 'karen': 13401, 'linda': 14284, 'rememberable': 20321, 'mild': 15562, 'migh': 15547, 'fluke': 9368, 'teri': 24630, 'sould': 22938, 'dwarf': 7485, 'gimli': 10171, 'stubborn': 23720, 'zipping': 27914, 'hots': 11717, 'interval': 12736, 'nicole': 16599, 'admidst': 326, 'flo': 9318, 'zach': 27854, 'trait': 25301, 'probable': 19127, 'brainlesness': 2903, 'derek': 6398, 'millie': 15582, 'chuck': 4233, 'proclaimations': 19154, 'prediction': 18948, 'predicted': 18945, 'performing': 18057, 'downer': 7208, 'charisma': 3969, 'racist': 19677, 'booyah': 2778, 'pitied': 18418, 'imposed': 12170, 'penalty': 17982, 'kami': 13379, 'karli': 13405, 'manipulate': 14945, 'glaring': 10214, 'bimbo': 2376, 'himbos': 11431, 'marsha': 15059, 'interact': 12671, 'replying': 20435, 'captain': 3563, 'afer': 418, 'tearing': 24484, 'dissappointment': 6942, 'aggressiveness': 490, 'bootee': 2775, 'adious': 317, 'subsidized': 23814, 'cola': 4607, 'vieques': 26560, 'vending': 26446, 'deposit': 6375, 'approve': 1171, 'generating': 10050, 'suger': 23890, 'carbonated': 3584, 'nailed': 16279, 'spca': 23024, 'treated': 25414, 'livin': 14384, 'shpiel': 22173, 'infinite': 12414, 'encore': 7940, 'beneath': 2241, 'trouser': 25531, 'glinted': 10241, 'singular': 22371, 'proposal': 19276, 'wong': 27432, 'tone': 25125, 'attcking': 1558, 'haley': 10900, 'collective': 4636, 'apolgize': 1092, 'reposne': 20442, 'affiliation': 429, 'broker': 3054, 'profitable': 19190, 'conservitives': 5041, 'tend': 24589, 'hacker': 10836, 'mistrusted': 15717, 'raw': 19841, 'data': 5977, 'disclosure': 6807, 'gut': 10779, 'integrity': 12642, 'thermal': 24770, 'imaging': 12068, 'umbrage': 25803, 'implied': 12158, 'complicit': 4829, 'sneaked': 22703, 'attend': 1562, 'jajajajajajajajajaja': 12990, 'repairing': 20389, 'admin': 327, 'server': 21867, 'datacentre': 5979, 'unemployment': 25969, 'surround': 24070, 'happier': 11013, 'enlighten': 8025, 'unsure': 26157, 'injecting': 12497, 'suspecting': 24090, 'dental': 6339, 'rinse': 20816, 'syrinx': 24254, 'drawer': 7273, 'yuck': 27822, 'triggering': 25469, 'pee': 17951, 'triggered': 25468, 'bodily': 2677, 'fluid': 9367, 'forcefield': 9459, 'withstand': 27376, 'spitball': 23127, 'debbie': 6066, 'adam': 277, 'killingmachines': 13559, 'wayside': 26964, 'rectify': 20050, 'infested': 12408, 'wold': 27410, 'immigrate': 12105, 'reston': 20584, 'requirement': 20478, 'passport': 17808, 'obtained': 16959, 'hazy': 11144, 'desparate': 6454, 'googling': 10371, 'learner': 14002, 'perl': 18071, 'assed': 1427, 'intensive': 12662, 'programming': 19204, 'methinks': 15466, 'integration': 12641, 'soa': 22757, 'soas': 22765, 'emphasize': 7888, 'loosely': 14531, 'syntactic': 24248, 'independently': 12310, 'inbound': 12224, 'outbound': 17363, 'syntactically': 24249, 'valid': 26351, 'architect': 1218, 'achilles': 216, 'flood': 9327, 'handled': 10968, 'taliban': 24326, 'amateurish': 772, 'slapdash': 22504, 'clumsy': 4508, 'crude': 5632, 'slipshod': 22571, 'inept': 12372, 'bungling': 3239, 'incompetent': 12263, 'conference': 4937, 'princeton': 19092, 'diplomacy': 6735, 'continuously': 5147, 'amazed': 774, 'dismayed': 6888, 'ineptitude': 12373, 'conducted': 4933, 'committee': 4747, 'propelling': 19264, 'woe': 27405, 'hotline': 11714, 'oval': 17421, 'rove': 21037, 'thorough': 24826, 'drubbing': 7352, 'despicably': 6462, 'snotty': 22741, 'nato': 16362, 'intransigent': 12760, 'increasingly': 12286, 'hostile': 11702, 'tactic': 24279, 'reaping': 19910, 'sown': 22968, 'disgraceful': 6857, 'downhill': 7210, 'withdrawal': 27368, 'abm': 65, 'nay': 16383, 'disapproval': 6781, 'manner': 14956, 'lubing': 14637, 'nightmarish': 16619, 'annihilating': 962, 'peacefully': 17909, 'baggage': 1827, 'realpolitik': 19903, 'cardinal': 3589, 'richelieu': 20745, 'cabin': 3367, 'wilderness': 27267, 'lifeblood': 14210, 'securing': 21687, 'incontrovertibly': 12274, 'venezuela': 26452, 'posed': 18771, 'defying': 6221, 'downplayed': 7219, 'geopolitics': 10095, 'leap': 13996, 'redefined': 20068, 'bordering': 2785, 'frontier': 9711, 'covert': 5436, 'threaten': 24849, 'overt': 17495, 'intervention': 12738, 'permission': 18079, 'regional': 20179, 'facility': 8715, 'kuwait': 13754, 'transshipment': 25366, 'privately': 19114, 'displeased': 6914, 'syria': 24253, 'jordan': 13245, 'banking': 1910, 'magnifying': 14814, 'insubstantial': 12621, 'rebuilding': 19946, 'abdicate': 42, 'overthrown': 17501, 'profoundly': 19193, 'hostility': 11703, 'redefine': 20067, 'neighboring': 16466, 'spite': 23128, 'precise': 18932, 'materially': 15144, 'affecting': 424, 'conquest': 5023, 'introduction': 12778, 'imperial': 12141, 'redefinition': 20070, 'afforded': 443, 'flourish': 9350, 'globalization': 10251, 'stagnation': 23305, 'repression': 20452, 'wwii': 27615, 'edition': 7615, 'esquire': 8263, 'barnett': 1963, 'electronic': 7743, 'paradigm': 17684, 'inherently': 12479, 'inevitable': 12381, 'persian': 18106, 'constitute': 5080, 'enforced': 7987, 'disarmament': 6783, 'distraction': 6978, 'historical': 11466, 'tipping': 25005, 'ownership': 17527, 'disconnectedness': 6814, 'defines': 6207, 'dangerously': 5916, 'disconnected': 6813, 'globalizing': 10252, 'binary': 2378, 'sweeping': 24160, 'judgment': 13289, 'connectivity': 5008, 'transaction': 25322, 'functioning': 9787, 'absent': 93, 'plagued': 18449, 'repressive': 20453, 'widespread': 27235, 'chronic': 4225, 'incubate': 12293, 'integrating': 12640, 'fucked': 9752, 'affair': 421, 'warming': 26876, 'overlooking': 17467, 'bringin': 3020, 'modem': 15787, 'peeled': 17958, 'nextblog': 16571, 'amusement': 847, 'excercise': 8453, 'rambled': 19750, 'goofing': 10367, 'eccentric': 7573, 'kettle': 13498, 'bizarre': 2439, 'ranging': 19776, 'profane': 19179, 'triumphanly': 25495, 'summarily': 23916, 'pursuit': 19488, 'sneaky': 22706, 'shudder': 22204, 'moorewatch': 15927, 'sparkled': 23003, 'brightened': 3004, 'danced': 5901, 'lucid': 14642, 'twirling': 25694, 'sang': 21300, 'graceful': 10440, 'dazzled': 6015, 'yawned': 27698, 'torned': 25178, 'fulfilled': 9768, 'ebay': 7563, 'oversized': 17488, 'envelope': 8113, 'printed': 19097, 'scan': 21424, 'reception': 19965, 'refuse': 20156, 'surrender': 24066, 'squad': 23233, 'seventh': 21890, 'bridesmaid': 2988, 'maid': 14826, 'pitty': 18424, 'measurement': 15272, 'cinderfuckinrella': 4274, 'kindness': 13585, 'trash': 25372, 'parade': 17682, 'shocking': 22093, 'heap': 11178, 'bitter': 2432, 'reserved': 20508, 'violated': 26605, 'decree': 6143, 'violates': 26606, 'doctrine': 7059, 'funding': 9795, 'fundamentalist': 9791, 'organized': 17280, 'kurd': 13742, 'unrest': 26134, 'sizeable': 22424, 'kurdish': 13743, 'wigglepants': 27253, 'occupying': 16982, 'palestinian': 17621, 'israeli': 12925, 'improvement': 12196, 'treasure': 25409, 'threesome': 24854, 'pamela': 17632, 'anderson': 884, 'anniversary': 964, 'autograph': 1658, 'housekeeping': 11733, 'repay': 20394, 'jewelry': 13139, 'sparkle': 23002, 'canister': 3515, 'tissue': 25020, 'binder': 2380, 'tucked': 25593, 'unnoticed': 26086, 'colleague': 4631, 'valuable': 26362, 'relishing': 20291, 'thunderstorm': 24901, 'lightning': 14240, 'tougher': 25218, 'golfer': 10333, 'toughest': 25219, 'dedication': 6152, 'downpour': 7220, 'scorchiness': 21525, 'jibjab': 13147, 'wider': 27234, 'imo': 12120, 'fewer': 9030, 'profanity': 19180, 'debatable': 6060, 'seinfeld': 21727, 'tb': 24456, 'ted': 24508, 'turner': 25644, 'rerun': 20485, 'weigh': 27054, 'criterion': 5584, 'faa': 8686, 'steepness': 23447, 'runway': 21121, 'taxiway': 24450, 'impcat': 12131, 'wetland': 27113, 'maryland': 15083, 'balancing': 1861, 'minimizing': 15623, 'input': 12537, 'answewr': 996, 'legally': 14049, 'airfield': 564, 'constructed': 5088, 'norfolk': 16740, 'roanoke': 20873, 'suffolk': 23880, 'emporium': 7899, 'petersburg': 18159, 'accomack': 157, 'danville': 5930, 'swamp': 24122, 'oversees': 17482, 'engineer': 7999, 'sims': 22345, 'superstar': 23990, 'boarding': 2656, 'timer': 24977, 'exceeded': 8442, 'gosh': 10394, 'tribe': 25450, 'trailing': 25295, 'windmoor': 27305, 'respecting': 20555, 'prohibiting': 19213, 'thereof': 24766, 'abridging': 87, 'peaceably': 17907, 'assemble': 1428, 'petition': 18162, 'redress': 20087, 'grievance': 10590, 'proposing': 19279, 'displaying': 6913, 'islam': 12910, 'atheist': 1517, 'thoroughfare': 24827, 'nativity': 16361, 'endorsing': 7971, 'corset': 5343, 'indicates': 12321, 'greener': 10561, 'economist': 7587, 'recite': 19984, 'davidson': 5990, 'thesis': 24775, 'melech': 15347, 'rachaman': 19665, 'rachem': 19670, 'aleinu': 618, 'tov': 25234, 'umeitiv': 25806, 'hidaresh': 11382, 'lanu': 13857, 'shuva': 22223, 'eleinu': 7748, 'bahamon': 1836, 'rachamecha': 19666, 'boar': 2652, 'bore': 2787, 'smelly': 22638, 'waaaaaay': 26749, 'handful': 10957, 'foreigner': 9473, 'culprit': 5712, 'column': 4676, 'chosun': 4201, 'dynasty': 7508, 'godfather': 10306, 'untouchable': 26170, 'ceo': 3852, 'coincidence': 4597, 'singapore': 22361, 'prospect': 19292, 'appealing': 1117, 'shard': 21966, 'crystalline': 5670, 'fecal': 8929, 'jagged': 12981, 'pondered': 18670, 'docking': 7052, 'unopened': 26091, 'dock': 7050, 'broaden': 3042, 'lens': 14100, 'informed': 12444, 'apology': 1104, 'lowering': 14620, 'travelling': 25392, 'flurry': 9373, 'tonite': 25129, 'yah': 27677, 'chaio': 3894, 'omega': 17115, 'melbie': 15345, 'melway': 15365, 'dorm': 7173, 'amenity': 804, 'fireplace': 9166, 'bonding': 2725, 'noisy': 16690, 'blokey': 2585, 'congratulating': 4985, 'guarantee': 10695, 'mafia': 14789, 'murderer': 16155, 'mafioso': 14790, 'spy': 23227, 'heated': 11204, 'compadres': 4769, 'bluffing': 2629, 'slogging': 22578, 'cheerio': 4035, 'survived': 24080, 'snack': 22687, 'denny': 6330, 'rained': 19721, 'stl': 23546, 'bombarded': 2711, 'wustl': 27609, 'postcard': 18796, 'alumnus': 751, 'caddied': 3377, 'caddy': 3378, 'steering': 23448, 'soup': 22950, 'thug': 24891, 'elaines': 7717, 'armoire': 1279, 'kramer': 13710, 'funnier': 9811, 'departure': 6353, 'scat': 21450, 'lackluster': 13793, 'kidney': 13546, 'quit': 19623, 'dumbfounded': 7422, 'disbelief': 6790, 'popped': 18713, 'seatbelt': 21653, 'gathered': 9982, 'welling': 27083, 'lunchbag': 14678, 'dangling': 5919, 'clicked': 4428, 'ettes': 8321, 'waaaaaaaaaaahhhhhhhhh': 26746, 'delay': 6240, 'dee': 6158, 'alybamy': 757, 'recieving': 19978, 'isidore': 12909, 'booty': 2777, 'hesitation': 11358, 'sordid': 22919, 'enjoyment': 8020, 'mona': 15847, 'hooey': 11625, 'libbo': 14175, 'liner': 14292, 'freckle': 9624, 'membership': 15367, 'mexico': 15484, 'piston': 18409, 'devean': 6533, 'detroit': 6525, 'famers': 8790, 'lakers': 13825, 'tide': 24934, 'psychotic': 19379, 'hubby': 11776, 'mailed': 14830, 'frigging': 9687, 'respectable': 20550, 'pymt': 19516, 'po': 18570, 'dunk': 7438, 'upstanding': 26234, 'vent': 26458, 'linked': 14307, 'dogz': 7081, 'glub': 10271, 'bookmark': 2759, 'login': 14468, 'publish': 19396, 'alternatively': 741, 'refresh': 20143, 'missive': 15699, 'boycott': 2868, 'secluded': 21668, 'unbeknownst': 25847, 'tranquility': 25318, 'controversy': 5187, 'opaque': 17181, 'monumental': 15906, 'diminutive': 6705, 'swarm': 24131, 'inscribed': 12545, 'worn': 27504, 'accompany': 164, 'eerie': 7655, 'soil': 22816, 'encased': 7923, 'satin': 21347, 'tormented': 25174, 'brittle': 3035, 'bare': 1942, 'insanity': 12544, 'tread': 25407, 'perpetually': 18090, 'consciousness': 5030, 'uprising': 26225, 'basra': 2013, 'jock': 13190, 'misery': 15672, 'shaded': 21921, 'centered': 3837, 'stoop': 23571, 'brighter': 3006, 'rainbow': 19718, 'preformance': 18963, 'sarcastic': 21325, 'juliet': 13308, 'ksu': 13728, 'production': 19175, 'memorized': 15377, 'spazing': 23021, 'unpredictable': 26112, 'relax': 20257, 'coughed': 5375, 'forgiveness': 9496, 'reproached': 20459, 'bewildered': 2318, 'endure': 7973, 'caterpillar': 3724, 'awayas': 1717, 'claw': 4383, 'naively': 16284, 'thorn': 24824, 'linger': 14295, 'antoine': 1033, 'exupery': 8667, 'amor': 830, 'mississippi': 15697, 'signifies': 22290, 'dreamily': 7287, 'czechoslovakia': 5833, 'mv': 16217, 'pinochle': 18373, 'brass': 2921, 'cricket': 5562, 'hippy': 11451, 'casper': 3679, 'weinburger': 27062, 'darkness': 5950, 'promowest': 19243, 'shortly': 22134, 'supplying': 24006, 'spurring': 23222, 'judgement': 13286, 'dipshit': 6739, 'foreward': 9485, 'johnny': 13211, 'rawk': 19843, 'rcok': 19851, 'anthony': 1010, 'thefootnote': 24743, 'tfn': 24702, 'obliged': 16934, 'commendation': 4728, 'keen': 13448, 'modelling': 15786, 'nosy': 16765, 'yuppy': 27846, 'overlap': 17460, 'merriment': 15423, 'brady': 2891, 'allergy': 677, 'smog': 22652, 'mic': 15498, 'meantime': 15267, 'dodging': 7068, 'marissa': 15029, 'intellectually': 12647, 'comprehend': 4843, 'wonderous': 27430, 'monica': 15869, 'giant': 10141, 'slam': 22494, 'pogo': 18590, 'proceeded': 19145, 'damping': 5896, 'cartridge': 3652, 'warranty': 26889, 'splurged': 23148, 'seamless': 21631, 'occurs': 16991, 'download': 7212, 'app': 1108, 'neb': 16418, 'hahahahhahahahhaha': 10866, 'joo': 13241, 'maggey': 14795, 'trampoline': 25311, 'starcraft': 23357, 'ect': 7594, 'dissapointment': 6939, 'polite': 18628, 'instant': 12599, 'tiki': 24955, 'tourches': 25224, 'rollercoaster': 20940, 'prolly': 19225, 'arn': 1287, 'cleanse': 4398, 'diagnostic': 6585, 'altogether': 745, 'norton': 16754, 'utility': 26309, 'reinstalling': 20225, 'researching': 20497, 'quickest': 19598, 'australia': 1638, 'weirder': 27067, 'flinched': 9304, 'gotcha': 10400, 'calming': 3447, 'petunia': 18168, 'barn': 1961, 'creep': 5546, 'cautios': 3760, 'arems': 1230, 'hime': 11432, 'lizard': 14390, 'toad': 25048, 'startled': 23378, 'indicated': 12320, 'strung': 23709, 'hiddles': 11385, 'smooched': 22663, 'tremendously': 25432, 'shy': 22224, 'oliver': 17103, 'cunning': 5729, 'harvard': 11082, 'pooooop': 18693, 'pooooooooop': 18691, 'pooooooooper': 18692, 'scoooooooooop': 21516, 'blathering': 2497, 'dreamy': 7295, 'waterdrops': 26932, 'decomposing': 6130, 'flesh': 9286, 'submit': 23797, 'removed': 20349, 'intact': 12636, 'granola': 10500, 'stashed': 23391, 'sibling': 22238, 'discount': 6818, 'labor': 13781, 'siberia': 22236, 'martha': 15067, 'geforce': 10027, 'ti': 24915, 'easiest': 7543, 'falcon': 8771, 'falconer': 8772, 'centre': 3845, 'yeats': 27721, 'workshop': 27497, 'ttyl': 25583, 'potomac': 18830, 'longest': 14500, 'pulitzer': 19419, 'wilhelmina': 27272, 'arrangement': 1305, 'maniac': 14934, 'emma': 7873, 'noah': 16668, 'faught': 8878, 'ventured': 26466, 'hm': 11490, 'diaryland': 6600, 'neglecting': 16457, 'embarrasing': 7828, 'construction': 5089, 'urinal': 26262, 'glare': 10212, 'expansive': 8535, 'contractatory': 5156, 'tempurature': 24584, 'warmer': 26875, 'concave': 4865, 'pane': 17647, 'conversely': 5203, 'attraction': 1582, 'forwarned': 9539, 'snug': 22754, 'frost': 9714, 'heaving': 11219, 'alexandro': 625, 'insult': 12627, 'complement': 4813, 'madness': 14783, 'coal': 4523, 'travelled': 25390, 'drawn': 7276, 'buggy': 3170, 'indication': 12323, 'granddaughter': 10480, 'congestion': 4980, 'unbelievable': 25848, 'incredulous': 12289, 'dumbstruck': 7423, 'griefstricken': 10588, 'relieve': 20283, 'philosophical': 18209, 'bhagavad': 2328, 'gita': 10193, 'offshoot': 17047, 'hoofprinting': 11626, 'vocal': 26672, 'hallucinating': 10919, 'emancipation': 7820, 'cataract': 3704, 'hurricanoes': 11859, 'spout': 23193, 'drench': 7298, 'steeple': 23446, 'cock': 4544, 'sulphurous': 23910, 'executing': 8484, 'vaunt': 26411, 'courier': 5410, 'cleaving': 4409, 'thunderbolt': 24897, 'singe': 22363, 'smite': 22648, 'rotundity': 21013, 'mould': 16014, 'german': 10107, 'ingrateful': 12468, 'lear': 13998, 'lpm': 14629, 'liturgist': 14370, 'prentiss': 18981, 'showcase': 22160, 'prettier': 19039, 'glow': 10268, 'midlife': 15534, 'staple': 23350, 'carnival': 3623, 'bonfire': 2729, 'wagon': 26782, 'enclosed': 7932, 'prone': 19248, 'claustrophobia': 4381, 'automated': 1660, 'writhing': 27580, 'ww': 27612, 'compiled': 4806, 'attracted': 1580, 'alphabetical': 722, 'ceri': 3860, 'charlotte': 3979, 'chloe': 4161, 'caroline': 3627, 'attractive': 1583, 'upsetting': 26231, 'concede': 4869, 'skewed': 22442, 'attractiveness': 1585, 'precisely': 18933, 'worldly': 27500, 'postponed': 18807, 'duration': 7454, 'confess': 4938, 'samurai': 21278, 'kurosawa': 13748, 'yul': 27834, 'brynner': 3117, 'gunslinger': 10763, 'rape': 19786, 'dialogue': 6592, 'brilliantly': 3015, 'measured': 15271, 'boudaries': 2830, 'avoids': 1699, 'disprove': 6922, 'uncovering': 25894, 'suppress': 24020, 'undoubtedly': 25957, 'tempered': 24572, 'turbulence': 25631, 'conditioning': 4925, 'validity': 26356, 'implemented': 12153, 'recognise': 19995, 'apologise': 1096, 'overheard': 17454, 'aromatic': 1294, 'alkane': 660, 'conformation': 4966, 'stereoisomers': 23475, 'naming': 16299, 'chiral': 4150, 'organic': 17270, 'rereading': 20483, 'chan': 3919, 'ingold': 12465, 'peng': 17995, 'analyze': 868, 'chirality': 4151, 'thermodynamics': 24772, 'kinetics': 13588, 'stability': 23289, 'molecule': 15828, 'maroon': 15045, 'rgghghhhh': 20715, 'rggghhhh': 20714, 'penguin': 17997, 'cutie': 5798, 'winston': 27330, 'linus': 14312, 'lucy': 14651, 'hearted': 11194, 'korg': 13698, 'triton': 25493, 'assorted': 1460, 'rendition': 20360, 'trump': 25553, 'sao': 21313, 'paulo': 17858, 'brazil': 2939, 'dna': 7042, 'crop': 5608, 'announcement': 967, 'agriculture': 511, 'roberto': 20893, 'rodrigues': 20919, 'embrapa': 7849, 'agricultural': 510, 'agency': 481, 'genome': 10070, 'mapped': 14989, 'sequence': 21833, 'ministry': 15628, 'gawd': 9997, 'thirty': 24812, 'sifting': 22268, 'roast': 20877, 'rgxxxkckxsggrrrz': 20718, 'hyde': 11888, 'jekyll': 13093, 'purchasing': 19460, 'vhs': 26520, 'fragmented': 9575, 'deleted': 6248, 'plummer': 18554, 'twizzlers': 25704, 'resist': 20528, 'belated': 2200, 'bloggiversary': 2574, 'whichever': 27154, 'neo': 16482, 'irrevocably': 12888, 'ergo': 8187, 'concordantly': 4905, 'pertinent': 18131, 'remainder': 20303, 'equation': 8165, 'inherent': 12478, 'eventuality': 8371, 'sincerest': 22352, 'mathematical': 15148, 'precision': 18934, 'sedulously': 21702, 'inexorably': 12385, 'quicker': 19597, 'emergence': 7858, 'integral': 12639, 'lied': 14202, 'systemic': 24259, 'fluctuation': 9362, 'trinity': 25479, 'flawless': 9275, 'sublime': 23791, 'equaled': 8157, 'inevitability': 12380, 'apparent': 1112, 'imperfection': 12140, 'redesigned': 20074, 'accurately': 196, 'reflect': 20128, 'varying': 26400, 'grotesquery': 10643, 'parameter': 17700, 'intuitive': 12788, 'oracle': 17238, 'functioned': 9786, 'fundamentally': 9792, 'flawed': 9274, 'contradictory': 5163, 'unchecked': 25865, 'minority': 15634, 'escalating': 8220, 'probability': 19126, 'zion': 27910, 'inhabitant': 12472, 'terminated': 24636, 'eradicated': 8178, 'denial': 6323, 'exceedingly': 8444, 'efficient': 7668, 'allowing': 699, 'dissemination': 6949, 'reinserting': 20224, 'cataclysmic': 3698, 'extermination': 8634, 'extinction': 8638, 'predecessor': 18937, 'predication': 18941, 'contingent': 5138, 'affirmation': 432, 'profound': 19192, 'facilitating': 8714, 'vi': 26521, 'apropos': 1185, 'flaw': 9273, 'revealed': 20666, 'adequately': 310, 'precursor': 18936, 'onset': 17144, 'overwhelm': 17510, 'quintessential': 19615, 'delusion': 6278, 'mentioning': 15395, 'aarp': 24, 'provision': 19335, 'partisan': 17772, 'bickering': 2343, 'redeeming': 20066, 'pht': 18251, 'abby': 38, 'luther': 14702, 'retaliate': 20618, 'intensify': 12660, 'wash': 26900, 'withheld': 27374, 'hooooot': 11636, 'argumentative': 1252, 'kicker': 13532, 'uber': 25740, 'flamboyant': 9231, 'motocyclist': 16005, 'radioactive': 19692, 'chernobyl': 4071, 'chilling': 4126, 'indianapolis': 12318, 'sentenced': 21805, 'parole': 17748, 'filed': 9091, 'sen': 21770, 'waterman': 26939, 'shelburn': 22008, 'lifer': 14216, 'assisted': 1453, 'punishment': 19450, 'schizophrenia': 21476, 'legality': 14045, 'effortless': 7673, 'forbes': 9454, 'predicting': 18947, 'eu': 8324, 'pond': 18668, 'foster': 9542, 'americanism': 809, 'superior': 23981, 'sketchy': 22441, 'mansi': 14966, 'chesire': 4074, 'crescent': 5553, 'menacingly': 15383, 'alice': 645, 'toothy': 25152, 'wishful': 27357, 'sneering': 22708, 'malicious': 14886, 'basketball': 2009, 'concentrating': 4879, 'focusing': 9395, 'photojournalist': 18243, 'vocation': 26675, 'stealin': 23429, 'vary': 26399, 'sporatic': 23181, 'busier': 3294, 'newsletter': 16560, 'liaise': 14165, 'definate': 6202, 'lull': 14665, 'admittedly': 345, 'skied': 22449, 'soot': 22903, 'particle': 17767, 'polution': 18652, 'dust': 7463, 'gomer': 10341, 'respiratory': 20559, 'compulsory': 4857, 'surf': 24037, 'intimidated': 12750, 'despise': 6463, 'qualify': 19550, 'nfl': 16573, 'vastly': 26406, 'ncaa': 16393, 'mosquito': 15985, 'tipper': 25004, 'exhilarating': 8508, 'significantly': 22289, 'humility': 11819, 'nordman': 16737, 'mit': 15725, 'cryogenic': 5664, 'freezing': 9646, 'impressive': 12186, 'govt': 10426, 'econ': 7583, 'calculus': 3421, 'internship': 12714, 'unpatriotic': 26096, 'deserving': 6434, 'execution': 8485, 'peeve': 17966, 'apostrophe': 1107, 'sportmart': 23184, 'sawmill': 21396, 'annoyance': 971, 'finishing': 9148, 'rad': 19682, 'malibus': 14885, 'maineacs': 14836, 'carpenter': 3629, 'pga': 18174, 'mickey': 15513, 'disneyworld': 6894, 'fruition': 9730, 'hideous': 11388, 'classical': 4369, 'similarity': 22323, 'genre': 10071, 'introspection': 12780, 'immensly': 12100, 'discredit': 6828, 'annoy': 970, 'freeway': 9643, 'salute': 21258, 'osu': 17338, 'michigan': 15508, 'rivalry': 20845, 'scammed': 21422, 'clap': 4346, 'paul': 17857, 'casey': 3668, 'levet': 14143, 'ernie': 8198, 'brit': 3029, 'disabled': 6761, 'austin': 1635, 'kickball': 13530, 'yup': 27844, 'righty': 20794, 'gerocery': 10111, 'hangout': 10989, 'seafood': 21624, 'polynesian': 18657, 'sno': 22729, 'tobacconist': 25054, 'aquarium': 1192, 'diner': 6713, 'proportion': 19275, 'consignment': 5051, 'bookstore': 2762, 'losery': 14560, 'kookaburra': 13689, 'gum': 10751, 'gumdrop': 10752, 'podunk': 18583, 'bfe': 2326, 'apologizing': 1103, 'criticizing': 5592, 'toppling': 25161, 'mealy': 15252, 'condescention': 4918, 'jerk': 13113, 'excusing': 8480, 'fucker': 9753, 'shamed': 21947, 'reimburse': 20215, 'salary': 21227, 'stolen': 23558, 'wizard': 27388, 'scroll': 21590, 'foldup': 9408, 'scott': 21539, 'notoriety': 16792, 'succeeding': 23843, 'awkwardly': 1730, 'painted': 17600, 'pirillo': 18394, 'sts': 23712, 'junkyard': 13331, 'battlebots': 2047, 'geekworthy': 10023, 'tlc': 25036, 'addendum': 291, 'presume': 19032, 'thoreau': 24823, 'spikey': 23105, 'transcendental': 25325, 'spike': 23103, 'diaphanous': 6598, 'gown': 10427, 'shod': 22095, 'cautiously': 3762, 'padding': 17566, 'corridor': 5332, 'petite': 18161, 'pale': 17617, 'somber': 22856, 'brooding': 3063, 'delirium': 6266, 'coldness': 4614, 'indifference': 12329, 'envy': 8123, 'nemesis': 16477, 'soothed': 22906, 'immobile': 12110, 'mantle': 14973, 'despair': 6452, 'discovering': 6825, 'angelou': 916, 'tahoe': 24298, 'bonanza': 2719, 'filmed': 9106, 'cruise': 5636, 'inkeling': 12506, 'cooked': 5227, 'uncook': 25890, 'med': 15284, 'nicvee': 16602, 'gambling': 9916, 'oakland': 16903, 'gamble': 9914, 'cabo': 3370, 'yabo': 27672, 'bid': 2345, 'farewell': 8825, 'lsightly': 14631, 'stiff': 23509, 'ohh': 17060, 'gambled': 9915, 'aparentally': 1071, 'muggin': 16102, 'menacing': 15382, 'repeatadly': 20396, 'unanswered': 25829, 'jango': 13018, 'clone': 4467, 'dooku': 7152, 'assassinate': 1423, 'amidala': 817, 'droid': 7334, 'sipha': 22386, 'dious': 6732, 'pha': 18177, 'sidious': 22261, 'palpatine': 17628, 'destined': 6475, 'seperatists': 21827, 'rebellion': 19936, 'agreeing': 507, 'johnnathan': 13209, 'coaster': 4528, 'gas': 9965, 'guzzling': 10790, 'haev': 10847, 'babble': 1772, 'regulatory': 20200, 'ferc': 8990, 'ominous': 17119, 'roughly': 21019, 'blackout': 2465, 'electrical': 7738, 'smd': 22634, 'tilvernus': 24964, 'trinson': 25481, 'paladin': 17614, 'monk': 15877, 'boris': 2793, 'borovich': 2799, 'sendant': 21775, 'ranger': 19775, 'cormyr': 5298, 'rhanellus': 20719, 'sorcerer': 22917, 'heritage': 11338, 'connor': 5017, 'mcclaren': 15215, 'rogue': 20927, 'fennie': 8986, 'underdark': 25909, 'mclaren': 15239, 'hermione': 11340, 'fenwick': 8988, 'sembia': 21760, 'departs': 6352, 'acquires': 238, 'adan': 281, 'druid': 7363, 'fharlangn': 9037, 'initiated': 12494, 'marked': 15032, 'comprehension': 4845, 'grandparent': 10493, 'craft': 5465, 'unofficial': 26090, 'ratchet': 19813, 'clank': 4343, 'commando': 4725, 'jak': 12991, 'glitch': 10243, 'persia': 18105, 'poop': 18694, 'parecer': 17717, 'mal': 14870, 'esos': 8246, 'dicen': 6607, 'acordar': 230, 'trato': 25379, 'sinti': 22381, 'talvez': 24344, 'significado': 22286, 'buscaba': 3285, 'diera': 6636, 'lograba': 14474, 'recordar': 20028, 'continuo': 5146, 'vac': 26324, 'sin': 22349, 'ninguna': 16640, 'esperar': 8254, 'anhelar': 933, 'despertaba': 6460, 'tomaba': 25103, 'caf': 3387, 'vaso': 26404, 'jugo': 13299, 'hubiera': 11778, 'quedado': 19573, 'anterior': 1007, 'algunas': 640, 'veces': 26422, 'dependiendo': 6360, 'tuviera': 25668, 'hacer': 10830, 'hac': 10828, 'arepa': 1234, 'alg': 631, 'desayunito': 6405, 'pico': 18292, 'salir': 21241, 'paso': 17792, 'pido': 18302, 'llevara': 14408, 'arribita': 1316, 'novena': 16806, 'llegaba': 14405, 'trabajar': 25255, 'servirle': 21872, 'tintos': 24996, 'limpiarle': 14281, 'barrerle': 1975, 'piso': 18399, 'infelices': 12400, 'avaros': 1677, 'superficiales': 23973, 'abogados': 69, 'nico': 16598, 'discutir': 6847, 'partido': 17770, 'manchester': 14912, 'bajado': 1847, 'lar': 13865, 'pasar': 17785, 'fin': 9114, 'semana': 21759, 'sobre': 22772, 'dispuesto': 6925, 'llevarlos': 14409, 'todos': 25067, 'msterdam': 16069, 'caso': 3678, 'tranquilidad': 25317, 'odiaba': 17014, 'estereotipo': 8285, 'mundo': 16147, 'cual': 5677, 'cil': 4267, 'plata': 18475, 'problema': 19136, 'bmw': 2645, 'quieren': 19605, 'cambiar': 3460, 'pasado': 17783, 'igual': 12016, 'ver': 26470, 'nuevos': 16837, 'trabajaban': 25253, 'esclavos': 8234, 'trabajando': 25254, 'altas': 730, 'horas': 11663, 'incluso': 12257, 'speras': 23083, 'fechas': 8931, 'especiales': 8250, 'importantes': 12167, 'diciembre': 6610, 'lograr': 14476, 'entregar': 8102, 'ascendidos': 1368, 'convertirse': 5212, 'pod': 18576, 'seguir': 21723, 'teni': 24605, 'ndola': 16398, 'puesto': 19412, 'oficina': 17051, 'cali': 3427, 'gran': 10475, 'parte': 17756, 'trasladado': 25377, 'florita': 9345, 'empleada': 7893, 'sitio': 22410, 'habr': 10827, 'casi': 3672, 'necesitada': 16425, 'bajo': 1849, 'cabeza': 3366, 'cheque': 4065, 'indemnizaci': 12305, 'lleg': 14404, 'comer': 4697, 'esposo': 8260, 'fingi': 9145, 'estar': 8280, 'calmado': 3444, 'entrada': 8095, 'edificio': 7610, 'visto': 26649, 'direcci': 6742, 'lejos': 14079, 'recordaba': 20027, 'cogi': 4578, 'ultimo': 25790, 'colectivo': 4617, 'lugar': 14657, 'cilmente': 4268, 'portero': 18752, 'olvidado': 17107, 'entregarle': 8103, 'papeles': 17671, 'llamado': 14399, 'decirle': 6110, 'eran': 8179, 'urgentes': 26257, 'facilidad': 8712, 'apartamento': 1074, 'rompi': 20959, 'silenciosamente': 22301, 'chapa': 3945, 'vio': 26599, 'envuelta': 8122, 'delicioso': 6256, 'aroma': 1292, 'canela': 3513, 'humo': 11824, 'dedujo': 6157, 'prendido': 18979, 'vela': 26440, 'hija': 11409, 'durmiendo': 7458, 'tranquilamente': 25316, 'tambi': 24347, 'hijo': 11415, 'ambo': 793, 'tranquilos': 25320, 'grandes': 10483, 'camas': 3457, 'cobijas': 4539, 'plumas': 18550, 'edredones': 7623, 'hechos': 11223, 'mano': 14961, 'cosas': 5346, 'siquiera': 22392, 'misma': 15683, 'esposa': 8259, 'arreglando': 1309, 'ltimos': 14633, 'detalles': 6495, 'tranquilo': 25319, 'preocupaciones': 18983, 'actu': 264, 'desesperada': 6435, 'ira': 12855, 'enterr': 8068, 'cuchillo': 5689, 'pecho': 17931, 'adolorido': 355, 'dejo': 6237, 'giro': 10190, 'causara': 3753, 'dolor': 7097, 'sab': 21148, 'morir': 15956, 'cegaba': 3801, 'movida': 16043, 'sufrimiento': 23882, 'sentir': 21813, 'podr': 18582, 'dar': 5935, 'buena': 3156, 'desempleado': 6422, 'exploto': 8604, 'asesino': 1378, 'culpable': 5711, 'sentimiento': 21811, 'guardo': 10702, 'peri': 18060, 'dico': 6616, 'atestado': 1516, 'exequias': 8492, 'arrepentir': 1310, 'feliz': 8960, 'alfil': 628, 'cuenta': 5696, 'encontrado': 7938, 'asesinato': 1377, 'deja': 6236, 'vu': 26733, 'imnsho': 12119, 'phelps': 18191, 'awed': 1720, 'tyler': 25717, 'cycling': 5815, 'astounding': 1485, 'atkins': 1529, 'dieting': 6642, 'accused': 200, 'obsessively': 16955, 'mistreating': 15713, 'hydroxycut': 11895, 'accountable': 181, 'discouraged': 6820, 'decorated': 6134, 'healthier': 11175, 'raider': 19712, 'ark': 1268, 'goldfinger': 10325, 'reservation': 20506, 'ghostbusters': 10136, 'beverly': 2315, 'wargames': 26868, 'lethal': 14127, 'inconsequential': 12267, 'shamelessly': 21950, 'karate': 13398, 'caddyshack': 3380, 'bandit': 1890, 'cannonball': 3522, 'elmo': 7799, 'fellini': 8964, 'hitchock': 11477, 'kazaa': 13428, 'spoil': 23150, 'pleeeaaaaseeeee': 18524, 'boredom': 2789, 'targetted': 24403, 'innovative': 12531, 'beta': 2295, 'musical': 16180, 'megacorp': 15327, 'overpriced': 17474, 'lowest': 14621, 'denominator': 6333, 'organ': 17269, 'circus': 4296, 'jerking': 13114, 'severe': 21893, 'cognitive': 4585, 'lexicon': 14156, 'culled': 5704, 'flowery': 9355, 'handwriting': 10981, 'keller': 13458, 'surpass': 24052, 'gutter': 10782, 'wilde': 27265, 'plight': 18531, 'fancy': 8807, 'scrawl': 21559, 'wooden': 27443, 'curtain': 5770, 'rod': 20915, 'trusted': 25559, 'na': 16254, 'autism': 1651, 'revere': 20678, 'tailspin': 24309, 'bitterness': 2433, 'sought': 22936, 'counselor': 5383, 'unhealthy': 26010, 'faced': 8703, 'digging': 6671, 'biting': 2429, 'karey': 13402, 'kirkpatrick': 13604, 'slashdot': 22510, 'screenwriter': 21576, 'chap': 3944, 'directing': 6746, 'genuinely': 10081, 'superhero': 23978, 'esteemed': 8284, 'sigmund': 22278, 'freud': 9671, 'formulated': 9517, 'punk': 19451, 'genitalia': 10065, 'territoty': 24656, 'testosterone': 24680, 'endeavor': 7958, 'rejected': 20233, 'cinema': 4276, 'jenny': 13105, 'socialist': 22781, 'counseloring': 5384, 'sprained': 23197, 'playground': 18492, 'slippery': 22569, 'nurse': 16863, 'piggybacking': 18321, 'crutch': 5658, 'armpit': 1283, 'ligament': 14226, 'healed': 11167, 'homesick': 11583, 'euchre': 8329, 'bauer': 2053, 'whatnot': 27128, 'autistic': 1652, 'bunk': 3240, 'sweetest': 24165, 'expulsion': 8618, 'campfire': 3480, 'dissuaded': 6958, 'bragging': 2893, 'bruised': 3091, 'itchy': 12940, 'bath': 2030, 'appealling': 1118, 'heals': 11170, 'tournament': 25229, 'darnedest': 5957, 'licious': 14194, 'exfoliant': 8498, 'antecedent': 1003, 'shaft': 21928, 'drain': 7255, 'chales': 3902, 'billiards': 2369, 'embarassing': 7825, 'audioblog': 1603, 'toxoplasma': 25247, 'slut': 22604, 'infected': 12397, 'promiscuous': 19233, 'rat': 19812, 'behavioural': 2186, 'transmission': 25354, 'conclusive': 4900, 'parasite': 17709, 'evaluate': 8354, 'correlational': 5323, 'characteristic': 3953, 'litter': 14365, 'infestation': 12407, 'ethical': 8312, 'altering': 736, 'infection': 12398, 'comparative': 4774, 'scientifically': 21506, 'bollock': 2703, 'shite': 22073, 'booby': 2745, 'cogent': 4577, 'grindstone': 10607, 'grotesque': 10642, 'turkish': 25638, 'pricing': 19073, 'lira': 14328, 'pippen': 18389, 'mazing': 15198, 'tolkin': 25097, 'welt': 27090, 'corey': 5294, 'tonsil': 25131, 'certan': 3865, 'pont': 18675, 'blackmail': 2463, 'mangas': 14928, 'waldens': 26814, 'hack': 10834, 'resting': 20580, 'kusakabe': 13750, 'marron': 15054, 'kaito': 13370, 'jeanne': 13066, 'widthdrawn': 27240, 'cheerful': 4032, 'enthusiastic': 8083, 'perseverance': 18103, 'cks': 4324, 'translated': 25348, 'tech': 24493, 'scrubbing': 21597, 'untrue': 26173, 'usaid': 26272, 'natsios': 16363, 'echoing': 7576, 'nightline': 16616, 'contribution': 5173, 'admitting': 346, 'misled': 15682, 'transcript': 25330, 'vanished': 26378, 'gov': 10415, 'dishonest': 6870, 'whitewash': 27192, 'charged': 3965, 'abc': 39, 'routinely': 21035, 'investigative': 12813, 'subpoena': 23801, 'similarly': 22324, 'substantial': 23819, 'detailing': 6492, 'layoff': 13958, 'revise': 20689, 'incriminating': 12291, 'insurrection': 12634, 'proved': 19324, 'announces': 968, 'insert': 12556, 'redacted': 20056, 'consultant': 5092, 'onion': 17138, 'phasing': 18188, 'heavencalling': 11214, 'overstaffed': 17492, 'downsize': 7224, 'sensible': 21792, 'resignation': 20524, 'duo': 7445, 'kyrene': 13769, 'anonymously': 983, 'woot': 27475, 'unhelpful': 26012, 'provider': 19330, 'graduating': 10455, 'wharton': 27124, 'mckinsey': 15237, 'brussels': 3106, 'graduation': 10456, 'bated': 2029, 'cyclying': 5817, 'consolidated': 5065, 'reassess': 19923, 'ridden': 20761, 'wahoowah': 26794, 'abrupt': 90, 'kinder': 13576, 'gentler': 10076, 'celebrated': 3807, 'rag': 19704, 'preceded': 18923, 'counteracts': 5390, 'mannered': 14957, 'listens': 14343, 'domesticated': 7105, 'niche': 16587, 'acre': 241, 'auspicious': 1631, 'decorate': 6133, 'azafata': 1757, 'hvts': 11880, 'qaeda': 19522, 'operative': 17196, 'pakistani': 17611, 'pakistan': 17610, 'inter': 12670, 'isi': 12908, 'capture': 3571, 'timetable': 24980, 'discussed': 6844, 'deadline': 6033, 'interior': 12697, 'internal': 12705, 'musharraf': 16175, 'rescuing': 20493, 'facing': 8718, 'insisted': 12569, 'leaking': 13992, 'imprisoned': 12189, 'lieutenant': 14208, 'ehsan': 7697, 'ul': 25779, 'haq': 11021, 'tnr': 25046, 'apprehension': 1157, 'counterpart': 5391, 'announcing': 969, 'islamabad': 12911, 'mccormack': 15217, 'hvt': 11879, 'detention': 6502, 'abu': 121, 'ghraib': 10138, 'mainz': 14849, 'florian': 9343, 'westphal': 27110, 'swr': 24216, 'captive': 3568, 'instructor': 12619, 'gruff': 10677, 'pseudo': 19352, 'harrumph': 11074, 'toyota': 25250, 'corolla': 5305, 'vicrds': 26539, 'carpark': 3628, 'honking': 11611, 'congested': 4979, 'southbank': 22958, 'eurgh': 8335, 'phress': 18249, 'youhr': 27799, 'brahkes': 2895, 'hwhy': 11883, 'youh': 27798, 'afrhaid': 457, 'phressing': 18250, 'yourh': 27808, 'tuhrn': 25605, 'nary': 16331, 'cracked': 5458, 'kwali': 13759, 'veneer': 26448, 'santi': 21310, 'merfolk': 15412, 'nowadays': 16808, 'mended': 15385, 'repented': 20406, 'possessed': 18785, 'longing': 14503, 'thinner': 24804, 'flocking': 9323, 'cauldron': 3747, 'ursula': 26267, 'rake': 19737, 'gulp': 10750, 'mermaid': 15420, 'traumatic': 25382, 'limitless': 14276, 'lightheaded': 14235, 'tranquil': 25314, 'simplisticly': 22339, 'founded': 9550, 'hesitant': 11355, 'territory': 24655, 'arab': 1196, 'idiotic': 11991, 'golan': 10320, 'height': 11256, 'exterminate': 8633, 'kosovo': 13703, 'serb': 21840, 'kosovars': 13702, 'cleansing': 4399, 'religiously': 20288, 'sacred': 21161, 'extermists': 8635, 'hypothetical': 11919, 'existis': 8521, 'stretching': 23662, 'tunisia': 25626, 'sudan': 23864, 'eurpoean': 8342, 'infidel': 12409, 'terroristic': 24660, 'grandiose': 10488, 'appeasement': 1125, 'neville': 16536, 'chamberlain': 3910, 'nicest': 16586, 'solved': 22853, 'print': 19096, 'raced': 19661, 'smug': 22678, 'impossibly': 12175, 'divulged': 7026, 'appalled': 1109, 'braved': 2931, 'uneventful': 25975, 'virginity': 26620, 'rebel': 19934, 'venture': 26465, 'solitary': 22840, 'snuggled': 22756, 'rewind': 20708, 'continuity': 5145, 'hudson': 11783, 'corbett': 5279, 'cusak': 5779, 'premise': 18976, 'marting': 15073, 'supper': 24000, 'navigate': 16378, 'restockers': 20582, 'glance': 10210, 'bargain': 1949, 'kitting': 13619, 'pacific': 17551, 'northwest': 16753, 'laguna': 13815, 'digi': 6673, 'tasty': 24429, 'looting': 14540, 'secured': 21686, 'artifact': 1346, 'rifle': 20781, 'permitted': 18081, 'posse': 18783, 'comitatus': 4716, 'looter': 14539, 'cruel': 5634, 'zilla': 27904, 'davezilla': 5988, 'jellystone': 13096, 'draper': 7265, 'choking': 4176, 'nasal': 16333, 'advil': 397, 'sinus': 22382, 'tied': 24938, 'atmosphere': 1536, 'loosing': 14536, 'recommended': 20008, 'softly': 22810, 'soothing': 22908, 'misread': 15689, 'advertisment': 394, 'misnamed': 15685, 'lish': 14335, 'drivel': 7327, 'webster': 27017, 'steady': 23424, 'wnba': 27399, 'sol': 22820, 'deserted': 6428, 'topsail': 25162, 'tuchman': 25591, 'isabel': 12900, 'curfew': 5745, 'imposition': 12172, 'prowling': 19341, 'advising': 402, 'marker': 15033, 'identification': 11975, 'overmind': 17470, 'decipher': 6109, 'descibe': 6413, 'jic': 13148, 'norway': 16755, 'toothless': 25150, 'vey': 26515, 'hourah': 11727, 'misspelled': 15702, 'informing': 12446, 'buckled': 3138, 'tossing': 25198, 'replete': 20429, 'checkout': 4023, 'ke': 13438, 'rav': 19831, 'hauling': 11107, 'plow': 18537, 'confirm': 4957, 'accusingly': 203, 'venue': 26468, 'protested': 19311, 'winked': 27320, 'hugged': 11790, 'thriving': 24865, 'refuge': 20151, 'cashed': 3670, 'unrelated': 26128, 'lofi': 14457, 'loading': 14424, 'meh': 15335, 'troublemaker': 25522, 'hubbard': 11774, 'jatr': 13038, 'vol': 26682, 'cere': 3855, 'yu': 27820, 'watatse': 26918, 'sidebar': 22251, 'downed': 7207, 'liter': 14352, 'vodka': 26676, 'emergency': 7859, 'scooby': 21515, 'cartoon': 3649, 'sacwriters': 21167, 'fec': 8928, 'nader': 16263, 'supposition': 24017, 'landslide': 13849, 'randi': 19764, 'tic': 24921, 'handily': 10963, 'revised': 20690, 'nixon': 16659, 'mcgovern': 15232, 'mondale': 15852, 'dukakis': 7410, 'dole': 7090, 'candidtates': 3505, 'nv': 16883, 'nm': 16665, 'sc': 21409, 'sd': 21619, 'abstained': 113, 'casting': 3689, 'pawikan': 17871, 'rall': 19740, 'goddamn': 10302, 'uexpress': 25754, 'tedrall': 24512, 'viewru': 26570, 'dodgeball': 7067, 'brimming': 3017, 'anticipation': 1020, 'assembling': 1430, 'unequitable': 25974, 'crushed': 5653, 'rue': 21079, 'excluded': 8470, 'iv': 12952, 'portland': 18756, 'pansy': 17657, 'headquarters': 11159, 'beaver': 2118, 'trophy': 25515, 'moistuized': 15815, 'sung': 23946, 'weedy': 27031, 'physiology': 18263, 'peer': 17962, 'clumsiness': 4507, 'ususlly': 26303, 'nudist': 16832, 'ruin': 21086, 'naturism': 16368, 'belt': 2229, 'nipple': 16649, 'piercing': 18310, 'grappling': 10515, 'investing': 12815, 'acumen': 270, 'reversing': 20683, 'catastrophe': 3705, 'purveyor': 19490, 'cked': 4321, 'pea': 17904, 'pitched': 18413, 'retrieved': 20644, 'ecstasy': 7592, 'mourned': 16027, 'mopiness': 15934, 'camping': 3483, 'interessant': 12685, 'whoopty': 27214, 'algebra': 633, 'gazeebo': 10007, 'kidnap': 13543, 'commandeered': 4720, 'tomarrows': 25106, 'francaise': 9588, 'consistency': 5058, 'solidified': 22837, 'hows': 11748, 'hoppy': 11661, 'lore': 14546, 'curved': 5777, 'cave': 3765, 'clutching': 4512, 'fawn': 8898, 'nickname': 16596, 'explanatory': 8582, 'default': 6173, 'progressed': 19206, 'feat': 8917, 'doubled': 7189, 'exaggeration': 8431, 'idolize': 11998, 'fabricated': 8693, 'dived': 7005, 'trading': 25274, 'quizzing': 19640, 'pixie': 18433, 'drac': 7242, 'seductive': 21701, 'faerie': 8734, 'paradox': 17687, 'prey': 19063, 'hurtful': 11865, 'peeved': 17967, 'scrimping': 21586, 'shuttup': 22222, 'forcefull': 9461, 'conversational': 5200, 'oooh': 17164, 'ooh': 17156, 'connecticut': 5005, 'williamsport': 27282, 'obtain': 16958, 'coveted': 5437, 'fashonably': 8850, 'sash': 21333, 'badge': 1817, 'precinct': 18929, 'sergeant': 21847, 'walker': 26819, 'horton': 11689, 'monthly': 15900, 'carte': 3645, 'blanche': 2481, 'grail': 10465, 'peep': 17959, 'impartial': 12128, 'emperor': 7885, 'invoked': 12828, 'carta': 3644, 'lietunant': 14206, 'warping': 26886, 'rotating': 21005, 'yungsters': 27843, 'shea': 21992, 'fenway': 8987, 'grader': 10449, 'weiner': 27063, 'weild': 27059, 'depress': 6382, 'chuckle': 4235, 'fixated': 9212, 'brooke': 3065, 'readin': 19872, 'birdsong': 2399, 'sebastian': 21663, 'faulks': 8879, 'isabelle': 12902, 'abroad': 89, 'skated': 22434, 'unworthiness': 26185, 'agony': 503, 'bereavement': 2271, 'coloured': 4668, 'bearable': 2093, 'wound': 27535, 'thicken': 24782, 'reopen': 20380, 'innocence': 12527, 'unguided': 26008, 'steamy': 23440, 'frightened': 9689, 'newas': 16540, 'enzo': 8126, 'springtime': 23207, 'cult': 5713, 'jumpsuit': 13320, 'highbrow': 11394, 'artsy': 1359, 'succubus': 23853, 'temepation': 24564, 'yout': 27810, 'tempting': 24583, 'clique': 4456, 'mandy': 14920, 'shoved': 22155, 'chantilly': 3939, 'jaros': 13032, 'psat': 19351, 'picky': 18290, 'snub': 22752, 'photographical': 18240, 'showcasing': 22161, 'poopoo': 18699, 'wahhhhh': 26791, 'mode': 15783, 'kilter': 13565, 'paraphrase': 17703, 'woody': 27447, 'stockard': 23549, 'channing': 3935, 'thoughy': 24839, 'vocalist': 26673, 'brooklyn': 3068, 'sunlight': 23952, 'glinting': 10242, 'improvisational': 12199, 'songwriting': 22883, 'rounded': 21025, 'caucasion': 3743, 'ruddy': 21073, 'complexion': 4822, 'braid': 2897, 'lifeless': 14214, 'jammed': 13004, 'improv': 12193, 'greasy': 10548, 'gritty': 10620, 'spain': 22986, 'pacifistic': 17554, 'islamo': 12914, 'facists': 8719, 'lgf': 14161, 'quaeda': 19537, 'lambasting': 13830, 'capitulation': 3555, 'islamofacists': 12915, 'refer': 20110, 'royalty': 21052, 'sickness': 22247, 'spreading': 23201, 'fabulousness': 8698, 'provoke': 19337, 'crisp': 5579, 'smelling': 22637, 'element': 7750, 'rein': 20217, 'gaming': 9925, 'cordy': 5290, 'strangely': 23613, 'grayblog': 10542, 'urgh': 26259, 'chico': 4103, 'olivia': 17104, 'newton': 16568, 'barry': 1981, 'ought': 17356, 'unsaid': 26137, 'anoother': 984, 'crispiness': 5581, 'achieved': 213, 'consumption': 5103, 'gud': 10709, 'cubeville': 5686, 'xp': 27656, 'batallia': 2026, 'kazham': 13430, 'gob': 10296, 'restarting': 20575, 'diminish': 6702, 'backlog': 1797, 'cici': 4255, 'swg': 24180, 'upgrading': 26202, 'cellphone': 3821, 'gsm': 10686, 'cingular': 4280, 'excluding': 8472, 'sensory': 21798, 'trippy': 25491, 'stamping': 23330, 'glee': 10228, 'interholiday': 12696, 'bumms': 3223, 'atlantic': 1532, 'layman': 13957, 'powerball': 18858, 'mcmahon': 15241, 'ediets': 7607, 'behold': 2192, 'dashed': 5975, 'rub': 21062, 'tellin': 24559, 'antenna': 1006, 'susceptible': 24086, 'ephiphany': 8137, 'buisness': 3184, 'kozar': 13706, 'homegrown': 11569, 'wayy': 26969, 'fearing': 8910, 'retribution': 20642, 'convincing': 5221, 'tangled': 24368, 'intentional': 12666, 'malfunctioned': 14882, 'janet': 13014, 'drenched': 7299, 'balmy': 1876, 'pavement': 17863, 'sneezed': 22710, 'meandered': 15254, 'romp': 20958, 'throaty': 24868, 'wandered': 26842, 'viable': 26522, 'tends': 24599, 'crowded': 5623, 'attests': 1572, 'fantaseum': 8815, 'daehangro': 5852, 'chipper': 4146, 'extertain': 8637, 'apron': 1184, 'lace': 13784, 'collar': 4627, 'squid': 23254, 'greet': 10567, 'swearing': 24145, 'bending': 2239, 'heil': 11257, 'hacked': 10835, 'spaghetti': 22985, 'hyung': 11927, 'nim': 16631, 'deul': 6526, 'ui': 25773, 'shi': 22032, 'mok': 15820, 'neun': 16522, 'gangster': 9933, 'dogfood': 7073, 'loo': 14512, 'prepares': 18988, 'seatcover': 21655, 'oozing': 17178, 'repugnant': 20467, 'stealer': 23428, 'pooper': 18696, 'mokpo': 15821, 'braveheart': 2932, 'bors': 2807, 'resembled': 20500, 'billing': 2370, 'winstone': 27331, 'imitating': 12085, 'desensitized': 6424, 'sci': 21503, 'bunshinsaba': 3244, 'gyup': 10812, 'condiment': 4920, 'ssam': 23277, 'jang': 13016, 'choo': 4183, 'lettuce': 14135, 'yok': 27780, 'gook': 10372, 'kelp': 13460, 'seated': 21656, 'differentiate': 6650, 'lorena': 14548, 'bobbit': 2670, 'dooough': 7157, 'lg': 14160, 'gatling': 9985, 'pellet': 17973, 'staffed': 23298, 'lure': 14689, 'beretta': 2273, 'scaring': 21445, 'westerner': 27105, 'suspense': 24095, 'fright': 9688, 'berserk': 2285, 'outburst': 17365, 'zoom': 27934, 'optimal': 17229, 'minimal': 15619, 'billboard': 2367, 'angieverse': 922, 'audblog': 1598, 'aging': 496, 'healthcare': 11174, 'geriatrics': 10105, 'swept': 24176, 'lizzie': 14393, 'outhouse': 17377, 'dairy': 5863, 'grandfather': 10487, 'retired': 20631, 'grandkids': 10489, 'happend': 11006, 'ceiling': 3802, 'indie': 12328, 'jazzy': 13055, 'overrated': 17476, 'cloggy': 4466, 'tonsilitius': 25132, 'infecton': 12399, 'blogking': 2576, 'blogalogue': 2562, 'celebrity': 3813, 'makeover': 14864, 'sized': 22425, 'cradle': 5464, 'seuss': 21887, 'maryville': 15084, 'nothingness': 16781, 'niort': 16646, 'mondo': 15855, 'drifted': 7312, 'shadowrun': 21925, 'overactive': 17426, 'fatigue': 8871, 'pulsing': 19427, 'tainted': 24310, 'arises': 1263, 'chained': 3893, 'drained': 7256, 'brightness': 3009, 'flickered': 9296, 'constant': 5072, 'haunted': 11109, 'aura': 1624, 'rot': 20999, 'whitish': 27195, 'limb': 14266, 'allure': 706, 'flashed': 9247, 'unassailable': 25836, 'shield': 22034, 'crow': 5620, 'vulture': 26738, 'eclipse': 7578, 'joker': 13224, 'minstrel': 15635, 'mock': 15777, 'foolishness': 9438, 'perusing': 18135, 'drowned': 7350, 'comforter': 4705, 'mattress': 15168, 'ct': 5673, 'delive': 6267, 'hopefull': 11649, 'xtc': 27659, 'pittsburgh': 18423, 'perogies': 18086, 'rice': 20740, 'pasta': 17811, 'guinea': 10737, 'racial': 19674, 'epithet': 8146, 'slang': 22500, 'disparaging': 6903, 'hotter': 11720, 'cooling': 5239, 'defies': 6200, 'oven': 17425, 'roasted': 20878, 'griffenjam': 10592, 'menu': 15397, 'zelda': 27878, 'mystic': 16245, 'leisure': 14076, 'isabella': 12901, 'milk': 15575, 'baptized': 1924, 'softball': 22807, 'arizona': 1267, 'liver': 14380, 'misrepresent': 15690, 'presenting': 19011, 'wholly': 27204, 'ocurring': 17004, 'titanic': 25023, 'unsinkable': 26147, 'proponent': 19274, 'smithsonian': 22650, 'ruby': 21071, 'slipper': 22568, 'kit': 13610, 'nutshell': 16877, 'sharon': 21974, 'creech': 5542, 'msnbc': 16067, 'purist': 19470, 'tolkien': 25096, 'raymond': 19845, 'mangled': 14929, 'smoothly': 22669, 'sticking': 23507, 'layering': 13955, 'cardboard': 3587, 'sparkler': 23004, 'mooncake': 15915, 'chinatown': 4135, 'festivity': 9012, 'booklet': 2758, 'containing': 5112, 'diasporic': 6601, 'sia': 22230, 'intn': 12753, 'ao': 1064, 'widely': 27231, 'curriculum': 5763, 'marketable': 15035, 'liberating': 14180, 'ruthless': 21138, 'prehensile': 18968, 'tail': 24302, 'preserved': 19016, 'skid': 22446, 'broadside': 3045, 'marie': 15021, 'towing': 25240, 'ida': 11964, 'chemo': 4055, 'diablo': 6582, 'tow': 25235, 'fixing': 9214, 'necromancer': 16436, 'happily': 11015, 'stairwell': 23313, 'ladder': 13799, 'socket': 22793, 'renting': 20378, 'cinder': 4272, 'swapping': 24130, 'chihuahua': 4107, 'rustic': 21135, 'blackened': 2458, 'copper': 5269, 'flashiness': 9248, 'fixture': 9215, 'towel': 25237, 'productive': 19176, 'sunbeam': 23931, 'repentance': 20404, 'lds': 13977, 'fiery': 9071, 'pipe': 18383, 'cleaner': 4393, 'shelby': 22009, 'kennan': 13468, 'katy': 13422, 'hannah': 10995, 'thankful': 24720, 'blossoming': 2608, 'piped': 18384, 'egypt': 7689, 'pharaoh': 18181, 'frequently': 9661, 'catherine': 3728, 'historic': 11465, 'reduction': 20093, 'conservation': 5036, 'structuring': 23705, 'focussing': 9397, 'efficiency': 7667, 'fleet': 9281, 'consumed': 5097, 'temp': 24566, 'eying': 8683, 'employ': 7894, 'salvage': 21261, 'landfill': 13843, 'lumber': 14666, 'worthwhile': 27523, 'maximize': 15182, 'realign': 19882, 'jeep': 13074, 'fearless': 8911, 'quantity': 19556, 'sustainable': 24102, 'weirdo': 27070, 'orsa': 17310, 'thrak': 24842, 'prac': 18878, 'forgiven': 9495, 'honeydew': 11603, 'panda': 17643, 'unfavourable': 25984, 'transit': 25343, 'venus': 26469, 'planner': 18461, 'daytimer': 6006, 'neatness': 16415, 'guapo': 10694, 'disorganization': 6897, 'plauging': 18484, 'triumphing': 25497, 'affectionate': 426, 'deign': 6232, 'listless': 14346, 'uninterested': 26033, 'eshadow': 8242, 'meowed': 15399, 'rubbed': 21063, 'agains': 474, 'renal': 20354, 'atrophied': 1544, 'treatment': 25416, 'sliding': 22551, 'opted': 17227, 'smirk': 22644, 'knowingly': 13670, 'toon': 25143, 'marshmellow': 15062, 'confusingly': 4977, 'messagenet': 15435, 'lmfao': 14419, 'brightens': 3005, 'exhibitionist': 8507, 'supergirl': 23976, 'photographic': 18239, 'scavenger': 21455, 'tracy': 25269, 'shyah': 22225, 'downfall': 7209, 'amateur': 771, 'lousy': 14594, 'marvellous': 15078, 'recitation': 19983, 'conceded': 4870, 'judged': 13285, 'panel': 17648, 'clapping': 4348, 'gabe': 9864, 'kapler': 13392, 'hobbled': 11511, 'manny': 14960, 'ramirez': 19755, 'anaheim': 854, 'athletism': 1526, 'sox': 22970, 'alwaysd': 754, 'homerun': 11581, 'burk': 3261, 'millar': 15578, 'hamstring': 10944, 'bothering': 2823, 'hoax': 11508, 'heathly': 11208, 'francoma': 9596, 'ortiz': 17317, 'demonstrates': 6311, 'unnessicary': 26084, 'umpire': 25813, 'ejected': 7710, 'pedro': 17950, 'clown': 4494, 'dugout': 7408, 'blowout': 2615, 'ritalin': 20838, 'enxt': 8125, 'olerud': 17097, 'mccarty': 15213, 'seasoned': 21650, 'retirement': 20633, 'shoppach': 22115, 'alvarez': 752, 'carlos': 3615, 'beltran': 2230, 'trot': 25518, 'damaged': 5881, 'luna': 14674, 'eli': 7764, 'celo': 3824, 'waitin': 26805, 'mn': 15762, 'limiting': 14275, 'mod': 15782, 'voila': 26681, 'leper': 14108, 'ob': 16908, 'naaa': 16255, 'solicit': 22831, 'thinkin': 24801, 'scapegoat': 21431, 'pariah': 17729, 'lazarus': 13962, 'dmz': 7041, 'surrendered': 24067, 'kuwaiti': 13755, 'nicer': 16585, 'quad': 19535, 'mattea': 15162, 'ali': 642, 'sherman': 22026, 'allison': 688, 'maggie': 14796, 'misconception': 15665, 'bestest': 2290, 'bdae': 2071, 'oredi': 17264, 'pencilcase': 17987, 'heex': 11242, 'pinkie': 18368, 'todae': 25062, 'lvl': 14712, 'shooo': 22105, 'happi': 11012, 'chi': 4093, 'gd': 10015, 'prezzie': 19065, 'juz': 13352, 'lyk': 14718, 'daes': 5853, 'sec': 21665, 'lorx': 14553, 'reali': 19881, 'poly': 18653, 'unusual': 26176, 'cuddling': 5692, 'redeem': 20064, 'chooses': 4186, 'pupil': 19454, 'commited': 4744, 'erm': 8197, 'wad': 26766, 'ar': 1195, 'nodded': 16682, 'buck': 3132, 'muahahahaha': 16081, 'examination': 8434, 'afterall': 462, 'practise': 18890, 'yawn': 27697, 'jolin': 13229, 'laters': 13898, 'glamorous': 10207, 'luxury': 14711, 'bulous': 3214, 'biscayne': 2413, 'glamour': 10208, 'hood': 11623, 'diesel': 6638, 'hangin': 10987, 'violently': 26611, 'rudely': 21075, 'awakened': 1708, 'siren': 22394, 'terrace': 24642, 'commotion': 4752, 'involves': 12837, 'glamourous': 10209, 'ruminating': 21099, 'worshipping': 27517, 'bonni': 2738, 'tendancy': 24590, 'lectured': 14019, 'toby': 25056, 'chew': 4085, 'extraordinarily': 8650, 'winded': 27301, 'bitte': 2430, 'disrespectful': 6934, 'polythene': 18664, 'pam': 17631, 'dose': 7178, 'jackboot': 12969, 'kilt': 13564, 'diller': 6694, 'hilt': 11429, 'attractively': 1584, 'faint': 8746, 'clued': 4502, 'prognosis': 19199, 'domino': 7119, 'cordite': 5286, 'suzy': 24113, 'wearying': 26998, 'rope': 20982, 'buoy': 3246, 'decoder': 6128, 'kissed': 13608, 'grenade': 10579, 'fusion': 9834, 'halo': 10921, 'reappear': 19911, 'vapor': 26384, 'comb': 4682, 'merriam': 15421, 'wack': 26760, 'phat': 18189, 'strives': 23685, 'blinded': 2528, 'brushed': 3101, 'sideburn': 22252, 'mj': 15739, 'connery': 5012, 'mocking': 15780, 'waning': 26847, 'hairline': 10883, 'vericose': 26485, 'vein': 26438, 'sagging': 21205, 'cheeseburgular': 4041, 'nucular': 16829, 'niiiiiiiiice': 16625, 'saltimbocca': 21253, 'lasagna': 13877, 'eminates': 7866, 'ulcer': 25780, 'vegetarian': 26429, 'surety': 24036, 'nip': 16647, 'asinine': 1398, 'dietary': 6640, 'preference': 18958, 'maddox': 14772, 'xmission': 27643, 'rougher': 21017, 'dbd': 6019, 'owed': 17518, 'contempt': 5121, 'avoiding': 1698, 'install': 12593, 'redhat': 20076, 'pentium': 18012, 'skank': 22428, 'utils': 26311, 'juvenile': 13349, 'jeopardy': 13109, 'jupiter': 13333, 'bulldog': 3204, 'milan': 15559, 'whorehouse': 27217, 'stimu': 23522, 'gah': 9876, 'stinkyhead': 23536, 'pout': 18848, 'forrest': 9521, 'footed': 9446, 'pace': 17549, 'resurrecting': 20610, 'ansett': 990, 'airline': 565, 'marcomm': 15006, 'lecturer': 14020, 'positively': 18781, 'bloggin': 2572, 'unpowered': 26109, 'whine': 27161, 'caped': 3544, 'afc': 416, 'nfc': 16572, 'dolphin': 7098, 'mvp': 16219, 'madison': 14779, 'augest': 1614, 'enought': 8036, 'colt': 4670, 'qb': 19525, 'payton': 17891, 'manning': 14958, 'zhadoxero': 27892, 'jimmeh': 13162, 'zee': 27877, 'chopper': 4190, 'reilly': 20214, 'reuters': 20660, 'berg': 2274, 'earphone': 7531, 'qaf': 19523, 'gimme': 10172, 'heinz': 11260, 'peed': 17952, 'cartwheel': 3653, 'similarminds': 22325, 'buddhist': 3148, 'monestary': 15857, 'fervently': 9006, 'extinguished': 8640, 'nelson': 16476, 'mandela': 14919, 'capeable': 3542, 'dummy': 7425, 'lilly': 14259, 'sweetie': 24167, 'describing': 6417, 'bloggable': 2567, 'longish': 14505, 'uninspired': 26028, 'experiances': 8558, 'xyloa': 27668, 'elvish': 7810, 'daoism': 5933, 'beehive': 2153, 'fog': 9400, 'courtyard': 5425, 'quieted': 19607, 'becuase': 2135, 'mimiced': 15596, 'daze': 6010, 'confidential': 4950, 'abounds': 77, 'mizz': 15737, 'totall': 25203, 'christine': 4219, 'todd': 25064, 'whitman': 27196, 'confirming': 4960, 'governor': 10424, 'slot': 22582, 'cabinet': 3368, 'tanline': 24378, 'hum': 11801, 'woahh': 27403, 'fuuuul': 9845, 'fuul': 9844, 'solitaire': 22839, 'abstraction': 116, 'notation': 16770, 'tricky': 25458, 'intrigued': 12769, 'ensemble': 8048, 'chaotic': 3943, 'rigorously': 20796, 'deterministic': 6512, 'macroscopic': 14763, 'newtonian': 16569, 'quantum': 19557, 'replaced': 20420, 'uncertainty': 25862, 'downwards': 7232, 'disorder': 6896, 'ridley': 20777, 'localised': 14439, 'overrun': 17479, 'entropy': 8107, 'lennart': 14096, 'magician': 14802, 'extraordinaire': 8649, 'shuffled': 22207, 'unending': 25971, 'bugger': 3168, 'contention': 5129, 'repeating': 20399, 'unrecognisable': 26127, 'strive': 23684, 'stapler': 23351, 'dido': 6628, 'upstate': 26235, 'southern': 22961, 'devastating': 6532, 'illustrating': 12050, 'cherish': 4068, 'accross': 188, 'inherit': 12481, 'dial': 6588, 'someway': 22867, 'defenintly': 6187, 'calzone': 3453, 'lmgdao': 14420, 'injustice': 12503, 'dell': 6274, 'spree': 23202, 'arbitrary': 1206, 'spacesuit': 22981, 'damned': 5887, 'campaigning': 3477, 'leftist': 14034, 'deeply': 6170, 'gleaned': 10226, 'sharp': 21975, 'harnessed': 11059, 'mushed': 16176, 'standpoint': 23342, 'condescending': 4917, 'technic': 24495, 'shonan': 22101, 'portuguese': 18768, 'simultaneous': 22347, 'translator': 25352, 'frightening': 9690, 'gasping': 9972, 'contradicts': 5164, 'downpouring': 7221, 'pelting': 17976, 'cuddle': 5691, 'babe': 1775, 'glimmer': 10237, 'falter': 8786, 'flicker': 9294, 'begun': 2177, 'disjointed': 6877, 'hysterical': 11922, 'counted': 5387, 'printewd': 19099, 'route': 21032, 'unearned': 25963, 'outrun': 17402, 'immense': 12098, 'crumble': 5640, 'chrisie': 4209, 'inability': 12207, 'racer': 19662, 'classy': 4377, 'powress': 18868, 'obstacle': 16957, 'flare': 9242, 'yeild': 27728, 'frankenstein': 9599, 'electrocuted': 7741, 'whiny': 27166, 'despicable': 6461, 'lurch': 14687, 'pecedence': 17930, 'bumping': 3228, 'stupidity': 23756, 'cluebox': 4501, 'battling': 2050, 'temperament': 24570, 'exhaustion': 8503, 'teammate': 24475, 'declares': 6120, 'elimination': 7775, 'meaness': 15258, 'meaningfully': 15262, 'roadblock': 20864, 'aroung': 1298, 'bash': 1997, 'stayd': 23415, 'oni': 17137, 'veri': 26484, 'bcos': 2070, 'paly': 17630, 'lioaz': 14315, 'yawnzzz': 27700, 'mojojo': 15819, 'tiong': 24999, 'bahrua': 1838, 'thoese': 24817, 'reasaurtant': 19918, 'toking': 25083, 'pending': 17989, 'faves': 8885, 'paced': 17550, 'cinemateque': 4278, 'soak': 22758, 'mailing': 14832, 'hors': 11685, 'oeuvre': 17022, 'dogtulosba': 7079, 'ink': 12505, 'catchin': 3710, 'scum': 21612, 'squatted': 23242, 'rug': 21083, 'precariously': 18921, 'quivering': 19634, 'reassuring': 19928, 'alphabet': 721, 'progressing': 19207, 'whimper': 27159, 'howl': 11745, 'teleport': 24550, 'castillian': 3686, 'sighting': 22274, 'fate': 8865, 'keech': 13445, 'lividia': 14383, 'zhenterem': 27897, 'deceased': 6088, 'delilah': 6262, 'wats': 26948, 'kittey': 13618, 'pocahontas': 18573, 'joel': 13194, 'xoxo': 27646, 'brink': 3024, 'reside': 20514, 'kickass': 13529, 'bred': 2961, 'depict': 6363, 'orientation': 17288, 'tribulation': 25451, 'supportive': 24011, 'crux': 5661, 'subsequently': 23807, 'hypocritically': 11917, 'caretaker': 3606, 'oyster': 17541, 'vcr': 26418, 'erection': 8183, 'somethin': 22863, 'alienation': 648, 'dubbed': 7389, 'celluloid': 3823, 'homosexual': 11593, 'submerse': 23794, 'athletics': 1525, 'charlie': 3977, 'caine': 3398, 'metallica': 15452, 'compensate': 4794, 'masculine': 15090, 'predict': 18942, 'cooperate': 5247, 'penance': 17983, 'subliminal': 23792, 'arabian': 1198, 'monitoring': 15876, 'monopolized': 15883, 'overhead': 17453, 'walkway': 26824, 'encompassing': 7936, 'indicator': 12325, 'housing': 11737, 'walsh': 26833, 'benedict': 2242, 'renanndez': 20356, 'cendro': 3829, 'freelance': 9638, 'photojournalism': 18242, 'kettenhofer': 13496, 'alleruzzo': 678, 'pablo': 17548, 'martinez': 15072, 'monsivais': 15888, 'critique': 5593, 'permitting': 18082, 'fernandez': 8994, 'bfa': 2325, 'exhibition': 8506, 'adjustment': 324, 'mel': 15341, 'sorcha': 22918, 'vette': 26512, 'pharrell': 18185, 'gushy': 10774, 'backseat': 1802, 'privacy': 19112, 'crouched': 5619, 'ocho': 16996, 'orphan': 17307, 'adjusting': 323, 'resurrect': 20609, 'conclude': 4897, 'hmmmmm': 11494, 'eagle': 7515, 'supernatural': 23986, 'maternal': 15145, 'anally': 859, 'probed': 19132, 'extraterrestrial': 8654, 'nether': 16508, 'cattle': 3735, 'bzzzzzzt': 3355, 'stimulant': 23523, 'dominant': 7109, 'businessman': 3297, 'cheery': 4038, 'halfish': 10904, 'bagger': 1828, 'vance': 26371, 'golfing': 10334, 'gc': 10013, 'mapquest': 14990, 'tortured': 25190, 'ugandan': 25759, 'uganda': 25757, 'kampala': 13380, 'ugandaa': 25758, 'amputated': 839, 'yoweri': 27818, 'museveni': 16172, 'otobo': 17348, 'ankole': 951, 'liberation': 14181, 'nursed': 16864, 'stump': 23744, 'slaughtered': 22518, 'petroleum': 18164, 'hudes': 11782, 'relocated': 20295, 'seeh': 21706, 'meaner': 15257, 'rotten': 21010, 'chanhassen': 3932, 'tulip': 25610, 'bloomed': 2602, 'stepmother': 23468, 'stepsister': 23472, 'donaldson': 7123, 'hondo': 11597, 'diamond': 6593, 'encrusted': 7950, 'medallion': 15286, 'whitey': 27194, 'differentiation': 6651, 'archiving': 1223, 'ascending': 1369, 'decending': 6095, 'detach': 6486, 'detaching': 6489, 'spence': 23076, 'controller': 5183, 'subsonic': 23817, 'supersonic': 23988, 'advises': 401, 'hammer': 10939, 'ragheads': 19707, 'priceless': 19068, 'madonna': 14784, 'monopoly': 15884, 'restrictive': 20597, 'variable': 26388, 'retains': 20615, 'nutrient': 16875, 'karl': 13404, 'biased': 2334, 'socio': 22789, 'rotj': 21007, 'abbreviation': 37, 'schoolers': 21489, 'alli': 684, 'reba': 19929, 'blender': 2519, 'angered': 918, 'messy': 15440, 'chess': 4075, 'carved': 3655, 'potato': 18819, 'fried': 9677, 'bishop': 2417, 'rook': 20968, 'pawn': 17873, 'brrr': 3084, 'torros': 25186, 'intern': 12704, 'accf': 151, 'adventurously': 383, 'expectant': 8540, 'msg': 16064, 'resurrection': 20611, 'tending': 24597, 'childlike': 4115, 'cliche': 4425, 'adventurous': 382, 'ninos': 16642, 'bloggy': 2575, 'suh': 23896, 'ookay': 17158, 'heather': 11207, 'ponders': 18673, 'uhh': 25769, 'breaker': 2946, 'hurd': 11854, 'sleepover': 22537, 'lan': 13837, 'nessles': 16500, 'lookout': 14518, 'juss': 13339, 'diferent': 6644, 'gf': 10130, 'imaginary': 12063, 'cuzz': 5807, 'rallcom': 19741, 'label': 13776, 'alcohol': 609, 'sheba': 21995, 'shimmy': 22047, 'superficial': 23972, 'imitation': 12086, 'turing': 25634, 'schwarzenegger': 21502, 'bobblehead': 2671, 'doll': 7093, 'seungju': 21886, 'heavenly': 11215, 'tiramisu': 25007, 'ricotta': 20757, 'mascarpone': 15087, 'sara': 21317, 'analytical': 867, 'phd': 18190, 'dialkyl': 6589, 'dendrimer': 6322, 'eigenvalue': 7703, 'wavefunction': 26953, 'vaction': 26332, 'bleeds': 2512, 'employee': 7896, 'rewarding': 20707, 'whiner': 27163, 'netter': 16517, 'recognizes': 20002, 'hospitality': 11695, 'category': 3721, 'madie': 14778, 'questioning': 19587, 'nominating': 16698, 'relic': 20277, 'bygone': 3344, 'duplicate': 7450, 'enthused': 8080, 'abundant': 123, 'adviser': 400, 'hungering': 11841, 'deadlock': 6034, 'intensity': 12661, 'validation': 26355, 'dems': 6318, 'dem': 6283, 'emphasized': 7889, 'electability': 7728, 'floss': 9347, 'faithful': 8763, 'flailing': 9225, 'shameful': 21948, 'overhaul': 17452, 'opine': 17202, 'haggard': 10851, 'coif': 4594, 'insincerity': 12566, 'sway': 24140, 'fumbling': 9778, 'dolt': 7099, 'incumbent': 12295, 'bungled': 3238, 'rabble': 19657, 'rouser': 21030, 'yyyyyyyyahp': 27851, 'chose': 4199, 'nominated': 16697, 'adlai': 325, 'stevenson': 23491, 'rallying': 19744, 'grooming': 10634, 'roughshod': 21020, 'thankfully': 24721, 'minnie': 15632, 'dnc': 7043, 'seeking': 21711, 'shell': 22011, 'stumping': 23746, 'speechmaking': 23064, 'earnest': 7527, 'gw': 10792, 'deer': 6171, 'headlight': 11154, 'hemi': 11302, 'jek': 13092, 'approved': 1172, 'methodical': 15468, 'removal': 20347, 'outline': 17385, 'wahabbist': 26786, 'infuriates': 12455, 'debated': 6062, 'homestar': 11585, 'parenting': 17726, 'delicacy': 6254, 'brocolli': 3049, 'tofu': 25072, 'seaweed': 21661, 'rollerblading': 20939, 'cfa': 3875, 'stomache': 23561, 'gonad': 10344, 'webcam': 27009, 'phonecalls': 18225, 'ug': 25756, 'terminal': 24634, 'inconveniently': 12277, 'laughable': 13917, 'monetary': 15860, 'imf': 12077, 'financing': 9126, 'shortfall': 22130, 'collared': 4628, 'intrinsically': 12771, 'kook': 13688, 'revisit': 20693, 'veggietales': 26431, 'ducky': 7399, 'larry': 13872, 'manatee': 14911, 'ripping': 20827, 'showtunes': 22170, 'composed': 4837, 'spiel': 23100, 'emerges': 7860, 'lighten': 14232, 'stack': 23293, 'twentysomethings': 25685, 'illustrate': 12048, 'faceless': 8705, 'nameless': 16296, 'joes': 13195, 'reserving': 20509, 'reminisce': 20332, 'pleasantly': 18509, 'cobra': 4540, 'vestige': 26508, 'dignity': 6680, 'admiring': 340, 'alongside': 714, 'meyer': 15485, 'willpower': 27289, 'satan': 21338, 'spied': 23099, 'hydrofoil': 11892, 'indecision': 12300, 'infantile': 12393, 'rationalizer': 19823, 'eureeka': 8334, 'deprivation': 6389, 'plagiarism': 18447, 'looooong': 14525, 'caffeinated': 3391, 'develop': 6534, 'droids': 7335, 'selkirk': 21751, 'debris': 6071, 'colliding': 4644, 'comet': 4699, 'gravitational': 10538, 'vastness': 26407, 'collided': 4643, 'resulted': 20605, 'whoopin': 27211, 'videotape': 26552, 'chevy': 4084, 'sax': 21398, 'mellencamp': 15350, 'bandito': 1891, 'studded': 23726, 'fest': 9008, 'characterize': 3956, 'mehlman': 15337, 'bushies': 3290, 'psychoanylize': 19371, 'aggravated': 485, 'eowyn': 8129, 'fitted': 9203, 'foo': 9427, 'pedal': 17936, 'lotsa': 14571, 'releasing': 20266, 'awwww': 1739, 'braking': 2909, 'inn': 12517, 'teetering': 24530, 'cruella': 5635, 'deville': 6548, 'aged': 478, 'aiyoh': 574, 'leng': 14090, 'zai': 27859, 'handsome': 10978, 'mamasan': 14899, 'halpchoo': 10925, 'seperated': 21824, 'stint': 23537, 'regroup': 20191, 'soft': 22806, 'splitty': 23146, 'swatching': 24137, 'elann': 7718, 'dilemna': 6690, 'cyborg': 5812, 'purty': 19489, 'afterwords': 473, 'comin': 4712, 'noooo': 16726, 'mello': 15352, 'syrup': 24256, 'smoothy': 22670, 'squirt': 23265, 'microwaving': 15521, 'sorting': 22933, 'survivorfire': 24083, 'emerged': 7857, 'fairplays': 8755, 'ashok': 1389, 'distracting': 6977, 'ridiculing': 20773, 'fairplay': 8754, 'valiantly': 26350, 'concealing': 4868, 'marquesas': 15047, 'outwitted': 17419, 'recipient': 19980, 'anjan': 946, 'conceal': 4866, 'doofus': 7151, 'mug': 16100, 'spoiled': 23151, 'competitor': 4803, 'immunity': 12116, 'neleh': 16472, 'distracted': 6976, 'outplayed': 17394, 'flux': 9380, 'retain': 20613, 'flavour': 9271, 'tenet': 24602, 'defer': 6192, 'truncation': 25555, 'inefficiency': 12370, 'capitalize': 3552, 'profit': 19189, 'import': 12164, 'pricey': 19071, 'priciest': 19072, 'watering': 26937, 'span': 22991, 'barney': 1964, 'fife': 9073, 'skating': 22435, 'jumper': 13315, 'imagery': 12062, 'irks': 12867, 'discretion': 6834, 'faux': 8882, 'wrenching': 27564, 'weep': 27046, 'oecd': 17019, 'globally': 10253, 'underworld': 25945, 'scandinavia': 21427, 'logarithmic': 14461, 'companionship': 4771, 'huggie': 11791, 'happiest': 11014, 'woodwork': 27446, 'pagan': 17575, 'coddling': 4560, 'nuturing': 16881, 'overlooked': 17466, 'thee': 24741, 'yueah': 27826, 'babay': 1771, 'goldmember': 10327, 'trey': 25444, 'cameo': 3466, 'legwork': 14068, 'beyonce': 2322, 'ab': 26, 'bland': 2482, 'singaporean': 22362, 'bismi': 2419, 'prata': 18902, 'teh': 24534, 'tarik': 24405, 'pratas': 18903, 'puking': 19418, 'bristol': 3028, 'advise': 398, 'angsty': 930, 'tended': 24592, 'pest': 18150, 'aiyah': 573, 'tsunamit': 25578, 'infringing': 12451, 'vividly': 26663, 'flair': 9226, 'audioo': 1604, 'clapped': 4347, 'cheered': 4031, 'wah': 26783, 'lau': 13913, 'seeker': 21710, 'pinching': 18359, 'scratching': 21557, 'hairpulling': 10885, 'whacking': 27119, 'jie': 13149, 'serial': 21850, 'softened': 22808, 'modestly': 15796, 'kospi': 13704, 'appreciably': 1151, 'usd': 26278, 'converter': 5209, 'flabbergasted': 9220, 'retire': 20630, 'denominated': 6331, 'scam': 21420, 'beggar': 2164, 'rattling': 19826, 'jeonse': 13108, 'renter': 20376, 'refunded': 20153, 'equity': 8170, 'villagevoice': 26580, 'otis': 17346, 'php': 18246, 'alec': 616, 'ecological': 7580, 'ostensibly': 17335, 'habitat': 10824, 'peta': 18153, 'targeted': 24401, 'lawful': 13943, 'dissent': 6950, 'demonstration': 6313, 'leafleting': 13988, 'catchall': 3708, 'videotaped': 26553, 'eco': 7579, 'stigmatized': 23515, 'molester': 15829, 'hernon': 11345, 'strand': 23610, 'wrist': 27575, 'toenail': 25069, 'pedicure': 17945, 'polynomial': 18658, 'exclaiming': 8468, 'interrupted': 12726, 'forte': 9525, 'impeded': 12135, 'mathmatics': 15152, 'vehement': 26434, 'donnelly': 7136, 'excelling': 8447, 'mustered': 16196, 'magistra': 14806, 'languange': 13853, 'indebted': 12299, 'officemate': 17039, 'incorporated': 12279, 'personalized': 18116, 'havin': 11116, 'hankerin': 10993, 'mcd': 15222, 'bec': 2122, 'scuit': 21606, 'mcpizza': 15245, 'dilivered': 6693, 'blooper': 2606, 'burnette': 3270, 'flub': 9359, 'czech': 5832, 'haa': 10814, 'stellastarr': 23456, 'kilborn': 13550, 'stellastar': 23455, 'bowie': 2857, 'bass': 2014, 'ace': 205, 'wmp': 27396, 'superfantastic': 23971, 'phonebox': 18224, 'officegirl': 17038, 'jung': 13325, 'copious': 5266, 'cooooool': 5245, 'inputted': 12538, 'chagrin': 3890, 'panicking': 17654, 'insist': 12568, 'businesscard': 3296, 'laziness': 13966, 'discourse': 6822, 'beneficiary': 2246, 'darwinism': 5969, 'unaware': 25841, 'insensitive': 12552, 'elitist': 7781, 'sadist': 21184, 'counseling': 5382, 'impariment': 12126, 'aberrant': 51, 'suffered': 23872, 'clinical': 4448, 'intellectual': 12646, 'needlessly': 16445, 'infront': 12452, 'oddish': 17008, 'festivle': 9013, 'predetermined': 18938, 'nona': 16702, 'rocker': 20905, 'tmpl': 25042, 'muesums': 16097, 'signifigance': 22291, 'screenshot': 21574, 'wonderfull': 27424, 'inspireing': 12587, 'drone': 7336, 'tweeker': 25680, 'makeing': 14863, 'resemble': 20499, 'pixel': 18431, 'oof': 17154, 'visually': 26651, 'hud': 11779, 'debugging': 6074, 'screenie': 21570, 'addy': 305, 'coding': 4566, 'buld': 3190, 'ineedanswers': 12368, 'footer': 9447, 'winamp': 27297, 'backround': 1801, 'roaring': 20876, 'warmth': 26878, 'earthquake': 7538, 'evacuation': 8350, 'graph': 10509, 'tight': 24948, 'lock': 14446, 'aint': 553, 'ryan': 21142, 'conspiratorial': 5070, 'decimate': 6108, 'chummy': 4240, 'comradarie': 4861, 'nastiness': 16345, 'programmed': 19202, 'inflirtrates': 12428, 'womb': 27416, 'simplest': 22334, 'snip': 22721, 'dice': 6605, 'radiogram': 19694, 'twon': 25705, 'exclusive': 8473, 'psh': 19354, 'kansa': 13388, 'humbug': 11813, 'blasting': 2493, 'glittery': 10246, 'glitter': 10244, 'entrancing': 8097, 'woooooooooooooo': 27465, 'epaaaa': 8132, 'joyful': 13269, 'relay': 20262, 'kala': 13372, 'dresser': 7302, 'jonathon': 13236, 'cainer': 3399, 'sagittarius': 21207, 'inclined': 12249, 'superstitious': 23991, 'clogged': 4465, 'twittling': 25703, 'brennie': 2972, 'illustrator': 12053, 'thier': 24786, 'loveeee': 14601, 'sundress': 23943, 'jammies': 13005, 'neccessary': 16423, 'annoyingly': 974, 'tiring': 25016, 'roomate': 20972, 'flunked': 9370, 'andy': 896, 'griffith': 10594, 'gestured': 10119, 'indiana': 12317, 'insulted': 12628, 'generic': 10053, 'snickerbuns': 22713, 'interpret': 12716, 'indicative': 12324, 'wildly': 27270, 'gyrating': 10809, 'sneeze': 22709, 'primped': 19089, 'hogwash': 11526, 'relying': 20301, 'refinancing': 20125, 'eroding': 8199, 'erosion': 8201, 'accelerate': 136, 'shack': 21919, 'bo': 2649, 'jangle': 13017, 'johnreed': 13212, 'naughty': 16370, 'withdrawing': 27369, 'jeepers': 13075, 'creeper': 5547, 'freaked': 9617, 'gnaw': 10289, 'chant': 3936, 'brunt': 3098, 'sensed': 21789, 'bladder': 2469, 'grinder': 10605, 'thanked': 24718, 'qwest': 19651, 'bitten': 2431, 'cured': 5743, 'prodject': 19169, 'cactus': 3375, 'aww': 1737, 'bossy': 2815, 'oragel': 17240, 'num': 16845, 'tricked': 25455, 'toothpaste': 25151, 'corn': 5299, 'trench': 25434, 'gelled': 10032, 'shreah': 22177, 'brust': 3107, 'fairwell': 8757, 'numbing': 16850, 'meatloaf': 15275, 'feast': 8915, 'coursed': 5414, 'loaf': 14426, 'kun': 13738, 'cheesecake': 4042, 'whelmed': 27144, 'mongoose': 15868, 'poked': 18608, 'presser': 19024, 'awoken': 1733, 'cob': 4532, 'creamy': 5524, 'tint': 24993, 'aldi': 615, 'egotistic': 7686, 'abducted': 46, 'putty': 19510, 'dye': 7497, 'convenient': 5193, 'rejoined': 20238, 'marched': 15002, 'pistol': 18407, 'unwanted': 26181, 'sulked': 23905, 'shunned': 22211, 'declined': 6125, 'banjo': 1907, 'keyring': 13512, 'danille': 5925, 'stacy': 23295, 'whould': 27218, 'rash': 19806, 'intersected': 12730, 'ave': 1678, 'liven': 14379, 'skipped': 22462, 'qwestion': 19652, 'kidnapped': 13544, 'prank': 18900, 'francine': 9592, 'prose': 19285, 'mus': 16164, 'derive': 6399, 'enduring': 7975, 'transitory': 25346, 'ambition': 788, 'abusive': 127, 'motivation': 16000, 'prompting': 19246, 'benji': 2259, 'frank': 9597, 'payday': 17881, 'payroll': 17889, 'actuality': 266, 'ebeneezer': 7566, 'scrooge': 21591, 'clifford': 4436, 'wristwatch': 27576, 'carlton': 3616, 'faking': 8769, 'heartland': 11198, 'lurks': 14693, 'saga': 21203, 'awaits': 1706, 'extraplanar': 8652, 'thrift': 24858, 'charity': 3973, 'dood': 7147, 'newness': 16550, 'soulmate': 22941, 'biologically': 2388, 'nesting': 16504, 'manhattan': 14931, 'griffey': 10593, 'cincinnati': 4271, 'homeruns': 11582, 'prof': 19178, 'slugging': 22596, 'rbi': 19849, 'dominated': 7111, 'cin': 4269, 'deserves': 6433, 'mcgriff': 15233, 'hottest': 11721, 'basbeall': 1990, 'tampa': 24355, 'devil': 6546, 'pinella': 18363, 'noting': 16790, 'milestone': 15568, 'swoon': 24209, 'interleague': 12700, 'nomar': 16695, 'pitching': 18416, 'alcs': 611, 'minnesota': 15631, 'aa': 0, 'congrats': 4983, 'retief': 20629, 'goosen': 10385, 'mickelson': 15512, 'fart': 8835, 'winnign': 27324, 'tourney': 25230, 'tera': 24625, 'tiger': 24946, 'dominating': 7113, 'gharib': 10132, 'cambridge': 3462, 'gerry': 10113, 'hump': 11830, 'cantab': 3527, 'sq': 23232, 'dvdemons': 7483, 'blogster': 2581, 'diving': 7016, 'selects': 21742, 'woven': 27540, 'melange': 15344, 'dos': 7177, 'deterioration': 6507, 'howling': 11747, 'relate': 20244, 'gaping': 9938, 'geez': 10025, 'tasting': 24428, 'liquor': 14327, 'ploy': 18540, 'thimbleful': 24789, 'rsvps': 21059, 'gasp': 9969, 'undaunted': 25899, 'publication': 19392, 'interning': 12713, 'blackbird': 2454, 'edu': 7625, 'corrinne': 5334, 'clegg': 4411, 'hale': 10898, 'strapped': 23622, 'burglar': 3257, 'respirator': 20558, 'splayed': 23136, 'stainless': 23310, 'dared': 5937, 'thrashing': 24845, 'curare': 5738, 'curtainloud': 5771, 'doas': 7046, 'masked': 15095, 'anywho': 1062, 'warped': 26885, 'danceline': 5903, 'effecting': 7661, 'ahhh': 522, 'chasing': 3991, 'embarking': 7827, 'flinders': 9306, 'mornington': 15962, 'peninsula': 17999, 'equipped': 8168, 'everchanging': 8373, 'frantic': 9605, 'sm': 22608, 'disbelievingly': 6791, 'distress': 6980, 'rightly': 20793, 'sufficiently': 23877, 'melodramatic': 15357, 'daytime': 6005, 'soap': 22761, 'remission': 20337, 'conjured': 4998, 'lunar': 14675, 'closeness': 4473, 'theatrics': 24739, 'uncomprehendingly': 25877, 'spectacular': 23052, 'hue': 11784, 'parched': 17715, 'proppian': 19283, 'narrative': 16326, 'indecisively': 12302, 'stressfully': 23658, 'tick': 24922, 'culling': 5705, 'sars': 21331, 'schoolwork': 21492, 'motivate': 15996, 'disappearance': 6772, 'beaten': 2105, 'nb': 16387, 'expesive': 8569, 'publicity': 19394, 'stunt': 23751, 'nasa': 16332, 'maymont': 15192, 'booze': 2779, 'labour': 13782, 'coloring': 4665, 'uniqueness': 26038, 'individualism': 12344, 'conform': 4965, 'stricter': 23667, 'guideline': 10725, 'tribal': 25449, 'barf': 1948, 'wearer': 26992, 'literature': 14358, 'dvc': 7481, 'dumbest': 7421, 'craziest': 5513, 'goatse': 10295, 'juxtapose': 13350, 'bolder': 2700, 'unearth': 25964, 'deployed': 6373, 'supplied': 24003, 'experiment': 8562, 'scheer': 21468, 'conventional': 5196, 'deterrent': 6514, 'posture': 18814, 'reinforced': 20221, 'surveillance': 24074, 'interdiction': 12683, 'domestic': 7103, 'visio': 26636, 'ic': 11938, 'imaged': 12061, 'partitioned': 17774, 'plesant': 18527, 'fedora': 8939, 'ghz': 10139, 'watercool': 26931, 'shuttle': 22221, 'replacethe': 20422, 'somenasty': 22861, 'quicktime': 19602, 'summat': 23919, 'lipstick': 14323, 'wig': 27250, 'frederick': 9628, 'pookie': 18687, 'fiv': 9209, 'reportage': 20437, 'tww': 25708, 'ensues': 8051, 'sassarian': 21335, 'rofl': 20922, 'cecil': 3797, 'minirant': 15625, 'gmail': 10284, 'gapgirl': 9937, 'footing': 9448, 'entirety': 8089, 'manpower': 14964, 'bidding': 2346, 'mauled': 15175, 'refreshingly': 20146, 'watkins': 26947, 'affinity': 430, 'scatter': 21453, 'brained': 2900, 'eloquently': 7801, 'ingrained': 12466, 'eloquent': 7800, 'windy': 27313, 'untie': 26164, 'misinformation': 15676, 'ample': 838, 'hideaway': 11387, 'prerequisite': 18996, 'invading': 12795, 'gladly': 10206, 'populace': 18715, 'bullying': 3213, 'cowboy': 5442, 'forgetting': 9492, 'subconscious': 23782, 'trauma': 25380, 'naval': 16374, 'drift': 7311, 'bleacher': 2502, 'admiral': 336, 'erupted': 8215, 'hairy': 10890, 'eatin': 7556, 'shill': 22042, 'linguistically': 14303, 'simplicity': 22335, 'pitiful': 18419, 'indo': 12347, 'woefully': 27406, 'linguistic': 14302, 'bouncing': 2837, 'assistant': 1452, 'mercury': 15408, 'retrograde': 20648, 'occurring': 16990, 'retrogrades': 20649, 'weatherwise': 27002, 'spouse': 23192, 'murdered': 16154, 'teenaged': 24524, 'doubtlessly': 7195, 'attempting': 1561, 'pirate': 18392, 'caribbean': 3609, 'lieszche': 14205, 'diary': 6599, 'glycemic': 10278, 'uncanny': 25858, 'weebl': 27027, 'hooray': 11640, 'referral': 20113, 'commenting': 4733, 'lisenced': 14334, 'funimation': 9803, 'subbed': 23780, 'fullmetal': 9774, 'alchemist': 607, 'somthing': 22873, 'satelite': 21344, 'downlight': 7211, 'blaaaaaaaaaaaaaaaaaaaaah': 2450, 'fundamentalism': 9790, 'independant': 12307, 'screwy': 21582, 'piggy': 18320, 'subsidy': 23816, 'stalin': 23317, 'nutjobs': 16873, 'nutjob': 16872, 'chiristian': 4152, 'barcode': 1937, 'chanced': 3921, 'barcodes': 1939, 'barcoded': 1938, 'ey': 8669, 'neos': 16487, 'nots': 16796, 'uncle': 25866, 'bucs': 3141, 'titian': 25025, 'prevailed': 19049, 'xxxvii': 27667, 'intresting': 12764, 'od': 17005, 'shrine': 22188, 'strengthens': 23652, 'galaxyquest': 9898, 'mummy': 16135, 'saddest': 21177, 'cpl': 5450, 'boobah': 2744, 'bionicle': 2391, 'fullbodied': 9771, 'camille': 3472, 'consistancy': 5054, 'seep': 21714, 'oncoming': 17131, 'kazoo': 13431, 'wary': 26899, 'spammer': 22989, 'stymied': 23770, 'liz': 14388, 'figueroa': 9081, 'demonization': 6307, 'borracho': 2801, 'borracha': 2800, 'adj': 318, 'ebrio': 7572, 'embriagado': 7851, 'bebida': 2121, 'embriaga': 7850, 'habitualmente': 10826, 'dicho': 6608, 'algunos': 641, 'frutos': 9739, 'flores': 9341, 'morado': 15938, 'zanahoria': 27863, 'coloq': 4660, 'vivamente': 26660, 'dominado': 7107, 'pasi': 17788, 'especialmente': 8252, 'preschooler': 19002, 'ahh': 521, 'awoke': 1732, 'fedexed': 8938, 'fedex': 8937, 'prevalen': 19050, 'federally': 8935, 'province': 19333, 'tender': 24594, 'entail': 8057, 'mature': 15169, 'adulthood': 374, 'anonymity': 981, 'fodder': 9398, 'convict': 5215, 'suspected': 24089, 'stabbing': 23288, 'raided': 19711, 'ehwa': 7699, 'dong': 7130, 'methink': 15465, 'stab': 23285, 'baker': 1853, 'perverbial': 18140, 'gringo': 10609, 'curry': 5764, 'poo': 18682, 'underponce': 25925, 'cihahdeocxmwtimmeh': 4266, 'augustine': 1618, 'musella': 16170, 'tn': 25045, 'savannah': 21380, 'sultry': 23912, 'seduce': 21699, 'claudia': 4378, 'schiffer': 21472, 'bridgette': 2991, 'bardot': 1941, 'pressed': 19023, 'income': 12260, 'denim': 6326, 'digress': 6681, 'catchy': 3713, 'vocabulary': 26671, 'chicklet': 4102, 'babbydaddy': 1774, 'ebonics': 7569, 'spiteful': 23129, 'goodyear': 10362, 'tubby': 25587, 'mk': 15740, 'lovehandles': 14602, 'givin': 10198, 'ravis': 19839, 'rashed': 19807, 'demo': 6297, 'piper': 18386, 'hungover': 11843, 'disctrict': 6842, 'annap': 956, 'freakin': 9618, 'sgt': 21915, 'hughes': 11793, 'rippin': 20826, 'timmy': 24984, 'janey': 13015, 'earache': 7517, 'privledges': 19118, 'bittersweeet': 2434, 'armstrong': 1284, 'hongry': 11608, 'drank': 7262, 'panache': 17638, 'analyst': 865, 'gps': 10431, 'mvnos': 16218, 'operator': 17197, 'boost': 2772, 'virgin': 26616, 'dm': 7037, 'francisco': 9593, 'excess': 8455, 'vivid': 26662, 'didja': 6625, 'tay': 24453, 'impatient': 12130, 'landlord': 13845, 'gino': 10181, 'barking': 1956, 'unloading': 26065, 'taglish': 24294, 'lutuin': 14704, 'kita': 13611, 'adobong': 351, 'aso': 1410, 'adobo': 350, 'zealand': 27873, 'adamson': 280, 'lewis': 14153, 'lipped': 14321, 'strained': 23607, 'sailor': 21215, 'kvetchers': 13758, 'kvetcher': 13757, 'interrupting': 12727, 'sunset': 23959, 'arrondissements': 1326, 'landmark': 13846, 'notre': 16794, 'dame': 5883, 'beauborg': 2110, 'picturesque': 18297, 'ile': 12030, 'cite': 4302, 'quartier': 19565, 'eiffel': 7701, 'witnessed': 27381, 'crowning': 5627, 'napolean': 16313, 'narayan': 16320, 'perplexing': 18096, 'indispensable': 12340, 'epitomizes': 8149, 'verisimilar': 26488, 'circumambulated': 4291, 'carving': 3657, 'souvenir': 22964, 'transferred': 25334, 'gloomy': 10256, 'placard': 18441, 'colourful': 4669, 'stained': 23309, 'internally': 12709, 'meaninglessness': 15264, 'vegetable': 26428, 'cookery': 5228, 'gare': 9947, 'du': 7384, 'nord': 16736, 'artificial': 1349, 'ditched': 6993, 'roamed': 20871, 'facial': 8709, 'furlong': 9823, 'crept': 5552, 'incident': 12245, 'violinist': 26614, 'concentrate': 4877, 'disheveled': 6869, 'tome': 25111, 'adroit': 371, 'violin': 26613, 'digested': 6666, 'ayn': 1756, 'rand': 19763, 'eagerly': 7513, 'captured': 3572, 'merci': 15405, 'choked': 4175, 'seine': 21726, 'scenery': 21458, 'unusually': 26177, 'lyon': 14725, 'panoramic': 17656, 'concierge': 4892, 'musee': 16169, 'orsay': 17311, 'seller': 21754, 'einstein': 7706, 'mathematics': 15150, 'coincidentally': 4600, 'inviting': 12826, 'caricature': 3610, 'tore': 25169, 'follows': 9415, 'acrophobic': 244, 'bangalore': 1899, 'capturing': 3573, 'skyline': 22481, 'drizzled': 7332, 'woolen': 27453, 'trembling': 25430, 'zenith': 27884, 'unbearable': 25845, 'savour': 21390, 'savoured': 21391, 'recess': 19969, 'intent': 12663, 'latifah': 13902, 'tango': 24370, 'sunburned': 23934, 'pimping': 18350, 'scallywag': 21417, 'engage': 7992, 'dailygoob': 5862, 'tripod': 25487, 'mowing': 16049, 'evey': 8388, 'insidious': 12560, 'penitentiary': 18001, 'dreg': 7297, 'affection': 425, 'tenderness': 24596, 'cutlas': 5800, 'uncommon': 25874, 'vendetta': 26445, 'centralize': 3842, 'bureaucracy': 3251, 'manipulation': 14948, 'consolidation': 5066, 'gunfire': 10756, 'brad': 2888, 'robby': 20888, 'delayed': 6241, 'wimbledon': 27293, 'sharapova': 21965, 'serena': 21841, 'quebec': 19570, 'tai': 24300, 'toi': 25076, 'evanessence': 8358, 'creed': 5543, 'duran': 7453, 'teeaa': 24514, 'rivuuuuh': 20854, 'smoked': 22655, 'ohjesushchristadogwithacrayonsignaroundhisneckgoingofftokillsarahconnorohdeargodthatsafunnyimage': 17064, 'ehxhale': 7700, 'kaploink': 13393, 'courtship': 5424, 'terence': 24627, 'brenda': 2969, 'ong': 17135, 'li': 14162, 'ter': 24624, 'bren': 2968, 'bloaty': 2549, 'expelled': 8547, 'righteous': 20789, 'infusion': 12459, 'pervade': 18138, 'humanistic': 11805, 'hedonistic': 11228, 'crawl': 5506, 'tempations': 24567, 'caramba': 3577, 'arghhhhhhh': 1243, 'dirt': 6754, 'heartily': 11197, 'thisall': 24813, 'inevitalbe': 12383, 'sensationalism': 21787, 'journalist': 13260, 'slant': 22501, 'enthrall': 8075, 'viewer': 26566, 'rajcoomar': 19734, 'feuer': 9027, 'aslo': 1409, 'accomplice': 167, 'openly': 17188, 'worshiping': 27514, 'pornography': 18738, 'mipa': 15644, 'correctness': 5320, 'objection': 16923, 'tit': 25021, 'spectacularly': 23053, 'gambit': 9913, 'brantley': 2918, 'transgendered': 25340, 'columnist': 4677, 'enjoys': 8021, 'canning': 3520, 'pickle': 18286, 'nightingale': 16615, 'caress': 3603, 'dwelling': 7489, 'wispyish': 27363, 'chalky': 3904, 'orangey': 17244, 'bleach': 2500, 'lian': 14168, 'streak': 23637, 'sandman': 21290, 'gaiman': 9879, 'kidnapping': 13545, 'psyop': 19381, 'weed': 27029, 'slightest': 22554, 'provocation': 19336, 'nosotras': 16760, 'siendo': 22265, 'normales': 16745, 'tratamos': 25378, 'excepciones': 8448, 'modos': 15800, 'alejap': 619, 'puff': 19413, 'mojo': 15818, 'jojo': 13221, 'polish': 18624, 'cabernet': 3365, 'merlot': 15419, 'quesadilla': 19582, 'guacamole': 10690, 'sour': 22952, 'scrabble': 21544, 'joie': 13216, 'accidently': 154, 'insulting': 12629, 'vivre': 26666, 'dooby': 7145, 'recovering': 20038, 'painif': 17592, 'debilitating': 6069, 'jerky': 13115, 'aray': 1203, 'ko': 13678, 'sfo': 21912, 'aurens': 1628, 'erlings': 8196, 'tfc': 24701, 'napped': 16315, 'tetens': 24684, 'housei': 11732, 'knick': 13648, 'knack': 13639, 'huffy': 11785, 'sinigang': 22373, 'stew': 23493, 'tamarind': 24346, 'johanna': 13201, 'warren': 26890, 'chula': 4239, 'vista': 26646, 'kuya': 13756, 'caveman': 3767, 'nenet': 16481, 'pasig': 17789, 'lineage': 14288, 'forbid': 9455, 'inlaws': 12511, 'loyal': 14625, 'tumultuous': 25619, 'nearing': 16408, 'audrey': 1611, 'barbecue': 1930, 'grill': 10597, 'hennessey': 11318, 'pulutan': 19428, 'theyre': 24780, 'photogenic': 18235, 'cellophane': 3820, 'assortment': 1461, 'chillin': 4125, 'shopper': 22117, 'stockpile': 23554, 'minuteness': 15641, 'lateness': 13895, 'fashionably': 8847, 'anarexic': 873, 'projected': 19217, 'caulfield': 3748, 'comedian': 4694, 'bio': 2385, 'geocities': 10083, 'hiphopsanonymous': 11447, 'cosby': 5347, 'cosbys': 5348, 'workforce': 27489, 'appointee': 1147, 'counsel': 5381, 'recourse': 20035, 'demoted': 6317, 'prohibited': 19212, 'demote': 6316, 'directive': 6748, 'discrimination': 6840, 'workplace': 27495, 'contradict': 5161, 'bipartisan': 2393, 'unlawful': 26054, 'osc': 17324, 'bias': 2333, 'compu': 4854, 'der': 6395, 'tryin': 25568, 'terabyte': 24626, 'gigabyte': 10155, 'lmao': 14418, 'zen': 27883, 'itinerary': 12945, 'zoe': 27925, 'scheduling': 21467, 'caucasia': 3741, 'chouette': 4204, 'purring': 19482, 'marten': 15066, 'purr': 19481, 'lid': 14198, 'khaos': 13520, 'freeeeeezing': 9635, 'cuddlying': 5694, 'unamed': 25826, 'cept': 3853, 'slayer': 22525, 'curiosity': 5746, 'xoxoxoxox': 27649, 'aimlessly': 552, 'floating': 9321, 'rebounding': 19943, 'perfectionist': 18050, 'behaving': 2181, 'prevalent': 19051, 'newscaster': 16555, 'desensitization': 6423, 'complacency': 4807, 'kindergartener': 13579, 'caressing': 3605, 'whispering': 27180, 'twirl': 25693, 'pengz': 17998, 'aft': 461, 'feverish': 9029, 'sianz': 22234, 'duno': 7443, 'lata': 13891, 'terribleto': 24647, 'kua': 13730, 'zhang': 27893, 'larx': 13876, 'byez': 3343, 'delete': 6247, 'picasa': 18274, 'woolite': 27454, 'detergent': 6504, 'elusive': 7806, 'concoction': 4904, 'jumbo': 13312, 'elixir': 7782, 'wooliting': 27455, 'jacket': 12971, 'drying': 7380, 'instructed': 12616, 'decorative': 6137, 'beckon': 2128, 'instruct': 12615, 'animation': 939, 'lolo': 14487, 'monchichi': 15851, 'messaging': 15436, 'publisher': 19398, 'illustmaker': 12047, 'abi': 54, 'shtml': 22199, 'masthead': 15124, 'suposed': 23998, 'gif': 10151, 'homestarrunner': 11586, 'jumpinjacks': 13318, 'pls': 18541, 'racism': 19676, 'cloth': 4482, 'protestor': 19314, 'conveying': 5214, 'infatuated': 12395, 'bod': 2676, 'somone': 22871, 'zombo': 27928, 'crowbar': 5621, 'telefrag': 24542, 'funee': 9799, 'es': 8217, 'dokaka': 7085, 'gi': 10140, 'hussam': 11870, 'abdo': 43, 'isolated': 12921, 'nablus': 16258, 'explosive': 8602, 'uploaded': 26212, 'hq': 11753, 'engineering': 8001, 'cage': 3395, 'cel': 3803, 'enfranchised': 7989, 'lefty': 14038, 'chirs': 4157, 'bleh': 2514, 'buzzmachine': 3337, 'jarvis': 13034, 'disgust': 6862, 'precipitated': 18931, 'safire': 21200, 'rightfully': 20792, 'retraction': 20638, 'moot': 15931, 'refutation': 20158, 'nanotechnology': 16308, 'imperialistic': 12143, 'abyss': 129, 'comapred': 4680, 'comm': 4717, 'yonks': 27784, 'ziggy': 27902, 'yi': 27756, 'ling': 14294, 'yeoh': 27741, 'balut': 1879, 'iful': 12004, 'laundromat': 13929, 'mels': 15360, 'tossed': 25196, 'macaroni': 14741, 'freshman': 9668, 'rehabilitated': 20206, 'carnivore': 3624, 'pho': 18219, 'tripe': 25485, 'tendon': 24598, 'papaitan': 17668, 'kare': 13399, 'oxtail': 17536, 'stewed': 23497, 'yvette': 27850, 'kapampangan': 13390, 'pampanga': 17633, 'kapampangans': 13391, 'longanisa': 14497, 'discriminating': 6839, 'appetite': 1131, 'ilocana': 12055, 'lengua': 14095, 'magkapareho': 14807, 'tayo': 24455, 'shrimp': 22186, 'theyd': 24778, 'eyeball': 8673, 'kamayan': 13377, 'peasant': 17924, 'horrified': 11682, 'fertilized': 9004, 'aphrodesiac': 1083, 'virile': 26622, 'thelma': 24748, 'scrutinize': 21604, 'boil': 2692, 'pointy': 18598, 'sisiw': 22397, 'peel': 17957, 'beak': 2083, 'feather': 8918, 'chickenjust': 4100, 'funkier': 9805, 'taek': 24286, 'hed': 11227, 'residing': 20520, 'dimentional': 6701, 'harrypotter': 11076, 'maze': 15197, 'hipster': 11452, 'intellecticus': 12645, 'beatnik': 2108, 'commented': 4732, 'kneecap': 13642, 'winding': 27303, 'disbursement': 6792, 'outstanding': 17409, 'fa': 8685, 'laaaaaaaaaa': 13772, 'query': 19581, 'accuracy': 194, 'harmonium': 11057, 'historically': 11467, 'marzipan': 15085, 'ballerina': 1867, 'pear': 17921, 'subconsciously': 23783, 'omaha': 17113, 'deisel': 6233, 'awsome': 1736, 'waist': 26799, 'aford': 453, 'supermarket': 23985, 'pharmacist': 18183, 'forged': 9487, 'beaned': 2091, 'whooosh': 27209, 'boink': 2696, 'allstar': 702, 'inning': 12524, 'outback': 17362, 'blatantly': 2495, 'davinci': 5991, 'polyphonic': 18659, 'henceforth': 11312, 'oc': 16966, 'sidenote': 22256, 'bandage': 1887, 'revolves': 20703, 'futuristic': 9843, 'tentatively': 24617, 'errant': 8207, 'webi': 27012, 'hihi': 11408, 'haf': 10848, 'nid': 16603, 'skool': 22471, 'mofos': 15804, 'kh': 13516, 'malay': 14873, 'whu': 27221, 'xia': 27633, 'useless': 26285, 'plaza': 18503, 'astroboi': 1488, 'lido': 14199, 'pui': 19415, 'noobs': 16720, 'yawnz': 27699, 'sissy': 22398, 'mu': 16076, 'zhao': 27894, 'mimi': 15594, 'smartypants': 22627, 'unsexy': 26145, 'striptease': 23683, 'radiator': 19688, 'gigantoid': 10157, 'sweatshirt': 24153, 'fingerless': 9140, 'mitten': 15731, 'cuff': 5697, 'flannel': 9237, 'underwear': 25944, 'scaly': 21419, 'lotion': 14568, 'lukewarm': 14664, 'aromatherapy': 1293, 'scalp': 21418, 'hairwashing': 10889, 'wreaked': 27560, 'payed': 17882, 'weakened': 26982, 'conquered': 5021, 'motionless': 15995, 'playdate': 18488, 'nectar': 16437, 'twighlight': 25688, 'drastic': 7268, 'qualm': 19553, 'rockville': 20912, 'md': 15247, 'comprehendable': 4844, 'refrain': 20141, 'emu': 7908, 'randomness': 19769, 'watercolor': 26930, 'blaze': 2498, 'gratify': 10527, 'truely': 25544, 'origamiboulder': 17293, 'nudity': 16833, 'briefest': 2995, 'rational': 19821, 'trackpad': 25265, 'seriousness': 21857, 'seriosity': 21853, 'serioucism': 21854, 'cylindrical': 5819, 'packaging': 17559, 'fetching': 9021, 'diskette': 6879, 'floppy': 9339, 'extrenal': 8663, 'burner': 3268, 'usb': 26276, 'ergh': 8186, 'annoys': 975, 'dixons': 7030, 'cordless': 5287, 'optical': 17228, 'interstate': 12732, 'erected': 8182, 'shelving': 22016, 'essential': 8268, 'swiss': 24200, 'meusli': 15482, 'fresher': 9666, 'grammar': 10469, 'enclosing': 7933, 'cheaply': 4013, 'enclose': 7931, 'parcel': 17714, 'accordingly': 176, 'constitutes': 5082, 'malcolm': 14876, 'nmrboy': 16666, 'favoured': 8895, 'diced': 6606, 'chopped': 4189, 'basil': 2003, 'siberian': 22237, 'hamster': 10943, 'qwerty': 19650, 'albert': 601, 'gogh': 10315, 'marilyn': 15023, 'monroe': 15887, 'industrial': 12363, 'someplace': 22862, 'whiere': 27155, 'aruba': 1363, 'cyrano': 5827, 'bergerac': 2275, 'informal': 12440, 'lsat': 14630, 'recounting': 20032, 'hod': 11518, 'frightens': 9691, 'travey': 25395, 'rollin': 20942, 'pumpin': 19435, 'jumpin': 13316, 'loc': 14436, 'shoppin': 22118, 'journeyed': 13264, 'keyed': 13507, 'shindig': 22049, 'luscious': 14696, 'lyin': 14716, 'fella': 8962, 'limousine': 14278, 'chauffeur': 4002, 'slappin': 22507, 'doin': 7082, 'discotheque': 6817, 'youg': 27797, 'holler': 11551, 'honda': 11596, 'gambeling': 9912, 'horny': 11673, 'swimsuit': 24188, 'offbeat': 17024, 'whereever': 27148, 'blaa': 2448, 'sacramento': 21159, 'repete': 20410, 'switchfoot': 24205, 'wond': 27420, 'providence': 19329, 'usable': 26270, 'rez': 20712, 'hon': 11595, 'egner': 7683, 'theocracy': 24754, 'protestors': 19315, 'toppled': 25160, 'effigy': 7669, 'flemish': 9285, 'buddying': 3151, 'parliament': 17740, 'procedurally': 19142, 'accomplishes': 170, 'impeach': 12132, 'unpopular': 26106, 'socially': 22786, 'unacceptable': 25818, 'spouting': 23194, 'acceptability': 141, 'unacceptability': 25817, 'strictly': 23668, 'defiling': 6201, 'wtc': 27598, 'dazed': 6011, 'cbo': 3778, 'distills': 6963, 'rummy': 21101, 'tested': 24668, 'wacky': 26763, 'gibberish': 10143, 'dictatorship': 6621, 'sooooo': 22896, 'melli': 15351, 'bugy': 3172, 'fluff': 9365, 'frend': 9652, 'xtra': 27660, 'hahahah': 10857, 'boyfrendz': 2874, 'afterscholl': 468, 'hahahahaha': 10860, 'supposeed': 24015, 'mathz': 15153, 'khong': 13523, 'phyco': 18254, 'luckiest': 14646, 'wrinkle': 27574, 'haul': 11104, 'notary': 16769, 'cabana': 3360, 'goodcents': 10354, 'upright': 26223, 'waving': 26955, 'roflmao': 20923, 'pooponastick': 18698, 'suntimes': 23963, 'output': 17396, 'ebert': 7568, 'wkp': 27390, 'purevolume': 19465, 'irreverence': 12885, 'dandruff': 5911, 'collateral': 4630, 'manchurian': 14913, 'resigns': 20527, 'bleak': 2504, 'recons': 20017, 'minutia': 15642, 'libation': 14174, 'varied': 26390, 'libating': 14173, 'burkert': 3262, 'hyped': 11903, 'patroclus': 17841, 'pours': 18847, 'prays': 18912, 'elaborate': 7714, 'devotion': 6562, 'hellene': 11274, 'practiced': 18887, 'sanctuary': 21282, 'imitated': 12083, 'twig': 25687, 'stibas': 23502, 'banqueting': 1919, 'skene': 22437, 'misleadingly': 15681, 'varies': 26392, 'pine': 18360, 'willow': 27288, 'thesmophoria': 24776, 'olympia': 17108, 'recon': 20012, 'reconstruct': 20020, 'reconstructing': 20021, 'ping': 18364, 'pong': 18674, 'queerly': 19577, 'foam': 9390, 'uraguaian': 26248, 'navigation': 16380, 'hooker': 11630, 'victimised': 26541, 'shagged': 21931, 'buenos': 3158, 'aire': 562, 'argentina': 1237, 'feelin': 8948, 'honour': 11617, 'evita': 8402, 'cemetery': 3828, 'recoleta': 20004, 'chacarita': 3884, 'atmospheric': 1537, 'doint': 7084, 'unruly': 26135, 'bananda': 1885, 'luckily': 14647, 'trampled': 25309, 'carraige': 3631, 'shocker': 22092, 'footboard': 9445, 'hun': 11835, 'rectangle': 20048, 'psha': 19355, 'meteora': 15461, 'weilding': 27060, 'missy': 15707, 'penetrate': 17992, 'memorable': 15373, 'scratch': 21554, 'marais': 14992, 'tuileries': 25606, 'chapelle': 3947, 'chapel': 3946, 'circular': 4290, 'staircase': 23312, 'reverberated': 20677, 'depicts': 6367, 'apostle': 1106, 'attain': 1555, 'contemplate': 5116, 'marche': 15001, 'aux': 1670, 'fleurs': 9289, 'oiseaux': 17073, 'arcole': 1224, 'crypte': 5666, 'archeologique': 1213, 'gargoyle': 9953, 'chimera': 4131, 'atop': 1541, 'guiding': 10727, 'manages': 14907, 'lusture': 14700, 'francois': 9595, 'bourgeois': 2845, 'evacuated': 8349, 'hosting': 11704, 'picasso': 18275, 'pierce': 18308, 'egregious': 7688, 'abysmal': 128, 'inscrutable': 12546, 'absurdity': 119, 'incongruity': 12266, 'insofar': 12574, 'creator': 5536, 'surprising': 24059, 'herculean': 11329, 'bronze': 3060, 'sculpted': 21607, 'depicted': 6364, 'gruel': 10676, 'dull': 7414, 'frailty': 9581, 'ephemerality': 8136, 'unfathomable': 25983, 'disquieting': 6929, 'inevitably': 12382, 'biography': 2386, 'conceptual': 4883, 'prominence': 19230, 'inasmuch': 12220, 'belonged': 2225, 'elderly': 7724, 'sculpture': 21610, 'handlebar': 10967, 'basket': 2008, 'trolley': 25507, 'discern': 6797, 'vosges': 26714, 'envied': 8116, 'philosopher': 18208, 'starvation': 23382, 'ambience': 785, 'maison': 14850, 'victor': 26543, 'hugo': 11794, 'manuscript': 14982, 'appreciated': 1153, 'heroism': 11350, 'miserables': 15669, 'moderne': 15793, 'pompidou': 18667, 'strikingly': 23674, 'escalator': 8221, 'distinctively': 6966, 'symbolize': 24228, 'ventilation': 26461, 'facade': 8699, 'bollywood': 2704, 'chaiyya': 3899, 'hindi': 11437, 'tamil': 24351, 'kandukondein': 13383, 'simran': 22344, 'genitals': 10066, 'igor': 12015, 'stravinsky': 23631, 'gymnasium': 10803, 'indiscernible': 12337, 'scribblings': 21585, 'contemporary': 5120, 'bemused': 2233, 'cesar': 3870, 'sigmar': 22277, 'polke': 18641, 'pasadena': 17782, 'warhol': 26870, 'electric': 7737, 'pierre': 18313, 'raynaud': 19846, 'opalka': 17180, 'investigating': 12811, 'compression': 4848, 'uptill': 26239, 'lighter': 14234, 'finiteness': 9150, 'yaacov': 27671, 'agam': 475, 'dynamism': 7505, 'kinetic': 13587, 'ofcourse': 17023, 'painstaking': 17595, 'superb': 23969, 'conversatives': 5201, 'absolutistic': 101, 'indulging': 12362, 'blt': 2616, 'icee': 11945, 'quik': 19611, 'baste': 2018, 'garlic': 9955, 'herding': 11333, 'amazingly': 778, 'cooled': 5236, 'mechanical': 15281, 'protector': 19305, 'valor': 26361, 'mankind': 14950, 'purity': 19472, 'hercules': 11330, 'overbearing': 17431, 'brutally': 3112, 'mythological': 16251, 'myers': 16229, 'lingerie': 14297, 'eeeks': 7645, 'homebush': 11565, 'wally': 26831, 'telly': 24562, 'heehee': 11237, 'joanne': 13186, 'canberra': 3493, 'vacating': 26327, 'neighbour': 16467, 'kenneth': 13472, 'fond': 9418, 'nites': 16655, 'rumsfelds': 21108, 'fallon': 8778, 'bummed': 3220, 'itis': 12946, 'dag': 5858, 'drunkness': 7376, 'reincarnated': 20218, 'similaries': 22322, 'initals': 12490, 'clemens': 4414, 'randy': 19770, 'ea': 7509, 'obp': 16941, 'madden': 14768, 'skimpy': 22457, 'clothing': 4485, 'shaq': 21964, 'celtic': 3826, 'irresponsible': 12883, 'ungrateful': 26007, 'wretch': 27569, 'undeserving': 25948, 'unintelligent': 26030, 'frankie': 9601, 'striped': 23679, 'slider': 22550, 'hmmmmmmm': 11496, 'freeeeeeeeeeee': 9634, 'icecream': 11942, 'baskin': 2011, 'robbins': 20887, 'coupon': 5407, 'psst': 19358, 'mmmmmmmmmmm': 15757, 'maui': 15173, 'brownie': 3080, 'maddness': 14771, 'freee': 9633, 'kute': 13753, 'hahahahhahahha': 10867, 'caution': 3759, 'culp': 5709, 'recurring': 20053, 'clayton': 4387, 'webb': 27008, 'maco': 14758, 'salmon': 21245, 'ow': 17516, 'obo': 16940, 'throatbiter': 24867, 'nukehammer': 16843, 'brutalfortune': 3109, 'natal': 16349, 'trimester': 25477, 'fetus': 9025, 'puberty': 19390, 'expertly': 8568, 'clinic': 4447, 'immaculate': 12088, 'certified': 3869, 'sorely': 22921, 'naims': 16281, 'poochie': 18683, 'pooh': 18686, 'summertime': 23923, 'ation': 1528, 'finest': 9138, 'robust': 20900, 'stylesheet': 23764, 'dhtml': 6578, 'explorer': 8598, 'netscape': 16514, 'newer': 16547, 'interconnectedness': 12680, 'storyline': 23592, 'heavyhanded': 11221, 'chewbacca': 4086, 'valued': 26365, 'purchased': 19458, 'unreal': 26122, 'duke': 7412, 'nukem': 16844, 'neverwinter': 16535, 'boofy': 2748, 'mcboofersen': 15210, 'gui': 10721, 'chatter': 3996, 'detailed': 6491, 'roulet': 21021, 'zapps': 27867, 'zapped': 27866, 'bak': 1850, 'forgets': 9491, 'gr': 10433, 'amarone': 767, 'lugana': 14656, 'tuscan': 25657, 'blissful': 2541, 'stripping': 23682, 'hermitage': 11342, 'rembrandt': 20315, 'prodigal': 19168, 'om': 17112, 'suggesting': 23893, 'neglected': 16455, 'cab': 3358, 'chooed': 4184, 'stupidly': 23757, 'earliest': 7521, 'lufthansa': 14654, 'stopover': 23576, 'egyptian': 7690, 'frankfurt': 9600, 'panther': 17659, 'tiptoeing': 25006, 'wiggy': 27254, 'tar': 24395, 'sarcophagus': 21326, 'coffin': 4575, 'thingys': 24796, 'pyramid': 19519, 'heeding': 11232, 'halted': 10927, 'quarrelling': 19560, 'sphinx': 23092, 'giza': 10200, 'plateau': 18477, 'consuming': 5101, 'osiris': 17328, 'citing': 4304, 'ticketing': 24927, 'rung': 21113, 'littleness': 14368, 'puzzling': 19515, 'assembled': 1429, 'dumfounded': 7424, 'transporting': 25365, 'bearing': 2099, 'demanding': 6288, 'merchant': 15404, 'rearers': 19914, 'downplay': 7218, 'cameron': 3470, 'frye': 9742, 'grain': 10466, 'qmail': 19530, 'webhosting': 27011, 'broadband': 3039, 'pastime': 17814, 'mounted': 16021, 'dual': 7385, 'piii': 18326, 'gratis': 10528, 'beowulf': 2267, 'cluster': 4510, 'configure': 4952, 'nancy': 16303, 'widow': 27237, 'ronald': 20961, 'alzheimers': 759, 'crippled': 5577, 'oppose': 17212, 'feud': 9026, 'ballistic': 1870, 'gillespie': 10167, 'bibleman': 2337, 'cometh': 4700, 'snipin': 22723, 'bachelorette': 1787, 'handing': 10964, 'fruity': 9733, 'probbably': 19130, 'sobber': 22767, 'topping': 25158, 'outdoor': 17370, 'freeze': 9644, 'whiteside': 27191, 'nuptuals': 16860, 'neill': 16470, 'brutalized': 3111, 'distorting': 6972, 'mockery': 15779, 'embarrassing': 7831, 'yakima': 27680, 'wooooo': 27463, 'thaaaaaaat': 24708, 'becomin': 2132, 'barista': 1952, 'colloquail': 4648, 'fei': 8955, 'mei': 15338, 'cappucinos': 3560, 'latte': 13910, 'blended': 2518, 'duuhhh': 7474, 'shoo': 22103, 'vouch': 26721, 'schizophrenic': 21477, 'psychopath': 19376, 'scalding': 21413, 'dutch': 7469, 'sttstttsttt': 23713, 'stttststttt': 23714, 'waitaminit': 26802, 'fiver': 9210, 'fiiiiivvveee': 9088, 'fiiiiivvvvvee': 9089, 'ahhhhhhhhh': 526, 'desperately': 6456, 'banshee': 1920, 'bulbous': 3189, 'phew': 18194, 'institutionalised': 12613, 'tues': 25598, 'negotiable': 16458, 'arrange': 1303, 'junction': 13323, 'bishan': 2416, 'spelt': 23075, 'sey': 21910, 'gtg': 10688, 'sigourney': 22294, 'weaver': 27005, 'ripley': 20823, 'interviewing': 12742, 'tuft': 25600, 'medford': 15289, 'abercrombie': 50, 'imfrombostonsofuckyou': 12079, 'stalemate': 23316, 'elective': 7733, 'jipped': 13169, 'miserably': 15670, 'nickelback': 16594, 'tagbord': 24291, 'storta': 23589, 'poopy': 18700, 'scoopy': 21519, 'plush': 18563, 'cthulu': 5675, 'blogmaster': 2577, 'align': 650, 'wellstone': 27087, 'fmr': 9387, 'lone': 14492, 'feingold': 8958, 'mallett': 14893, 'neutron': 16530, 'groundwork': 10650, 'relativity': 20254, 'amassing': 769, 'impregnate': 12180, 'usher': 26291, 'wallow': 26829, 'mediocrity': 15306, 'hahaz': 10872, 'yin': 27761, 'hw': 11881, 'lc': 13972, 'goner': 10346, 'lehx': 14070, 'aiya': 572, 'zookx': 27932, 'matador': 15129, 'accuse': 199, 'matthew': 15167, 'throughly': 24878, 'wil': 27259, 'shoving': 22157, 'elbow': 7721, 'shove': 22154, 'tara': 24396, 'certaintly': 3863, 'drumstick': 7369, 'stalk': 23318, 'ewww': 8422, 'keepable': 13451, 'swealtering': 24143, 'raja': 19733, 'overturned': 17506, 'pickup': 18289, 'crane': 5478, 'sobering': 22771, 'addicted': 293, 'rhetorical': 20723, 'volley': 26687, 'mazzio': 15199, 'frappachinos': 9610, 'portugeuse': 18767, 'mute': 16201, 'zzzzzz': 27948, 'indignation': 12334, 'recalled': 19951, 'coli': 4620, 'contamination': 5114, 'sworn': 24215, 'omnivore': 17127, 'wasteful': 26912, 'scylla': 21617, 'charybdis': 3988, 'safari': 21192, 'programmer': 19203, 'acknowledge': 221, 'deficiency': 6196, 'immature': 12090, 'inexperienced': 12388, 'chickenpoop': 4101, 'trojan': 25505, 'attacker': 1553, 'ronaldo': 20963, 'burnt': 3274, 'overconfident': 17442, 'overhyped': 17457, 'portugal': 18766, 'animosity': 941, 'recount': 20031, 'nicholas': 16588, 'katzenbach': 13423, 'whitewater': 27193, 'gazette': 10008, 'bluegrass': 2621, 'unkind': 26051, 'typewriter': 25723, 'gunned': 10760, 'fax': 8899, 'cathouse': 3732, 'sponsor': 23165, 'partaking': 17752, 'rhonda': 20728, 'magestically': 14794, 'erased': 8181, 'faithfully': 8764, 'jug': 13296, 'diligent': 6692, 'darkroom': 5952, 'proofing': 19258, 'splendidly': 23139, 'caulk': 3750, 'insulation': 12626, 'enlarger': 8023, 'safelight': 21195, 'ketching': 13493, 'meditating': 15308, 'whacko': 27120, 'crypt': 5665, 'asigned': 1396, 'dusted': 7465, 'vamp': 26367, 'nlm': 16664, 'crk': 5597, 'nuf': 16838, 'organizer': 17281, 'orderly': 17260, 'alphabetize': 723, 'anal': 857, 'organize': 17279, 'divorce': 7021, 'causeway': 3756, 'eskimo': 8243, 'kayak': 13426, 'chilly': 4127, 'sank': 21303, 'boll': 2702, 'weevil': 27050, 'amounted': 835, 'legged': 14054, 'saloon': 21248, 'sidles': 22262, 'paw': 17870, 'hubcap': 11777, 'chrome': 4223, 'hollandaise': 11550, 'bartender': 1986, 'atom': 1538, 'electron': 7742, 'novocain': 16807, 'canal': 3491, 'transcenddental': 25324, 'enthusiast': 8082, 'disperse': 6907, 'boasting': 2661, 'foyer': 9567, 'roaming': 20872, 'pounced': 18838, 'devoured': 6564, 'digest': 6665, 'cramp': 5475, 'psychiatrist': 19363, 'alternating': 739, 'teepee': 24529, 'wigwam': 27256, 'amal': 761, 'youuuuu': 27813, 'perceive': 18029, 'ooooh': 17166, 'metaphorical': 15456, 'sinchon': 22355, 'inconvenient': 12276, 'smoggy': 22653, 'swan': 24124, 'impenetrable': 12139, 'stinky': 23535, 'peeee': 17953, 'yew': 27753, 'easterly': 7548, 'owing': 17522, 'paddle': 17567, 'mascot': 15089, 'mapo': 14988, 'gu': 10689, 'youngdeungpo': 27802, 'necktie': 16434, 'emblem': 7844, 'soju': 22819, 'spiral': 23119, 'dilapidated': 6685, 'putrid': 19503, 'daehang': 5851, 'ro': 20861, 'emanating': 7819, 'stench': 23460, 'liquid': 14325, 'heaver': 11216, 'andrea': 891, 'hyun': 11925, 'jeong': 13107, 'outsider': 17406, 'amaretto': 764, 'seo': 21814, 'pi': 18267, 'pajun': 17608, 'omlette': 17122, 'dongdongju': 7132, 'fermentation': 8993, 'vat': 26408, 'moonshine': 15921, 'asthanga': 1474, 'ached': 209, 'aching': 217, 'persistence': 18110, 'challenging': 3908, 'retro': 20645, 'tulle': 25611, 'rolla': 20934, 'thurston': 24909, 'nod': 16681, 'preemptive': 18952, 'kuala': 13731, 'lumpur': 14672, 'shanghai': 21956, 'daehak': 5849, 'zza': 27944, 'jun': 13322, 'ju': 13279, 'makkoli': 14869, 'goood': 10377, 'porridge': 18743, 'unaffected': 25822, 'torrential': 25184, 'monsoon': 15889, 'typhoon': 25725, 'micro': 15515, 'locker': 14448, 'payphones': 17888, 'overground': 17450, 'washroom': 26907, 'lotto': 14576, 'booth': 2776, 'spruced': 23219, 'fishbanks': 9185, 'fishbank': 9184, 'hyehwa': 11897, 'evhead': 8390, 'oct': 16999, 'ye': 27707, 'mouthed': 16036, 'baggins': 1830, 'chesterfieldius': 4078, 'pursuing': 19487, 'unexplained': 25979, 'illithids': 12041, 'enroute': 8047, 'sg': 21914, 'attends': 1568, 'congradulations': 4981, 'visable': 26629, 'invisable': 12819, 'artsmedia': 1358, 'worserer': 27512, 'developer': 6537, 'loft': 14458, 'tillman': 24961, 'smirking': 22646, 'baton': 2039, 'elephant': 7753, 'metaphysical': 15457, 'truer': 25545, 'unspoken': 26150, 'subtext': 23823, 'realizes': 19895, 'hovering': 11741, 'approximately': 1176, 'latitude': 13906, 'longitude': 14506, 'underwriter': 25946, 'balloonist': 1872, 'officer': 17040, 'duc': 7394, 'principaled': 19094, 'stirrer': 23542, 'fang': 8810, 'hypocritcal': 11914, 'ebb': 7564, 'peeercent': 17954, 'prseeedent': 19344, 'booosh': 2770, 'famlies': 8796, 'accompishing': 166, 'squat': 23241, 'indirectly': 12336, 'slime': 22558, 'barron': 1978, 'cartel': 3646, 'assault': 1426, 'laughingly': 13922, 'harming': 11053, 'adminstration': 334, 'obscene': 16942, 'barbie': 1933, 'nobler': 16675, 'rosemary': 20990, 'spawn': 23015, 'cohort': 4593, 'reformed': 20139, 'antiwar': 1032, 'demonstrator': 6314, 'sophisticated': 22911, 'communist': 4760, 'havana': 11112, 'betraying': 2304, 'hurried': 11860, 'introspect': 12779, 'vietnamese': 26563, 'knuckle': 13676, 'shrugging': 22197, 'tyranny': 25734, 'deserting': 6430, 'demon': 6305, 'isolate': 12920, 'loius': 14479, 'madman': 14782, 'salem': 21233, 'ore': 17263, 'toting': 25209, 'tricycle': 25460, 'allegedly': 670, 'hijack': 11410, 'termed': 24633, 'coolio': 5240, 'extatic': 8624, 'brace': 2882, 'unfortunatly': 25998, 'suspicion': 24097, 'willy': 27290, 'vomiting': 26709, 'janine': 13020, 'peice': 17970, 'highstreet': 11406, 'located': 14443, 'dispise': 6908, 'chatlogs': 3994, 'wapo': 26857, 'fallujah': 8781, 'baathist': 1768, 'stronghold': 23697, 'profited': 19191, 'immeasurably': 12092, 'immensely': 12099, 'achieving': 215, 'restorationist': 20586, 'laaaaaaaaaaame': 13773, 'composure': 4840, 'verify': 26486, 'squirrells': 23264, 'muppet': 16150, 'caper': 3546, 'slandering': 22499, 'interviewed': 12740, 'parish': 17731, 'prez': 19064, 'liturgy': 14371, 'juggling': 13298, 'lockin': 14451, 'hara': 11023, 'aaaaaaaaaaaah': 2, 'tights': 24953, 'sweatpants': 24152, 'courtney': 5422, 'uploader': 26213, 'copyrighted': 5276, 'liable': 14164, 'peon': 18013, 'reconciliation': 20013, 'epitomized': 8148, 'righteously': 20790, 'vain': 26341, 'inconsistancies': 12268, 'boogle': 2753, 'respectful': 20553, 'uneasy': 25967, 'legalistic': 14044, 'reconciling': 20014, 'farscape': 8833, 'scifi': 21508, 'kung': 13739, 'fooed': 9432, 'mete': 15459, 'superheroines': 23979, 'ideally': 11971, 'subside': 23809, 'rejoin': 20237, 'gradual': 10451, 'shuffle': 22206, 'bitching': 2425, 'noontime': 16724, 'inappropriate': 12217, 'erica': 8190, 'microphone': 15516, 'fondling': 9422, 'perplexed': 18095, 'brothel': 3074, 'ooops': 17173, 'alergy': 620, 'inflamation': 12417, 'andhow': 887, 'consult': 5091, 'tutor': 25665, 'procrastinator': 19162, 'productivity': 19177, 'scurry': 21615, 'umph': 25811, 'francisville': 9594, 'unbelieveable': 25850, 'disapointed': 6770, 'cheesiest': 4043, 'blair': 2475, 'terrifyed': 24653, 'tourcher': 25223, 'filmaking': 9105, 'wry': 27594, 'problably': 19134, 'yayy': 27703, 'hysteric': 11921, 'situational': 22418, 'narcissism': 16321, 'advocated': 404, 'allsups': 703, 'punish': 19447, 'robart': 20881, 'robarts': 20882, 'noam': 16669, 'unappealing': 25830, 'clicking': 4430, 'bahamas': 1835, 'ganistan': 9934, 'valentino': 26347, 'rossi': 20993, 'postpone': 18806, 'finney': 9153, 'missouri': 15700, 'interscholastic': 12729, 'recognition': 19998, 'walter': 26835, 'involvement': 12836, 'disassembling': 6784, 'strengthened': 23650, 'knob': 13658, 'shaping': 21963, 'lelia': 14080, 'soluble': 22850, 'repetition': 20411, 'stirred': 23541, 'leaned': 13994, 'groggily': 10626, 'whined': 27162, 'sleepily': 22534, 'signaled': 22281, 'bathe': 2031, 'excitedly': 8463, 'patiently': 17832, 'calmly': 3448, 'bolt': 2708, 'scolded': 21512, 'julia': 13304, 'trio': 25482, 'straightaway': 23598, 'nodding': 16683, 'peeped': 17960, 'pierced': 18309, 'engulfing': 8010, 'breathed': 2957, 'pampered': 17634, 'engulfed': 8009, 'embraced': 7848, 'curiously': 5749, 'stifled': 23512, 'lifting': 14224, 'swayed': 24141, 'furiously': 9822, 'fangled': 8811, 'exceptionally': 8452, 'bagdad': 1825, 'recreate': 20040, 'foxhole': 9563, 'tat': 24430, 'gleaming': 10225, 'tirukkural': 25018, 'boi': 2691, 'haventha': 11115, 'figurativly': 9083, 'depicting': 6365, 'aramaic': 1201, 'foggy': 9401, 'overcomes': 17440, 'uncontrollable': 25886, 'volatile': 26684, 'semblance': 21761, 'upupupup': 26243, 'charleston': 3976, 'elwes': 7811, 'hermann': 11339, 'rory': 20984, 'grandad': 10477, 'gilmore': 10169, 'randolph': 19765, 'hearst': 11186, 'kane': 13384, 'elinor': 7777, 'glyn': 10280, 'yachting': 27673, 'birthdate': 2407, 'ooooooooh': 17172, 'webstie': 27018, 'bg': 2327, 'plannign': 18462, 'lilo': 14260, 'highpoint': 11404, 'lighthearted': 14236, 'abstinence': 114, 'bl': 2447, 'motley': 16003, 'upped': 26218, 'upping': 26221, 'techtards': 24506, 'seething': 21718, 'recession': 19971, 'scandal': 21425, 'libertarian': 14184, 'legalize': 14047, 'misuderstand': 15720, 'regualted': 20192, 'gaff': 9870, 'radically': 19690, 'waffling': 26774, 'hypocrisy': 11913, 'marketed': 15036, 'detector': 6500, 'syrum': 24255, 'degenerated': 6224, 'uselessness': 26286, 'eminating': 7867, 'imao': 12071, 'waaaaaaaaay': 26747, 'satirical': 21349, 'certifiable': 3867, 'grudge': 10675, 'brotha': 3073, 'uncut': 25897, 'pavillion': 17865, 'afterschool': 469, 'tack': 24273, 'peril': 18061, 'pedophile': 17949, 'horrendous': 11676, 'prevention': 19056, 'confrontation': 4969, 'uni': 26015, 'wana': 26838, 'attracks': 1578, 'bein': 2197, 'barmaid': 1959, 'smoky': 22661, 'homeopathic': 11577, 'shld': 22088, 'takin': 24320, 'jogging': 13200, 'nethin': 16512, 'outa': 17360, 'probs': 19141, 'comit': 4715, 'abnormal': 66, 'arrivedechi': 1320, 'jeenkies': 13073, 'engagment': 7997, 'kraft': 13709, 'eeeeeee': 7637, 'hail': 10876, 'caesar': 3386, 'revival': 20697, 'filmgoers': 9107, 'disreputable': 6932, 'insufferable': 12622, 'slasher': 22511, 'auteur': 1641, 'spadework': 22984, 'rehabilitating': 20207, 'carelessness': 3602, 'deepest': 6168, 'neglectful': 16456, 'sadistic': 21185, 'warfare': 26867, 'procrastination': 19161, 'insommnia': 12575, 'caffiene': 3393, 'spasm': 23012, 'mechanism': 15283, 'objective': 16924, 'blanketing': 2486, 'stigma': 23514, 'wrongly': 27590, 'trendy': 25436, 'epidemic': 8140, 'bipolar': 2394, 'diagnosis': 6584, 'trashing': 25375, 'tension': 24614, 'hospitalized': 11696, 'drugged': 7357, 'portrays': 18764, 'irene': 12860, 'clockwork': 4464, 'patientby': 17831, 'unzicker': 26189, 'ostracized': 17337, 'socialized': 22784, 'patronized': 17848, 'psychiatrized': 19364, 'shrink': 22189, 'paranoid': 17702, 'stamp': 23328, 'kleenex': 13630, 'mercedes': 15401, 'benz': 2265, 'deaden': 6032, 'jitter': 13170, 'drool': 7337, 'sewing': 21898, 'milieu': 15570, 'publicised': 19393, 'singled': 22368, 'idiocrasy': 11985, 'xiaxue': 27635, 'vulgarity': 26735, 'refined': 20126, 'generalised': 10042, 'mg': 15488, 'traditionally': 25279, 'foresight': 9481, 'illogically': 12045, 'bloop': 2605, 'cherished': 4069, 'nj': 16660, 'confiscate': 4962, 'uhg': 25768, 'peasy': 17925, 'wonderin': 27426, 'whatcha': 27125, 'crimson': 5572, 'rollen': 20936, 'davey': 5987, 'shredded': 22180, 'scarred': 21448, 'evolve': 8410, 'outdoors': 17371, 'fatass': 8864, 'lyle': 14719, 'campsite': 3484, 'osprey': 17334, 'aether': 413, 'redefines': 20069, 'ergonomic': 8188, 'tactical': 24280, 'tadgear': 24284, 'uncramped': 25895, 'buzzflash': 3335, 'dodge': 7066, 'tokyo': 25086, 'moscow': 15981, 'osaka': 17321, 'geneva': 10062, 'switzerland': 24207, 'copenhagen': 5261, 'beijing': 2196, 'dublin': 7392, 'oslo': 17329, 'vienna': 26559, 'austria': 1640, 'rome': 20955, 'stockholm': 23552, 'sweden': 24155, 'abidjan': 58, 'douala': 7187, 'amsterdam': 840, 'netherlands': 16509, 'shenzhen': 22018, 'taipei': 24311, 'guangzhou': 10692, 'tel': 24538, 'aviv': 1693, 'budapest': 3143, 'hungary': 11839, 'minh': 15616, 'beirut': 2198, 'lebanon': 14014, 'luxembourg': 14708, 'sseldorf': 23280, 'glasgow': 10215, 'munich': 16149, 'bratislava': 2924, 'slovak': 22586, 'jakarta': 12992, 'indonesia': 12349, 'dakar': 5867, 'senegal': 21780, 'riga': 20785, 'latvia': 13911, 'prague': 18895, 'athens': 1521, 'birmingham': 2405, 'kiev': 13548, 'ukraine': 25776, 'barcelona': 1935, 'hamburg': 10933, 'zagreb': 27858, 'croatia': 5598, 'algiers': 635, 'algeria': 634, 'madrid': 14786, 'dhabi': 6571, 'emirate': 7870, 'amman': 824, 'puerto': 19410, 'rico': 20756, 'morocco': 15963, 'lisbon': 14330, 'morristown': 15971, 'almaty': 710, 'kazakhstan': 13429, 'tallinn': 24340, 'estonia': 8291, 'warsaw': 26894, 'riyadh': 20855, 'manama': 14909, 'bahrain': 1837, 'sofia': 22805, 'bulgaria': 3197, 'auckland': 1594, 'jeddah': 13068, 'ljubljana': 14396, 'slovenia': 22587, 'dubai': 7388, 'wellington': 27084, 'brisbane': 3026, 'adelaide': 307, 'toronto': 25179, 'vilnius': 26587, 'lithuania': 14361, 'leipzig': 14075, 'perth': 18130, 'limassol': 14265, 'cyprus': 5826, 'accra': 187, 'ghana': 10131, 'cleveland': 4422, 'monterrey': 15896, 'kingston': 13597, 'jamaica': 12996, 'malaysia': 14874, 'panama': 17639, 'guatemala': 10705, 'mumbai': 16131, 'bandar': 1889, 'seri': 21849, 'begawan': 2163, 'brunei': 3094, 'lagos': 13814, 'nigeria': 16608, 'montreal': 15904, 'calgary': 3426, 'tianjin': 24916, 'delhi': 6251, 'dacca': 5842, 'dhaka': 6572, 'bangladesh': 1904, 'lima': 14264, 'peru': 18132, 'bangkok': 1903, 'thailand': 24714, 'tunis': 25625, 'nairobi': 16282, 'kenya': 13480, 'tehran': 24535, 'chile': 4120, 'ottawa': 17351, 'lusaka': 14695, 'zambia': 27861, 'johannesburg': 13203, 'colombo': 4653, 'sri': 23272, 'lanka': 13855, 'bucharest': 3131, 'romania': 20949, 'jos': 13249, 'costa': 5359, 'rica': 20737, 'rio': 20818, 'janeiro': 13011, 'karachi': 13395, 'chennai': 4062, 'madras': 14785, 'caracas': 3576, 'blantyre': 2487, 'malawi': 14872, 'ecuador': 7595, 'manila': 14943, 'philippine': 18203, 'bogot': 2686, 'colombia': 4651, 'harare': 11024, 'zimbabwe': 27906, 'montevideo': 15897, 'asunci': 1500, 'paraguay': 17691, 'macallan': 14739, 'whisky': 27176, 'skybar': 22477, 'gak': 9889, 'gim': 10170, 'bab': 1769, 'angled': 924, 'triangle': 25447, 'oo': 17153, 'kimbap': 13568, 'cfx': 3879, 'jimage': 13159, 'custom': 5788, 'organisation': 17271, 'undo': 25954, 'snapshot': 22698, 'dialog': 6591, 'tracking': 25264, 'java': 13041, 'preventing': 19055, 'rubber': 21064, 'cropping': 5609, 'fightin': 9078, 'randomize': 19767, 'specify': 23047, 'helm': 11284, 'wonk': 27433, 'lep': 14107, 'accountant': 182, 'established': 8278, 'llwtg': 14417, 'lionel': 14317, 'richies': 20749, 'concidered': 4891, 'beloved': 2228, 'eligible': 7769, 'smoother': 22666, 'jmho': 13179, 'tweedy': 25679, 'inception': 12237, 'masterpiece': 15122, 'summerteeth': 23922, 'ingredient': 12470, 'myriad': 16235, 'whipping': 27170, 'yummiest': 27840, 'homage': 11561, 'offs': 17045, 'metamorphosis': 15454, 'masterful': 15120, 'interpreter': 12719, 'wretched': 27570, 'frenzied': 9656, 'armadillo': 1272, 'metallic': 15451, 'caged': 3396, 'psychosis': 19377, 'twentieth': 25684, 'unfoucused': 25999, 'poin': 18592, 'edible': 7606, 'snail': 22692, 'sequined': 21836, 'dime': 6698, 'overlappin': 17461, 'dildo': 6688, 'impermeable': 12145, 'raincoat': 19719, 'tangible': 24367, 'mourn': 16026, 'edged': 7603, 'fiberous': 9049, 'bleached': 2501, 'dyed': 7498, 'pleading': 18507, 'humilating': 11816, 'apologized': 1101, 'kaba': 13357, 'hookup': 11632, 'hostess': 11701, 'incurring': 12297, 'fallow': 8780, 'seee': 21705, 'doorbell': 7159, 'fishy': 9193, 'meeee': 15316, 'lloked': 14412, 'tleave': 25037, 'neighbourhood': 16468, 'ithink': 12944, 'pickering': 18282, 'pencil': 17986, 'retrofit': 20647, 'fiscally': 9181, 'eliminating': 7774, 'tenant': 24588, 'inflationary': 12423, 'exceeding': 8443, 'generated': 10048, 'incentivizing': 12236, 'financially': 9124, 'recoup': 20033, 'amended': 802, 'turnover': 25649, 'redecoration': 20061, 'samo': 21270, 'gentrification': 10078, 'ssdd': 23279, 'assuage': 1462, 'enacted': 7915, 'shareholder': 21969, 'swoop': 24210, 'pp': 18870, 'permanently': 18075, 'revoked': 20700, 'indulgent': 12361, 'hoardes': 11504, 'visionary': 26638, 'gifted': 10153, 'platitude': 18481, 'talentless': 24325, 'cunt': 5730, 'suffers': 23874, 'syndrome': 24243, 'stimulating': 23525, 'intravenous': 12761, 'valium': 26357, 'decapitation': 6083, 'disembowelment': 6851, 'starwars': 23388, 'merciless': 15406, 'florescent': 9342, 'shapelessness': 21962, 'scrub': 21595, 'seeping': 21716, 'incheon': 12243, 'staged': 23302, 'brew': 2976, 'lager': 13809, 'chugging': 4238, 'striking': 23673, 'canuck': 3534, 'seasonal': 21649, 'sledding': 22528, 'goofed': 10365, 'ska': 22427, 'bunctious': 3233, 'bong': 2730, 'screensavers': 21573, 'apps': 1177, 'hp': 11751, 'ipaq': 12849, 'blend': 2517, 'physomindaly': 18266, 'alreay': 725, 'caned': 3512, 'setup': 21885, 'perpetrator': 18088, 'timestamp': 24978, 'synch': 24240, 'ci': 4250, 'ty': 25711, 'gabba': 9862, 'holloween': 11553, 'leather': 14010, 'otherwhen': 17342, 'encase': 7922, 'trashed': 25374, 'beulering': 2313, 'vip': 26615, 'swipe': 24194, 'comp': 4766, 'fowl': 9561, 'disco': 6808, 'motown': 16011, 'neg': 16449, 'giligan': 10166, 'bouncer': 2836, 'thrall': 24843, 'combo': 4690, 'ster': 23473, 'cellular': 3822, 'taxing': 24448, 'frinds': 9696, 'swank': 24125, 'nordstroms': 16739, 'yakked': 27681, 'scanner': 21429, 'faxer': 8900, 'collater': 4629, 'napster': 16318, 'compatible': 4788, 'reconfiguring': 20015, 'bluetooth': 2626, 'advertised': 389, 'enabled': 7913, 'gprs': 10430, 'headset': 11161, 'incorporate': 12278, 'peripheral': 18066, 'wi': 27223, 'wandering': 26843, 'ouevres': 17355, 'buzzed': 3333, 'napa': 16311, 'gourmet': 10413, 'cigar': 4257, 'cognac': 4583, 'realtor': 19904, 'soulful': 22939, 'alway': 753, 'vive': 26661, 'raucous': 19829, 'pampering': 17635, 'pedi': 17944, 'traviatta': 25397, 'propiety': 19273, 'ensures': 8054, 'heroine': 11349, 'hur': 11853, 'librarian': 14187, 'nanny': 16305, 'cuban': 5683, 'bamboo': 1882, 'renta': 20373, 'perfume': 18059, 'stange': 23346, 'convo': 5222, 'animus': 942, 'rocket': 20906, 'prologue': 19226, 'dehydration': 6231, 'calf': 3425, 'cramped': 5476, 'shin': 22048, 'crased': 5493, 'impaled': 12125, 'bum': 3215, 'inthe': 12747, 'pumped': 19434, 'fvcking': 9851, 'notably': 16767, 'tgif': 24704, 'gameshow': 9924, 'donkey': 7133, 'flanked': 9236, 'functionality': 9784, 'confinement': 4955, 'outrageous': 17399, 'dearest': 6048, 'piling': 18337, 'jeffrey': 13086, 'zeldman': 27879, 'sylvia': 24223, 'plath': 18479, 'excitable': 8459, 'anaesthetist': 853, 'surgeon': 24045, 'propped': 19282, 'gull': 10747, 'inland': 12510, 'pebble': 17927, 'smoothing': 22668, 'numbness': 16851, 'patent': 17821, 'pillbox': 18340, 'cargo': 3608, 'stubbornly': 23721, 'swabbed': 24116, 'pillowed': 18343, 'teaset': 24488, 'bureau': 3250, 'nun': 16858, 'trinket': 25480, 'tablet': 24266, 'lightly': 14238, 'swaddlings': 24117, 'redness': 20083, 'corresponds': 5329, 'sinker': 22377, 'widens': 27233, 'thins': 24806, 'efface': 7659, 'snag': 22690, 'eddy': 7599, 'sunken': 23950, 'rust': 21133, 'african': 459, 'bloom': 2601, 'theatlantic': 24736, 'rauch': 19828, 'growl': 10659, 'knowledgeable': 13672, 'omniscient': 17126, 'advised': 399, 'reinstated': 20226, 'sage': 21204, 'schmuck': 21483, 'refund': 20152, 'disceptive': 6796, 'salesman': 21235, 'persistance': 18109, 'geoje': 10092, 'iriver': 12865, 'chamshil': 3918, 'indoor': 12351, 'jamshil': 13008, 'auxiliary': 1671, 'boa': 2650, 'jaurim': 13040, 'shinhwa': 22054, 'fruitier': 9729, 'taiwanese': 24313, 'namie': 16298, 'amuro': 844, 'vanness': 26381, 'wu': 27603, 'wang': 26845, 'hom': 11559, 'amuri': 843, 'apkujungdong': 1087, 'priced': 19067, 'fendi': 8984, 'scot': 21535, 'afterparty': 467, 'pusan': 19493, 'lured': 14690, 'fanned': 8812, 'hwo': 11884, 'heir': 11261, 'debtor': 6073, 'synthesis': 24252, 'contributing': 5172, 'ageless': 480, 'peices': 17971, 'seam': 21629, 'begining': 2170, 'undone': 25956, 'wodner': 27404, 'tanis': 24373, 'covenant': 5430, 'moses': 15983, 'heron': 11351, 'canaan': 3487, 'solomon': 22844, 'brody': 3050, 'shishak': 22070, 'insecure': 12548, 'concious': 4895, 'sensation': 21786, 'uncertain': 25861, 'portraying': 18763, 'manifestation': 14940, 'decript': 6146, 'nero': 16494, 'subtitle': 23824, 'constraint': 5086, 'stanforth': 23345, 'reminiscence': 20333, 'secrecy': 21673, 'desist': 6448, 'nondisclosure': 16709, 'kitchener': 13614, 'graft': 10459, 'uich': 25774, 'gwennen': 10797, 'wanath': 26840, 'dhin': 6576, 'ringyrn': 20814, 'ambar': 780, 'hen': 11311, 'boe': 2679, 'naid': 16276, 'bain': 1843, 'gwannathar': 10794, 'cuil': 5699, 'ban': 1883, 'firitha': 9174, 'naer': 16268, 'gwannathach': 10793, 'doomed': 7155, 'sorrowing': 22928, 'chinaman': 4134, 'ozzfest': 17545, 'aug': 1613, 'coral': 5278, 'amphitheatre': 837, 'stoked': 23555, 'ozzy': 17546, 'korn': 13699, 'manson': 14970, 'chevelle': 4080, 'sianx': 22233, 'milo': 15589, 'booooo': 2767, 'squite': 23270, 'frenz': 9655, 'tokt': 25085, 'relaxin': 20260, 'punished': 19448, 'nowi': 16810, 'gt': 10687, 'tution': 25664, 'rc': 19850, 'borin': 2791, 'barnie': 1965, 'searchin': 21643, 'thrus': 24886, 'cher': 4066, 'galz': 9911, 'childlish': 4116, 'brrrrrr': 3086, 'mani': 14932, 'nth': 16822, 'bookshop': 2761, 'cumin': 5725, 'nag': 16271, 'oso': 17332, 'scold': 21511, 'clazz': 4388, 'acttive': 263, 'sae': 21189, 'irratatin': 12875, 'bois': 2697, 'nasi': 16340, 'lemak': 14081, 'ting': 24989, 'writtin': 27584, 'nq': 16817, 'helloo': 11282, 'doublethink': 7190, 'prohibition': 19214, 'corrupted': 5341, 'crimestop': 5568, 'orwell': 17318, 'faculty': 8727, 'threshold': 24855, 'grasping': 10519, 'misunderstanding': 15721, 'inimical': 12489, 'ingsoc': 12471, 'repelled': 20402, 'heretical': 11335, 'newspeak': 16564, 'luxurious': 14710, 'stef': 23449, 'relaxing': 20261, 'tub': 25585, 'pinball': 18356, 'transformed': 25338, 'dungeon': 7437, 'terrribly': 24662, 'scarlett': 21447, 'fickle': 9055, 'enforce': 7986, 'taskmaster': 24419, 'muthusamy': 16203, 'rehearsal': 20208, 'yadda': 27676, 'temper': 24569, 'uncalled': 25857, 'fattening': 8874, 'hierachical': 11390, 'asunder': 1501, 'darkened': 5944, 'scythe': 21618, 'reaper': 19909, 'plough': 18536, 'treachery': 25406, 'dagger': 5859, 'neater': 16412, 'courteous': 5417, 'contorted': 5150, 'unendingly': 25972, 'churchill': 4245, 'tania': 24372, 'advert': 388, 'plaguing': 18450, 'coping': 5265, 'rationale': 19822, 'ringtones': 20813, 'scotland': 21537, 'consultation': 5093, 'pimm': 18347, 'impromptu': 12191, 'schubert': 21499, 'impending': 12138, 'oblique': 16935, 'recognising': 19997, 'febuary': 8926, 'spel': 23070, 'chek': 4047, 'outshines': 17404, 'neurotic': 16526, 'divulge': 7025, 'asker': 1403, 'nerd': 16493, 'pk': 18438, 'neediness': 16442, 'lonliness': 14511, 'fundraiser': 9796, 'classify': 4373, 'sadaam': 21169, 'spearheaded': 23034, 'scooter': 21521, 'haw': 11123, 'battlebot': 2046, 'snagged': 22691, 'martian': 15069, 'mousse': 16033, 'bobbish': 2669, 'sleek': 22530, 'creme': 5550, 'scrunching': 21602, 'insomniac': 12577, 'informercial': 12445, 'winsor': 27327, 'pilate': 18332, 'mend': 15384, 'rumbling': 21098, 'georgia': 10098, 'celebs': 3814, 'jeremy': 13112, 'riverside': 20852, 'garage': 9940, 'lentil': 14102, 'maundy': 15176, 'pastor': 17815, 'instituted': 12610, 'eucharist': 8327, 'brewed': 2977, 'buddha': 3147, 'schlupped': 21480, 'sniffle': 22717, 'lourdes': 14593, 'marguerite': 15017, 'torch': 25168, 'bearer': 2098, 'kath': 13414, 'pices': 18279, 'forehead': 9471, 'reputable': 20469, 'newpapers': 16551, 'dragging': 7249, 'consensus': 5033, 'parliment': 17741, 'intensely': 12658, 'researched': 20495, 'flowing': 9356, 'soundtrack': 22949, 'nelly': 16475, 'furtado': 9829, 'whatchu': 27126, 'penelope': 17991, 'frolic': 9706, 'fark': 8826, 'wheaton': 27135, 'howdy': 11743, 'mussella': 16189, 'lizella': 14392, 'macon': 14759, 'keepin': 13453, 'resaurant': 20487, 'tenderloin': 24595, 'reminisicing': 20335, 'antic': 1016, 'jiminy': 13161, 'hyundai': 11926, 'mischief': 15661, 'hallway': 10920, 'recollection': 20005, 'reaped': 19908, 'melodramatric': 15358, 'divorced': 7022, 'acroynm': 246, 'slighted': 22553, 'galivanting': 9901, 'ahhhhh': 524, 'captainfurby': 3564, 'renteria': 20377, 'consecutive': 5031, 'avg': 1688, 'nl': 16663, 'guillen': 10732, 'det': 6485, 'sb': 21405, 'rejuvenated': 20240, 'tejada': 24536, 'bal': 1858, 'slump': 22598, 'abreu': 83, 'phi': 18195, 'rowand': 21040, 'chisox': 4158, 'maggs': 14798, 'notable': 16766, 'greene': 10560, 'hafner': 10849, 'cle': 4390, 'cruz': 5662, 'dunn': 7441, 'parenthetical': 17723, 'periodically': 18065, 'youkilis': 27800, 'moneyball': 15862, 'rookie': 20970, 'taguchi': 24296, 'ph': 18176, 'wrapup': 27556, 'jennings': 13104, 'nyy': 16901, 'contreras': 5169, 'obermuller': 16912, 'sele': 21736, 'chw': 4249, 'schoeneweis': 21484, 'drunkard': 7371, 'stupor': 23758, 'redbud': 20057, 'mistletoe': 15712, 'pecked': 17932, 'oyu': 17542, 'smirked': 22645, 'trailed': 25292, 'unce': 25859, 'gazed': 10006, 'underneathe': 25924, 'dana': 5899, 'cascaded': 3663, 'handshake': 10977, 'retreating': 20641, 'repriminded': 20457, 'entiquette': 8086, 'exaggeratedly': 8430, 'trudged': 25541, 'hellenism': 11277, 'reconstructionists': 20025, 'characterized': 3957, 'detractor': 6522, 'accusation': 198, 'osnt': 17331, 'newbie': 16544, 'recruit': 20043, 'wicca': 27225, 'wmt': 27397, 'masonry': 15103, 'polytheistic': 18663, 'wrapper': 27554, 'polytheist': 18662, 'archetype': 1217, 'symbolism': 24227, 'eclectic': 7577, 'dedicants': 6148, 'contrasted': 5167, 'holistic': 11547, 'framework': 9585, 'progressively': 19210, 'specified': 23046, 'literacy': 14353, 'survives': 24081, 'pederasty': 17941, 'transcend': 25323, 'wittgenstein': 27385, 'limitation': 14273, 'athenian': 1520, 'socrates': 22795, 'adopting': 360, 'complicates': 4827, 'socratic': 22796, 'accuser': 201, 'pettiness': 18166, 'egocentrism': 7685, 'extend': 8625, 'xenia': 27629, 'reinforce': 20220, 'imply': 12161, 'divisiveness': 7019, 'communitarian': 4761, 'inclusive': 12255, 'hymnodia': 11901, 'spurious': 23220, 'astonishingly': 1481, 'reproduce': 20460, 'merit': 15417, 'upg': 26199, 'persuading': 18125, 'argumentation': 1251, 'startlingly': 23380, 'fraction': 9569, 'bleepin': 2513, 'fooo': 9439, 'parental': 17720, 'pudgy': 19406, 'vb': 26414, 'abiding': 57, 'jaywalker': 13050, 'curbside': 5740, 'squeeze': 23251, 'motorbike': 16007, 'beckett': 2126, 'brusqely': 3104, 'bumped': 3225, 'audacity': 1597, 'pudginess': 19405, 'chink': 4141, 'ranted': 19782, 'pudge': 19404, 'enacting': 7916, 'spewing': 23087, 'cornball': 5300, 'bengs': 2254, 'reprimanding': 20456, 'peacock': 17916, 'squared': 23237, 'width': 27239, 'frail': 9579, 'damsel': 5897, 'slunk': 22600, 'muttering': 16211, 'angrily': 926, 'retaliated': 20619, 'priceline': 19069, 'exclaimed': 8467, 'mutter': 16209, 'rudeness': 21076, 'wwjd': 27616, 'niiiice': 16624, 'unnerve': 26083, 'scathing': 21452, 'conciliatory': 4894, 'submissive': 23796, 'plumage': 18549, 'fudged': 9760, 'kindred': 13586, 'speck': 23049, 'colonialist': 4656, 'arty': 1362, 'farty': 8838, 'koh': 13684, 'dynamo': 7507, 'stout': 23594, 'effin': 7670, 'cantor': 3532, 'consistantly': 5056, 'knology': 13664, 'noe': 16684, 'muz': 16216, 'tokking': 25084, 'yippie': 27769, 'econs': 7590, 'scribbled': 21583, 'wwalked': 27613, 'clementi': 4416, 'abt': 120, 'umbella': 25800, 'zzzz': 27946, 'cuming': 5726, 'supppose': 24018, 'aniway': 945, 'thinki': 24800, 'neuron': 16524, 'conrgats': 5025, 'partay': 17753, 'excused': 8479, 'nealz': 16402, 'nuze': 16882, 'legalization': 14046, 'immigrant': 12104, 'essence': 8267, 'apologist': 1099, 'slope': 22579, 'fallacy': 8774, 'davis': 5992, 'illegals': 12037, 'interestingly': 12691, 'backfired': 1791, 'immigrated': 12106, 'immigration': 12107, 'moderation': 15791, 'manicure': 14936, 'sic': 22239, 'identifies': 11977, 'garnering': 9959, 'hog': 11522, 'kkk': 13623, 'prosecuted': 19286, 'daresay': 5939, 'supremisists': 24027, 'infringe': 12449, 'comparision': 4779, 'repressed': 20451, 'lamest': 13835, 'cgi': 3881, 'kink': 13598, 'madeline': 14775, 'engle': 8004, 'coeur': 4573, 'raisons': 19732, 'raison': 19731, 'connait': 5001, 'pascal': 17787, 'whereof': 27149, 'relenquish': 20268, 'mariano': 15020, 'rivera': 20848, 'bronson': 3058, 'arroyo': 1329, 'rodriguez': 20920, 'tivo': 25033, 'mountless': 16024, 'varitek': 26396, 'catcher': 3709, 'tanyon': 24383, 'sturtze': 23760, 'atheltically': 1518, 'ejection': 7711, 'ninth': 16644, 'mueller': 16093, 'momentum': 15842, 'bruin': 3089, 'enetertaining': 7984, 'redsox': 20088, 'unleashed': 26058, 'silmido': 22314, 'platoon': 18483, 'assassinated': 1424, 'thwarted': 24911, 'silmi': 22313, 'mentally': 15392, 'nk': 16662, 'pyongyang': 19517, 'thawed': 24731, 'befallen': 2159, 'deathrow': 6055, 'patron': 17844, 'jinx': 13167, 'precedence': 18924, 'saddened': 21173, 'astronomy': 1495, 'challenger': 3907, 'apollo': 1094, 'rick': 20753, 'ifs': 12003, 'ons': 17143, 'loging': 14469, 'password': 17809, 'cynsophie': 5824, 'jackie': 12972, 'shoshannah': 22137, 'cynthia': 5825, 'sistahs': 22400, 'rockliffe': 20910, 'apryl': 1186, 'jodi': 13192, 'maclaren': 14757, 'buzzer': 3334, 'sangria': 21301, 'delve': 6281, 'showtime': 22169, 'satc': 21342, 'invitee': 12825, 'sabine': 21152, 'pizzaz': 18436, 'distortion': 6973, 'assertion': 1435, 'butler': 3313, 'inspector': 12581, 'supporter': 24009, 'unprecedented': 26110, 'brewing': 2979, 'establish': 8277, 'deceived': 6091, 'wmdpledge': 27395, 'serviced': 21870, 'gb': 10012, 'relented': 20270, 'workload': 27493, 'nationwide': 16359, 'contrary': 5165, 'ipodbattery': 12851, 'apiece': 1086, 'admire': 337, 'chutzpah': 4248, 'undercutting': 25908, 'unwilling': 26183, 'saleen': 21231, 'cruisin': 5637, 'socal': 22775, 'odyssey': 17018, 'gushed': 10772, 'rafting': 19703, 'docker': 7051, 'dept': 6392, 'peak': 17917, 'regression': 20185, 'verbosity': 26477, 'despondent': 6467, 'manifest': 14939, 'armani': 1273, 'degradation': 6225, 'mozilla': 16052, 'dmackey': 7038, 'nec': 16420, 'meum': 15481, 'respectet': 20552, 'ut': 26305, 'amorem': 831, 'illius': 12042, 'culpa': 5710, 'cecidit': 3796, 'velut': 26442, 'prati': 18904, 'ultimi': 25789, 'flos': 9346, 'praetereunte': 18893, 'postquam': 18809, 'tactus': 24281, 'aratro': 1202, 'est': 8273, 'enveloped': 8114, 'theology': 24757, 'bertalott': 2286, 'reverie': 20680, 'owes': 17521, 'squirm': 23260, 'hassle': 11087, 'adequate': 309, 'absentee': 94, 'dogster': 7078, 'friendster': 9684, 'beckham': 2127, 'telescope': 24552, 'overcast': 17435, 'dispelling': 6905, 'termination': 24638, 'byline': 3345, 'bender': 2238, 'qualifies': 19549, 'frickin': 9674, 'wooing': 27450, 'ayatollah': 1752, 'muhammad': 16108, 'bakir': 1857, 'hakim': 10896, 'axis': 1747, 'overthrowing': 17500, 'overthrow': 17499, 'flashmobs': 9253, 'apolitical': 1093, 'nonsensical': 16718, 'tres': 25439, 'approving': 1174, 'paki': 17609, 'suaging': 23774, 'endgame': 7962, 'unrequited': 26131, 'motorcycle': 16008, 'cruising': 5638, 'coordinated': 5251, 'endgangering': 7963, 'tarred': 24408, 'funnie': 9809, 'whispher': 27181, 'boyohboy': 2877, 'tylynol': 25719, 'smoker': 22656, 'astronomical': 1494, 'carton': 3648, 'hefty': 11245, 'tem': 24563, 'paragon': 17689, 'newt': 16567, 'gingrich': 10178, 'energize': 7979, 'misstep': 15706, 'retaking': 20617, 'firming': 9177, 'remainined': 20305, 'harping': 11063, 'latched': 13892, 'socialism': 22780, 'availability': 1673, 'ailment': 546, 'lupus': 14686, 'arthritis': 1339, 'catheterization': 3729, 'imediately': 12076, 'vermont': 26491, 'severly': 21895, 'viagra': 26523, 'pfizer': 18172, 'impotence': 12176, 'affluence': 437, 'underfunded': 25914, 'unresearched': 26132, 'nohow': 16686, 'malleable': 14889, 'embroidering': 7853, 'milbank': 15560, 'unmanned': 26072, 'aircraft': 561, 'targeting': 24402, 'atomic': 1539, 'radiation': 19687, 'dubious': 7391, 'iaea': 11929, 'midterm': 15540, 'underscoring': 25927, 'embroidery': 7854, 'hoary': 11507, 'apocryphal': 1090, 'fibbed': 9046, 'famously': 8800, 'oath': 16906, 'indiscretion': 12338, 'watergate': 26936, 'lyndon': 14723, 'dwight': 7490, 'eisenhower': 7708, 'brookings': 3067, 'hess': 11359, 'overstatement': 17493, 'grandest': 10484, 'acknowledging': 224, 'imprecise': 12179, 'ari': 1254, 'fleischer': 9284, 'allegation': 667, 'estimate': 8287, 'roundtable': 21026, 'extrapolated': 8653, 'blocking': 2559, 'bargaining': 1950, 'voluntary': 26696, 'negotiation': 16460, 'subsequent': 23806, 'commissioner': 4741, 'waive': 26808, 'denied': 6324, 'credible': 5539, 'retained': 20614, 'useable': 26280, 'clandestinely': 4342, 'asserted': 1434, 'ranking': 19779, 'defected': 6177, 'fingerprint': 9142, 'omitted': 17121, 'musab': 16165, 'zarqawi': 27870, 'labeled': 13777, 'defector': 6179, 'implying': 12162, 'khidhir': 13521, 'hamza': 10947, 'fled': 9278, 'congressional': 4991, 'testimony': 24676, 'declassified': 6123, 'assisting': 1454, 'provoked': 19338, 'launched': 13925, 'disputed': 6928, 'expire': 8573, 'pragmatic': 18894, 'lawmaker': 13945, 'outpace': 17390, 'discretionary': 6835, 'mitchell': 15728, 'decried': 6145, 'explosively': 8603, 'trett': 25442, 'adolf': 354, 'autobahn': 1654, 'volkswagon': 26686, 'revived': 20699, 'conceive': 4874, 'oppressing': 17219, 'strom': 23693, 'thurmond': 24905, 'stupidest': 23754, 'pesky': 18144, 'maintnance': 14848, 'lining': 14304, 'whistle': 27182, 'correspondence': 5326, 'wer': 27095, 'songwriter': 22882, 'cigarrettes': 4260, 'grage': 10462, 'effectivly': 7665, 'trapping': 25370, 'cigarrette': 4259, 'perferct': 18052, 'brendan': 2970, 'througly': 24880, 'tole': 25088, 'latley': 13907, 'screwing': 21581, 'commentator': 4731, 'dismissal': 6890, 'absolulty': 96, 'trance': 25312, 'suceeded': 23856, 'increasing': 12285, 'ding': 6715, 'carnation': 3620, 'bustier': 3305, 'downbeat': 7206, 'tarot': 24407, 'ouija': 17357, 'ambiance': 784, 'halloweening': 10917, 'classifying': 4374, 'sweeter': 24164, 'adage': 276, 'ripple': 20828, 'cosmos': 5357, 'muhahahahaha': 16107, 'pumping': 19436, 'nappy': 16317, 'sha': 21917, 'charlize': 3978, 'hearsay': 11185, 'realistcally': 19887, 'matched': 15136, 'categorise': 3718, 'outward': 17415, 'labelled': 13779, 'pigeon': 18317, 'analogue': 862, 'discrete': 6832, 'classification': 4371, 'digitl': 6678, 'conversion': 5205, 'invent': 12800, 'expess': 8570, 'guil': 10729, 'oxford': 17533, 'careen': 3593, 'incline': 12248, 'viciously': 26534, 'lisa': 14329, 'technorati': 24504, 'exporting': 8607, 'engaging': 7996, 'rsvp': 21058, 'mostess': 15986, 'attracting': 1581, 'partake': 17751, 'mingled': 15614, 'anarchist': 871, 'teamed': 24474, 'corrected': 5315, 'kindly': 13584, 'stuckoverat': 23724, 'victoria': 26544, 'forecast': 9467, 'ophiuchus': 17199, 'serpent': 21860, 'sadge': 21182, 'auditory': 1609, 'concensus': 4876, 'antagonizing': 1000, 'backstreet': 1806, 'madly': 14781, 'marajuana': 14993, 'druggie': 7358, 'encouragement': 7945, 'curtsey': 5774, 'carribean': 3633, 'nc': 16392, 'rider': 20769, 'louisville': 14589, 'moping': 15935, 'headphone': 11158, 'shriek': 22183, 'unintentional': 26031, 'diffused': 6661, 'hamilton': 10936, 'pgs': 18175, 'interjected': 12699, 'remotely': 20346, 'arwen': 1365, 'elf': 7761, 'elrond': 7802, 'liv': 14372, 'zovakware': 27937, 'perseus': 18102, 'aragorn': 1200, 'boromir': 2797, 'happends': 11007, 'premiere': 18974, 'ock': 16997, 'parker': 17734, 'fx': 9855, 'thrid': 24857, 'installment': 12597, 'hobgoblin': 11514, 'connors': 5018, 'jameson': 13001, 'closely': 4472, 'formally': 9510, 'sprinkler': 23210, 'adhere': 313, 'renewed': 20366, 'coordinator': 5252, 'requesting': 20474, 'remarked': 20312, 'noir': 16687, 'skycaptain': 22478, 'tiri': 25014, 'malibu': 14884, 'disorganized': 6898, 'doubting': 7194, 'mathew': 15151, 'investigated': 12810, 'cheating': 4017, 'calmed': 3445, 'mistaken': 15710, 'sk': 22426, 'arranging': 1307, 'knocked': 13660, 'pulse': 19426, 'incriminate': 12290, 'resisting': 20531, 'obligate': 16929, 'confessed': 4939, 'kent': 13478, 'stilling': 23519, 'conceder': 4871, 'enlightenment': 8028, 'crucifixion': 5631, 'ascension': 1370, 'happyslacks': 11019, 'prompt': 19244, 'inspect': 12578, 'trademark': 25272, 'pertaining': 18128, 'livetime': 14382, 'retrospect': 20650, 'closterphobic': 4479, 'icu': 11961, 'bloodshot': 2596, 'extrememly': 8659, 'karmic': 13407, 'inclusivity': 12256, 'insensitivity': 12553, 'caviezel': 3769, 'monetarily': 15859, 'synonymous': 24245, 'roland': 20930, 'joffe': 13198, 'shockingly': 22094, 'kelvin': 13462, 'chen': 4059, 'incessant': 12238, 'liwei': 14387, 'shrugged': 22196, 'ahah': 517, 'rumoured': 21105, 'smartest': 22623, 'behing': 2191, 'whiteboard': 27186, 'saviour': 21386, 'duplication': 7451, 'ocd': 16992, 'siew': 22267, 'dobby': 7047, 'topspot': 25163, 'liveliness': 14377, 'dutifulness': 7471, 'assertiveness': 1436, 'paranoia': 17701, 'abstractness': 117, 'introversion': 12782, 'openmindedness': 17189, 'perfectionism': 18049, 'afghani': 447, 'crumbling': 5642, 'invoke': 12827, 'portray': 18760, 'unbiased': 25852, 'unneccesary': 26080, 'lloking': 14413, 'educating': 7629, 'asessing': 1379, 'sssshh': 23282, 'artic': 1341, 'frolicking': 9707, 'villager': 26579, 'soapbox': 22762, 'delaying': 6242, 'dumpster': 7431, 'wastefully': 26913, 'disposing': 6920, 'hoard': 11503, 'tommy': 25117, 'guerrero': 10712, 'kinko': 13599, 'colma': 4649, 'starstruck': 23372, 'qbert': 19526, 'sandra': 21292, 'frameline': 9584, 'sf': 21911, 'blockade': 2554, 'starfuckers': 23364, 'mistri': 15715, 'mclachlan': 15238, 'regal': 20162, 'amoeba': 828, 'berkeley': 2276, 'cashier': 3671, 'quannum': 19555, 'jocking': 13191, 'matinee': 15154, 'anchorman': 879, 'abouta': 78, 'indicating': 12322, 'barnes': 1962, 'noble': 16674, 'pinay': 18355, 'skanky': 22429, 'haired': 10882, 'filipinas': 9097, 'iced': 11944, 'soy': 22971, 'isaak': 12899, 'avid': 1691, 'watcher': 26922, 'hbo': 11145, 'geeky': 10024, 'misunderstood': 15722, 'helena': 11268, 'christensen': 4212, 'testedwas': 24669, 'quickness': 19601, 'homelesshomeless': 11572, 'harassing': 11026, 'haight': 10875, 'humping': 11833, 'flicking': 9297, 'lascivious': 13879, 'chanting': 3940, 'pining': 18366, 'filipina': 9096, 'crackhead': 5460, 'mehe': 15336, 'hoobastank': 11622, 'frat': 9612, 'collegea': 4639, 'maganda': 14792, 'methats': 15464, 'cautious': 3761, 'ethnicity': 8316, 'reacted': 19861, 'otherness': 17341, 'dated': 5981, 'gee': 10020, 'deprecating': 6380, 'hapa': 11001, 'moi': 15813, 'neurosis': 16525, 'angelina': 914, 'jolie': 13228, 'sperm': 23085, 'opt': 17226, 'insemination': 12551, 'knowall': 13667, 'nob': 16670, 'racquet': 19681, 'wna': 27398, 'likre': 14256, 'stompin': 23562, 'momma': 15844, 'seize': 21729, 'wantedone': 26854, 'yer': 27746, 'celebrates': 3808, 'tina': 24987, 'vivacious': 26659, 'hendrix': 11315, 'powerfully': 18863, 'mortal': 15974, 'garry': 9963, 'shandling': 21954, 'stiller': 23518, 'midler': 15533, 'burying': 3282, 'travesty': 25394, 'racket': 19680, 'hurl': 11856, 'jovial': 13266, 'jokey': 13225, 'unfertile': 25986, 'baptist': 1922, 'raphael': 19788, 'repartee': 20392, 'stimulation': 23526, 'mania': 14933, 'constellation': 5075, 'celestial': 3816, 'portend': 18750, 'astrologer': 1490, 'astronomer': 1493, 'upclose': 26193, 'haywire': 11139, 'jerry': 13118, 'sup': 23965, 'jejeje': 13090, 'vcds': 26417, 'ard': 1226, 'fone': 9425, 'tuiton': 25608, 'tok': 25080, 'memo': 15371, 'arrgh': 1314, 'concering': 4884, 'venturing': 26467, 'conflicted': 4964, 'dcin': 6022, 'internationally': 12711, 'televised': 24553, 'loyalist': 14626, 'insurgent': 12633, 'casualty': 3695, 'rescind': 20489, 'accruing': 190, 'overtime': 17502, 'condoleezza': 4928, 'elation': 7720, 'californication': 3432, 'unicorn': 26017, 'boulevard': 2833, 'cobain': 4533, 'alderon': 614, 'breed': 2962, 'vibration': 26528, 'tidal': 24932, 'sicker': 22245, 'rodeo': 20917, 'legoland': 14067, 'sequoia': 21838, 'monteray': 15894, 'humpback': 11831, 'whale': 27122, 'prettiest': 19040, 'ventura': 26464, 'hunter': 11851, 'isle': 12918, 'annually': 977, 'reknown': 20241, 'cobblestone': 4536, 'horseman': 11687, 'pornographer': 18737, 'readership': 19870, 'worldwide': 27501, 'hitwomen': 11482, 'persevere': 18104, 'orgastic': 17286, 'recedes': 19955, 'borne': 2795, 'ceaselessly': 3792, 'prototype': 19317, 'brent': 2973, 'spiner': 23115, 'riker': 20802, 'cheeseburger': 4040, 'deanna': 6044, 'scrapple': 21552, 'insured': 12631, 'encroachment': 7949, 'fairness': 8753, 'oblivion': 16937, 'builder': 3178, 'destroyer': 6480, 'wonka': 27434, 'sylvie': 24224, 'cuba': 5682, 'respectively': 20557, 'cheesing': 4044, 'occasionn': 16972, 'betw': 2310, 'comrade': 4862, 'mitsubishi': 15729, 'bwaaaaaaaaahahahahahahhahahh': 3339, 'shear': 21993, 'foucault': 9545, 'pendulum': 17990, 'ellispse': 7793, 'vinci': 26592, 'protagonist': 19299, 'afficiandos': 428, 'knight': 13650, 'templar': 24575, 'prophesies': 19270, 'maddening': 14769, 'cultist': 5716, 'believer': 2211, 'satanic': 21339, 'tedious': 24510, 'masonic': 15102, 'idiocy': 11986, 'theological': 24756, 'praxis': 18906, 'trax': 25402, 'ediface': 7608, 'conjure': 4997, 'sinister': 22375, 'ingraining': 12467, 'orson': 17312, 'explore': 8597, 'umberto': 25801, 'acknowledgement': 223, 'precept': 18928, 'wonderously': 27431, 'cultism': 5715, 'guruism': 10770, 'collide': 4642, 'troubling': 25527, 'witted': 27384, 'dot': 7184, 'predictible': 18946, 'thriller': 24861, 'unveiled': 26178, 'foulcault': 9548, 'lightbulb': 14229, 'fizzle': 9217, 'adopter': 359, 'unfairness': 25981, 'intricacy': 12765, 'sniff': 22715, 'gladiator': 10205, 'unbridled': 25855, 'undermined': 25921, 'commerce': 4734, 'nono': 16714, 'ftw': 9747, 'tht': 24888, 'wafting': 26775, 'earthy': 7539, 'paprika': 17678, 'pungent': 19446, 'dinnertime': 6721, 'ukrop': 25777, 'trough': 25528, 'seasoning': 21651, 'lemon': 14083, 'pastry': 17817, 'sliced': 22546, 'glaze': 10220, 'glazing': 10222, 'cupboard': 5733, 'petrified': 18163, 'splash': 23132, 'squirted': 23266, 'sugary': 23889, 'catering': 3723, 'sorority': 22924, 'concocted': 4902, 'cookbook': 5226, 'stocked': 23551, 'canned': 3517, 'tinfoil': 24988, 'slicing': 22547, 'plating': 18480, 'sunk': 23949, 'herbed': 11327, 'kathleen': 13417, 'zerelda': 27886, 'zabba': 27852, 'almond': 712, 'whiskey': 27175, 'savior': 21385, 'muddy': 16091, 'parfait': 17728, 'hiseld': 11459, 'sponsers': 23164, 'terminates': 24637, 'commie': 4737, 'scrounge': 21593, 'plum': 18548, 'headscarf': 11160, 'hoop': 11638, 'earring': 7533, 'starfish': 23362, 'pendant': 17988, 'miri': 15649, 'institute': 12609, 'albany': 598, 'nit': 16653, 'schtuff': 21498, 'batter': 2042, 'ditzy': 6998, 'trivial': 25500, 'problogger': 19139, 'photoblogs': 18232, 'upgraded': 26201, 'hmmmmmmmmmm': 11497, 'arousal': 1300, 'unphotogenicness': 26099, 'unphotogenic': 26098, 'brainwave': 2906, 'birdwatching': 2401, 'sevices': 21896, 'ondrej': 17132, 'zillion': 27905, 'sheik': 22006, 'outdated': 17368, 'standin': 23339, 'jefferson': 13085, 'turnin': 25645, 'glorifying': 10260, 'negotiator': 16461, 'proposition': 19280, 'cloak': 4459, 'decency': 6093, 'natch': 16351, 'votebook': 26716, 'citizenship': 4307, 'citstart': 4309, 'durham': 7457, 'chbeck': 4007, 'kindergarden': 13577, 'finder': 9130, 'shoutout': 22153, 'wunder': 27606, 'macy': 14764, 'ember': 7842, 'benicia': 2255, 'reguarding': 20193, 'sunconscious': 23938, 'distaste': 6962, 'grunting': 10684, 'ape': 1080, 'herbert': 11328, 'hoover': 11644, 'confederate': 4936, 'slavery': 22521, 'lbj': 13971, 'graphy': 10513, 'playind': 18494, 'wlin': 27393, 'durring': 7460, 'cozied': 5448, 'reluctanly': 20297, 'sandwiched': 21295, 'flopping': 9338, 'cheeriest': 4033, 'sleepless': 22536, 'coca': 4542, 'loot': 14537, 'sony': 22888, 'baath': 1767, 'jewelery': 13136, 'pottery': 18834, 'rapid': 19789, 'seamlessly': 21632, 'responsbility': 20565, 'external': 8636, 'restraint': 20592, 'primitive': 19087, 'joss': 13255, 'cordelia': 5282, 'outcast': 17366, 'carriage': 3632, 'oat': 16904, 'exhaust': 8500, 'windshield': 27308, 'wiper': 27337, 'circled': 4287, 'trespass': 25440, 'citation': 4301, 'breakable': 2944, 'preoccupied': 18982, 'organist': 17276, 'substitute': 23821, 'tommorrow': 25116, 'riddle': 20763, 'grammy': 10473, 'trafficked': 25283, 'okayplayers': 17078, 'kenney': 13473, 'grrrr': 10666, 'circumvented': 4295, 'inextricably': 12389, 'irrepairable': 12881, 'inadvertantly': 12212, 'conditional': 4922, 'conception': 4882, 'deliberate': 6252, 'contractually': 5160, 'offspring': 17049, 'absolving': 105, 'noblest': 16676, 'mearns': 15268, 'hermit': 11341, 'veracity': 26471, 'joongang': 13242, 'ilbo': 12029, 'forging': 9493, 'fraud': 9613, 'villain': 26581, 'greybeal': 10583, 'friendlier': 9680, 'ginsberg': 10182, 'scrawled': 21560, 'adhesive': 314, 'dissertation': 6951, 'ick': 11950, 'icker': 11951, 'icky': 11952, 'burp': 3275, 'gastritis': 9975, 'blockage': 2555, 'intestine': 12746, 'bowel': 2856, 'grossness': 10641, 'hehee': 11249, 'kbluer': 13434, 'overtly': 17503, 'ethos': 8317, 'demographical': 6303, 'batch': 2027, 'entertainer': 8072, 'kblue': 13433, 'getta': 10122, 'bizzaro': 2444, 'milf': 15569, 'garfield': 9948, 'hewitt': 11364, 'thunderpants': 24900, 'cg': 3880, 'odie': 17015, 'legible': 14056, 'darkest': 5947, 'judgmental': 13290, 'doings': 7083, 'unconditional': 25879, 'capitalized': 3553, 'pronoun': 19250, 'stuart': 23715, 'weitzman': 27074, 'ohmygod': 17066, 'salesperson': 21236, 'mule': 16112, 'strappy': 23623, 'eber': 7567, 'canary': 3492, 'cleef': 4410, 'arpels': 1302, 'greeter': 10569, 'dior': 6731, 'gucci': 10708, 'bungalow': 3235, 'manicured': 14937, 'noisily': 16689, 'trimmed': 25478, 'plexiglas': 18529, 'manikin': 14942, 'mack': 14755, 'transfixed': 25336, 'strewn': 23663, 'distinguishable': 6969, 'quizzical': 19639, 'mirroring': 15657, 'torso': 25187, 'highlighted': 11399, 'frosted': 9715, 'fianc': 9039, 'badminton': 1820, 'gameplan': 9920, 'devendran': 6543, 'starter': 23375, 'prawn': 18905, 'clam': 4335, 'chowder': 4206, 'wierdly': 27244, 'diagonsed': 6586, 'paxil': 17876, 'wannstedt': 26851, 'urine': 26263, 'suprised': 24030, 'lenny': 14098, 'kravitz': 13711, 'dreadlock': 7283, 'admires': 339, 'elemental': 7751, 'validated': 26353, 'developmental': 6540, 'insecurity': 12549, 'procreate': 19164, 'inseminating': 12550, 'keener': 13449, 'straying': 23636, 'doubtful': 7193, 'dyadic': 7496, 'bonded': 2724, 'explores': 8599, 'hyperactivity': 11905, 'guardian': 10700, 'adolescence': 352, 'singularly': 22372, 'tolerates': 25094, 'matures': 15171, 'pertain': 18127, 'stemming': 23459, 'inadequacy': 12210, 'rejection': 20234, 'abandonment': 32, 'perceived': 18030, 'translates': 25349, 'pandering': 17645, 'unreasonable': 26125, 'admired': 338, 'discouraging': 6821, 'indoctrinated': 12348, 'conquer': 5020, 'dominates': 7112, 'acquiesce': 235, 'philanthropic': 18198, 'flown': 9357, 'photocopying': 18233, 'malaysian': 14875, 'hk': 11489, 'ticketek': 24926, 'supervising': 23994, 'wracking': 27549, 'deepa': 6165, 'brians': 2982, 'flatmate': 9258, 'harbour': 11030, 'litte': 14363, 'interrupt': 12725, 'sweetheart': 24166, 'annie': 959, 'clinging': 4446, 'whhoooaaahh': 27153, 'whooaaahh': 27206, 'showgirl': 22165, 'splotch': 23147, 'alpaca': 719, 'hay': 11132, 'conked': 5000, 'mandated': 14917, 'osha': 17327, 'hazard': 11140, 'automatic': 1661, 'widening': 27232, 'gyre': 10810, 'mere': 15410, 'anarchy': 872, 'loosed': 14530, 'dimmed': 6707, 'spiritus': 23125, 'mundi': 16146, 'pitiless': 18421, 'reel': 20102, 'indignant': 12333, 'stony': 23568, 'vexed': 26514, 'beast': 2100, 'slouch': 22584, 'bethlehem': 2300, 'sedar': 21694, 'passover': 17807, 'sweetly': 24168, 'usuallly': 26300, 'distributing': 6983, 'cubicle': 5688, 'nepotism': 16490, 'acheive': 210, 'wachowski': 26757, 'finalize': 9119, 'estranged': 8294, 'alleged': 669, 'dominatrix': 7115, 'bondage': 2723, 'longtime': 14509, 'thea': 24733, 'collaborator': 4623, 'procrastinatus': 19163, 'crastinus': 5498, 'meaining': 15250, 'procrastinate': 19159, 'huahuahuahua': 11769, 'dependable': 6356, 'doze': 7235, 'diffraction': 6659, 'rec': 19949, 'weeeeeeee': 27034, 'johnafun': 13206, 'tornado': 25177, 'maintian': 14847, 'rationalizing': 19824, 'exsist': 8620, 'clinched': 4443, 'windsor': 27309, 'woodbridge': 27439, 'washer': 26902, 'lockheed': 14449, 'lockheedmartin': 14450, 'gaithersburg': 9888, 'plunge': 18559, 'weirchrt': 27065, 'relators': 20255, 'cairn': 3402, 'dogwood': 7080, 'cinderella': 4273, 'restful': 20579, 'grad': 10447, 'genetics': 10061, 'ivf': 12955, 'givf': 10197, 'fairfax': 8749, 'virigina': 26621, 'apointments': 1091, 'infertility': 12405, 'prenatal': 18978, 'leared': 13999, 'beleived': 2202, 'sloth': 22583, 'ridiculed': 20772, 'stampede': 23329, 'hindu': 11440, 'unexpectedly': 25977, 'unpleasantly': 26103, 'slew': 22544, 'oweeeeee': 17519, 'crashclub': 5495, 'cbr': 3779, 'chipping': 4147, 'difficile': 6656, 'nba': 16388, 'offerred': 17036, 'disbanded': 6789, 'shameless': 21949, 'gmt': 10286, 'sabi': 21150, 'bel': 2199, 'brighton': 3010, 'somwhere': 22874, 'countryside': 5397, 'moorabin': 15925, 'scrambling': 21547, 'icq': 11957, 'siad': 22231, 'okely': 17079, 'dokelies': 7087, 'bringers': 3019, 'smartly': 22625, 'plaid': 18451, 'buffoon': 3163, 'buckeye': 3136, 'vaunted': 26412, 'preferably': 18956, 'desired': 6446, 'generator': 10052, 'warmups': 26879, 'wussed': 27608, 'soph': 22909, 'famousish': 8799, 'faddoul': 8730, 'hindoyan': 11438, 'sportswear': 23186, 'towson': 25244, 'emigrated': 7864, 'armenian': 1276, 'extensively': 8631, 'disadvantage': 6762, 'whizzing': 27197, 'lingered': 14296, 'shouldering': 22146, 'weisman': 27072, 'simplify': 22337, 'drafting': 7245, 'calculate': 3416, 'distribution': 6984, 'declining': 6126, 'affluent': 438, 'highlighting': 11400, 'reliance': 20276, 'simpler': 22333, 'flatter': 9260, 'chairman': 3897, 'lawrence': 13947, 'lindsey': 14286, 'aei': 406, 'deputy': 6394, 'legislative': 14059, 'lamented': 13833, 'earner': 7526, 'sustain': 24101, 'costly': 5362, 'extending': 8627, 'tenor': 24611, 'tollgate': 25099, 'emphasizing': 7890, 'beneficial': 2245, 'outskirt': 17407, 'fretted': 9669, 'sympathetic': 24233, 'offset': 17046, 'taxation': 24443, 'taxed': 24444, 'mcintyre': 15236, 'rangel': 19774, 'matsui': 15160, 'calif': 3429, 'overtaxed': 17498, 'subsidizing': 23815, 'demint': 6295, 'invisibly': 12821, 'thinker': 24799, 'expressing': 8615, 'editorial': 7617, 'taxpaying': 24452, 'detached': 6488, 'recognizing': 20003, 'advocate': 403, 'backlash': 1795, 'graetz': 10457, 'yale': 27682, 'disastrous': 6788, 'overreach': 17477, 'marketplace': 15039, 'recruiter': 20045, 'applicant': 1138, 'moto': 16004, 'promoted': 19239, 'exemplifies': 8489, 'correcting': 5316, 'grammatical': 10471, 'fanciful': 8805, 'retelling': 20625, 'fawkes': 8897, 'postapocalyptic': 18795, 'britain': 3030, 'lloyd': 14416, 'wachowskis': 26758, 'wright': 27572, 'aviation': 1690, 'reign': 20213, 'fortress': 9530, 'poised': 18599, 'occcupied': 16975, 'dooce': 7146, 'sniper': 22722, 'crapping': 5490, 'implored': 12160, 'intercession': 12678, 'unaided': 25824, 'sinful': 22358, 'sorrowful': 22927, 'amen': 800, 'cordially': 5285, 'wonderland': 27428, 'gouache': 10410, 'mockumentary': 15781, 'shitbag': 22072, 'dipped': 6737, 'regimental': 20176, 'institutional': 12612, 'merchandise': 15403, 'horizontally': 11667, 'aloft': 713, 'apparel': 1111, 'bedding': 2141, 'drapery': 7266, 'festooned': 9014, 'bunting': 3245, 'draping': 7267, 'fastened': 8853, 'soiled': 22818, 'insignia': 12564, 'receptacle': 19964, 'delivering': 6271, 'embroidered': 7852, 'napkin': 16312, 'discard': 6794, 'halyard': 10929, 'affixed': 435, 'fireman': 9164, 'lapel': 13861, 'replica': 20431, 'dignified': 6679, 'magnet': 14809, 'prefered': 18957, 'vfw': 26518, 'legion': 14057, 'ceremnonies': 3857, 'heya': 11369, 'seldom': 21735, 'alwis': 756, 'sobx': 22774, 'anywae': 1058, 'grp': 10663, 'vry': 26732, 'wif': 27245, 'watever': 26946, 'haix': 10891, 'dae': 5847, 'dey': 6568, 'freako': 9622, 'bu': 3121, 'shuang': 22201, 'smth': 22674, 'copying': 5274, 'shih': 22038, 'becoz': 2134, 'shud': 22203, 'enuff': 8111, 'sadddd': 21171, 'saded': 21180, 'budden': 3146, 'forgiving': 9498, 'smthing': 22675, 'smtimes': 22676, 'kena': 13464, 'leh': 14069, 'bk': 2446, 'revising': 20691, 'hu': 11766, 'bleahx': 2503, 'chim': 4128, 'horx': 11691, 'silentwalker': 22305, 'honeymoon': 11604, 'multiplayer': 16123, 'mmorpg': 15760, 'allakhazam': 663, 'bounty': 2842, 'hatched': 11095, 'nye': 16892, 'egad': 7677, 'angryflower': 928, 'keepsm': 13455, 'muahahhah': 16085, 'potluck': 18828, 'wirte': 27345, 'penalised': 17981, 'resposnsible': 20571, 'obnoxious': 16939, 'evangelion': 8359, 'auska': 1630, 'ahhhhhh': 525, 'malfunctioning': 14883, 'straigten': 23605, 'thanz': 24728, 'ideologue': 11982, 'discontent': 6816, 'autocad': 1657, 'rickety': 20754, 'obscenely': 16943, 'ooooo': 17168, 'knot': 13665, 'wreck': 27561, 'sion': 22383, 'arrowhead': 1328, 'molded': 15826, 'grumbling': 10680, 'cretin': 5557, 'waaaaaaay': 26748, 'occassional': 16973, 'rooftop': 20967, 'discarded': 6795, 'entact': 8056, 'grrrrrr': 10669, 'tattoo': 24436, 'rooster': 20978, 'weave': 27003, 'blindly': 2531, 'transform': 25337, 'warring': 26891, 'momentary': 15839, 'hiatus': 11375, 'edification': 7609, 'existent': 8518, 'doctored': 7058, 'cair': 3401, 'lcpl': 13974, 'hacienda': 10832, 'fettucini': 9024, 'fernando': 8995, 'trig': 25465, 'signature': 22284, 'xoxoxo': 27647, 'weeps': 27048, 'maniacally': 14935, 'thrash': 24844, 'prouder': 19321, 'blatant': 2494, 'prominent': 19231, 'impart': 12127, 'munching': 16141, 'slathered': 22516, 'chewing': 4089, 'tourism': 25226, 'coincident': 4598, 'potion': 18827, 'icrc': 11958, 'reducing': 20092, 'medicins': 15301, 'islamist': 12913, 'utopia': 26313, 'mopping': 15937, 'definatly': 6204, 'traumatized': 25384, 'seein': 21707, 'buh': 3173, 'xoxoxoxo': 27648, 'asexual': 1380, 'reproduction': 20461, 'oppratunity': 17217, 'suspence': 24091, 'kinders': 13581, 'wining': 27318, 'heafty': 11165, 'sobe': 22769, 'mcallister': 15206, 'coto': 5366, 'caza': 3775, 'recruiting': 20046, 'allergist': 676, 'heartbeat': 11190, 'porsche': 18744, 'weaving': 27006, 'weeping': 27047, 'deaf': 6036, 'havn': 11118, 'uppy': 26222, 'downy': 7233, 'caffine': 3394, 'junkie': 13329, 'vehemently': 26435, 'politcal': 18627, 'attempted': 1560, 'impersonating': 12147, 'ware': 26865, 'sa': 21146, 'goon': 10373, 'tought': 25221, 'cb': 3776, 'hiphoppig': 11446, 'alittle': 657, 'omorow': 17128, 'morow': 15965, 'cya': 5809, 'westmarch': 27109, 'maddux': 14773, 'regretful': 20187, 'kin': 13573, 'bulfen': 3191, 'bulfenion': 3194, 'bulfeniel': 3192, 'bulfenien': 3193, 'bulfenwen': 3195, 'hobbit': 11510, 'lad': 13798, 'hildifons': 11422, 'sandyman': 21297, 'lobelia': 14434, 'dwarven': 7486, 'trr': 25533, 'copperwater': 5271, 'orkish': 17299, 'ghazag': 10133, 'squeaker': 23245, 'sequential': 21834, 'infinity': 12416, 'zaca': 27853, 'mesa': 15428, 'viognier': 26600, 'benton': 2263, 'pinot': 18374, 'rene': 20361, 'mure': 16159, 'gewurztraminer': 10127, 'bressades': 2974, 'grenache': 10578, 'complemented': 4814, 'mcdaniels': 15224, 'doeuvres': 7071, 'fearful': 8909, 'pissa': 18401, 'newb': 16543, 'musingsofafatkid': 16185, 'hentoff': 11320, 'plugged': 18546, 'guesswork': 10718, 'conceivable': 4873, 'narelle': 16324, 'jian': 13145, 'opp': 17206, 'unibar': 26016, 'waved': 26952, 'harbin': 11027, 'sais': 21220, 'penang': 17984, 'sze': 24261, 'yen': 27739, 'justin': 13347, 'montgomery': 15898, 'gentry': 10079, 'jordon': 13246, 'anithing': 943, 'laze': 13964, 'sth': 23500, 'macoroni': 14760, 'pasted': 17813, 'aircon': 560, 'guai': 10691, 'lazing': 13967, 'suprise': 24029, 'necklace': 16432, 'unlatched': 26053, 'slid': 22548, 'ment': 15389, 'unhooked': 26014, 'faery': 8737, 'konji': 13686, 'amethyst': 811, 'clasp': 4365, 'innerself': 12522, 'smuck': 22677, 'conculsion': 4910, 'relience': 20280, 'oddity': 17009, 'therfore': 24769, 'tugging': 25603, 'shoring': 22121, 'dependability': 6355, 'flakyness': 9229, 'astrology': 1491, 'contemplated': 5117, 'satisfactory': 21352, 'mantra': 14974, 'scrapping': 21551, 'propose': 19277, 'politial': 18631, 'vicariously': 26530, 'teton': 24685, 'wyoming': 27622, 'summit': 23925, 'photoalbum': 18230, 'angela': 909, 'audit': 1606, 'saddle': 21178, 'grapple': 10514, 'accumulating': 193, 'icy': 11962, 'camaraderie': 3456, 'majesty': 14853, 'eliyahu': 7783, 'naftali': 16270, 'tsiona': 25573, 'ayelet': 1755, 'aliza': 659, 'ema': 7814, 'franchise': 9590, 'ordeal': 17255, 'endlessly': 7966, 'possy': 18791, 'manicurist': 14938, 'masseuse': 15116, 'waxers': 26959, 'inspects': 12582, 'stande': 23338, 'brightly': 3008, 'nadya': 16266, 'cippi': 4284, 'schreibman': 21495, 'fascist': 8845, 'navel': 16376, 'gazing': 10010, 'vul': 26734, 'zing': 27909, 'contemplation': 5119, 'sophomore': 22913, 'philosophizing': 18211, 'omphaloskepsis': 17129, 'depreciatingly': 6381, 'eleventh': 7760, 'collegiate': 4640, 'diction': 6622, 'foodstuff': 9430, 'chilli': 4124, 'badger': 1818, 'mott': 16012, 'hoople': 11639, 'tidy': 24935, 'notification': 16789, 'barclaycard': 1936, 'freebie': 9630, 'ariel': 1257, 'mud': 16089, 'meltdown': 15362, 'chili': 4121, 'magik': 14805, 'buckley': 3139, 'drake': 7258, 'rev': 20661, 'disposable': 6915, 'thoughtful': 24836, 'bologne': 2706, 'serene': 21844, 'bustle': 3306, 'cosmopolitan': 5356, 'shady': 21927, 'calmness': 3449, 'denuded': 6342, 'interrogation': 12723, 'duality': 7386, 'inert': 12375, 'impotent': 12177, 'procreation': 19165, 'clueless': 4503, 'hopelessly': 11654, 'marred': 15050, 'dearth': 6050, 'soaring': 22764, 'narrowness': 16330, 'disturb': 6987, 'champ': 3912, 'elyssees': 7812, 'amar': 763, 'srinand': 23274, 'compact': 4767, 'enquire': 8037, 'suneetha': 23944, 'sculptor': 21609, 'auguste': 1617, 'penseur': 18006, 'scuplting': 21613, 'incognizant': 12258, 'descartes': 6406, 'cogito': 4582, 'exemplary': 8488, 'physiognomy': 18261, 'succinctly': 23851, 'denuding': 6343, 'benumbing': 2264, 'parlance': 17738, 'outwards': 17416, 'scultpture': 21611, 'erotic': 8202, 'exalted': 8432, 'painter': 17601, 'mastery': 15123, 'tombeau': 25109, 'armee': 1275, 'napoleon': 16314, 'dome': 7102, 'majestic': 14852, 'rotunda': 21012, 'gilded': 10164, 'effulgent': 7675, 'beheld': 2190, 'obscurity': 16945, 'sculpting': 21608, 'myth': 16249, 'revelling': 20673, 'plaque': 18468, 'epaulette': 8133, 'ornament': 17304, 'bonnet': 2736, 'regiment': 20175, 'puny': 19453, 'exile': 8511, 'xiv': 27641, 'deposited': 6376, 'saddening': 21174, 'seal': 21627, 'bayonet': 2060, 'barrel': 1972, 'incompetence': 12262, 'pensive': 18008, 'aristocracy': 1264, 'illustrious': 12054, 'corruption': 5342, 'personification': 18118, 'succeeds': 23844, 'transmogrify': 25356, 'marvelously': 15079, 'umpteen': 25814, 'repining': 20416, 'starves': 23385, 'uncontrollably': 25887, 'harmless': 11054, 'heed': 11231, 'unreasonably': 26126, 'espace': 8249, 'montmartre': 15902, 'surrealist': 24064, 'salvador': 21260, 'dali': 5876, 'surrealism': 24063, 'mustache': 16191, 'dalinian': 5877, 'exploit': 8591, 'maximum': 15183, 'rigid': 20795, 'preaches': 18917, 'nobility': 16673, 'symbolizing': 24229, 'simile': 22326, 'inspite': 12590, 'intra': 12758, 'uterine': 26307, 'surrealistic': 24065, 'ugliness': 25764, 'unobserved': 26089, 'sacre': 21160, 'couer': 5371, 'differential': 6649, 'recruitment': 20047, 'exclusively': 8474, 'tidying': 24936, 'git': 10192, 'accumulated': 192, 'organising': 17274, 'xenon': 27630, 'payslip': 17890, 'hobbes': 11509, 'shotokan': 22141, 'kata': 13412, 'delving': 6282, 'forthwith': 9529, 'astroturf': 1497, 'astrocows': 1489, 'timed': 24972, 'cicada': 4254, 'hdtv': 11148, 'blag': 2472, 'swap': 24128, 'mobo': 15774, 'seti': 21879, 'alt': 728, 'keymap': 13509, 'mash': 15091, 'domesticity': 7106, 'intertextual': 12734, 'postmodern': 18805, 'participating': 17763, 'televisual': 24555, 'eon': 8128, 'encapsulate': 7920, 'verdict': 26480, 'pah': 17585, 'gelati': 10030, 'coinkidink': 4602, 'recognised': 19996, 'bonjour': 2733, 'fille': 9099, 'ceci': 3795, 'une': 25962, 'premi': 18972, 'exp': 8529, 'riences': 20778, 'sur': 24032, 'ce': 3788, 'essaye': 8265, 'apprivoiser': 1160, 'sarachichita': 21318, 'oer': 17021, 'rankles': 19780, 'yoru': 27792, 'monds': 15856, 'dillon': 6695, 'moused': 16031, 'ake': 580, 'practicum': 18889, 'nnoooooooo': 16667, 'pax': 17875, 'americana': 807, 'disinfopedia': 6875, 'pacifist': 17553, 'niks': 16629, 'sayers': 21401, 'kagan': 13364, 'revolutionary': 20702, 'tentative': 24616, 'coldplay': 4615, 'heady': 11164, 'majn': 14854, 'raindown': 19720, 'greenwood': 10566, 'anatomy': 875, 'relient': 20281, 'goofy': 10368, 'excommunicate': 8475, 'compilation': 4804, 'android': 894, 'electioneering': 7732, 'airbag': 556, 'differing': 6653, 'gingerale': 10177, 'sherbert': 22023, 'symptom': 24237, 'throt': 24875, 'zithromax': 27918, 'cortisone': 5344, 'referrred': 20119, 'tier': 24941, 'giddyville': 10149, 'illiterate': 12040, 'whomever': 27205, 'disagrees': 6768, 'reprehensible': 20444, 'cope': 5260, 'massacre': 15109, 'swirling': 24197, 'agitated': 499, 'helplessly': 11295, 'pronouncing': 19254, 'interfering': 12695, 'recliner': 19991, 'hunched': 11837, 'whiff': 27156, 'naptime': 16319, 'oriented': 17289, 'jenifer': 13100, 'handcuff': 10952, 'beanbag': 2089, 'potted': 18832, 'specialist': 23037, 'lockup': 14454, 'tigger': 24947, 'offender': 17028, 'steward': 23494, 'penal': 17980, 'roughest': 21018, 'tumble': 25613, 'boardwalk': 2658, 'sew': 21897, 'paramedic': 17699, 'narcotic': 16323, 'victorious': 26545, 'discretely': 6833, 'standby': 23337, 'arose': 1295, 'brunet': 3095, 'shortest': 22129, 'nokia': 16692, 'nipped': 16648, 'cubic': 5687, 'metre': 15474, 'stunning': 23750, 'jago': 12982, 'existance': 8514, 'manipulated': 14946, 'trilogy': 25475, 'auster': 1634, 'meowing': 15400, 'eponymous': 8151, 'haden': 10838, 'weezer': 27052, 'maple': 14987, 'cathy': 3733, 'minesweeper': 15611, 'scuppered': 21614, 'blinking': 2537, 'punctuality': 19443, 'consumses': 5104, 'sustinance': 24107, 'unsatiable': 26138, 'confined': 4954, 'supressed': 24028, 'complicity': 4830, 'unseen': 26143, 'jesting': 13127, 'migration': 15549, 'alibrandi': 644, 'tailored': 24307, 'arnie': 1288, 'mezzogiorno': 15486, 'askjeeves': 1406, 'sicily': 22240, 'calabria': 3410, 'woopee': 27470, 'harken': 11046, 'tram': 25306, 'tute': 25663, 'multimedia': 16121, 'honourable': 11618, 'phua': 18253, 'kang': 13385, 'syntax': 24250, 'celeb': 3805, 'impersonation': 12148, 'osbourne': 17323, 'yayyyyy': 27705, 'charlton': 3980, 'jm': 13177, 'musicianship': 16182, 'guit': 10741, 'interacted': 12672, 'piracy': 18391, 'downloading': 7215, 'artiste': 1354, 'ngim': 16574, 'hernia': 11344, 'photog': 18234, 'issit': 12927, 'yippeee': 27767, 'jamiroquai': 13003, 'boohoooooo': 2754, 'nitey': 16656, 'shaggin': 21932, 'lonley': 14510, 'gustavus': 10777, 'tmrw': 25043, 'workging': 27490, 'dadaadadaa': 5844, 'uumm': 26320, 'uu': 26319, 'bbsitting': 2067, 'claires': 4333, 'thurr': 24906, 'pissy': 18405, 'alrrrizzite': 727, 'gatta': 9988, 'beyatch': 2321, 'biblioteca': 2339, 'aya': 1751, 'mindset': 15609, 'dharma': 6574, 'monastery': 15850, 'eo': 8127, 'gong': 10347, 'dichotic': 6609, 'brutality': 3110, 'cussing': 5785, 'bathhouse': 2033, 'occurrence': 16989, 'jeju': 13091, 'postman': 18804, 'transient': 25342, 'dimension': 6700, 'grandson': 10494, 'kims': 13572, 'aspire': 1418, 'dreamlife': 7290, 'postin': 18801, 'poety': 18589, 'gliding': 10236, 'decadent': 6081, 'quarterly': 19563, 'grumbleconsider': 10679, 'tickled': 24930, 'fluttered': 9379, 'melita': 15349, 'shipment': 22060, 'unwelcome': 26182, 'contrived': 5175, 'marble': 14997, 'floorboard': 9331, 'figment': 9080, 'fig': 9075, 'inconsistancy': 12269, 'cuffed': 5698, 'lacey': 13787, 'bountiful': 2841, 'harvest': 11083, 'salty': 21255, 'abundance': 122, 'vii': 26573, 'porkins': 18732, 'banish': 1905, 'consistancies': 5053, 'resurface': 20608, 'ebbing': 7565, 'talky': 24336, 'verb': 26472, 'wimp': 27294, 'stuffeseses': 23738, 'riverbats': 20850, 'southeast': 22960, 'waitress': 26807, 'interactive': 12675, 'idleman': 11995, 'servanthood': 21864, 'servable': 21862, 'appreciative': 1156, 'unappreciative': 25833, 'ticked': 24923, 'bullcrap': 3203, 'hinder': 11434, 'jeremiah': 13111, 'vine': 26593, 'alba': 597, 'instinctively': 12608, 'stunads': 23747, 'firearm': 9157, 'acquisition': 239, 'suff': 23870, 'unfeeling': 25985, 'swiftly': 24185, 'bliss': 2539, 'folly': 9417, 'mult': 16118, 'div': 7000, 'calculator': 3420, 'sheepish': 22000, 'houseguest': 11730, 'invincible': 12818, 'harmed': 11051, 'angelfire': 911, 'resize': 20533, 'distorts': 6974, 'dismal': 6885, 'abated': 33, 'bracket': 2887, 'carefull': 3598, 'aamco': 19, 'sheridan': 22024, 'descriptive': 6420, 'shiver': 22081, 'dora': 7166, 'resigned': 20525, 'notarized': 16768, 'stiffed': 23510, 'flopp': 9336, 'diskit': 6880, 'mcardean': 15208, 'shizzle': 22087, 'pleaser': 18514, 'blogarithm': 2563, 'silentw': 22304, 'ove': 17424, 'screening': 21571, 'harold': 11060, 'kumar': 13737, 'adrienne': 370, 'ade': 306, 'hatty': 11102, 'wayunless': 26966, 'youd': 27796, 'yosi': 27794, 'apature': 1079, 'kearny': 13441, 'sidetracked': 22258, 'truong': 25557, 'washow': 26906, 'fiteven': 9201, 'deaththey': 6056, 'empathize': 7883, 'theyve': 24781, 'clich': 4424, 'pawned': 17874, 'anymorethats': 1051, 'fanny': 8814, 'sunhee': 23948, 'itd': 12941, 'californian': 3431, 'accentthat': 139, 'surfer': 24042, 'trippin': 25489, 'aboot': 71, 'pronounce': 19251, 'inbetween': 12222, 'spa': 22975, 'residual': 20521, 'fobby': 9392, 'fob': 9391, 'pronunciation': 19256, 'americanize': 810, 'mutilate': 16204, 'yuki': 27830, 'neda': 16438, 'barti': 1987, 'reacquainted': 19858, 'commuter': 4764, 'scategories': 21451, 'edna': 7619, 'swetty': 24179, 'fiend': 9067, 'traci': 25260, 'susquehanna': 24100, 'harrisburg': 11071, 'mlk': 15742, 'fatality': 8863, 'anya': 1046, 'trogdor': 25503, 'burninator': 3271, 'anticlimatic': 1021, 'otherworldly': 17343, 'kudos': 13735, 'cosmic': 5354, 'jacuzzi': 12976, 'washingtonpost': 26905, 'wp': 27546, 'dyn': 7503, 'sep': 21816, 'uninsured': 26029, 'goldstein': 10330, 'faltering': 8787, 'propelled': 19263, 'census': 3833, 'repercussion': 20408, 'foreshadows': 9480, 'straining': 23608, 'intensified': 12659, 'inflation': 12422, 'outpacing': 17391, 'blip': 2538, 'pollack': 18643, 'narrower': 16328, 'prompted': 19245, 'largely': 13867, 'favored': 8888, 'gerald': 10100, 'fronstin': 9710, 'adjusted': 322, 'attributable': 1586, 'employment': 7898, 'attributed': 1588, 'enrolled': 8044, 'medicaid': 15293, 'scarcity': 21436, 'concentrated': 4878, 'acute': 274, 'latino': 13905, 'lacked': 13790, 'dropout': 7343, 'relied': 20278, 'emission': 7871, 'classified': 4372, 'kentucky': 13479, 'grayson': 10546, 'logan': 14460, 'unlocked': 26068, 'acutally': 273, 'ryans': 21143, 'nates': 16353, 'stayin': 23417, 'dearborne': 6046, 'cooperation': 5248, 'xoxoxoxoxxox': 27655, 'starched': 23356, 'waded': 26769, 'demille': 6294, 'nold': 16693, 'arnold': 1289, 'sling': 22562, 'koala': 13679, 'arrhhhh': 1315, 'scrunched': 21600, 'arrrrhhhh': 1331, 'eucalyptus': 8325, 'lahhhh': 13817, 'patronised': 17846, 'realllll': 19898, 'elk': 7786, 'snatch': 22700, 'yip': 27763, 'witholding': 27375, 'dieing': 6633, 'gouged': 10411, 'bequeathed': 2268, 'drip': 7322, 'residue': 20522, 'rusted': 21134, 'wearied': 26993, 'longed': 14498, 'smothered': 22672, 'nurtured': 16867, 'neccesary': 16421, 'tsunami': 25577, 'amok': 829, 'rephrasing': 20415, 'jeeeeezis': 13072, 'awww': 1738, 'krazy': 13712, 'underslept': 25931, 'kevs': 13501, 'offending': 17029, 'machined': 14750, 'dovetail': 7203, 'beavertail': 2119, 'beveled': 2314, 'magwell': 14819, 'checkered': 4021, 'davy': 5993, 'crockett': 5601, 'andand': 883, 'ventless': 26463, 'anguish': 931, 'anway': 1042, 'liam': 14167, 'inlining': 12514, 'tiled': 24959, 'hellloooooo': 11280, 'liking': 14254, 'yeppers': 27745, 'barrymore': 1982, 'elaine': 7716, 'fran': 9587, 'ricwb': 20758, 'seeya': 21719, 'democracts': 6298, 'danish': 5926, 'jing': 13165, 'kir': 13603, 'deary': 6051, 'workout': 27494, 'chipmunk': 4144, 'sdrawkcab': 21620, 'gnihtyreve': 10291, 'etorw': 8319, 'ekil': 7712, 'dluow': 7036, 'tahw': 24299, 'rednow': 20084, 'knitter': 13654, 'knitted': 13653, 'thining': 24797, 'purling': 19473, 'kniting': 13652, 'weddinged': 27022, 'bareable': 1943, 'gotham': 10403, 'pavitr': 17867, 'prabhakar': 18877, 'dhoti': 6577, 'transcreation': 25328, 'contender': 5125, 'pathway': 17827, 'seashell': 21647, 'lazily': 13965, 'shhhhshing': 22031, 'insider': 12559, 'anyones': 1053, 'artifcats': 1347, 'rouse': 21029, 'micraculously': 15514, 'perk': 18068, 'vertically': 26501, 'snoring': 22737, 'nemisis': 16478, 'everynight': 8384, 'acurately': 271, 'owl': 17523, 'elmentary': 7795, 'carson': 3642, 'weemee': 27043, 'arranges': 1306, 'accommodation': 160, 'trusting': 25560, 'directory': 6751, 'misdialed': 15667, 'nirvana': 16650, 'deviously': 6550, 'kimberly': 13569, 'convert': 5206, 'uberman': 25742, 'eyah': 8670, 'cruton': 5660, 'netherwood': 16510, 'joriel': 13248, 'shivites': 22083, 'comcast': 4691, 'culminating': 5707, 'dupe': 7447, 'engineered': 8000, 'sideous': 22257, 'tyrannus': 25733, 'constituent': 5079, 'seperatist': 21826, 'separatist': 21822, 'boogey': 2751, 'soulless': 22940, 'cloned': 4468, 'plumb': 18551, 'megalomaniac': 15329, 'sponsorship': 23168, 'toomey': 25142, 'placement': 18445, 'clancy': 4341, 'embarrass': 7829, 'posturing': 18815, 'plo': 18532, 'routing': 21036, 'opressive': 17223, 'turbulent': 25632, 'smush': 22684, 'saintliness': 21218, 'drape': 7263, 'servitude': 21873, 'sainthood': 21217, 'revel': 20669, 'loreal': 14547, 'laurent': 13934, 'specialize': 23039, 'gotier': 10406, 'gautier': 9994, 'fragrance': 9576, 'lumped': 14671, 'klein': 13631, 'cologne': 4650, 'obese': 16913, 'siesta': 22266, 'lowered': 14619, 'preservative': 19014, 'gullet': 10748, 'metabolize': 15445, 'protestant': 19309, 'capitalist': 3549, 'reo': 20379, 'ppa': 18871, 'seagull': 21626, 'eyesight': 8681, 'clearer': 4404, 'buffer': 3161, 'launching': 13927, 'seizing': 21731, 'alaska': 596, 'shootin': 22109, 'backup': 1809, 'colonic': 4657, 'eeeeeeeeeeeeeeeeeeeeeeeep': 7638, 'sophmoric': 22912, 'giddiness': 10147, 'unscrupulous': 26142, 'intercepted': 12677, 'webmail': 27014, 'indisposed': 12341, 'shitter': 22076, 'undeliverable': 25903, 'trainride': 25300, 'pidwidgen': 18303, 'errol': 8208, 'quiddich': 19604, 'patronus': 17850, 'malfoy': 14880, 'presants': 18999, 'weasley': 27000, 'preasents': 18919, 'helpfull': 11292, 'totaled': 25200, 'cedar': 3798, 'immediatelybecause': 12096, 'pregnancy': 18965, 'hallmark': 10913, 'pamphlet': 17636, 'instal': 12591, 'bizgillion': 2441, 'saaame': 21147, 'defnintly': 6218, 'anticipating': 1019, 'disconnect': 6812, 'wreak': 27559, 'disenchanted': 6852, 'runaround': 21110, 'vaseline': 26402, 'afterbirth': 463, 'neon': 16483, 'runarounds': 21111, 'anvil': 1040, 'coil': 4595, 'bumblebee': 3218, 'anodetonoone': 979, 'pumpkin': 19437, 'gossip': 10396, 'slander': 22498, 'fla': 9219, 'getty': 10125, 'stonewall': 23567, 'billowing': 2374, 'clarita': 4357, 'passerby': 17800, 'catalina': 3700, 'poking': 18612, 'lax': 13950, 'gallimaufry': 9905, 'cracker': 5459, 'wafer': 26772, 'mediterranean': 15311, 'minimalist': 15620, 'stucco': 23722, 'landscaping': 13848, 'railing': 19715, 'squint': 23257, 'arid': 1256, 'overweight': 17509, 'yada': 27674, 'expletive': 8583, 'rda': 19853, 'sodium': 22798, 'gram': 10467, 'scarfing': 21442, 'trans': 25321, 'mcdonalds': 15227, 'expend': 8549, 'devour': 6563, 'flop': 9335, 'haagen': 10817, 'daaz': 5837, 'caffe': 3390, 'frappe': 9611, 'sander': 21288, 'superfreaky': 23975, 'yow': 27817, 'fremont': 9648, 'chappelle': 3950, 'tinolang': 24992, 'manok': 14962, 'chayote': 4006, 'naaap': 16256, 'canceled': 3495, 'rfried': 20713, 'apetizing': 1082, 'refill': 20122, 'obtains': 16961, 'token': 25082, 'ski': 22445, 'muhaha': 16105, 'exercised': 8494, 'balling': 1869, 'testifies': 24673, 'humvee': 11834, 'wimpy': 27295, 'manual': 14976, 'maneuver': 14924, 'boochoos': 2746, 'plotted': 18534, 'shrank': 22175, 'median': 15290, 'bonita': 2732, 'feh': 8954, 'joeys': 13197, 'makin': 14867, 'joey': 13196, 'dreadin': 7281, 'verrrry': 26493, 'newa': 16539, 'loadsa': 14425, 'pressies': 19025, 'satrday': 21358, 'braintree': 2905, 'takeaway': 24316, 'fruitful': 9728, 'leslie': 14115, 'mooching': 15908, 'laugher': 13919, 'advocating': 405, 'romatic': 20954, 'statutory': 23411, 'mob': 15769, 'toasting': 25052, 'praising': 18898, 'bellow': 2219, 'gasoline': 9968, 'negro': 16463, 'segregationist': 21722, 'dixiecrat': 7028, 'embodied': 7845, 'uproar': 26226, 'misspoke': 15704, 'marking': 15040, 'mississippian': 15698, 'praised': 18897, 'censure': 3832, 'outed': 17372, 'stinging': 23530, 'trouncing': 25529, 'facilitated': 8713, 'egged': 7681, 'decidedly': 6103, 'leftward': 14037, 'cowardice': 5441, 'locking': 14452, 'patio': 17833, 'hypocrite': 11915, 'loveable': 14599, 'specially': 23040, 'convertable': 5207, 'boyz': 2878, 'wesslemans': 27101, 'tote': 25207, 'positioned': 18779, 'peddling': 17939, 'swerve': 24177, 'riiiiiiiiiiiip': 20800, 'supposidly': 24016, 'anther': 1009, 'loooong': 14524, 'liscensed': 14332, 'throne': 24872, 'absoulutely': 112, 'ludicrous': 14652, 'blogosphere': 2578, 'spokesmodel': 23158, 'toofises': 25137, 'fatty': 8876, 'volunteer': 26697, 'trample': 25308, 'throned': 24873, 'akbar': 579, 'pps': 18875, 'fuckfaces': 9754, 'anty': 1039, 'scoring': 21530, 'twas': 25674, 'yossi': 27795, 'convos': 5223, 'frozzen': 9724, 'rasberry': 19804, 'butcher': 3311, 'plasic': 18469, 'spoon': 23175, 'mraz': 16059, 'soggy': 22813, 'rasberries': 19803, 'icecube': 11943, 'clarsky': 4362, 'dub': 7387, 'partayed': 17754, 'calander': 3413, 'flappin': 9240, 'moonin': 15917, 'farwell': 8839, 'tmwr': 25044, 'cl': 4325, 'fiance': 9040, 'hellish': 11278, 'feigning': 8957, 'recriuted': 20042, 'questionable': 19585, 'laterz': 13899, 'npc': 16812, 'internalized': 12708, 'piety': 18314, 'deceit': 6089, 'flatterer': 9261, 'charissa': 3971, 'ning': 16639, 'geylang': 10129, 'beancurd': 2090, 'yucks': 27823, 'practicals': 18885, 'troublesome': 25526, 'theodore': 24755, 'dao': 5932, 'jarren': 13033, 'logon': 14473, 'wahahaha': 26788, 'cr': 5453, 'shred': 22179, 'forsaken': 9522, 'mirrored': 15656, 'goldberg': 10322, 'dissection': 6946, 'berkley': 2278, 'surefire': 24034, 'yesteday': 27749, 'joanna': 13185, 'putson': 19504, 'anotehr': 987, 'sexi': 21902, 'scarbrough': 21434, 'ajax': 576, 'andhe': 886, 'tellme': 24561, 'awwwwwwww': 1741, 'thanx': 24727, 'yearold': 27720, 'purdy': 19461, 'startin': 23376, 'highschool': 11405, 'wishin': 27358, 'speakin': 23029, 'tru': 25536, 'hosue': 11705, 'teven': 24689, 'grrrrrrrrrrrrrr': 10671, 'iono': 12843, 'aboutyou': 79, 'hahahahha': 10863, 'buddie': 3149, 'lll': 14411, 'funniee': 9810, 'druggies': 7359, 'avy': 1701, 'hahahahhaha': 10864, 'phirst': 18215, 'jokezzz': 13226, 'crusing': 5655, 'aite': 571, 'arrow': 1327, 'capricorn': 3562, 'leo': 14103, 'saturnalia': 21366, 'debauch': 6064, 'lowdown': 14617, 'historian': 11464, 'postulating': 18813, 'zachary': 27855, 'atonement': 1540, 'fractional': 9570, 'tenable': 24586, 'solstice': 22846, 'julian': 13305, 'characterization': 3955, 'spiritualism': 23122, 'kosher': 13701, 'formula': 9516, 'pivx': 18429, 'absolutley': 102, 'immideatly': 12102, 'kaffe': 13362, 'bona': 2718, 'poker': 18610, 'superglue': 23977, 'civilized': 4317, 'woud': 27529, 'maneuvre': 14925, 'raked': 19738, 'stuffy': 23740, 'deranged': 6396, 'guitarist': 10743, 'repetitive': 20412, 'kernel': 13484, 'acoustic': 232, 'cappuchino': 3559, 'surfed': 24041, 'volunteering': 26699, 'refreshment': 20147, 'expo': 8605, 'mullet': 16116, 'ruffled': 21081, 'fishnet': 9191, 'hatchback': 11094, 'belvedere': 2232, 'muthafuckin': 16202, 'shiznit': 22086, 'pilgrimage': 18336, 'memphis': 15379, 'graceland': 10442, 'beastie': 2101, 'shreads': 22176, 'slash': 22509, 'stereotypical': 23477, 'pasty': 17818, 'khaki': 13518, 'fitch': 9200, 'spiky': 23106, 'satanical': 21340, 'obession': 16915, 'visigoth': 26635, 'pertains': 18129, 'poser': 18773, 'muderous': 16092, 'mutilator': 16207, 'inflicted': 12426, 'bashed': 1998, 'purposely': 19480, 'bitchy': 2426, 'worshipper': 27516, 'discriminate': 6837, 'stemmed': 23458, 'grande': 10481, 'imho': 12080, 'oxymoron': 17539, 'overpromising': 17475, 'permenantly': 18078, 'restrict': 20594, 'depleted': 6368, 'uranium': 26249, 'hardened': 11035, 'kimchee': 13571, 'ceramic': 3854, 'retrieve': 20643, 'sole': 22826, 'regulary': 20197, 'jasmine': 13036, 'ambiguously': 786, 'cartoonist': 3651, 'awarded': 1711, 'participatory': 17765, 'flashmob': 9251, 'congregated': 4988, 'mollyivins': 15833, 'showarticle': 22158, 'asp': 1411, 'articleid': 1343, 'nisargadatta': 16651, 'maharaj': 14822, 'fatherland': 8868, 'pagewanted': 17582, 'saffer': 21199, 'boyd': 2870, 'affirmend': 434, 'soild': 22817, 'havingto': 11117, 'thir': 24807, 'halla': 10908, 'viking': 26575, 'gypsy': 10808, 'roam': 20870, 'pomegranate': 18665, 'unconventional': 25889, 'zest': 27888, 'ounce': 17358, 'dmv': 7040, 'af': 415, 'iness': 12378, 'indubitable': 12352, 'unalive': 25825, 'thinggs': 24794, 'clumsiest': 4505, 'fragility': 9573, 'wanders': 26844, 'imminently': 12109, 'odor': 17016, 'permeated': 18076, 'hormonal': 11668, 'exposure': 8611, 'aquabats': 1191, 'smasher': 22630, 'agora': 504, 'startng': 23381, 'aggrivated': 492, 'outz': 17420, 'waxing': 26960, 'neverending': 16533, 'climatic': 4438, 'forge': 9486, 'snowstorm': 22750, 'depiction': 6366, 'purport': 19475, 'anachronism': 852, 'allegory': 672, 'insisting': 12571, 'odysseus': 17017, 'messenger': 15438, 'tenfold': 24603, 'persist': 18108, 'prevail': 19048, 'avoidance': 1695, 'militarily': 15572, 'domestically': 7104, 'logistics': 14471, 'fileds': 9092, 'drilling': 7316, 'anwar': 1041, 'sooooooooooooooooooo': 22901, 'automate': 1659, 'buttplug': 3326, 'pleasuring': 18519, 'avalible': 1675, 'discovers': 6826, 'awareness': 1714, 'pursue': 19484, 'boundary': 2840, 'yokel': 27782, 'strain': 23606, 'codex': 4565, 'geographically': 10090, 'candlekeep': 3508, 'citadel': 4300, 'dalelands': 5874, 'zhentil': 27898, 'thay': 24732, 'likewise': 14252, 'continent': 5136, 'veer': 26424, 'philimination': 18201, 'heartedness': 11195, 'widowed': 27238, 'caviar': 3768, 'encourage': 7943, 'triple': 25486, 'moxie': 16050, 'luggage': 14659, 'fleeting': 9282, 'jazzed': 13054, 'crate': 5499, 'accessory': 150, 'redundancy': 20095, 'stave': 23413, 'gratification': 10526, 'contributor': 5174, 'saz': 21404, 'countdown': 5386, 'celebratory': 3812, 'traviata': 25396, 'clinique': 4450, 'hardwood': 11042, 'pix': 18430, 'supa': 23966, 'coooool': 5244, 'wayz': 26972, 'stagnet': 23306, 'psyched': 19362, 'sprinkers': 23209, 'modify': 15799, 'painfully': 17591, 'exhausting': 8502, 'ephemeral': 8135, 'sexiest': 21903, 'itaewon': 12932, 'unga': 26004, 'bunga': 3234, 'coupling': 5406, 'roped': 20983, 'retaliation': 20620, 'kleptomania': 13632, 'hijacker': 11412, 'dimwit': 6709, 'zap': 27865, 'afield': 449, 'worksheet': 27496, 'esspecially': 8271, 'dawg': 5996, 'ching': 4139, 'chong': 4182, 'yanni': 27688, 'janitor': 13021, 'dinosaur': 6724, 'geyers': 10128, 'sanfred': 21299, 'killa': 13554, 'grumpy': 10682, 'weeken': 27038, 'antagonized': 999, 'wifey': 27247, 'swelled': 24173, 'triumphant': 25496, 'torrent': 25183, 'devouring': 6565, 'lush': 14697, 'seventeen': 21889, 'artaxias': 1336, 'atreyu': 1542, 'wahaahaahahaha': 26784, 'lacuna': 13795, 'polka': 18640, 'appologies': 1149, 'boonies': 2765, 'southwestern': 22963, 'stataions': 23393, 'lacunacoil': 13796, 'eng': 7991, 'anchored': 878, 'hull': 11800, 'foretold': 9483, 'stale': 23315, 'tambourine': 24349, 'jive': 13172, 'teaser': 24487, 'caufield': 3745, 'captivity': 3569, 'unconstitutional': 25885, 'centering': 3838, 'detaining': 6494, 'interrogating': 12722, 'detainee': 6493, 'assessing': 1439, 'governing': 10421, 'guantanamo': 10693, 'examine': 8435, 'logistical': 14470, 'abided': 56, 'humanely': 11804, 'aggressively': 489, 'thwart': 24910, 'alberto': 602, 'gonzales': 10349, 'wartime': 26897, 'bybee': 3340, 'inflicting': 12427, 'impairment': 12124, 'prohibits': 19215, 'kneel': 13644, 'prolonged': 19228, 'chemically': 4052, 'malinowski': 14887, 'slapper': 22506, 'oj': 17074, 'inward': 12839, 'merrily': 15422, 'fiddly': 9063, 'elightenment': 7768, 'hygene': 11898, 'consumerism': 5099, 'springer': 23204, 'withdrew': 27371, 'punching': 19441, 'metaphor': 15455, 'ayeeee': 1754, 'undescribable': 25947, 'wisp': 27361, 'cuddly': 5693, 'playful': 18491, 'tumor': 25618, 'darrnit': 5961, 'arghf': 1241, 'sonic': 22884, 'gooooooo': 10380, 'ruck': 21072, 'lj': 14394, 'lortab': 14552, 'phantasmagoria': 18179, 'spectre': 23056, 'darkens': 5945, 'bewitched': 2320, 'mansize': 14968, 'mm': 15743, 'walkman': 26823, 'inanimate': 12215, 'moderately': 15790, 'demonstrably': 6308, 'kingsmill': 13595, 'cheyenne': 4091, 'turbo': 25630, 'darpa': 5960, 'manned': 14954, 'barstow': 1984, 'seeded': 21704, 'ooof': 17163, 'nav': 16373, 'hummer': 11820, 'plowed': 18538, 'pent': 18009, 'axle': 1749, 'gravel': 10534, 'terrain': 24643, 'entrant': 8098, 'paddock': 17569, 'autonamous': 1665, 'cajun': 3406, 'cyber': 5810, 'htf': 11761, 'vroom': 26731, 'shimmer': 22045, 'sunless': 23951, 'charcoal': 3961, 'carrot': 3638, 'homie': 11589, 'immie': 12103, 'meister': 15339, 'traveller': 25391, 'whispa': 27177, 'walka': 26817, 'kor': 13694, 'weighing': 27056, 'triebley': 25461, 'pippa': 18388, 'acocdrnig': 229, 'elgnsih': 7763, 'unviesitry': 26180, 'sutdy': 24108, 'oredr': 17265, 'letetrs': 14126, 'wrod': 27586, 'mttaer': 16074, 'olny': 17106, 'thnig': 24815, 'thtas': 24889, 'iopmrantt': 12844, 'frsit': 9725, 'ltteer': 14634, 'eevry': 7657, 'corerct': 5293, 'ptoision': 19385, 'rset': 21057, 'jmbueld': 13178, 'stlil': 23547, 'raed': 19700, 'txet': 25710, 'wiohtut': 27334, 'dclftfuiiy': 6023, 'ferkay': 8992, 'ze': 27871, 'renee': 20362, 'zellwegger': 27882, 'shaved': 21985, 'superty': 23992, 'homo': 11591, 'wilfred': 27271, 'brimley': 3016, 'judi': 13291, 'dench': 6321, 'marky': 15042, 'relationshippy': 20250, 'interfere': 12694, 'thedenverchannel': 24740, 'leftie': 14033, 'onlslaught': 17142, 'renewal': 20365, 'birdie': 2397, 'egene': 7679, 'thomsas': 24821, 'chingay': 4140, 'procession': 19151, 'oi': 17068, 'hokkien': 11530, 'overtone': 17504, 'federation': 8936, 'inky': 12509, 'assembly': 1431, 'customizing': 5791, 'definitive': 6213, 'undersecretary': 25928, 'grossman': 10640, 'regained': 20160, 'mccaffrey': 15211, 'briefed': 2994, 'gasped': 9971, 'iae': 11928, 'wahabbism': 26785, 'centric': 3847, 'lightweight': 14244, 'dried': 7308, 'goguma': 10316, 'yam': 27683, 'disposible': 6919, 'walt': 26834, 'husky': 11869, 'smattering': 22632, 'hola': 11531, 'proficiency': 19186, 'bridging': 2992, 'hotspot': 11718, 'unloads': 26066, 'silk': 22308, 'polyester': 18654, 'neckwear': 16435, 'salarymen': 21228, 'shannon': 21959, 'episodeii': 8144, 'ooooohhhhhhh': 17170, 'lagmonk': 13810, 'situated': 22416, 'bethesda': 2299, 'compile': 4805, 'stfu': 23499, 'wart': 26895, 'godzilla': 10313, 'crosby': 5610, 'byrd': 3348, 'nash': 16338, 'fined': 9135, 'discharge': 6800, 'doubletree': 7191, 'midtown': 15541, 'caliber': 3428, 'handgun': 10958, 'ammunition': 825, 'overshadowed': 17484, 'addict': 292, 'chronically': 4226, 'sooooooooo': 22900, 'lori': 14549, 'gibbins': 10144, 'sulphur': 23909, 'wes': 27099, 'battlestar': 2049, 'galactica': 9893, 'trufresh': 25547, 'ld': 13975, 'inclusion': 12254, 'darted': 5963, 'verbatim': 26475, 'surpassed': 24053, 'expand': 8531, 'quench': 19578, 'inquisition': 12542, 'uninformed': 26027, 'angelic': 912, 'ringlet': 20811, 'flooded': 9328, 'grasped': 10518, 'feigned': 8956, 'enthusiasm': 8081, 'generalized': 10045, 'reprieve': 20454, 'teacch': 24468, 'bookshelf': 2760, 'birkenstocks': 2402, 'lethargic': 14128, 'sadie': 21183, 'methodology': 15470, 'amend': 801, 'iep': 11999, 'academic': 133, 'adaptive': 286, 'rewarded': 20706, 'playtime': 18502, 'adamant': 278, 'cupped': 5737, 'enthusiastically': 8084, 'congratulate': 4984, 'pathologist': 17826, 'neurological': 16523, 'coincides': 4601, 'rainman': 19724, 'visual': 26650, 'frustrates': 9736, 'occupational': 16978, 'floortime': 9334, 'generalization': 10043, 'structured': 23704, 'spontaneity': 23169, 'gratefully': 10525, 'basked': 2007, 'wheeeeeee': 27140, 'meghan': 15334, 'clothed': 4483, 'pictured': 18296, 'fanclub': 8806, 'masturbate': 15125, 'latex': 13901, 'beared': 2097, 'theresa': 24767, 'perv': 18137, 'beauitful': 2112, 'johhny': 13204, 'ritter': 20842, 'biggie': 2353, 'hotcocoa': 11708, 'npta': 16816, 'guild': 10731, 'unfinishedbasement': 25988, 'rediscovered': 20080, 'melodiously': 15356, 'harmonic': 11056, 'recreating': 20041, 'blooble': 2590, 'interactivity': 12676, 'dolled': 7096, 'ladt': 13803, 'sidden': 22250, 'majoiry': 14855, 'reailze': 19879, 'immedatly': 12093, 'apperent': 1129, 'subtracting': 23828, 'conserve': 5040, 'wooping': 27472, 'modesty': 15797, 'fakest': 8768, 'materialgirl': 15142, 'bondsman': 2726, 'kerryedwards': 13491, 'cybersquatters': 5811, 'opportunist': 17210, 'draftz': 7246, 'buyer': 3329, 'morale': 15940, 'eventhough': 8369, 'yucky': 27824, 'hairspray': 10886, 'boutineer': 2849, 'watashi': 26917, 'wa': 26743, 'rachmanioff': 19673, 'paganini': 17576, 'sustances': 24105, 'ponytail': 18681, 'polo': 18651, 'babysit': 1781, 'indigo': 12335, 'wha': 27116, 'crooked': 5606, 'blueish': 2622, 'greenish': 10563, 'grayish': 10545, 'abnormally': 67, 'breyers': 2980, 'docile': 7049, 'fishtank': 9192, 'ditto': 6996, 'cheerleading': 4037, 'peppy': 18024, 'beige': 2194, 'clipping': 4453, 'porcelain': 18727, 'canopy': 3526, 'bedspread': 2149, 'flex': 9291, 'shpecshial': 22172, 'riddlin': 20765, 'screechy': 21566, 'greezie': 10572, 'tirimisu': 25015, 'teleports': 24551, 'begs': 2176, 'dumping': 7429, 'snowy': 22751, 'moose': 15928, 'cc': 3781, 'teed': 24515, 'rookery': 20969, 'gust': 10775, 'transgenderedness': 25341, 'sunbury': 23936, 'squishing': 23268, 'inspiron': 12589, 'intel': 12643, 'ddr': 6029, 'ati': 1527, 'readon': 19876, 'hd': 11147, 'cdrw': 3787, 'lcd': 13973, 'vist': 26645, 'lappy': 13862, 'beable': 2074, 'fav': 8883, 'mader': 14776, 'flak': 9227, 'squealed': 23248, 'appliqu': 1142, 'concocting': 4903, 'clot': 4481, 'dreamed': 7285, 'certainty': 3864, 'assessment': 1440, 'charismatic': 3970, 'latent': 13896, 'alabama': 586, 'mason': 15101, 'dixon': 7029, 'baaaaahaaaaa': 1764, 'shive': 22080, 'representation': 20446, 'receives': 19959, 'touted': 25231, 'lust': 14698, 'merge': 15413, 'hernandez': 11343, 'optimus': 17233, 'pharmacy': 18184, 'autobots': 1656, 'cranky': 5485, 'schedual': 21464, 'decreased': 6141, 'blindsided': 2533, 'limerick': 14271, 'doncaster': 7128, 'plaster': 18472, 'lacklustre': 13794, 'brinjal': 3023, 'adobe': 349, 'requiring': 20480, 'fingerprinted': 9143, 'photographed': 18237, 'nineteen': 16637, 'nandotimes': 16304, 'cocaine': 4543, 'riddellin': 20760, 'transplant': 25359, 'muggy': 16104, 'waaaaa': 26744, 'twain': 25673, 'idealistic': 11970, 'yogi': 27778, 'elliott': 7792, 'medicated': 15296, 'beneficence': 2244, 'boycotted': 2869, 'awry': 1735, 'restroom': 20599, 'lotte': 14574, 'responsibile': 20567, 'pummel': 19431, 'atari': 1509, 'suckiness': 23861, 'invader': 12793, 'galaxian': 9896, 'galaga': 9895, 'elder': 7723, 'interestin': 12689, 'laf': 13806, 'rousing': 21031, 'suspision': 24099, 'disproves': 6923, 'campin': 3482, 'worryin': 27507, 'cld': 4389, 'cnt': 4520, 'woteva': 27527, 'bleurgh': 2524, 'nuthin': 16871, 'katherine': 13416, 'orgasmatron': 17284, 'superhuman': 23980, 'daringly': 5942, 'mayhew': 15191, 'orlando': 17301, 'delivers': 6272, 'kenobi': 13475, 'cumbling': 5724, 'fiendish': 9068, 'humpin': 11832, 'dosnt': 7180, 'renewable': 20364, 'timberland': 24970, 'suburbia': 23832, 'rapper': 19792, 'cringely': 5574, 'remarkably': 20311, 'perceptive': 18037, 'pb': 17892, 'approximate': 1175, 'discreet': 6830, 'tabu': 24269, 'wtih': 27601, 'dak': 5866, 'stoopid': 23572, 'boagle': 2651, 'horty': 11690, 'torty': 25192, 'downball': 7205, 'doorway': 7163, 'babau': 1770, 'akira': 583, 'mink': 15630, 'wooly': 27456, 'illegally': 12036, 'teapot': 24479, 'sawed': 21395, 'extracted': 8645, 'mystified': 16248, 'thinly': 24803, 'sitcom': 22406, 'promos': 19237, 'vardalos': 26387, 'parakalos': 17692, 'feta': 9018, 'woopeedoo': 27471, 'tweak': 25676, 'absorbing': 109, 'populated': 18719, 'subwoofer': 23838, 'cranked': 5482, 'succession': 23848, 'untitled': 26168, 'clouding': 4488, 'treasured': 25410, 'rehearsed': 20209, 'libra': 14186, 'consolation': 5062, 'guidence': 10726, 'misconcepted': 15664, 'thefted': 24746, 'abcfamily': 40, 'awefully': 1721, 'anyplace': 1054, 'approch': 1164, 'waaah': 26752, 'outstripped': 17411, 'avian': 1689, 'baek': 1821, 'intersting': 12733, 'radiance': 19686, 'redemption': 20072, 'avalon': 1676, 'radiou': 19697, 'electrik': 7740, 'cirkus': 4297, 'playlist': 18496, 'brainstorm': 2904, 'rogerclam': 20925, 'headoflettuce': 11157, 'yeha': 27727, 'oomph': 17159, 'stripper': 23681, 'vegitable': 26432, 'seng': 21781, 'chime': 4130, 'donna': 7134, 'assign': 1444, 'pacifica': 17552, 'zzzzzzz': 27949, 'kmg': 13638, 'clearance': 4402, 'variegated': 26391, 'dishcloth': 6867, 'quickie': 19599, 'halter': 10928, 'afghan': 446, 'holey': 11538, 'vomit': 26707, 'foul': 9547, 'testy': 24682, 'disgruntle': 6858, 'gainful': 9884, 'clout': 4490, 'lowly': 14622, 'diddy': 6624, 'compromised': 4852, 'toqueville': 25165, 'portable': 18747, 'poli': 18617, 'undergraduate': 25917, 'cinerum': 4279, 'gospel': 10395, 'lizbeth': 14391, 'splitting': 23145, 'toris': 25171, 'boxer': 2864, 'moustache': 16034, 'twinkle': 25692, 'humoured': 11829, 'brandished': 2913, 'dreaded': 7279, 'lashing': 13885, 'tolerated': 25093, 'inspiring': 12588, 'earthly': 7536, 'galadriel': 9894, 'mirrorball': 15655, 'sauron': 21372, 'glade': 10204, 'existant': 8515, 'leveled': 14140, 'fazing': 8902, 'workweek': 27498, 'penchant': 17985, 'gye': 10799, 'tang': 24362, 'ginseng': 10183, 'cho': 4164, 'bok': 2698, 'samgyetang': 21268, 'boiling': 2694, 'bowlfull': 2859, 'boshintang': 2811, 'dine': 6712, 'originate': 17297, 'preliminary': 18970, 'kindest': 13582, 'morgan': 15952, 'weinrich': 27064, 'pinecone': 18362, 'leitner': 14078, 'prescribed': 19003, 'distinct': 6964, 'clarity': 4358, 'identical': 11972, 'tavern': 24441, 'overlook': 17465, 'munchies': 16140, 'notwithstanding': 16797, 'suburbanite': 23831, 'clearest': 4405, 'levinson': 14147, 'titillating': 25026, 'emailed': 7817, 'gab': 9860, 'artery': 1337, 'hardening': 11036, 'blamed': 2479, 'parlor': 17742, 'brunswick': 3097, 'geographical': 10089, 'digression': 6682, 'refrigerate': 20148, 'toasted': 25050, 'indigestion': 12332, 'mizzle': 15738, 'otter': 17352, 'soothes': 22907, 'tempest': 24574, 'therapist': 24763, 'deviousness': 6551, 'leaflet': 13987, 'echoed': 7575, 'seventy': 21891, 'newsround': 16565, 'delectable': 6243, 'muesli': 16095, 'currant': 5757, 'satsuma': 21360, 'scouser': 21542, 'liverpool': 14381, 'fulfil': 9766, 'duress': 7456, 'patter': 17852, 'daft': 5857, 'indestructible': 12311, 'horrendously': 11677, 'idly': 11996, 'inebriated': 12367, 'kro': 13717, 'chemist': 4053, 'gargantuan': 9950, 'sauntered': 21371, 'inestimably': 12379, 'groovy': 10636, 'admirable': 335, 'lewd': 14150, 'materialise': 15143, 'elastic': 7719, 'repating': 20393, 'swaying': 24142, 'manu': 14975, 'chao': 3941, 'stella': 23453, 'nicked': 16592, 'ssssh': 23281, 'studenthood': 23728, 'rota': 21000, 'mooted': 15932, 'compulsion': 4855, 'showbiz': 22159, 'nbc': 16389, 'unpopularity': 26107, 'fainted': 8747, 'complimentary': 4832, 'baaa': 1762, 'rotk': 21008, 'responding': 20563, 'loke': 14480, 'arisen': 1262, 'carbohydrate': 3582, 'undeniable': 25904, 'surfacing': 24040, 'dwontime': 7493, 'chewie': 4088, 'resorted': 20546, 'cavalier': 3763, 'aaaaaah': 5, 'blundered': 2632, 'tolerant': 25091, 'ccc': 3782, 'seriouly': 21855, 'thom': 24818, 'erik': 8192, 'bastrop': 2023, 'ihop': 12019, 'yupe': 27845, 'cous': 5426, 'weerk': 27049, 'journalling': 13262, 'glib': 10234, 'wanker': 26848, 'euthanizing': 8346, 'staging': 23304, 'remarry': 20314, 'ultimatum': 25788, 'endures': 7974, 'pry': 19349, 'emptive': 7904, 'lifeson': 14217, 'painkiller': 17593, 'restauranteurs': 20577, 'briquette': 3025, 'pickin': 18284, 'googled': 10370, 'satisfies': 21354, 'unconcerned': 25878, 'thoughtfully': 24837, 'vagabond': 26336, 'shoooooes': 22106, 'bluuuuuee': 2642, 'puuuukke': 19512, 'plummet': 18555, 'plummeting': 18556, 'grasshopper': 10521, 'crunching': 5648, 'wisens': 27351, 'patronising': 17847, 'immunized': 12118, 'hepatitis': 11321, 'diptheria': 6740, 'saturaday': 21362, 'kp': 13707, 'mui': 16110, 'corrective': 5318, 'owning': 17528, 'hse': 11758, 'envious': 8117, 'radiofreerichmond': 19693, 'cutest': 5797, 'kwan': 13760, 'sidekick': 22254, 'clipto': 4455, 'pontao': 18676, 'touristy': 25228, 'currency': 5758, 'favourable': 8894, 'earpiece': 7532, 'floored': 9332, 'bullied': 3209, 'amicus': 815, 'unsettling': 26144, 'don': 7121, 'dishonored': 6873, 'endorsement': 7970, 'pathetically': 17825, 'backbone': 1788, 'ballot': 1873, 'deserter': 6429, 'maher': 14823, 'hatchet': 11096, 'midwest': 15543, 'leadershipforamerica': 13984, 'jolt': 13231, 'dukakisize': 7411, 'conscientious': 5027, 'objector': 16927, 'mmflint': 15746, 'dreadful': 7280, 'beastmaster': 2102, 'charmed': 3983, 'columbo': 4674, 'magnum': 14817, 'nypd': 16895, 'witchblade': 27366, 'wolfe': 27412, 'incessantly': 12239, 'liberaloasis': 14177, 'bushin': 3291, 'hyatt': 11886, 'mahoney': 14825, 'prowl': 19340, 'reportedly': 20439, 'polygraph': 18655, 'dispite': 6909, 'astros': 1496, 'starvig': 23386, 'hungrier': 11844, 'silverwear': 22319, 'yeeee': 27722, 'augsburg': 1615, 'quaile': 19542, 'buyas': 3328, 'grood': 10631, 'overflow': 17449, 'waggy': 26779, 'emaculate': 7815, 'lovingly': 14614, 'devistated': 6554, 'arnt': 1291, 'nething': 16513, 'hittin': 11480, 'sack': 21156, 'bethel': 2298, 'involuntary': 12833, 'benefitted': 2249, 'oxfam': 17532, 'feynman': 9032, 'mmmmmmmm': 15755, 'vertigo': 26502, 'alfred': 630, 'hitchcock': 11474, 'twisting': 25698, 'ftaa': 9746, 'gleened': 10230, 'converge': 5197, 'trooper': 25513, 'fisheye': 9189, 'contort': 5149, 'culmanation': 5706, 'blitz': 2545, 'guurrll': 10783, 'yeehee': 27725, 'squished': 23267, 'sekrat': 21734, 'stolededed': 23557, 'oohohoohhoohhoohohohoh': 17157, 'innnninnn': 12526, 'theheheeee': 24747, 'hsaddoowsss': 11757, 'alllllllll': 691, 'ymmmymymmyyy': 27772, 'liffffeeeeeeee': 14221, 'enchanting': 7926, 'gladdens': 10203, 'sweeten': 24162, 'seeped': 21715, 'shinning': 22056, 'everlasting': 8377, 'render': 20357, 'mocked': 15778, 'mun': 16138, 'roseann': 20989, 'barr': 1969, 'folding': 9407, 'physique': 18264, 'gearing': 10018, 'fulfill': 9767, 'salutation': 21257, 'unfamiliar': 25982, 'headstand': 11162, 'bunking': 3242, 'slovenly': 22588, 'constituted': 5081, 'caveat': 3766, 'emptor': 7906, 'slate': 22513, 'jobless': 13188, 'troester': 25502, 'sisu': 22403, 'kottke': 13705, 'samizdata': 21269, 'sully': 23908, 'tedium': 24511, 'catastrophic': 3706, 'database': 5978, 'bernhardt': 2281, 'hallowe': 10915, 'spoooooky': 23178, 'gloat': 10248, 'gallo': 9906, 'duurrrty': 7475, 'louisiana': 14588, 'tiredness': 25011, 'tonsilitus': 25133, 'bronchitus': 3057, 'namonia': 16301, 'needy': 16446, 'njoi': 16661, 'madhouse': 14777, 'hel': 11265, 'smallish': 22616, 'kalifornistan': 13375, 'uled': 25781, 'pch': 17900, 'humanitarian': 11806, 'toothbrush': 25149, 'effortlessly': 7674, 'mound': 16016, 'defeated': 6175, 'vern': 26492, 'foreboding': 9466, 'thoughtless': 24838, 'politic': 18632, 'schizoid': 21475, 'schizotypal': 21478, 'antisocial': 1029, 'histrionic': 11471, 'avoidant': 1696, 'bruce': 3087, 'springsteen': 23206, 'exhilirating': 8509, 'beheaded': 2188, 'transcendentalfloss': 25326, 'contend': 5124, 'gaseous': 9966, 'footprint': 9449, 'spaceship': 22980, 'trekkies': 25427, 'klingon': 13635, 'scholarship': 21486, 'kli': 13633, 'hasil': 11085, 'suara': 23776, 'pemilu': 17978, 'presiden': 19018, 'putaran': 19500, 'nama': 16291, 'persentase': 18100, 'yudhoyono': 27825, 'kalla': 13376, 'megawati': 15333, 'hasyim': 11092, 'wiranto': 27339, 'wahid': 26792, 'amien': 819, 'siswono': 22404, 'hamzah': 10948, 'agum': 514, 'sumber': 23914, 'kpu': 13708, 'wib': 27224, 'triomphe': 25483, 'showroom': 22168, 'brigade': 2998, 'carmaker': 3617, 'orderliness': 17259, 'meticulous': 15472, 'roadway': 20868, 'railway': 19716, 'rers': 20484, 'sncfs': 22701, 'louvre': 14596, 'bonaparte': 2720, 'connects': 5010, 'exquisite': 8619, 'splendour': 23141, 'inhibition': 12485, 'eternality': 8302, 'accepts': 146, 'slays': 22526, 'monalisa': 15848, 'appalling': 1110, 'grossly': 10639, 'prima': 19080, 'facie': 8710, 'rasmus': 19809, 'outkast': 17380, 'igby': 12005, 'jurassic': 13334, 'botanical': 2819, 'beginner': 2171, 'ashtanga': 1390, 'rudimentary': 21077, 'energizing': 7982, 'planting': 18467, 'shrieking': 22184, 'peppermint': 18022, 'fetal': 9019, 'coma': 4679, 'flooring': 9333, 'sweep': 24159, 'swifer': 24181, 'grabits': 10438, 'biterness': 2428, 'copied': 5263, 'swifers': 24183, 'swifering': 24182, 'hahaa': 10854, 'practiacally': 18879, 'seater': 21657, 'hahahhaha': 10869, 'jap': 13023, 'youuzz': 27814, 'wellwellwell': 27088, 'winkz': 27321, 'courtneycourtneycourntey': 5423, 'tsktsktsk': 25576, 'youweren': 27816, 'tellhim': 24558, 'awwwwwwwwwwwwwwwwww': 1745, 'yeahyour': 27714, 'sniffsniff': 22719, 'weekened': 27040, 'lyfe': 14715, 'olay': 17087, 'madam': 14766, 'sag': 21202, 'gy': 10798, 'babysat': 1780, 'lug': 14655, 'astonishment': 1482, 'screener': 21569, 'streisand': 23647, 'separately': 21819, 'soso': 22934, 'tiredddddddddd': 25010, 'thisin': 24814, 'tash': 24417, 'funnn': 9815, 'dustpan': 7467, 'ohand': 17059, 'leila': 14074, 'piggybackrides': 18322, 'downthe': 7226, 'iwent': 12960, 'onteh': 17148, 'vickies': 26535, 'mee': 15314, 'forlike': 9506, 'actuallly': 267, 'ciggarettes': 4262, 'wanan': 26839, 'paintballing': 17599, 'throwup': 24885, 'magick': 14803, 'predominantly': 18951, 'developement': 6536, 'etheric': 8309, 'astral': 1486, 'causal': 3751, 'vitality': 26654, 'oversoul': 17490, 'ledgend': 14023, 'windwaker': 27312, 'reinvent': 20228, 'screenshots': 21575, 'prettty': 19043, 'triforce': 25464, 'scarey': 21440, 'aginst': 497, 'carbonite': 3585, 'slambook': 22495, 'fibro': 9050, 'whiplash': 27168, 'inducing': 12355, 'bloodsucking': 2599, 'navigating': 16379, 'turnnnn': 25647, 'miguel': 15550, 'shoudl': 22142, 'thad': 24711, 'ewl': 8418, 'vitamin': 26655, 'drumline': 7365, 'jarell': 13030, 'grandville': 10496, 'toni': 25127, 'despises': 6465, 'sincr': 22356, 'certificate': 3868, 'esl': 8244, 'sasquatch': 21334, 'uberspooky': 25744, 'locale': 14438, 'tomoz': 25121, 'mouthful': 16037, 'lways': 14713, 'interessting': 12687, 'interessing': 12686, 'donnie': 7137, 'brasco': 2919, 'depp': 6379, 'keahey': 13439, 'choctaw': 4171, 'defendant': 6182, 'indigent': 12331, 'sterilized': 23479, 'indictment': 12327, 'manslaughter': 14969, 'sheriff': 22025, 'pelvic': 17977, 'prosecutorial': 19290, 'overdrive': 17445, 'wachtler': 26759, 'jury': 13336, 'indict': 12326, 'medell': 15288, 'dianne': 6596, 'tucker': 25594, 'murdering': 16157, 'incarcerated': 12229, 'charitable': 3972, 'fertility': 9003, 'steinkampf': 23451, 'bilateral': 2365, 'tubal': 25586, 'ligation': 14227, 'intercultural': 12681, 'murmuring': 16161, 'reeling': 20103, 'frothing': 9718, 'hurrah': 11857, 'supple': 24001, 'fragment': 9574, 'mabbe': 14733, 'carbo': 3581, 'morn': 15959, 'uwos': 26322, 'hao': 11000, 'tahan': 24297, 'reflector': 20133, 'composition': 4839, 'ict': 11960, 'bugis': 3171, 'yf': 27755, 'hai': 10874, 'childporn': 4117, 'dash': 5973, 'longjump': 14507, 'watchman': 26926, 'spandex': 22992, 'clad': 4326, 'freeing': 9637, 'gastronomical': 9977, 'tamara': 24345, 'mcdaniel': 15223, 'dazzle': 6014, 'matchup': 15138, 'jayna': 13049, 'priestess': 19079, 'packing': 17562, 'unpacking': 26094, 'innkeeper': 12525, 'brusque': 3105, 'sampat': 21272, 'risque': 20837, 'patting': 17855, 'heeeheee': 11236, 'abba': 34, 'portrayal': 18761, 'bumbling': 3219, 'jester': 13126, 'gabriel': 9866, 'flapping': 9241, 'substituting': 23822, 'aaaah': 9, 'swishing': 24199, 'curving': 5778, 'ballad': 1866, 'smocked': 22651, 'playmate': 18497, 'clamor': 4336, 'raft': 19702, 'dirtier': 6756, 'grittiness': 10619, 'stickiness': 23506, 'hose': 11692, 'relive': 20292, 'salter': 21252, 'campground': 3481, 'bogue': 2688, 'tirelessly': 25013, 'inlet': 12512, 'surveyed': 24076, 'treasurer': 25411, 'polished': 18625, 'rimmed': 20808, 'crab': 5455, 'bracelet': 2884, 'jar': 13028, 'shelling': 22013, 'symphony': 24236, 'sonata': 22876, 'unpredictability': 26111, 'limber': 14268, 'mmmhhhmmm': 15748, 'feeway': 8952, 'vw': 26741, 'accudent': 191, 'straigt': 23604, 'bonneville': 2737, 'breif': 2966, 'merrit': 15424, 'scholership': 21487, 'anout': 989, 'stuffen': 23737, 'gloating': 10249, 'mercs': 15407, 'dino': 6723, 'yannow': 27689, 'nahhhhhh': 16275, 'muahahahahahaaa': 16083, 'molaaaaay': 15822, 'renaissance': 20353, 'cladaugh': 4327, 'tikis': 24956, 'sipped': 22388, 'satire': 21348, 'wrestling': 27568, 'upheaval': 26203, 'noncommital': 16707, 'sheers': 22002, 'displacement': 6910, 'swears': 24146, 'lavender': 13938, 'penetrating': 17994, 'smash': 22628, 'tdf': 24464, 'ncy': 16394, 'broadway': 3046, 'moma': 15836, 'starry': 23370, 'gauguin': 9992, 'rockefeller': 20904, 'breathtaking': 2960, 'authentic': 1642, 'rican': 20738, 'turndown': 25642, 'relativism': 20253, 'origami': 17292, 'antony': 1037, 'trakas': 25305, 'backstabbing': 1803, 'fending': 8985, 'shirley': 22066, 'gromes': 10630, 'myron': 16236, 'choppin': 4191, 'comeing': 4696, 'shoulda': 22143, 'woulda': 27531, 'nervousness': 16497, 'leathery': 14011, 'visage': 26630, 'vest': 26506, 'peek': 17956, 'averted': 1685, 'bespectacled': 2287, 'cuppa': 5736, 'wallet': 26828, 'wiff': 27248, 'relayed': 20263, 'wowzers': 27545, 'kieran': 13547, 'culkin': 5703, 'mccaulay': 15214, 'culmination': 5708, 'maybies': 15188, 'firday': 9155, 'lago': 13812, 'submitted': 23798, 'jerelynn': 13110, 'halfday': 10902, 'directress': 6752, 'mang': 14926, 'bhay': 2330, 'canteen': 3528, 'bulaga': 3187, 'wothout': 27528, 'jeepney': 13076, 'grrrrrrrrrrrrrrrrrrrrrrrrrr': 10673, 'kat': 13411, 'rachelness': 19669, 'coo': 5224, 'jenna': 13101, 'sparkley': 23005, 'humiliating': 11817, 'thang': 24716, 'rotation': 21006, 'cmt': 4516, 'veredict': 26482, 'uday': 25752, 'qusay': 19649, 'centcom': 3835, 'denounce': 6336, 'riled': 20805, 'adrenaline': 368, 'von': 26710, 'slaughter': 22517, 'kristy': 13716, 'pigheaded': 18323, 'sprinkling': 23211, 'nymph': 16894, 'whaaaaaaaaaaat': 27117, 'thear': 24734, 'beenwith': 2154, 'innie': 12523, 'inbetweenies': 12223, 'tget': 24703, 'dunlay': 7440, 'ehem': 7692, 'swell': 24172, 'wether': 27112, 'muddle': 16090, 'iffy': 12000, 'toughing': 25220, 'hypochondriac': 11912, 'worsening': 27511, 'undressing': 25958, 'winced': 27299, 'moaned': 15766, 'squirmed': 23261, 'crier': 5565, 'abdominal': 45, 'vicodin': 26538, 'tylenol': 25715, 'silouette': 22315, 'outlined': 17386, 'marjorie': 15030, 'cohn': 4592, 'icc': 11939, 'castrate': 3691, 'pissant': 18402, 'commanding': 4723, 'exemption': 8490, 'facto': 8721, 'speeding': 23067, 'humbling': 11811, 'protects': 19306, 'empress': 7902, 'speculate': 23059, 'improperly': 12192, 'politely': 18629, 'rabid': 19658, 'raking': 19739, 'shoulderblade': 22145, 'carelessly': 3601, 'scratcher': 21556, 'prudent': 19346, 'hydrogen': 11893, 'peroxide': 18087, 'decease': 6087, 'daunting': 5985, 'pessimistically': 18149, 'perky': 18070, 'manufacture': 14978, 'arcanum': 1211, 'mothering': 15992, 'sustenance': 24106, 'lavish': 13940, 'cornucopia': 5303, 'learntarot': 14006, 'snitched': 22726, 'asherah': 1385, 'obeythefist': 16919, 'callign': 3438, 'xd': 27628, 'otehr': 17340, 'baaabeeee': 1765, 'tomo': 25118, 'linuxworld': 14314, 'lovelostlibra': 14604, 'blackduck': 2456, 'veritas': 26490, 'politeness': 18630, 'formality': 9509, 'trashcan': 25373, 'hub': 11772, 'swag': 24118, 'ehh': 7693, 'metreon': 15475, 'ideological': 11981, 'phallus': 18178, 'interlocutor': 12702, 'willie': 27284, 'codependents': 4564, 'codependency': 4563, 'remorseful': 20344, 'quintuplet': 19618, 'premiered': 18975, 'alcoholic': 610, 'vom': 26706, 'shat': 21979, 'embarassed': 7823, 'sandy': 21296, 'crapped': 5488, 'linear': 14289, 'rotated': 21003, 'travisty': 25400, 'blackjack': 2462, 'playnig': 18498, 'spooky': 23174, 'consecutively': 5032, 'gainfully': 9885, 'autonomous': 1666, 'telephony': 24549, 'wikipedia': 27258, 'birthrate': 2412, 'unrelenting': 26129, 'inflitrate': 12429, 'idiosyncrasy': 11989, 'poison': 18600, 'decompose': 6129, 'acrid': 242, 'demented': 6292, 'ckin': 4323, 'dfo': 6569, 'footy': 9451, 'collingwood': 4645, 'magpie': 14818, 'wavelength': 26954, 'lors': 14551, 'upwords': 26246, 'quita': 19624, 'quitter': 19631, 'sista': 22399, 'gemz': 10036, 'fie': 9064, 'olde': 17089, 'boardgames': 2655, 'boxing': 2865, 'stumped': 23745, 'sparred': 23010, 'cafeteria': 3389, 'douchebags': 7197, 'fuckwits': 9757, 'threatens': 24852, 'mpg': 16055, 'morally': 15942, 'raging': 19708, 'unintentionally': 26032, 'apologizes': 1102, 'philosiphies': 18207, 'ashcroft': 1384, 'authoritarian': 1646, 'tighter': 24950, 'fcc': 8904, 'regulation': 20198, 'imposing': 12171, 'whe': 27133, 'nibble': 16579, 'fleshed': 9287, 'lexuses': 14158, 'ugg': 25760, 'twit': 25700, 'flinging': 9308, 'toddler': 25065, 'touregs': 25225, 'selfishly': 21746, 'inopportune': 12535, 'stroller': 23691, 'tevas': 24688, 'courntey': 5412, 'werid': 27097, 'silky': 22311, 'intrestin': 12763, 'usal': 26273, 'moive': 15817, 'witt': 27383, 'killin': 13557, 'wheres': 27150, 'laughin': 13920, 'sooooooo': 22898, 'wearin': 26994, 'spinnin': 23117, 'grabed': 10437, 'ppls': 18874, 'remeber': 20316, 'screamin': 21563, 'escaltor': 8222, 'runnin': 21118, 'coverin': 5434, 'embarssed': 7835, 'wth': 27600, 'massenet': 15115, 'adopt': 356, 'cleaniness': 4395, 'llah': 14397, 'holland': 11549, 'jade': 12977, 'slurpee': 22602, 'pei': 17969, 'whatu': 27132, 'hor': 11662, 'izzit': 12962, 'myhouse': 16231, 'tomolo': 25119, 'wnna': 27400, 'holi': 11540, 'tada': 24283, 'glen': 10231, 'iways': 12959, 'chun': 4241, 'ming': 15612, 'broader': 3043, 'stalky': 23321, 'bulging': 3199, 'manilow': 14944, 'aiken': 543, 'plumper': 18558, 'rwally': 21140, 'bubbly': 3127, 'awardee': 1712, 'samuel': 21276, 'shoestring': 22098, 'username': 26289, 'darkhorizons': 5948, 'preceeding': 18927, 'canon': 3524, 'documentarian': 7061, 'backstory': 1805, 'canonical': 3525, 'timeline': 24975, 'stylish': 23767, 'murray': 16163, 'reynolds': 20711, 'rey': 20710, 'donovan': 7140, 'huuge': 11876, 'lope': 14542, 'rideable': 20767, 'nastiest': 16343, 'steepest': 23445, 'loosest': 14535, 'chug': 4237, 'roomy': 20976, 'stylin': 23765, 'vinatieri': 26589, 'zealous': 27876, 'senseless': 21790, 'grapevine': 10508, 'escribo': 8238, 'propia': 19272, 'historia': 11463, 'vivo': 26665, 'percata': 18028, 'vox': 26725, 'escucho': 8239, 'ecos': 7591, 'deseo': 6425, 'impotente': 12178, 'enfrento': 7990, 'soledad': 22827, 'doy': 7234, 'cara': 3575, 'desintegrado': 6443, 'pedazos': 17937, 'arrastro': 1308, 'direcciones': 6743, 'sostengo': 22935, 'tu': 25584, 'suficientemente': 23881, 'firme': 9176, 'escapo': 8232, 'falsos': 8785, 'sentado': 21802, 'lugares': 14658, 'ocupados': 17003, 'buscado': 3286, 'contigo': 5135, 'cula': 5701, 'elimidate': 7771, 'truley': 25548, 'rotang': 21001, 'energized': 7980, 'etcetera': 8299, 'energizer': 7981, 'gm': 10281, 'kevetcher': 13499, 'cryptonite': 5668, 'bedazzled': 2139, 'lessens': 14118, 'handhelds': 10960, 'bakery': 1855, 'rigged': 20786, 'outnumbered': 17389, 'durned': 7459, 'currenlty': 5759, 'elicited': 7766, 'libya': 14189, 'robbing': 20886, 'reppin': 20443, 'alfonso': 629, 'soriano': 22923, 'rightfield': 20791, 'selig': 21749, 'surrendering': 24068, 'tussle': 25661, 'doping': 7165, 'testicular': 24671, 'steroid': 23482, 'pidgeons': 18301, 'evoled': 8406, 'dunkin': 7439, 'donut': 7142, 'baywatch': 2061, 'gena': 10038, 'nolin': 16694, 'anothersite': 988, 'dreading': 7282, 'kayla': 13427, 'inaproperate': 12218, 'spl': 23131, 'cavity': 3771, 'mikal': 15552, 'orthodontist': 17313, 'yippy': 27770, 'callie': 3437, 'quiver': 19633, 'childern': 4112, 'vocalize': 26674, 'dazing': 6013, 'articulating': 1345, 'persuasion': 18126, 'internalize': 12707, 'shuts': 22218, 'analogous': 861, 'reshape': 20512, 'coastline': 4529, 'disparate': 6904, 'redirected': 20079, 'perpetuating': 18093, 'heedless': 11233, 'biology': 2389, 'trigonometry': 25471, 'quaid': 19539, 'believable': 2207, 'rugged': 21085, 'adventurer': 381, 'paradoxical': 17688, 'darko': 5951, 'endearment': 7957, 'jake': 12993, 'gyllenhaal': 10800, 'stocking': 23553, 'dangly': 5920, 'plastered': 18473, 'fretting': 9670, 'diminished': 6703, 'commiserating': 4739, 'moonstruck': 15922, 'serendipity': 21843, 'buttered': 3319, 'rosaline': 20986, 'sketchpad': 22440, 'immaturity': 12091, 'guimbal': 10736, 'lighte': 14230, 'bluey': 2627, 'hibb': 11377, 'hib': 11376, 'awesomrifical': 1725, 'cookout': 5233, 'thinger': 24793, 'serisouly': 21858, 'fer': 8989, 'eveything': 8389, 'stess': 23486, 'csi': 5672, 'touchy': 25215, 'conan': 4863, 'chowed': 4207, 'enumerated': 8112, 'typographic': 25731, 'blooop': 2604, 'rededication': 20063, 'diocese': 6727, 'flashmobbin': 9252, 'airbrushed': 559, 'sonny': 22887, 'chino': 4142, 'snacked': 22688, 'networked': 16520, 'laker': 13824, 'carnage': 3619, 'pseudonym': 19353, 'influx': 12436, 'pjs': 18437, 'ambivalent': 791, 'hotties': 11723, 'bashful': 1999, 'wooohhoooohohohooooo': 27459, 'harhar': 11044, 'commandements': 4721, 'bce': 2069, 'relevance': 20273, 'vacuumed': 26334, 'housework': 11736, 'imprint': 12187, 'kyla': 13764, 'revitalized': 20696, 'puttering': 19507, 'beautifying': 2115, 'teamwork': 24477, 'partnership': 17777, 'appreciation': 1155, 'restored': 20588, 'hartford': 11081, 'merged': 15414, 'veers': 26425, 'signaling': 22282, 'mindlessly': 15608, 'mindfully': 15603, 'proactively': 19124, 'reactively': 19865, 'profiling': 19188, 'similiar': 22327, 'assimilated': 1448, 'intruder': 12784, 'finite': 9149, 'absolved': 104, 'potentional': 18825, 'eagerness': 7514, 'grandstanding': 10495, 'snooping': 22733, 'functionary': 9785, 'performs': 18058, 'babied': 1777, 'catty': 3736, 'pretender': 19035, 'fooled': 9434, 'ross': 20992, 'halfin': 10903, 'collen': 4641, 'leppard': 14109, 'vault': 26410, 'flogging': 9324, 'disheartened': 6868, 'essex': 8270, 'pang': 17649, 'soony': 22893, 'michy': 15511, 'yuli': 27836, 'empathy': 7884, 'thafe': 24712, 'onthe': 17149, 'ambathadorth': 782, 'shaker': 21938, 'incense': 12233, 'hone': 11598, 'corrode': 5337, 'corrosion': 5338, 'creatively': 5534, 'asham': 1382, 'offence': 17025, 'reluctant': 20298, 'reverence': 20679, 'priori': 19102, 'coersion': 4572, 'vanish': 26377, 'ascribing': 1374, 'dissapprove': 6943, 'milkshake': 15577, 'tricolore': 25459, 'gwb': 10795, 'indiscriminate': 12339, 'abolition': 70, 'boer': 2680, 'bombardment': 2712, 'tacitly': 24272, 'clampdown': 4338, 'protocol': 19316, 'seized': 21730, 'flagrant': 9222, 'disregard': 6930, 'perverse': 18141, 'moratorium': 15945, 'multinational': 16122, 'pledging': 18523, 'asap': 1367, 'informs': 12447, 'johnnathtan': 13210, 'rehire': 20211, 'resized': 20534, 'marblehead': 14998, 'rnt': 20860, 'whistling': 27183, 'wispy': 27362, 'foriegn': 9502, 'skittered': 22467, 'inexorable': 12384, 'melancholy': 15343, 'splintered': 23143, 'lament': 13832, 'hollow': 11552, 'entrapt': 8099, 'teardrop': 24481, 'regains': 20161, 'encircling': 7930, 'xbwx': 27626, 'muaddib': 16077, 'peony': 18014, 'glossy': 10265, 'alias': 643, 'quizyourfriends': 19638, 'numero': 16855, 'perused': 18134, 'lessened': 14117, 'pew': 18169, 'beckoned': 2129, 'shush': 22214, 'aerobics': 409, 'scripture': 21589, 'vow': 26724, 'welled': 27081, 'dabbing': 5840, 'bouquet': 2843, 'likeable': 14247, 'paganism': 17577, 'concerted': 4889, 'utah': 26306, 'falsely': 8783, 'aztec': 1760, 'vatican': 26409, 'conspired': 5071, 'priory': 19104, 'ruling': 21096, 'hegel': 11246, 'antithesis': 1031, 'authoratively': 1644, 'eachother': 7510, 'rubenstein': 21070, 'aristotle': 1265, 'mumbo': 16134, 'flap': 9238, 'sabotaging': 21154, 'pipeline': 18385, 'depose': 6374, 'populous': 18722, 'sexed': 21901, 'dossier': 7181, 'consequently': 5035, 'cripple': 5576, 'disclosed': 6806, 'barrell': 1973, 'airamericaradio': 555, 'vbs': 26415, 'supervision': 23995, 'unlimited': 26064, 'jaunt': 13039, 'lovy': 14615, 'nanobot': 16306, 'aback': 28, 'nameanovercommercializedsport': 16294, 'blix': 2546, 'annihilated': 961, 'imitates': 12084, 'scrappleface': 21553, 'batman': 2038, 'anew': 905, 'rapport': 19793, 'propencity': 19265, 'crackin': 5461, 'stipend': 23538, 'realistically': 19889, 'discomfort': 6810, 'vee': 26423, 'jorelle': 13247, 'michaux': 15503, 'hmmmmmm': 11495, 'happnen': 11017, 'ank': 947, 'whoaam': 27199, 'prom': 19229, 'resturaunt': 20600, 'kitsune': 13616, 'saree': 21329, 'dhanya': 6573, 'bryan': 3115, 'sujit': 23902, 'conrad': 5024, 'gayathri': 10000, 'outing': 17378, 'connie': 5015, 'eurythmics': 8343, 'fave': 8884, 'aimee': 550, 'mann': 14953, 'pavlov': 17868, 'idaho': 11965, 'listnin': 14347, 'coursework': 5415, 'crafty': 5466, 'iconoclast': 11955, 'totaling': 25201, 'moondog': 15916, 'gash': 9967, 'bled': 2507, 'matted': 15163, 'squashed': 23240, 'paperwork': 17676, 'festvities': 9016, 'fraility': 9580, 'lossness': 14564, 'halt': 10926, 'abject': 61, 'helplessness': 11296, 'recessed': 19970, 'fruitlessness': 9732, 'misty': 15719, 'clawing': 4384, 'attaining': 1556, 'conforted': 4967, 'bouyed': 2851, 'detachment': 6490, 'marrow': 15055, 'desiring': 6447, 'mahadeviyakka': 14821, 'fulfillment': 9770, 'yearns': 27719, 'heavely': 11212, 'oftern': 17056, 'penetrates': 17993, 'trudge': 25540, 'devote': 6558, 'crosswalk': 5616, 'moly': 15834, 'disadvantaged': 6763, 'powerbooks': 18860, 'ihad': 12018, 'aniblade': 935, 'ingrdents': 12469, 'deliouscs': 6264, 'alteast': 731, 'coutney': 5428, 'flavas': 9268, 'craza': 5510, 'hahah': 10855, 'supose': 23997, 'yeahhh': 27711, 'sippin': 22389, 'chardinade': 3962, 'muah': 16078, 'mayu': 15196, 'mikiki': 15556, 'choco': 4169, 'shmancy': 22089, 'gluttonous': 10277, 'fanbase': 8803, 'guyzzz': 10787, 'friendliness': 9681, 'crazyiness': 5518, 'tumbler': 25614, 'salted': 21251, 'rim': 20807, 'overindulge': 17458, 'yuh': 27827, 'followup': 9416, 'kindergartner': 13580, 'anklewise': 950, 'putted': 19506, 'nongolfer': 16713, 'summarize': 23917, 'peculiarity': 17933, 'uplift': 26209, 'degrades': 6226, 'unjust': 26049, 'birm': 2404, 'relates': 20246, 'nh': 16575, 'britanny': 3031, 'everone': 8378, 'anerexically': 899, 'practially': 18880, 'skipping': 22464, 'kilgore': 13552, 'wingswing': 27317, 'bacardi': 1784, 'whinge': 27164, 'gazillion': 10009, 'millionth': 15588, 'kenoly': 13476, 'bobbly': 2672, 'frown': 9720, 'blaring': 2488, 'thaaaat': 24710, 'aligned': 651, 'bosom': 2813, 'pouty': 18850, 'highness': 11402, 'wo': 27401, 'toopid': 25146, 'suan': 23775, 'bubbyez': 3128, 'zookz': 27933, 'trolling': 25508, 'goatee': 10294, 'dutoit': 7472, 'inference': 12402, 'foresee': 9477, 'insufficient': 12624, 'isaac': 12898, 'asimov': 1397, 'levile': 14145, 'lair': 13822, 'fare': 8824, 'withyou': 27378, 'gernades': 10110, 'cocoa': 4554, 'curently': 5744, 'barmitzvah': 1960, 'earing': 7519, 'sac': 21155, 'crease': 5526, 'monologue': 15881, 'pressing': 19026, 'eared': 7518, 'indentation': 12306, 'salivate': 21243, 'pavlovian': 17869, 'franticly': 9607, 'memoir': 15372, 'conversing': 5204, 'placeholder': 18444, 'escapism': 8231, 'paperback': 17673, 'damaging': 5882, 'mccullers': 15220, 'bedside': 2148, 'phobia': 18220, 'reliever': 20285, 'williamson': 27281, 'forearm': 9465, 'popeye': 18710, 'bullpen': 3210, 'fielder': 9066, 'fick': 9054, 'kuntz': 13741, 'fucka': 9751, 'retiring': 20635, 'jamal': 12998, 'laundering': 13928, 'trafficking': 25285, 'divorcing': 7023, 'irreconicible': 12877, 'reitred': 20231, 'videogame': 26550, 'terrell': 24645, 'owen': 17520, 'geuss': 10126, 'villagephotos': 26578, 'pubbrowse': 19388, 'glimpse': 10238, 'unveliebable': 26179, 'vieterems': 26561, 'esspeially': 8272, 'confiderate': 4951, 'discrimates': 6836, 'esecially': 8241, 'tred': 25420, 'powerade': 18857, 'mmmkay': 15750, 'eyeah': 8672, 'normalcey': 16743, 'flotation': 9348, 'stevie': 23492, 'quintet': 19616, 'bedridden': 2146, 'sickly': 22246, 'fuzz': 9847, 'thicker': 24783, 'anak': 855, 'heri': 11336, 'staffer': 23299, 'toying': 25249, 'proceeds': 19147, 'nbcs': 16390, 'lauer': 13915, 'peterson': 18160, 'glossed': 10264, 'tabloid': 24267, 'ussc': 26295, 'usscs': 26296, 'angular': 932, 'mestizo': 15442, 'letorneau': 14129, 'adolescent': 353, 'itand': 12935, 'upbut': 26192, 'rapp': 19791, 'wouldve': 27534, 'naku': 16288, 'aiight': 542, 'nummies': 16857, 'proclaim': 19153, 'huaaa': 11768, 'somthin': 22872, 'hhh': 11371, 'examz': 8437, 'newz': 16570, 'delicious': 6257, 'columba': 4671, 'kafka': 13363, 'tulia': 25609, 'ulia': 25782, 'dusty': 7468, 'panhandle': 17650, 'amarillo': 765, 'bigoted': 2359, 'roundup': 21028, 'paraded': 17683, 'trafficker': 25284, 'forklift': 9505, 'applauded': 1133, 'aghast': 493, 'kareem': 13400, 'ranged': 19773, 'probation': 19129, 'atrocity': 1543, 'undercover': 25907, 'nigger': 16611, 'corroborate': 5336, 'uncorroborated': 25892, 'unsubstantiated': 26154, 'tonya': 25136, 'duly': 7415, 'mceachern': 15228, 'bryant': 3116, 'bushy': 3293, 'remedy': 20319, 'naacp': 16257, 'kunstler': 13740, 'helmeted': 11286, 'cramming': 5474, 'whimpering': 27160, 'colonized': 4659, 'returners': 20654, 'amf': 813, 'giraffe': 10185, 'grassy': 10523, 'knoll': 13663, 'thrilling': 24862, 'superiority': 23982, 'fyodor': 9857, 'bandoleon': 1893, 'accordian': 174, 'slinky': 22563, 'droop': 7340, 'mmmmmmmmmmmm': 15758, 'mmmmmmmmmmmmmmmm': 15759, 'fleh': 9283, 'opininate': 17203, 'bray': 2938, 'wray': 27558, 'inksyndicate': 12508, 'warbot': 26861, 'minime': 15621, 'muahahahahahahahaaaaaa': 16084, 'gramma': 10468, 'grumpa': 10681, 'montana': 15893, 'machination': 14748, 'silicon': 22307, 'processing': 19150, 'algorithm': 637, 'enginesgoogle': 8002, 'searchgoogle': 21642, 'implies': 12159, 'metadata': 15448, 'aggregator': 487, 'aggregation': 486, 'enlistment': 8032, 'indexer': 12313, 'wooooot': 27466, 'goddamnit': 10304, 'stepchild': 23462, 'vital': 26653, 'maslow': 15097, 'entree': 8101, 'preparation': 18985, 'inverse': 12806, 'hungriness': 11845, 'sautee': 21375, 'pepperoni': 18023, 'nutmeg': 16874, 'marinating': 15025, 'pep': 18018, 'bellpepper': 2221, 'chopping': 4192, 'sauteeing': 21377, 'steaming': 23437, 'tortilla': 25188, 'broil': 3051, 'foodtv': 9431, 'desser': 6471, 'sugaah': 23883, 'foxy': 9566, 'neko': 16471, 'grubby': 10674, 'setter': 21880, 'hula': 11797, 'grandeza': 10486, 'juego': 13295, 'empuje': 7907, 'equipo': 8167, 'arbitraje': 1204, 'mierda': 15546, 'arbitros': 1207, 'peruanos': 18133, 'cobramos': 4541, 'hpta': 11752, 'titulo': 25032, 'hace': 10829, 'nivel': 16658, 'sobretodo': 22773, 'pasion': 17790, 'futbol': 9838, 'enlarging': 8024, 'bigmac': 2357, 'shaw': 21987, 'hemp': 11310, 'sweetener': 24163, 'heteros': 11362, 'sper': 23082, 'venti': 26460, 'selectsmart': 21743, 'jfk': 13142, 'ilarious': 12028, 'pengsan': 17996, 'gan': 9928, 'ipoh': 12852, 'ulu': 25795, 'kampong': 13381, 'lex': 14155, 'incourage': 12282, 'writting': 27585, 'latta': 13909, 'whatevea': 27127, 'haering': 10842, 'philippeans': 18202, 'unpretty': 26114, 'stressing': 23659, 'condemning': 4916, 'unfunny': 26003, 'hmpffh': 11499, 'sincheon': 22354, 'lavishing': 13941, 'songpa': 22881, 'kyo': 13766, 'ddak': 6026, 'kalbi': 13373, 'whooping': 27212, 'amorous': 832, 'gallon': 9907, 'hwa': 11882, 'shil': 22041, 'spotless': 23188, 'squatter': 23243, 'hippest': 11449, 'denote': 6334, 'watercloset': 26929, 'handphones': 10974, 'bonkers': 2735, 'bing': 2382, 'garnished': 9961, 'yogurt': 27779, 'tagline': 24293, 'scrunchie': 21601, 'multitude': 16128, 'johnston': 13214, 'boner': 2728, 'euphemism': 8332, 'gochoo': 10300, 'snooze': 22735, 'forgives': 9497, 'groggy': 10627, 'thanking': 24723, 'innane': 12518, 'wringing': 27573, 'classically': 4370, 'undersheriff': 25929, 'childrens': 4119, 'reboot': 19939, 'rach': 19663, 'ffb': 9034, 'sadfully': 21181, 'mediator': 15292, 'jeesh': 13079, 'whois': 27201, 'dmoz': 7039, 'descmath': 6414, 'shooter': 22108, 'shyamalan': 22226, 'ifilm': 12001, 'ifilmdetail': 12002, 'exploiting': 8594, 'cholos': 4178, 'appt': 1178, 'irritating': 12894, 'scrapbook': 21549, 'trtip': 25535, 'tasmania': 24420, 'favour': 8893, 'roomie': 20974, 'concubine': 4909, 'mistress': 15714, 'shawnie': 21990, 'homosexuality': 11594, 'constitutional': 5084, 'resoultion': 20547, 'megapixel': 15331, 'muir': 16111, 'wooded': 27442, 'scenic': 21459, 'layout': 13959, 'painstakingly': 17596, 'paycheck': 17880, 'inceasing': 12232, 'nigerian': 16609, 'mildly': 15563, 'ebonicsy': 7570, 'tasteful': 24424, 'jewlery': 13141, 'ancestor': 876, 'decendants': 6094, 'wraped': 27552, 'tug': 25601, 'uttering': 26317, 'unsurprisingly': 26158, 'npcc': 16813, 'worthed': 27520, 'salvatore': 21263, 'expierance': 8571, 'instilled': 12605, 'warhammer': 26869, 'youthful': 27812, 'firends': 9165, 'nothng': 16782, 'begone': 2173, 'beyong': 2323, 'frowning': 9721, 'msot': 16068, 'kangaroo': 13386, 'kaoz': 13389, 'siao': 22235, 'realli': 19897, 'lahz': 13818, 'alamak': 589, 'flung': 9369, 'sorri': 22925, 'tbp': 24458, 'cooridor': 5253, 'basso': 2015, 'undoing': 25955, 'slug': 22595, 'fests': 9015, 'dicking': 6615, 'biking': 2363, 'jenga': 13099, 'elevation': 7758, 'dehydrated': 6230, 'bonk': 2734, 'therf': 24768, 'ckers': 4322, 'aphrodite': 1084, 'formatting': 9514, 'onioning': 17139, 'faisal': 8761, 'saleh': 21232, 'hayat': 11133, 'woken': 27408, 'wrestle': 27565, 'dirtball': 6755, 'aparatus': 1070, 'vertical': 26500, 'plywood': 18567, 'stabilize': 23290, 'bungee': 3236, 'dismounting': 6892, 'crappiest': 5489, 'overdrawn': 17444, 'meningitis': 15387, 'wahhhh': 26790, 'orchard': 17249, 'redemm': 20071, 'queue': 19590, 'hotcake': 11707, 'lastly': 13889, 'tiff': 24943, 'muahahahahaha': 16082, 'quarrel': 19559, 'shortforms': 22131, 'smurfs': 22683, 'smurf': 22681, 'brainy': 2907, 'smurfette': 22682, 'gargamel': 9949, 'exploitation': 8592, 'proletariat': 19223, 'paddling': 17568, 'upstream': 26236, 'celsius': 3825, 'golly': 10337, 'intoxicating': 12757, 'stifling': 23513, 'rotates': 21004, 'nostril': 16764, 'bleuuurghghhffffgg': 2525, 'rollercoasting': 20941, 'peacelover': 17913, 'insect': 12547, 'monotony': 15886, 'chanted': 3937, 'uconn': 25750, 'geeze': 10026, 'slutskaya': 22605, 'onesie': 17134, 'becomming': 2133, 'hypnotist': 11911, 'jaxx': 13046, 'homophobic': 11592, 'darkwing': 5953, 'perked': 18069, 'shuffling': 22209, 'caressed': 3604, 'sinew': 22357, 'tensed': 24613, 'watchful': 26923, 'shrouded': 22194, 'signalling': 22283, 'generalize': 10044, 'tyme': 25720, 'cmoore': 4515, 'legardored': 14050, 'cjb': 4319, 'gaaaaaaaaaaaaaahhhh': 9859, 'tragicness': 25289, 'dissed': 6947, 'klee': 13629, 'ler': 14110, 'ehowa': 7695, 'ebaums': 7562, 'chez': 4092, 'econopundit': 7589, 'instapundit': 12602, 'shaka': 21934, 'brah': 2894, 'hayward': 11138, 'tennyson': 24610, 'hurse': 11863, 'morbidly': 15947, 'mung': 16148, 'exotic': 8528, 'jab': 12964, 'stubbly': 23719, 'fondled': 9421, 'reno': 20369, 'harley': 11049, 'enemployment': 7976, 'beacuse': 2078, 'woodchuck': 27441, 'punched': 19440, 'ishmael': 12907, 'shortlived': 22133, 'shutter': 22219, 'shiney': 22051, 'compressed': 4847, 'milepost': 15566, 'connick': 5014, 'brag': 2892, 'wilcox': 27262, 'hoarding': 11505, 'olfactory': 17098, 'textural': 24699, 'evokes': 8405, 'morehead': 15949, 'sailing': 21214, 'dismantled': 6886, 'sunfish': 23945, 'reclaimed': 19990, 'attach': 1546, 'velveteen': 26444, 'babee': 1776, 'emphysema': 7891, 'loom': 14520, 'exacted': 8426, 'grandchild': 10479, 'appearing': 1122, 'eisely': 7707, 'introduces': 12776, 'threepio': 24853, 'rental': 20374, 'tennessee': 24608, 'childcare': 4111, 'distruction': 6986, 'tisk': 25019, 'theroy': 24773, 'securitypenguins': 21690, 'sisetr': 22396, 'sian': 22232, 'knocking': 13661, 'sweatin': 24150, 'misstatement': 15705, 'golfed': 10332, 'teeing': 24521, 'holed': 11537, 'mtb': 16071, 'tcr': 24462, 'mech': 15278, 'cassette': 3680, 'ultegra': 25784, 'aero': 407, 'selle': 21753, 'marco': 15005, 'concour': 4907, 'deda': 6147, 'speedplay': 23068, 'mavic': 15178, 'craigs': 5469, 'iwantmyfairytale': 12958, 'blather': 2496, 'categorizes': 3720, 'ricans': 20739, 'utopian': 26314, 'categorize': 3719, 'nationality': 16357, 'transcends': 25327, 'categorical': 3717, 'packaged': 17558, 'tumbleweed': 25615, 'suncoast': 23937, 'canceling': 3496, 'rescheduling': 20488, 'misprint': 15687, 'suppressed': 24021, 'captivate': 3566, 'resonating': 20543, 'forefront': 9470, 'mesmerizing': 15431, 'masochist': 15099, 'relace': 20242, 'clumsily': 4506, 'fumbled': 9777, 'undid': 25951, 'relaced': 20243, 'reverting': 20685, 'sardonic': 21328, 'nigh': 16612, 'crisper': 5580, 'loosens': 14534, 'eatingggg': 7558, 'smirnoff': 22647, 'eventho': 8368, 'notdrunk': 16773, 'drinker': 7318, 'stupidfamily': 23755, 'kj': 13622, 'iam': 11930, 'interrogates': 12721, 'yukking': 27831, 'copa': 5257, 'sade': 21179, 'throb': 24869, 'inxs': 12840, 'deluxe': 6280, 'volleyballish': 26689, 'hobbling': 11512, 'limping': 14282, 'jurong': 13335, 'bizit': 2442, 'printing': 19100, 'foodcourt': 9429, 'tm': 25039, 'shirleen': 22065, 'naseum': 16337, 'encompasses': 7935, 'remington': 20331, 'steele': 23443, 'scarecrow': 21438, 'boxleitner': 2866, 'brosnan': 3072, 'confessing': 4940, 'mountie': 16022, 'rerunning': 20486, 'tnt': 25047, 'enquirer': 8038, 'whttp': 27220, 'apr': 1180, 'htmlwe': 11764, 'ferrari': 8996, 'testicle': 24670, 'compose': 4836, 'realitiy': 19890, 'gelato': 10031, 'relocate': 20294, 'manx': 14983, 'elgin': 7762, 'lipschtick': 14322, 'skiver': 22469, 'slipknot': 22565, 'kerrang': 13488, 'orchestral': 17251, 'bernstein': 2282, 'candide': 3504, 'overture': 17505, 'copland': 5267, 'composer': 4838, 'beethoven': 2156, 'tchaikovsky': 24461, 'ratty': 19827, 'potatoe': 18820, 'indigenous': 12330, 'gourd': 10412, 'ululating': 25796, 'ashland': 1387, 'paleolithic': 17619, 'chee': 4028, 'naomi': 16309, 'rearrange': 19915, 'computadora': 4858, 'dyk': 7500, 'swedish': 24156, 'retalliation': 20621, 'lucarse': 14639, 'replaying': 20427, 'dune': 7436, 'miniseries': 15626, 'soybeenchik': 22973, 'skywalker': 22486, 'naiive': 16277, 'memememenownownow': 15369, 'clie': 4431, 'pda': 17902, 'debelak': 6068, 'irrefutable': 12878, 'maxwell': 15184, 'rented': 20375, 'kustomerkinetics': 13751, 'outlining': 17387, 'aj': 575, 'nyx': 16900, 'header': 11152, 'loverly': 14608, 'sincee': 22350, 'cooolman': 5243, 'kewl': 13502, 'eeewww': 7646, 'krystal': 13727, 'yuk': 27829, 'hoooz': 11637, 'spitting': 23130, 'tact': 24278, 'accusing': 202, 'putz': 19511, 'anywya': 1063, 'afdc': 417, 'ballsy': 1874, 'meager': 15248, 'moneywell': 15863, 'deteste': 6515, 'annihilation': 963, 'bzzzzzzzt': 3356, 'accounted': 183, 'illegitimate': 12038, 'curiousity': 5748, 'businesswoman': 3298, 'tampon': 24358, 'healtcare': 11171, 'legalise': 14042, 'legalisation': 14041, 'snorting': 22738, 'rehabiliation': 20204, 'riiight': 20798, 'obesity': 16914, 'vagina': 26338, 'legalised': 14043, 'drat': 7270, 'whta': 27219, 'caucasian': 3742, 'gleneagles': 10232, 'robe': 20889, 'poring': 18730, 'tanglin': 24369, 'granting': 10504, 'wrung': 27593, 'phlemg': 18218, 'sycamore': 24218, 'lubbock': 14636, 'heellp': 11239, 'escapde': 8227, 'grunt': 10683, 'aaugh': 25, 'disc': 6793, 'caio': 3400, 'allowance': 697, 'stingy': 23531, 'gib': 10142, 'calculating': 3418, 'gibing': 10145, 'onli': 17140, 'frens': 9653, 'wks': 27391, 'wateva': 26945, 'starve': 23383, 'reluctantly': 20299, 'liang': 14169, 'xin': 27637, 'retort': 20636, 'shuck': 22202, 'wun': 27605, 'becum': 2136, 'demselves': 6319, 'kep': 13481, 'sim': 22320, 'historicity': 11468, 'realism': 19886, 'newsmagazine': 16561, 'devotes': 6561, 'muhammed': 16109, 'evoke': 8404, 'prosthesis': 19296, 'gander': 9929, 'wageslaves': 26778, 'harpsicord': 11065, 'lego': 14066, 'uno': 26087, 'rainey': 19722, 'definintly': 6209, 'insted': 12604, 'lumberjack': 14668, 'fireable': 9156, 'hairdryer': 10881, 'whirring': 27173, 'musty': 16197, 'grit': 10616, 'porpoise': 18741, 'beaufort': 2111, 'pummels': 19432, 'seawater': 21660, 'fascination': 8843, 'loggerhead': 14464, 'elegance': 7745, 'suntan': 23962, 'rinsing': 20817, 'sunscreen': 23958, 'shovel': 22156, 'oldie': 17095, 'antiquity': 1028, 'pronouncement': 19253, 'wounding': 27538, 'liberate': 14178, 'contrasting': 5168, 'lobbyist': 14433, 'pinned': 18372, 'idealist': 11969, 'digicam': 6674, 'normalcy': 16744, 'ih': 12017, 'alalala': 588, 'lalalalalala': 13827, 'lalala': 13826, 'loooo': 14523, 'eee': 7635, 'oooo': 17165, 'doobee': 7144, 'nuke': 16842, 'pervert': 18142, 'lenght': 14091, 'eretion': 8185, 'chaperone': 3948, 'throe': 24871, 'scribbling': 21584, 'blurry': 2639, 'signify': 22292, 'surfaced': 24039, 'sapped': 21315, 'shebang': 21996, 'garble': 9942, 'perpetuated': 18092, 'omar': 17114, 'calabrese': 3409, 'seriality': 21851, 'blob': 2550, 'franchisee': 9591, 'ell': 7787, 'moola': 15912, 'sprinting': 23214, 'immediatly': 12097, 'predictably': 18944, 'decreasing': 6142, 'collectively': 4637, 'loner': 14495, 'somalia': 22855, 'mogadishu': 15805, 'peacekeeping': 17912, 'bosnia': 2812, 'rampaging': 19758, 'peacekeeper': 17911, 'stormed': 23586, 'srebrenica': 23271, 'massacred': 15110, 'excitment': 8466, 'becasue': 2124, 'mebbe': 15276, 'posessed': 18774, 'qi': 19528, 'qing': 19529, 'xing': 27638, 'jah': 12984, 'teeheeheee': 24520, 'jahmes': 12985, 'teeheeeheee': 24518, 'huang': 11771, 'xiao': 27634, 'lai': 13819, 'zuo': 27942, 'tuedays': 25597, 'peppering': 18021, 'ughhh': 25762, 'hua': 11767, 'jiang': 13146, 'shuo': 22213, 'wei': 27053, 'ge': 10016, 'jiu': 13171, 'bluntness': 2634, 'succintly': 23852, 'intersection': 12731, 'southbound': 22959, 'northbound': 16751, 'divider': 7013, 'amazement': 775, 'dum': 7416, 'ch': 3882, 'nudge': 16831, 'momentous': 15841, 'zire': 27916, 'connector': 5009, 'communazi': 4754, 'laurie': 13935, 'warmly': 26877, 'poopid': 18697, 'chow': 4205, 'ked': 13443, 'unplayable': 26101, 'duffed': 7406, 'creek': 5545, 'tributary': 25452, 'wud': 27604, 'dreamt': 7291, 'togather': 25074, 'afew': 419, 'unmeaninful': 26074, 'dalai': 5870, 'lama': 13828, 'dissapointed': 6937, 'coehlo': 4568, 'athena': 1519, 'worshipped': 27515, 'moliere': 15831, 'tartuffe': 24413, 'foolery': 9435, 'exasperated': 8438, 'nonprofit': 16716, 'allocated': 692, 'hyphenators': 11910, 'sponsoring': 23167, 'crooklyn': 5607, 'dynamite': 7506, 'urshur': 26266, 'ungh': 26005, 'thatslow': 24730, 'toxic': 25245, 'anymorethe': 1052, 'concealer': 4867, 'regimen': 20174, 'batted': 2041, 'sephora': 21828, 'corduroy': 5289, 'blazer': 2499, 'dutiful': 7470, 'infatuation': 12396, 'spellcheck': 23072, 'blake': 2476, 'roald': 20869, 'dahl': 5860, 'chromosome': 4224, 'allotment': 693, 'nettle': 16518, 'scratched': 21555, 'plank': 18459, 'toman': 25104, 'afro': 460, 'psyching': 19367, 'posibility': 18776, 'alltogether': 705, 'mowed': 16048, 'engulf': 8008, 'reformatted': 20138, 'tac': 24270, 'reginals': 20177, 'stah': 23307, 'gatorade': 9987, 'dandy': 5912, 'stizuff': 23545, 'aske': 1400, 'clan': 4340, 'recruited': 20044, 'cdi': 3786, 'ine': 12366, 'darned': 5956, 'charmaine': 3982, 'kl': 13626, 'unlce': 26055, 'litle': 14362, 'correspondive': 5328, 'fluey': 9364, 'fuzziness': 9849, 'bronchial': 3056, 'flavoured': 9272, 'earthness': 7537, 'rostered': 20996, 'abit': 60, 'imed': 12075, 'walkie': 26820, 'talkie': 24330, 'macdaddy': 14743, 'flinder': 9305, 'telemarketer': 24544, 'pilar': 18331, 'basto': 2021, 'leonardo': 14105, 'diaz': 6603, 'blizzard': 2547, 'andes': 885, 'bogota': 2687, 'newsoftheweird': 16562, 'erwin': 8216, 'indistinguishable': 12342, 'feces': 8930, 'cringing': 5575, 'beng': 2252, 'ewoks': 8420, 'tolerable': 25089, 'upswing': 26237, 'furry': 9828, 'galactic': 9892, 'gungans': 10757, 'creamed': 5522, 'assination': 1449, 'padme': 17571, 'goofier': 10366, 'graphically': 10512, 'artificially': 1350, 'keanu': 13440, 'reef': 20100, 'liberated': 14179, 'reinserted': 20223, 'stasis': 23392, 'allay': 664, 'traitor': 25302, 'reinvented': 20229, 'irs': 12897, 'eftps': 7676, 'clavin': 4382, 'estimated': 8288, 'assessed': 1438, 'withdrawn': 27370, 'taxen': 24445, 'estimating': 8289, 'lots': 14570, 'cottage': 5367, 'weasel': 26999, 'peanutbutter': 17920, 'movin': 16045, 'overcomed': 17439, 'dory': 7176, 'spaz': 23019, 'strangest': 23616, 'titty': 25031, 'nicu': 16601, 'repiratory': 20417, 'steep': 23444, 'absorption': 110, 'hopelessness': 11655, 'evades': 8352, 'hypocritical': 11916, 'humankind': 11808, 'believeing': 2210, 'inventor': 12804, 'relinquish': 20289, 'nearer': 16406, 'gravity': 10539, 'fluffy': 9366, 'decadence': 6080, 'barzun': 1989, 'machiavelli': 14746, 'nietzche': 16606, 'undervalued': 25941, 'shorthand': 22132, 'penmanship': 18002, 'whereabouts': 27147, 'spawned': 23016, 'cretain': 5556, 'eeeee': 7636, 'happytreefriends': 11020, 'nursery': 16865, 'repainted': 20387, 'tiniest': 24991, 'sleeper': 22532, 'diaper': 6597, 'telephoning': 24548, 'mestanding': 15441, 'mournful': 16028, 'wail': 26797, 'bluish': 2631, 'strangled': 23618, 'shaken': 21937, 'singsong': 22370, 'astronaut': 1492, 'submarine': 23793, 'reentry': 20107, 'pruning': 19348, 'condo': 4926, 'deduction': 6156, 'repedtly': 20401, 'oppertunity': 17207, 'finchaholic': 9129, 'atariholic': 1510, 'incuaholic': 12292, 'holic': 11541, 'absoultly': 111, 'megalomanic': 15330, 'betweeners': 2311, 'peabody': 17905, 'holidae': 11542, 'lars': 13873, 'unbearably': 25846, 'impressionable': 12185, 'myoungdong': 16233, 'gamer': 9921, 'busan': 3284, 'nanaimo': 16302, 'taegu': 24285, 'daegu': 5848, 'yusheng': 27847, 'pubmaps': 19401, 'plentiful': 18525, 'km': 13636, 'negates': 16450, 'paparazzo': 17669, 'candid': 3502, 'hana': 10950, 'dool': 7153, 'lovable': 14597, 'hhhhoooottt': 11372, 'cccooooolllld': 3783, 'intrude': 12783, 'mbc': 15202, 'kb': 13432, 'broadcasting': 3041, 'limelight': 14270, 'ruen': 21080, 'takeover': 24318, 'swathe': 24139, 'emigrant': 7863, 'aroused': 1301, 'gullible': 10749, 'abe': 49, 'infinate': 12411, 'shugborough': 22210, 'staffordshire': 23300, 'trespasser': 25441, 'administrator': 332, 'astonished': 1479, 'lundy': 14682, 'southwest': 22962, 'shepherd': 22020, 'wildlife': 27269, 'birdwatchers': 2400, 'nashville': 16339, 'cursing': 5768, 'angies': 921, 'fsu': 9744, 'bridal': 2986, 'iiiicccckkkkkyyy': 12023, 'unpack': 26093, 'weeeeeeeeeeeeeeeeeeee': 27035, 'amishdonkey': 822, 'weeee': 27033, 'ahahahaaaaa': 518, 'empowerment': 7900, 'foible': 9402, 'responsibilites': 20568, 'untapped': 26161, 'cultivate': 5717, 'rolemodels': 20932, 'archetypal': 1216, 'cookieness': 5230, 'vickrey': 26536, 'birkies': 2403, 'streaked': 23638, 'roight': 20929, 'keychained': 13506, 'remiss': 20336, 'gardenpixie': 9946, 'wyldchyld': 27621, 'potpourri': 18831, 'confuses': 4975, 'affordability': 441, 'spiritually': 23124, 'godhood': 10309, 'fraught': 9614, 'careening': 3594, 'unthinking': 26163, 'thrillride': 24863, 'alarmed': 594, 'frothy': 9719, 'swung': 24217, 'tempering': 24573, 'rapture': 19795, 'dissipate': 6954, 'irrevocable': 12887, 'amys': 850, 'talkign': 24331, 'jims': 13164, 'slag': 22493, 'cancun': 3501, 'sponge': 23162, 'telecom': 24541, 'sharice': 21971, 'moira': 15814, 'sweeney': 24157, 'hissing': 11461, 'xcdrost': 27627, 'hare': 11043, 'shedd': 21998, 'undefeated': 25902, 'contributed': 5171, 'inascertainable': 12219, 'benchmark': 2236, 'uc': 25746, 'overcame': 17434, 'foursome': 9555, 'burg': 3254, 'offing': 17043, 'bushie': 3289, 'eavesdropping': 7561, 'jailing': 12987, 'executioner': 8486, 'ooyeah': 17176, 'roctober': 20914, 'sensor': 21797, 'detect': 6496, 'exper': 8556, 'rehab': 20202, 'oxicontin': 17534, 'simplyvintage': 22342, 'alton': 746, 'arf': 1235, 'crayon': 5509, 'expended': 8551, 'shyness': 22228, 'journaling': 13258, 'umphf': 25812, 'cider': 4256, 'queasy': 19569, 'cootie': 5255, 'wheat': 27134, 'chaff': 3888, 'headlong': 11156, 'policymakers': 18622, 'perceives': 18031, 'kneejerk': 13643, 'lockstepping': 14453, 'furthur': 9831, 'mcfly': 15230, 'grovers': 10655, 'backpedals': 1800, 'xxthe': 27664, 'christmasxx': 4221, 'brook': 3064, 'drewes': 7305, 'laag': 13774, 'ruiyu': 21089, 'xie': 27636, 'aaldering': 18, 'eighteen': 7704, 'umkc': 25807, 'luth': 14701, 'suspendu': 24094, 'sitot': 22411, 'qu': 19533, 'touche': 25212, 'resonne': 20544, 'leech': 14026, 'kobe': 13680, 'vlade': 26667, 'divac': 7002, 'wb': 26975, 'depressive': 6388, 'utilising': 26308, 'rikk': 20803, 'watt': 26949, 'seminar': 21766, 'blur': 2635, 'voiceless': 26678, 'strategise': 23626, 'blech': 2506, 'jms': 13180, 'tmos': 25041, 'spoo': 23172, 'heckling': 11225, 'illinois': 12039, 'pffth': 18171, 'wv': 27610, 'willingly': 27286, 'blehx': 2515, 'debunking': 6076, 'aicn': 537, 'rumour': 21104, 'alderaan': 613, 'defused': 6219, 'footage': 9442, 'mcdiarmid': 15225, 'helmet': 11285, 'revamped': 20663, 'lightsaber': 14241, 'mesh': 15429, 'prequels': 18994, 'theforce': 24744, 'cantina': 3529, 'lightsabers': 14242, 'cauterize': 3758, 'greedo': 10556, 'destroys': 6482, 'disturbance': 6988, 'temuera': 24585, 'morrison': 15969, 'stormtroopers': 23587, 'duel': 7402, 'coruscant': 5345, 'hoth': 11711, 'boba': 2666, 'fett': 9023, 'refilmed': 20124, 'instructing': 12617, 'jabba': 12965, 'endor': 7967, 'blotch': 2609, 'sebastion': 21664, 'unmasked': 26073, 'christenson': 4213, 'naboo': 16259, 'watto': 26950, 'hover': 11739, 'tatooine': 24433, 'transitioning': 25345, 'ewok': 8419, 'fabrication': 8695, 'moriarty': 15954, 'talkback': 24328, 'archival': 1221, 'ucla': 25747, 'fanboy': 8804, 'blackxandxwhite': 2468, 'skittle': 22468, 'ticxtac': 24931, 'tallish': 24341, 'sunmoon': 23953, 'sandal': 21284, 'sneaker': 22704, 'tempatures': 24568, 'asphalt': 1416, 'aquired': 1193, 'showered': 22164, 'yoo': 27786, 'admitt': 343, 'appart': 1114, 'crusal': 5651, 'sheild': 22007, 'clanless': 4345, 'friendless': 9679, 'flattend': 9259, 'mabey': 14734, 'shatter': 21980, 'optomistic': 17237, 'hyperlink': 11907, 'gadzooks': 9869, 'kd': 13437, 'mf': 15487, 'williamsburg': 27280, 'organizational': 17278, 'shelley': 22012, 'speculation': 23060, 'faked': 8767, 'insufficiency': 12623, 'perpetual': 18089, 'simmering': 22328, 'stewing': 23498, 'deem': 6161, 'disdain': 6848, 'kindling': 13583, 'nook': 16722, 'cranny': 5486, 'dessacrate': 6470, 'tatooes': 24432, 'metatarsal': 15458, 'piercings': 18311, 'mutilation': 16206, 'rebellious': 19937, 'consist': 5052, 'submitting': 23799, 'proclaimed': 19155, 'hoooo': 11634, 'trajectory': 25304, 'multiplied': 16126, 'zua': 27939, 'contestant': 5132, 'projectile': 19219, 'maggot': 14797, 'flea': 9277, 'infest': 12406, 'readmitted': 19875, 'sitter': 22413, 'cancellation': 3497, 'kennebunkport': 13469, 'pled': 18521, 'awol': 1734, 'midland': 15532, 'polluted': 18646, 'tenure': 24620, 'bankrupted': 1913, 'supremecourt': 24025, 'acriminal': 243, 'foreclosure': 9468, 'poorest': 18703, 'millionaire': 15587, 'condoleeza': 4927, 'chevron': 4083, 'tanker': 24376, 'mybest': 16227, 'presided': 19017, 'myfriends': 16230, 'prosecution': 19288, 'lewinsky': 14152, 'historyand': 11470, 'intervene': 12737, 'abide': 55, 'advent': 379, 'resided': 20515, 'garnered': 9958, 'worldwideto': 27502, 'unprovoked': 26118, 'foractive': 9452, 'buster': 3304, 'failedto': 8742, 'bankrupt': 1911, 'ravina': 19836, 'nura': 16861, 'lacy': 13797, 'warmed': 26874, 'passionately': 17805, 'excitedely': 8462, 'fumble': 9776, 'unbuttoning': 25856, 'briiiiaaaannn': 3011, 'nurrrraaaaa': 16862, 'involuntarily': 12832, 'brrrriiiaaannnnnnn': 3085, 'surge': 24044, 'radford': 19685, 'harrison': 11072, 'betrayal': 2302, 'queued': 19591, 'argetina': 1239, 'bariloche': 1951, 'picutre': 18299, 'chomp': 4179, 'pleasurable': 18517, 'coincidental': 4599, 'parasailing': 17708, 'aand': 20, 'predicatable': 18940, 'hillary': 11425, 'whooo': 27207, 'xoxoxoxoxoxoxoxoxoxo': 27653, 'ille': 12034, 'esse': 8266, 'deo': 6347, 'videtur': 26554, 'superare': 23968, 'divos': 7024, 'sedens': 21698, 'adversus': 387, 'identidem': 11973, 'spectat': 23054, 'dulce': 7413, 'ridentem': 20768, 'misero': 15671, 'quod': 19643, 'omnis': 17125, 'eripit': 8195, 'sensus': 21799, 'mihi': 15551, 'simul': 22346, 'lesbia': 14112, 'aspexi': 1415, 'nihil': 16622, 'lingua': 14300, 'sed': 21692, 'torpet': 25181, 'tenuis': 24619, 'artus': 1360, 'flamma': 9234, 'demanat': 6285, 'sonitu': 22886, 'suopte': 23964, 'tintinant': 24995, 'aures': 1629, 'gemina': 10034, 'teguntur': 24533, 'lumen': 14669, 'nocte': 16679, 'otium': 17347, 'catulle': 3737, 'tibi': 24920, 'molestum': 15830, 'otio': 17345, 'exsultas': 8622, 'nimiumque': 16634, 'gestis': 10117, 'reges': 20172, 'prius': 19111, 'beatas': 2104, 'perdidit': 18044, 'urbes': 26252, 'godlike': 10311, 'tatter': 24434, 'numbed': 16848, 'coda': 4559, 'catullus': 3738, 'crossing': 5615, 'insinuate': 12567, 'tubgirl': 25590, 'lilting': 14261, 'frequency': 9658, 'mimed': 15593, 'farce': 8823, 'confession': 4941, 'teared': 24482, 'melancholic': 15342, 'arounds': 1296, 'snide': 22714, 'expansiveness': 8536, 'mane': 14921, 'tosser': 25197, 'quitenessentially': 19627, 'remarking': 20313, 'ensuring': 8055, 'posterity': 18800, 'figuratively': 9082, 'duet': 7404, 'unyielding': 26188, 'intoxicate': 12755, 'lovew': 14610, 'searched': 21640, 'adorned': 366, 'myrrh': 16237, 'theoretical': 24758, 'fascism': 8844, 'priyanca': 19120, 'tsk': 25574, 'tsktsk': 25575, 'loosening': 14533, 'tithing': 25024, 'arnott': 1290, 'chockie': 4168, 'intake': 12637, 'evelyn': 8363, 'taibox': 24301, 'smallville': 22618, 'plump': 18557, 'meteor': 15460, 'krypton': 13725, 'superman': 23984, 'genetically': 10060, 'liposuction': 14320, 'creeeppy': 5544, 'eeeek': 7642, 'tonne': 25130, 'zzzzz': 27947, 'guestbook': 10720, 'mongoloid': 15867, 'troglodyte': 25504, 'affront': 445, 'perma': 18072, 'rascal': 19805, 'irrovacably': 12896, 'sadden': 21172, 'highpicthed': 11403, 'lingering': 14298, 'yore': 27788, 'gratuitous': 10531, 'muahahahah': 16080, 'honesty': 11601, 'curricular': 5762, 'ahold': 532, 'funnily': 9813, 'martices': 15070, 'autopsy': 1667, 'intro': 12773, 'metronome': 15478, 'hahha': 10873, 'dunce': 7435, 'crawford': 5505, 'gleaning': 10227, 'unsatisfactory': 26139, 'battlefield': 2048, 'apache': 1068, 'waaaaay': 26750, 'immortal': 12112, 'gassed': 9973, 'mailk': 14833, 'hooooo': 11635, 'collapsed': 4625, 'glittering': 10245, 'eaves': 7560, 'dissapears': 6935, 'uncharacteristically': 25864, 'cirque': 4298, 'soleil': 22828, 'malled': 14891, 'themed': 24750, 'reindeer': 20219, 'rink': 20815, 'beatty': 2109, 'denies': 6325, 'womanizer': 27415, 'rainy': 19725, 'ferrer': 8998, 'chardonnay': 3963, 'nibbling': 16581, 'capon': 3556, 'vino': 26596, 'ballet': 1868, 'asterisk': 1473, 'scorching': 21526, 'dusk': 7462, 'sledge': 22529, 'sergei': 21848, 'torop': 25180, 'minusinsk': 15639, 'swath': 24138, 'traynor': 25404, 'darwinists': 5971, 'interdependency': 12682, 'miching': 15509, 'mallecho': 14890, 'ophelia': 17198, 'cumbersome': 5723, 'epublicans': 8155, 'emocrats': 7877, 'emocrat': 7876, 'patterned': 17854, 'overlaying': 17462, 'expediter': 8545, 'empowers': 7901, 'educates': 7628, 'grafting': 10461, 'superfluous': 23974, 'inquiry': 12541, 'richards': 20744, 'pepe': 18019, 'skunk': 22475, 'looney': 14522, 'despised': 6464, 'channeling': 3934, 'transpires': 25358, 'erely': 8184, 'homeostasis': 11578, 'measaured': 15269, 'squareyness': 23238, 'presumably': 19031, 'deviation': 6544, 'sparrow': 23011, 'catalogue': 3702, 'kite': 13615, 'lever': 14141, 'techpont': 24505, 'inflatable': 12420, 'gazebo': 10005, 'ridicule': 20771, 'proceeding': 19146, 'stephaine': 23464, 'holford': 11539, 'wowwwza': 27544, 'nio': 16645, 'liscence': 14331, 'clarr': 4361, 'warched': 26862, 'dickie': 6614, 'mooonin': 15923, 'hillarious': 11424, 'izzoak': 12963, 'aout': 1066, 'differnt': 6654, 'askes': 1404, 'sistas': 22401, 'infancy': 12391, 'censorship': 3830, 'wayyyyyyyy': 26971, 'offness': 17044, 'eugene': 8330, 'tonsillitis': 25134, 'crackly': 5463, 'enthuiastic': 8077, 'cranking': 5483, 'smokin': 22659, 'unacquainted': 25821, 'urbana': 26251, 'champaign': 3914, 'funnel': 9808, 'demolition': 6304, 'derby': 6397, 'strict': 23666, 'qualifying': 19551, 'torrance': 25182, 'pt': 19382, 'inflamed': 12418, 'ultrasound': 25794, 'appts': 1179, 'norcal': 16735, 'tx': 25709, 'compromising': 4853, 'unencumbered': 25970, 'hemherroid': 11301, 'yosemite': 27793, 'horrifies': 11683, 'bop': 2780, 'fooling': 9436, 'tangent': 24363, 'qed': 19527, 'cabaret': 3361, 'reprimand': 20455, 'gide': 10150, 'sudafed': 23863, 'becker': 2125, 'crushing': 5654, 'rebound': 19941, 'xoxoxoxoxooxoxoxoxoxox': 27651, 'roundtrip': 21027, 'suc': 23839, 'guzzle': 10788, 'ozone': 17544, 'crumple': 5645, 'slamming': 22497, 'alexander': 624, 'contented': 5128, 'botched': 2820, 'gaza': 10003, 'castration': 3692, 'chide': 4105, 'harshly': 11078, 'harshness': 11079, 'preface': 18954, 'equalizing': 8159, 'spalshing': 22987, 'feets': 8951, 'smarting': 22624, 'marv': 15076, 'dimple': 6708, 'batwing': 2052, 'charo': 3985, 'diminshed': 6704, 'aligator': 649, 'transvestite': 25367, 'zoniness': 27930, 'rific': 20780, 'gleam': 10223, 'yonger': 27783, 'chevrolet': 4082, 'transporter': 25364, 'shu': 22200, 'samarae': 21267, 'mousie': 16032, 'quiggly': 19610, 'fashioned': 8848, 'quill': 19614, 'wakened': 26811, 'arcane': 1210, 'propagation': 19262, 'dns': 7044, 'verisign': 26487, 'loll': 14484, 'jas': 13035, 'bopping': 2782, 'aloofness': 715, 'debbs': 6067, 'kookies': 13690, 'therapeutic': 24762, 'duuuuuuuudes': 7478, 'defender': 6184, 'artistically': 1356, 'fledgeling': 9280, 'dissing': 6953, 'blaaa': 2449, 'apocalypse': 1088, 'colonialism': 4655, 'midstream': 15539, 'billionaire': 2372, 'conservatism': 5037, 'gooder': 10355, 'brainer': 2901, 'nambla': 16292, 'nadgla': 16264, 'appropos': 1166, 'unassumingly': 25837, 'blogdom': 2566, 'mumble': 16132, 'dogma': 7077, 'elevating': 7757, 'embarasses': 7824, 'tapping': 24394, 'consciously': 5029, 'seminary': 21767, 'immodest': 12111, 'intimidating': 12751, 'swervy': 24178, 'improving': 12198, 'oragami': 17239, 'screenwriting': 21577, 'barrage': 1970, 'slur': 22601, 'mikeb': 15554, 'ownz': 17530, 'supremes': 24026, 'daydreamy': 6001, 'yippeeee': 27768, 'coupledome': 5405, 'animalistic': 937, 'fling': 9307, 'grammarian': 10470, 'nellai': 16473, 'nellaiappan': 16474, 'soundarrajan': 22944, 'lending': 14088, 'gvim': 10791, 'expects': 8544, 'upto': 26240, 'mechain': 15279, 'vidya': 26555, 'cluny': 4509, 'malleshwaram': 14892, 'drizzling': 7333, 'numeric': 16853, 'keypad': 13511, 'receptionist': 19966, 'fetch': 9020, 'violet': 26612, 'tamilian': 24352, 'xyz': 27669, 'slogged': 22577, 'troubleshooting': 25525, 'avail': 1672, 'troubleshoot': 25523, 'cauliflower': 3749, 'mashed': 15092, 'curd': 5741, 'injected': 12496, 'uneasiness': 25966, 'heisenberg': 11263, 'evolves': 8412, 'stringent': 23676, 'stinking': 23533, 'competence': 4798, 'pounce': 18837, 'rapacious': 19785, 'grevin': 10580, 'tussaud': 25660, 'rupee': 21122, 'fauborg': 8877, 'philately': 18200, 'vintage': 26598, 'figurine': 9086, 'consulted': 5094, 'parc': 17713, 'villette': 26585, 'explora': 8595, 'enfants': 7985, 'geode': 10084, 'spherical': 23091, 'speciality': 23038, 'planetarium': 18458, 'screened': 21568, 'inde': 12298, 'tigre': 24954, 'bengal': 2253, 'pioneered': 18380, 'spatiale': 23014, 'orbiting': 17247, 'legende': 14053, 'etalon': 8297, 'stallion': 23325, 'solarmax': 22823, 'prettily': 19041, 'weiley': 27061, 'forefather': 9469, 'copernicus': 5262, 'propounded': 19281, 'heliocentric': 11270, 'galileo': 9900, 'galilei': 9899, 'irrespective': 12882, 'mohandas': 15810, 'gandhi': 9930, 'spearhead': 23033, 'experimented': 8564, 'civilisation': 4315, 'spectrography': 23057, 'neatly': 16414, 'berkelin': 2277, 'spews': 23088, 'symmetrically': 24231, 'voyage': 26727, 'videographing': 26551, 'corona': 5306, 'magnetosphere': 14811, 'soho': 22815, 'troubleshooted': 25524, 'observatory': 16947, 'expresso': 8617, 'rosy': 20998, 'gait': 9887, 'utmost': 26312, 'imparting': 12129, 'nobel': 16672, 'fertile': 9002, 'nourishment': 16799, 'powerhouse': 18864, 'qualification': 19546, 'eject': 7709, 'doctorate': 7057, 'breadth': 2942, 'caste': 3685, 'blackguard': 2459, 'tremendous': 25431, 'oozed': 17177, 'dustbin': 7464, 'reduit': 20094, 'tarif': 24404, 'conciergerie': 4893, 'keeper': 13452, 'vested': 26507, 'bloodiest': 2594, 'guillotined': 10733, 'replay': 20426, 'heartless': 11199, 'savage': 21378, 'procure': 19166, 'masse': 15114, 'concorde': 4906, 'paltry': 17629, 'prerogative': 18997, 'nadir': 16265, 'erstwhile': 8213, 'sightseeing': 22275, 'lithe': 14359, 'lustful': 14699, 'girdle': 10186, 'voluptuous': 26701, 'svelte': 24114, 'wavy': 26956, 'upperlip': 26220, 'earlobe': 7522, 'descends': 6411, 'netherworld': 16511, 'flaring': 9244, 'unsullied': 26155, 'purview': 19491, 'pained': 17589, 'skulking': 22473, 'jamook': 13007, 'watershed': 26942, 'anwyayz': 1043, 'cj': 4318, 'kendall': 13465, 'nonbeliever': 16704, 'nuisance': 16841, 'shitting': 22077, 'littermates': 14366, 'jayma': 13048, 'jello': 13094, 'warantee': 26859, 'legitimate': 14063, 'conason': 4864, 'interviewer': 12741, 'cherishes': 4070, 'interrogator': 12724, 'wayward': 26967, 'confessore': 4943, 'goddamned': 10303, 'hasten': 11089, 'authorize': 1649, 'stub': 23716, 'autobiography': 1655, 'accomplishing': 171, 'unsustainable': 26160, 'nonpartisan': 16715, 'stimulus': 23528, 'payer': 17883, 'tilted': 24963, 'structural': 23702, 'republicanism': 20464, 'dreamer': 7286, 'elida': 7767, 'futile': 9840, 'jargon': 13031, 'dispense': 6906, 'quetions': 19589, 'applesauce': 1136, 'plebe': 18520, 'petaluma': 18155, 'vallejo': 26358, 'festivies': 9011, 'handsdown': 10976, 'durby': 7455, 'bungle': 3237, 'visibility': 26632, 'mohammad': 15808, 'naeem': 16267, 'noor': 16730, 'khan': 13519, 'regrettable': 20189, 'espionage': 8257, 'hokey': 11529, 'pokey': 18611, 'puter': 19502, 'germ': 10106, 'mush': 16174, 'hobie': 11515, 'hopefullt': 11650, 'daywalker': 6009, 'moonlight': 15918, 'moune': 16017, 'soooooooo': 22899, 'danny': 5927, 'tha': 24706, 'yeaqr': 27715, 'seizure': 21732, 'goosedown': 10384, 'nicholson': 16590, 'mover': 16042, 'swarthout': 24134, 'takacs': 24314, 'quartet': 19564, 'finalerepresenting': 9118, 'dusinberre': 7461, 'kroly': 13719, 'schranz': 21494, 'viola': 26602, 'andrs': 895, 'fejr': 8959, 'cello': 3819, 'renowned': 20371, 'gabor': 9865, 'takcs': 24315, 'nagy': 16273, 'ormai': 17303, 'liszt': 14348, 'evian': 8391, 'decca': 6086, 'haydn': 11135, 'mozart': 16051, 'brahms': 2896, 'bartk': 1988, 'dvork': 7484, 'borodin': 2796, 'smetana': 22639, 'chausson': 4003, 'gramophone': 10474, 'residency': 20517, 'roberta': 20892, 'schwartz': 21501, 'oldfather': 17093, 'ticketpurchase': 24928, 'val': 26343, 'expatriate': 8537, 'alistair': 656, 'untimely': 26167, 'baffled': 1823, 'bummer': 3221, 'cliched': 4426, 'catchphrase': 3712, 'matured': 15170, 'painless': 17594, 'ony': 17152, 'devastated': 6531, 'swop': 24212, 'contractor': 5159, 'arguements': 1247, 'squeak': 23244, 'ultraskilled': 25793, 'champoining': 3917, 'underway': 25943, 'autisim': 1650, 'administer': 328, 'vaccination': 26330, 'compound': 4841, 'immunization': 12117, 'mumps': 16136, 'rubella': 21069, 'polio': 18623, 'permanenetly': 18073, 'paralysis': 17696, 'bureaucratic': 3253, 'innefficiencies': 12520, 'congressman': 4992, 'motivator': 16001, 'hoyts': 11750, 'modernism': 15794, 'psychoanalytic': 19369, 'acto': 260, 'plasmo': 18471, 'eyeglass': 8676, 'regurgitate': 20201, 'pg': 18173, 'liberator': 14182, 'celine': 3817, 'dion': 6728, 'snake': 22693, 'disgrace': 6856, 'neath': 16413, 'soundgarden': 22946, 'aidan': 539, 'arian': 1255, 'arienne': 1258, 'permutation': 18083, 'pronounced': 19252, 'ahn': 531, 'riiiiii': 20799, 'josephine': 13252, 'soh': 22814, 'tock': 25059, 'insidiously': 12561, 'alexsandr': 627, 'solzhenitsyn': 22854, 'exiled': 8512, 'bahstn': 1839, 'intened': 12655, 'immerse': 12101, 'longfellow': 14502, 'skyscraper': 22485, 'ocassionally': 16967, 'mingling': 15615, 'unpopulated': 26108, 'drawl': 7275, 'succumbed': 23855, 'identifying': 11979, 'knoxville': 13675, 'shark': 21973, 'rudy': 21078, 'milli': 15581, 'vanilli': 26376, 'braided': 2898, 'syncing': 24242, 'noggin': 16685, 'ravished': 19840, 'fandangled': 8808, 'stimulator': 23527, 'slob': 22575, 'hani': 10992, 'fulfilling': 9769, 'stabber': 23287, 'prctically': 18913, 'stc': 23419, 'sandles': 21289, 'ptc': 19383, 'kaiser': 13369, 'mullen': 16115, 'russel': 21128, 'silverman': 22318, 'beautise': 2116, 'pessimism': 18146, 'comparrison': 4782, 'luging': 14660, 'curler': 5753, 'sequining': 21837, 'bedazzler': 2140, 'chinfo': 4138, 'navpalib': 16381, 'allhands': 683, 'graphical': 10511, 'americanhistory': 808, 'ssb': 23278, 'usflag': 26290, 'obligated': 16930, 'maintainance': 14842, 'horizontal': 11666, 'alligator': 687, 'remixed': 20339, 'cadre': 3384, 'roeper': 20921, 'accordion': 177, 'throwaway': 24882, 'devotee': 6560, 'etus': 8322, 'gawk': 9998, 'unformed': 25995, 'judiasm': 13292, 'firey': 9172, 'aethist': 414, 'soceity': 22777, 'vengence': 26454, 'tyrant': 25735, 'suppressing': 24022, 'unnecessarily': 26081, 'heinlein': 11258, 'croce': 5599, 'vapower': 26386, 'voltage': 26691, 'recommending': 20009, 'jv': 13353, 'kickoff': 13535, 'td': 24463, 'moritz': 15957, 'ecology': 7582, 'cocui': 4558, 'guerrilla': 10713, 'verdes': 26479, 'gunshot': 10762, 'paralyzed': 17697, 'footstep': 9450, 'instantaneously': 12600, 'gatekeeper': 9979, 'bizarrely': 2440, 'hominem': 11590, 'equivalence': 8171, 'amassed': 768, 'guitarsenal': 10744, 'yasser': 27695, 'arafat': 1199, 'contemptuously': 5123, 'duplicitous': 7452, 'deceitful': 6090, 'leftoids': 14035, 'semitism': 21768, 'socializing': 22785, 'mooseport': 15929, 'ramano': 19748, 'paolo': 17664, 'janelle': 13012, 'archery': 1215, 'mma': 15744, 'enven': 8115, 'raptor': 19794, 'woooooooo': 27464, 'drezner': 7306, 'endangering': 7955, 'garner': 9957, 'projectible': 19218, 'imvho': 12206, 'aq': 1189, 'feebs': 8942, 'cavalry': 3764, 'moab': 15764, 'psy': 19360, 'wolfowitz': 27413, 'specop': 23050, 'aftermath': 465, 'strategist': 23627, 'frequented': 9660, 'aqua': 1190, 'trickery': 25456, 'elegantly': 7747, 'coded': 4562, 'nested': 16503, 'cs': 5671, 'compatibility': 4787, 'unsupported': 26156, 'gobbling': 10298, 'douglas': 7201, 'bowman': 2861, 'stopdesign': 23574, 'activelement': 254, 'orland': 17300, 'mosque': 15984, 'bigot': 2358, 'neoprints': 16486, 'duper': 7449, 'slimming': 22559, 'hoon': 11633, 'kuay': 13732, 'mian': 15495, 'meepok': 15320, 'fishball': 9183, 'fishcake': 9187, 'tau': 24438, 'pok': 18606, 'cockel': 4547, 'imitate': 12082, 'partition': 17773, 'cmi': 4514, 'detected': 6497, 'lanyard': 13858, 'findyourspot': 9133, 'rededicated': 20062, 'stereo': 23474, 'motorola': 16010, 'alpine': 724, 'forthcoming': 9527, 'emerging': 7861, 'woodork': 27444, 'reenact': 20104, 'clarification': 4353, 'exacting': 8427, 'wholesale': 27203, 'stubbled': 23718, 'obbsesion': 16910, 'constanty': 5074, 'chopstick': 4194, 'spewed': 23086, 'inanity': 12216, 'attire': 1574, 'jewellry': 13138, 'oooohhhh': 17167, 'exept': 8491, 'elclang': 7722, 'recover': 20036, 'nwo': 16887, 'teflon': 24532, 'weirdzilla': 27071, 'accomadate': 158, 'zzzexy': 27945, 'andrewsullivan': 893, 'ramification': 19754, 'nanosecond': 16307, 'eaerry': 7511, 'alainers': 587, 'partayyed': 17755, 'wendys': 27093, 'friggen': 9685, 'shia': 22033, 'spazzed': 23023, 'buddah': 3144, 'univeral': 26043, 'morrow': 15973, 'ehhhwwley': 7694, 'appealed': 1116, 'succeded': 23840, 'invalidated': 12796, 'technicality': 24497, 'consistently': 5060, 'attourneys': 1577, 'discredited': 6829, 'electing': 7730, 'elector': 7734, 'encarta': 7921, 'encnet': 7934, 'refpages': 20140, 'refarticle': 20109, 'aspx': 1419, 'refid': 20121, 'devised': 6553, 'drafter': 7244, 'entrust': 8108, 'selecting': 21739, 'legislature': 14060, 'specifying': 23048, 'forerunner': 9476, 'burr': 3276, 'protracted': 19318, 'ratified': 19817, 'toricelli': 25170, 'papering': 17675, 'lynching': 14722, 'glasshouse': 10218, 'wrecked': 27563, 'whee': 27136, 'leaste': 14009, 'embarrising': 7834, 'embarressed': 7833, 'likea': 14246, 'acrosse': 245, 'minding': 15606, 'bizznas': 2445, 'wwhack': 27614, 'riioot': 20801, 'paticular': 17828, 'considereing': 5048, 'woudl': 27530, 'stinko': 23534, 'recital': 19982, 'epiphany': 8142, 'resisted': 20530, 'layover': 13960, 'brasilia': 2920, 'arive': 1266, 'busking': 3299, 'prude': 19345, 'arount': 1299, 'netsie': 16515, 'fairfield': 8750, 'trumbull': 25552, 'ellen': 7790, 'tollman': 25100, 'draging': 7250, 'craking': 5472, 'chivalrous': 4160, 'bypass': 3346, 'limp': 14279, 'unbelievably': 25849, 'enrages': 8039, 'percieve': 18040, 'goodwill': 10360, 'flareup': 9243, 'fibromyalgia': 9052, 'rheumatologist': 20724, 'fussy': 9837, 'icrywolf': 11959, 'fondly': 9423, 'deepfun': 6169, 'weblog': 27013, 'curser': 5767, 'grrrrrrr': 10670, 'moniter': 15873, 'marion': 15028, 'rxxd': 21141, 'kingostopper': 13593, 'kingo': 13591, 'shorta': 22123, 'playin': 18493, 'poisoness': 18603, 'remmbering': 20341, 'crapz': 5492, 'pleasent': 18512, 'sleppy': 22541, 'kiddnapped': 13540, 'stopp': 23577, 'druggin': 7360, 'yellin': 27733, 'hearpy': 11183, 'relpys': 20296, 'stepps': 23471, 'losbter': 14556, 'repleys': 20430, 'nack': 16261, 'discolored': 6809, 'thorugh': 24830, 'vial': 26524, 'larwence': 13875, 'dissbelief': 6945, 'dissapointing': 6938, 'soemone': 22802, 'kiddnapp': 13539, 'stammer': 23327, 'itys': 12951, 'spanked': 22996, 'kichen': 13527, 'woundering': 27537, 'mansfield': 14965, 'kingos': 13592, 'cyrstal': 5828, 'meth': 15463, 'sipp': 22387, 'dought': 7200, 'lown': 14623, 'mryon': 16063, 'awawwwwww': 1715, 'rumm': 21100, 'excludes': 8471, 'engages': 7995, 'wordy': 27482, 'cabbed': 3363, 'interject': 12698, 'spielburg': 23101, 'delusional': 6279, 'pooling': 18689, 'eminiem': 7869, 'elektra': 7749, 'blogad': 2561, 'myspace': 16240, 'deemed': 6162, 'inescapable': 12377, 'wadeva': 26770, 'hanzi': 10999, 'nua': 16826, 'har': 11022, 'agitate': 498, 'ripen': 20822, 'inhumanity': 12488, 'intending': 12653, 'confide': 4946, 'witless': 27379, 'compatriot': 4789, 'eminem': 7868, 'thoughout': 24834, 'tucking': 25595, 'emmy': 7874, 'shag': 21930, 'gratituous': 10530, 'royale': 21050, 'symmetrical': 24230, 'melodic': 15355, 'matchbook': 15134, 'resonate': 20540, 'iowan': 12846, 'appedicitis': 1126, 'gravedigger': 10533, 'blading': 2471, 'looker': 14515, 'hanguel': 10991, 'jeon': 13106, 'cf': 3874, 'windstruck': 27310, 'yeochinso': 27740, 'yeojachingu': 27742, 'rul': 21091, 'sogayhamnida': 22812, 'hof': 11520, 'giordano': 10184, 'aired': 563, 'sensibility': 21791, 'twinge': 25691, 'jiali': 13144, 'rulez': 21095, 'isetan': 12903, 'muahahaha': 16079, 'disagress': 6769, 'stationary': 23402, 'hehehehehe': 11253, 'resuce': 20602, 'heeren': 11240, 'assesment': 1437, 'schooling': 21491, 'hmv': 11501, 'marykate': 15082, 'vcd': 26416, 'bukitmerah': 3186, 'interchange': 12679, 'ponderosa': 18672, 'steakhouse': 23426, 'mechanicsville': 15282, 'conservsations': 5042, 'regency': 20171, 'lopez': 14543, 'logo': 14472, 'pinto': 18378, 'bicker': 2342, 'derogatory': 6402, 'verbally': 26474, 'queda': 19571, 'jazzboyj': 13053, 'oeople': 17020, 'overexaggerating': 17447, 'unstable': 26151, 'catholicism': 3731, 'livse': 14386, 'occupies': 16980, 'catechism': 3715, 'facinated': 8716, 'dre': 7277, 'herre': 11352, 'defintily': 6215, 'defintly': 6216, 'manga': 14927, 'dothack': 7186, 'hina': 11433, 'uptown': 26241, 'agrivating': 512, 'yeeeeeeeeaaahh': 27723, 'keeng': 13450, 'sneered': 22707, 'unworthy': 26186, 'poorstarvingartist': 18705, 'wastefulness': 26914, 'snobbism': 22732, 'artisanally': 1352, 'connoisseur': 5016, 'godforbid': 10307, 'higgins': 11392, 'lombardy': 14489, 'oversimplified': 17487, 'infer': 12401, 'popularly': 18718, 'acclaimed': 155, 'oversight': 17485, 'reactionary': 19864, 'michele': 15505, 'basye': 2024, 'disposition': 6921, 'craziness': 5514, 'cuse': 5780, 'bubbling': 3126, 'oild': 17070, 'opec': 17182, 'sultan': 23911, 'airbase': 557, 'medina': 15304, 'abandoning': 31, 'isreal': 12926, 'hamaas': 10931, 'implending': 12155, 'reopened': 20381, 'compliant': 4825, 'tangentially': 24364, 'defeating': 6176, 'benefactor': 2243, 'qulity': 19641, 'connotation': 5019, 'musgrave': 16173, 'yanking': 27687, 'untied': 26165, 'marcy': 15008, 'grinch': 10603, 'flustered': 9376, 'hist': 11462, 'decently': 6097, 'faceted': 8708, 'expertise': 8567, 'executed': 8483, 'rendered': 20358, 'governance': 10417, 'tapeworm': 24390, 'antiparasitic': 1024, 'uninvited': 26035, 'cohibitant': 4591, 'banged': 1900, 'distraught': 6979, 'debauched': 6065, 'pikmin': 18330, 'gamecube': 9918, 'dorable': 7167, 'sodom': 22799, 'guido': 10728, 'margarita': 15011, 'involed': 12831, 'flatworm': 9265, 'yeehaw': 27724, 'freakiness': 9619, 'darvocet': 5967, 'barefeet': 1945, 'uhm': 25772, 'chickadee': 4098, 'ineffective': 12369, 'sugarcock': 23887, 'firestone': 9168, 'probing': 19133, 'testify': 24674, 'rollover': 20945, 'runge': 21115, 'physician': 18260, 'inflict': 12425, 'sharply': 21977, 'considerable': 5044, 'cischke': 4299, 'noteworthy': 16778, 'sharpened': 21976, 'lobbying': 14432, 'ceding': 3800, 'claybrook': 4386, 'bobbed': 2667, 'weaved': 27004, 'spock': 23149, 'trekkie': 25426, 'outweigh': 17417, 'exorbitantly': 8527, 'bovary': 2852, 'valiant': 26349, 'teased': 24486, 'striving': 23686, 'widget': 27236, 'component': 4835, 'cftagstore': 3878, 'intranet': 12759, 'teamworkintranet': 24478, 'coldfusion': 4613, 'jspell': 13276, 'textarea': 24694, 'sourceforge': 22954, 'jzip': 13355, 'cfmyadmin': 3877, 'mysql': 16241, 'irritable': 12890, 'playbook': 18486, 'disconcerting': 6811, 'spinner': 23116, 'leaderboard': 13982, 'pistachio': 18406, 'adnd': 347, 'replenish': 20428, 'weariness': 26995, 'withering': 27373, 'tarnishing': 24406, 'popups': 18724, 'intrudes': 12785, 'drought': 7347, 'brushfires': 3102, 'skeptical': 22438, 'touting': 25233, 'polymer': 18656, 'trickle': 25457, 'localized': 14440, 'killling': 13560, 'thirst': 24809, 'intrigue': 12768, 'snobbish': 22731, 'feasted': 8916, 'remebered': 20317, 'cannibal': 3519, 'keaton': 13442, 'retorting': 20637, 'okiez': 17083, 'shen': 22017, 'zhuo': 27900, 'zhe': 27895, 'budhism': 3153, 'bersek': 2284, 'comerford': 4698, 'dreamweaver': 7293, 'sthe': 23501, 'phpnuke': 18247, 'bluefish': 2620, 'gimp': 10174, 'thunderbird': 24896, 'vealso': 26421, 'converting': 5211, 'cpu': 5452, 'reciting': 19986, 'resentment': 20505, 'hotheaded': 11712, 'rift': 20783, 'mgr': 15489, 'floundering': 9349, 'othro': 17344, 'radiology': 19696, 'muscular': 16167, 'progression': 19208, 'fateful': 8866, 'drastically': 7269, 'testimonial': 24675, 'teo': 24622, 'philpott': 18214, 'bobbing': 2668, 'showy': 22171, 'focussed': 9396, 'barstool': 1983, 'prance': 18899, 'cultimates': 5714, 'climax': 4439, 'fitfulness': 9202, 'lain': 13821, 'meagre': 15249, 'rachael': 19664, 'oates': 16905, 'anthrax': 1011, 'sardine': 21327, 'santey': 21309, 'assuring': 1470, 'forn': 9520, 'osteopathic': 17336, 'covarrubias': 5429, 'outpatient': 17392, 'anesth': 900, 'anesthetic': 902, 'coppertops': 5270, 'sentinel': 21812, 'btu': 3119, 'waddle': 26768, 'snoozie': 22736, 'unthinkable': 26162, 'profoundness': 19194, 'foundness': 9553, 'reorgaization': 20382, 'frentsos': 9654, 'shay': 21991, 'nyack': 16890, 'piermont': 18312, 'tandem': 24361, 'skydiving': 22479, 'eliminted': 7776, 'chrous': 4230, 'starlit': 23367, 'drinkin': 7320, 'halogen': 10922, 'pelt': 17975, 'goosebump': 10383, 'dionne': 6730, 'warwick': 26898, 'shirty': 22069, 'shoey': 22099, 'socky': 22794, 'mcick': 15235, 'blaaaaaaaaaaaaaaaaah': 2451, 'bambi': 1881, 'subjected': 23787, 'ahhhhhhhhhhhhhhhhhhhhhhhhhhh': 529, 'subset': 23808, 'vons': 26712, 'striker': 23672, 'jig': 13152, 'authored': 1645, 'yahweh': 27679, 'unifying': 26022, 'weakens': 26983, 'courthouse': 5419, 'brulee': 3092, 'octopussy': 17002, 'birdieing': 2398, 'stus': 23761, 'ndbritish': 16397, 'rdat': 19854, 'popup': 18723, 'blocker': 2558, 'embarass': 7822, 'exude': 8665, 'bration': 2923, 'acouple': 231, 'merle': 15418, 'wille': 27273, 'roswell': 20997, 'lightening': 14233, 'shepherdess': 22021, 'aluminum': 749, 'foil': 9403, 'tab': 24263, 'hotkeys': 11713, 'piccolo': 18278, 'flute': 9377, 'thaaaaanks': 24709, 'algbra': 632, 'fiddled': 9061, 'kooky': 13691, 'refreshed': 20144, 'jlg': 13175, 'machismo': 14753, 'villamizar': 26582, 'birthplace': 2411, 'cheverly': 4081, 'cherokee': 4072, 'anchovy': 880, 'overused': 17507, 'dawen': 5995, 'lipton': 14324, 'nestea': 16502, 'cappuccino': 3558, 'cuss': 5784, 'dipping': 6738, 'intoxicated': 12756, 'shoplifted': 22112, 'chex': 4090, 'crunchy': 5649, 'bazillion': 2063, 'extremism': 8660, 'curmodgeon': 5756, 'twisty': 25699, 'corresponded': 5325, 'eyemsgtwrwhwanaeyelwtrsmplywtr': 8680, 'ntsnnfanyel': 16823, 'readingsexandthecity': 19874, 'lewrockwell': 14154, 'orig': 17291, 'rename': 20355, 'knucklehead': 13677, 'elaborated': 7715, 'analgesic': 858, 'minimize': 15622, 'socioeconomic': 22790, 'inequality': 12374, 'internalization': 12706, 'jesse': 13123, 'tommorow': 25115, 'updatiing': 26197, 'dumbasterisk': 7419, 'earthling': 7535, 'ambivalence': 790, 'blustery': 2641, 'oceanspray': 16995, 'ardeer': 1227, 'considerably': 5045, 'pasir': 17791, 'bridget': 2990, 'surpising': 24054, 'spasming': 23013, 'mutany': 16200, 'midgethood': 15530, 'toilette': 25078, 'turncoat': 25641, 'luxerious': 14709, 'countertop': 5393, 'monsterous': 15891, 'assertain': 1433, 'unforgiving': 25994, 'misbehaving': 15659, 'astray': 1487, 'beleive': 2201, 'doornobs': 7161, 'lightswitches': 14243, 'fragrant': 9577, 'asend': 1376, 'paralyzing': 17698, 'streetmate': 23645, 'macarana': 14740, 'skivies': 22470, 'harrier': 11068, 'prety': 19046, 'baloon': 1877, 'wheras': 27146, 'havok': 11122, 'letup': 14136, 'damien': 5884, 'masochism': 15098, 'satiated': 21346, 'terrifies': 24652, 'prisioners': 19106, 'injustly': 12504, 'piled': 18334, 'blacking': 2461, 'enriching': 8042, 'revisited': 20694, 'await': 1703, 'disengaged': 6854, 'doddering': 7065, 'pivot': 18427, 'longingly': 14504, 'hulking': 11799, 'biceps': 2341, 'finer': 9137, 'requisite': 20481, 'porous': 18740, 'selsun': 21756, 'sunsilk': 23961, 'frutrience': 9740, 'wella': 27080, 'upturned': 26242, 'eeps': 7654, 'gaultier': 9993, 'dieter': 6641, 'jeanpaulgaultier': 13067, 'vf': 26517, 'croissandwich': 5602, 'incontinent': 12273, 'warroom': 26893, 'dampened': 5894, 'pandora': 17646, 'tweaked': 25677, 'stockbroker': 23550, 'financier': 9125, 'janes': 13013, 'hyperbole': 11906, 'curveball': 5776, 'taxicab': 24447, 'plumbed': 18552, 'unprofessional': 26116, 'discharging': 6801, 'chalked': 3903, 'personified': 18119, 'identifiable': 11974, 'storyteller': 23593, 'paraphrasing': 17705, 'fallible': 8776, 'foreshadowed': 9479, 'briefing': 2996, 'artillery': 1351, 'armistice': 1278, 'cessation': 3871, 'hearkening': 11182, 'rhodes': 20725, 'rhodesia': 20726, 'technological': 24501, 'respondent': 20562, 'salespitch': 21237, 'martial': 15068, 'imprisonment': 12190, 'skiing': 22450, 'buller': 3206, 'tumbling': 25616, 'injuring': 12501, 'yesterdat': 27750, 'telecast': 24540, 'crazed': 5512, 'bloke': 2584, 'slosh': 22581, 'ruski': 21127, 'rooting': 20980, 'ronaldinho': 20962, 'tugged': 25602, 'breezers': 2965, 'contraband': 5152, 'grocer': 10624, 'snuck': 22753, 'nametage': 16297, 'wooppeedoo': 27473, 'reuben': 20656, 'reubs': 20657, 'watcha': 26920, 'exupry': 8668, 'tosay': 25194, 'ofoto': 17052, 'kodak': 13681, 'briget': 3001, 'coward': 5440, 'sympathize': 24234, 'dishonor': 6872, 'projection': 19220, 'zaraquai': 27868, 'tearful': 24483, 'perry': 18098, 'dostoyevski': 7183, 'tolstoy': 25101, 'gravitating': 10537, 'rachmaninov': 19672, 'prokofiev': 19222, 'shostakovich': 22138, 'menace': 15381, 'juggernaut': 13297, 'treeline': 25422, 'paratrooper': 17712, 'seaport': 21638, 'chekhov': 4048, 'triumphtheinsultcomicdog': 25498, 'maschler': 15088, 'straughn': 23630, 'paintball': 17598, 'nocturnal': 16680, 'stefanie': 23450, 'cabal': 3359, 'easterner': 7550, 'construed': 5090, 'fwiw': 9853, 'bastardizing': 2017, 'serverely': 21868, 'deficient': 6197, 'everday': 8375, 'cheapen': 4010, 'wallace': 26826, 'defiant': 6195, 'ceremoniously': 3858, 'martyr': 15075, 'unclouded': 25871, 'earns': 7530, 'shadowed': 21924, 'pitchfork': 18415, 'botter': 2825, 'charting': 3987, 'brandnames': 2915, 'brandstand': 2917, 'revision': 20692, 'edt': 7624, 'drunkenly': 7374, 'disgustingly': 6865, 'disoriented': 6900, 'pricepoint': 19070, 'muhahaha': 16106, 'sacked': 21157, 'phisters': 18216, 'trudi': 25542, 'wheeeee': 27139, 'bene': 2240, 'projectionist': 19221, 'serendipitously': 21842, 'hammering': 10940, 'fantasize': 8816, 'cadence': 3382, 'blooded': 2592, 'rosamund': 20987, 'enthusasim': 8078, 'villan': 26583, 'berman': 2280, 'mirth': 15658, 'solemn': 22830, 'orgasm': 17283, 'kenkoys': 13466, 'forwarding': 9538, 'recapture': 19953, 'surrogate': 24069, 'knowcomfort': 13668, 'cookingbut': 5232, 'sandok': 21291, 'palayok': 17616, 'waythat': 26965, 'turo': 25651, 'heatlamp': 11210, 'longsilog': 14508, 'aroundthey': 1297, 'orgasmic': 17285, 'couldve': 5379, 'anton': 1034, 'mybabydaddy': 16226, 'turon': 25653, 'lechon': 14016, 'audreys': 1612, 'caldereta': 3422, 'vinroc': 26597, 'busying': 3309, 'apathetic': 1077, 'bawal': 2055, 'gout': 10414, 'burma': 3264, 'preggo': 18964, 'swingin': 24192, 'protestation': 19310, 'nave': 16375, 'fable': 8690, 'fearlessly': 8913, 'blueberry': 2619, 'dither': 6995, 'bromidic': 3055, 'pourin': 18845, 'giggled': 10159, 'oceanside': 16994, 'masquerade': 15104, 'extolling': 8642, 'dolen': 7091, 'betrothed': 2305, 'cosmetically': 5351, 'referenced': 20112, 'shpiels': 22174, 'yesh': 27748, 'wording': 27479, 'vin': 26588, 'peirce': 17972, 'wayyy': 26970, 'tryed': 25567, 'moe': 15802, 'snowboarding': 22746, 'omfg': 17117, 'mofo': 15803, 'bitchass': 2423, 'parentals': 17721, 'tooooo': 25145, 'cooold': 5242, 'junky': 13330, 'generate': 10047, 'knapsack': 13640, 'purportedly': 19477, 'literate': 14357, 'maelstrom': 14788, 'allowable': 696, 'tuition': 25607, 'reimbursement': 20216, 'ranked': 19778, 'computerworld': 4860, 'lease': 14008, 'convertible': 5210, 'beetle': 2157, 'constipation': 5077, 'massachusettes': 15107, 'averting': 1686, 'discriminatory': 6841, 'dictating': 6619, 'alienate': 647, 'judeo': 13283, 'secularized': 21684, 'restless': 20581, 'salome': 21246, 'outlawing': 17383, 'birthing': 2410, 'vagary': 26337, 'cajole': 3405, 'middleman': 15526, 'clamouring': 4337, 'flipside': 9313, 'undertaking': 25939, 'honoured': 11619, 'delegation': 6246, 'gagh': 9875, 'traumatised': 25383, 'ped': 17934, 'anthropologist': 1012, 'contracted': 5157, 'squirming': 23262, 'bukit': 3185, 'timah': 24967, 'lunatic': 14676, 'fatherly': 8869, 'glanced': 10211, 'stealthy': 23433, 'outpost': 17395, 'warbah': 26860, 'joshua': 13254, 'bradley': 2889, 'reacquire': 19859, 'rubble': 21068, 'foley': 9409, 'qasar': 19524, 'sweated': 24148, 'jolted': 13232, 'launcher': 13926, 'sailed': 21213, 'stealth': 23431, 'crunched': 5647, 'underbrush': 25906, 'scoped': 21524, 'wiggled': 27252, 'switchbacks': 24203, 'inched': 12242, 'switchback': 24202, 'allied': 686, 'warthog': 26896, 'ordinance': 17261, 'howled': 11746, 'steadied': 23423, 'rifled': 20782, 'combatant': 4684, 'trotted': 25519, 'unplugged': 26105, 'detection': 6498, 'mias': 15496, 'smoothed': 22665, 'pivotal': 18428, 'gaiety': 9878, 'hallows': 10918, 'marinated': 15024, 'spiced': 23094, 'fabricate': 8692, 'scooting': 21522, 'muster': 16195, 'powerless': 18865, 'overtakes': 17497, 'pilgrim': 18335, 'murmur': 16160, 'amid': 816, 'dumper': 7428, 'sinned': 22379, 'wrongdoing': 27588, 'hunk': 11848, 'straw': 23632, 'cupholders': 5734, 'abridged': 85, 'explainer': 8578, 'castaway': 3684, 'blackhawk': 2460, 'sw': 24115, 'mib': 15497, 'disliked': 6882, 'divergent': 7007, 'herd': 11331, 'aclaimed': 225, 'munchkins': 16142, 'snafu': 22689, 'krum': 13723, 'farkin': 8827, 'devastate': 6530, 'sputter': 23225, 'tangerine': 24365, 'informative': 12443, 'speeck': 23065, 'prizoner': 19122, 'goobish': 10351, 'cuteness': 5795, 'conjurs': 4999, 'traditionalism': 25277, 'scooping': 21518, 'lempicka': 14085, 'patroness': 17845, 'woop': 27467, 'hawke': 11126, 'thurman': 24904, 'spazed': 23020, 'postion': 18803, 'unwrap': 26187, 'starburst': 23354, 'hershey': 11354, 'recoupe': 20034, 'edinboro': 7611, 'activate': 251, 'rollled': 20944, 'ani': 934, 'mc': 15205, 'wooo': 27457, 'farking': 8828, 'henderson': 11314, 'hawker': 11127, 'contiune': 5148, 'yuting': 27848, 'liaoz': 14171, 'watchout': 26927, 'stutter': 23762, 'piglet': 18324, 'impede': 12134, 'speach': 23026, 'barnyard': 1966, 'paging': 17583, 'bigfatstupidloser': 2350, 'trav': 25385, 'nicotine': 16600, 'thalky': 24715, 'alky': 661, 'oooooh': 17169, 'slated': 22514, 'theatrical': 24738, 'skewer': 22443, 'teamamericamovie': 24473, 'drudgereport': 7354, 'suave': 23777, 'zhimei': 27899, 'wanwei': 26856, 'zm': 27920, 'paisae': 17606, 'rubbish': 21067, 'pestering': 18151, 'neoprint': 16485, 'aniwae': 944, 'beggining': 2168, 'detrimental': 6524, 'omnipotent': 17123, 'omnipresent': 17124, 'joos': 13244, 'tibetan': 24919, 'sesshin': 21874, 'mediation': 15291, 'sbds': 21408, 'thx': 24913, 'fondness': 9424, 'drunki': 7375, 'wagenschenke': 26777, 'daaa': 5835, 'achtung': 218, 'ichli': 11948, 'diech': 6630, 'mcang': 15207, 'dorian': 7169, 'duchess': 7395, 'gravely': 10535, 'agatha': 476, 'erskine': 8212, 'sickens': 22244, 'uncontrolled': 25888, 'destablilized': 6473, 'betray': 2301, 'kling': 13634, 'lysandros': 14729, 'barked': 1955, 'spurred': 23221, 'steed': 23441, 'muttered': 16210, 'khaine': 13517, 'shroud': 22193, 'aldamir': 612, 'adamantios': 279, 'chitterling': 4159, 'horde': 11664, 'quikchitter': 19612, 'bared': 1944, 'quikwarp': 19613, 'musk': 16186, 'seer': 21717, 'pox': 18869, 'potentate': 18822, 'ratling': 19825, 'malfunction': 14881, 'spurting': 23224, 'saliva': 21242, 'hopingly': 11657, 'corps': 5311, 'pinched': 18358, 'skyre': 22483, 'sniffing': 22716, 'incomprehension': 12265, 'surveying': 24077, 'blasted': 2491, 'snarled': 22699, 'lashed': 13884, 'intrusion': 12786, 'froth': 9717, 'dripped': 7323, 'flank': 9235, 'blurring': 2638, 'palpable': 17627, 'stabled': 23292, 'glowed': 10269, 'incanted': 12226, 'escaping': 8230, 'bolster': 2707, 'boyish': 2876, 'savor': 21387, 'whoooosh': 27208, 'traverse': 25393, 'cff': 3876, 'interruption': 12728, 'circs': 4288, 'langus': 13854, 'lamb': 13829, 'bulky': 3201, 'ichi': 11947, 'gnarliest': 10287, 'goriest': 10392, 'dcma': 6024, 'meg': 15325, 'uploads': 26216, 'vnv': 26669, 'asana': 1366, 'bussing': 3300, 'desegregation': 6421, 'ashtray': 1392, 'primer': 19086, 'inhabited': 12473, 'dinning': 6722, 'decorating': 6135, 'affectionately': 427, 'hopeing': 11652, 'krugman': 13722, 'demanded': 6287, 'reparation': 20390, 'vanquished': 26382, 'selfless': 21748, 'altruism': 747, 'farsighted': 8834, 'fostering': 9543, 'jeered': 13078, 'cynic': 5821, 'generosity': 10055, 'warlord': 26872, 'lapse': 13863, 'turk': 25635, 'assurance': 1467, 'postwar': 18816, 'nonchalance': 16705, 'overlord': 17468, 'outraged': 17398, 'nazification': 16386, 'purged': 19467, 'intends': 12654, 'sunni': 23954, 'shiite': 22040, 'shortsighted': 22135, 'zmag': 27921, 'ttt': 25582, 'unclose': 25869, 'skillfully': 22454, 'imago': 12070, 'descending': 6410, 'texture': 24700, 'compels': 4793, 'rendering': 20359, 'epitomy': 8150, 'pcers': 17899, 'evidenced': 8395, 'gaydar': 10001, 'outrightly': 17401, 'deluge': 6277, 'schoolgirl': 21490, 'metrosexual': 15480, 'greying': 10584, 'gorguyeo': 10391, 'concurrent': 4912, 'paekche': 17573, 'shilla': 22043, 'koryo': 13700, 'venerated': 26450, 'felling': 8963, 'nina': 16635, 'simone': 22330, 'flyin': 9383, 'driftin': 7313, 'scent': 21460, 'goooooooooooood': 10381, 'burdines': 3249, 'shopped': 22116, 'sadder': 21176, 'pyromaniac': 19521, 'firecracker': 9158, 'reared': 19913, 'triglyceride': 25470, 'drumroll': 7368, 'cardio': 3590, 'mistrust': 15716, 'bog': 2682, 'decoy': 6139, 'weakly': 26985, 'polarizing': 18615, 'retiree': 20632, 'filibuster': 9094, 'neanderthal': 16403, 'mao': 14985, 'ists': 12931, 'greenpeace': 10564, 'murderous': 16158, 'tyrannical': 25732, 'despot': 6468, 'refute': 20159, 'fastidious': 8858, 'mistruths': 15718, 'limbaugh': 14267, 'credited': 5541, 'strengthening': 23651, 'gubernatorial': 10707, 'freight': 9647, 'fabulously': 8697, 'piccies': 18277, 'gatherer': 9983, 'acland': 226, 'williamstown': 27283, 'anchorage': 877, 'sirloin': 22395, 'fillet': 9102, 'strayed': 23635, 'fooooooooom': 9440, 'vigrously': 26572, 'thweet': 24912, 'usn': 26294, 'wr': 27548, 'ecologist': 7581, 'microscopic': 15518, 'escaped': 8229, 'adeu': 311, 'alliteration': 690, 'tomrrow': 25122, 'creak': 5519, 'hustled': 11872, 'sattelite': 21361, 'fiberglass': 9048, 'attatched': 1557, 'skeleton': 22436, 'unplug': 26104, 'reciever': 19977, 'throug': 24877, 'toke': 25081, 'contraction': 5158, 'reacts': 19867, 'weened': 27044, 'bedrest': 2145, 'imsho': 12204, 'relating': 20247, 'primed': 19085, 'spaciousness': 22982, 'snowish': 22748, 'nother': 16779, 'rynie': 21145, 'brett': 2975, 'underhanded': 25919, 'briggs': 3002, 'jaime': 12988, 'cranium': 5480, 'rosa': 20985, 'latina': 13904, 'ughhhh': 25763, 'nooooooo': 16729, 'pec': 17928, 'implant': 12151, 'redeemed': 20065, 'benny': 2260, 'goodman': 10357, 'artistry': 1357, 'tchaichovsky': 24460, 'mussorgsky': 16190, 'rossini': 20994, 'wagner': 26781, 'drifting': 7314, 'doctoral': 7056, 'mayhem': 15190, 'streches': 23642, 'ingnorant': 12464, 'gerocry': 10112, 'austintown': 1636, 'ubducted': 25739, 'ollie': 17105, 'skateboard': 22432, 'gardening': 9945, 'strangeness': 23614, 'sever': 21892, 'telegraph': 24543, 'compells': 4792, 'momentumy': 15843, 'talkingness': 24334, 'hemmingway': 11308, 'creapy': 5525, 'conch': 4890, 'haveing': 11113, 'sucessfully': 23857, 'hornivore': 11671, 'subhuman': 23785, 'hornivores': 11672, 'misused': 15724, 'contraception': 5153, 'bestial': 2291, 'smoothes': 22667, 'unlikelyyou': 26063, 'beckons': 2130, 'antidote': 1022, 'opting': 17234, 'gridlock': 10586, 'crowding': 5624, 'collins': 4646, 'braced': 2883, 'smut': 22685, 'whiteness': 27188, 'faccia': 8700, 'transforming': 25339, 'canvas': 3535, 'pornstars': 18739, 'lazybones': 13969, 'uncomfortably': 25873, 'paoed': 17663, 'cze': 5831, 'makansutra': 14861, 'tanjong': 24374, 'rhu': 20729, 'pao': 17662, 'ceasing': 3794, 'soliciting': 22833, 'convieniently': 5218, 'paos': 17665, 'patted': 17851, 'sedated': 21697, 'feasibly': 8914, 'tec': 24492, 'recenter': 19962, 'morpheus': 15966, 'silva': 22316, 'reut': 20659, 'rizzn': 20856, 'upbringing': 26191, 'truman': 25551, 'burningman': 3273, 'ufo': 25755, 'postulate': 18811, 'spacefaring': 22979, 'frenchy': 9651, 'intenionally': 12656, 'culturally': 5719, 'brochure': 3048, 'restoring': 20590, 'donating': 7126, 'reciept': 19974, 'misinterpreted': 15678, 'ascribe': 1373, 'aaarrrggghhhhhhhhgggghhhhhh': 14, 'idisk': 11992, 'lun': 14673, 'zun': 27941, 'bmp': 2644, 'inoperative': 12534, 'squeamish': 23250, 'keeeeeeeeeep': 13446, 'fundy': 9797, 'asshatted': 1442, 'fanatic': 8802, 'politicize': 18637, 'banning': 1916, 'triguy': 25472, 'sig': 22269, 'jut': 13348, 'mccoy': 15218, 'jacksonville': 12974, 'gainesville': 9883, 'duckling': 7398, 'marauder': 14995, 'trashy': 25376, 'portman': 18757, 'glimpsed': 10239, 'fabric': 8691, 'softener': 22809, 'blanked': 2484, 'ednalinos': 7621, 'sedaris': 21695, 'antonia': 1035, 'readig': 19871, 'weeding': 27030, 'thundering': 24899, 'disgruntled': 6859, 'graceless': 10443, 'possesed': 18784, 'sally': 21244, 'succumb': 23854, 'thik': 24788, 'manipulative': 14949, 'brawn': 2937, 'prism': 19107, 'pollyanna': 18650, 'kaleidoscope': 13374, 'experimenting': 8565, 'journalistic': 13261, 'threading': 24847, 'wading': 26771, 'braving': 2934, 'morro': 15972, 'wriggled': 27571, 'crevice': 5558, 'mountainous': 16020, 'consoled': 5064, 'theyll': 24779, 'decoupage': 6138, 'newayz': 16542, 'gurlfriend': 10767, 'bradons': 2890, 'ful': 9765, 'xoxoxoxoxo': 27650, 'poisoned': 18602, 'hochswender': 11516, 'kirn': 13605, 'sociopath': 22791, 'overcompensating': 17441, 'inferiority': 12403, 'psychoanalyzed': 19370, 'traction': 25267, 'dominance': 7108, 'souped': 22951, 'steroidwagons': 23483, 'spray': 23199, 'massachusetts': 15108, 'ablaze': 62, 'polluting': 18648, 'inefficient': 12371, 'leviathan': 14144, 'comprise': 4849, 'gmc': 10285, 'yukon': 27833, 'motorist': 16009, 'frivolous': 9699, 'sedan': 21693, 'toiling': 25079, 'exploitative': 8593, 'virtuous': 26626, 'holier': 11545, 'coalesces': 4524, 'fender': 8983, 'gaggle': 9874, 'stationwagon': 23404, 'plying': 18565, 'guzzler': 10789, 'lout': 14595, 'tailgater': 24306, 'resentful': 20504, 'stickered': 23505, 'vandalizing': 26373, 'misdemeanor': 15666, 'willfully': 27276, 'hastening': 11090, 'expiration': 8572, 'bane': 1897, 'vincent': 26591, 'wallpaper': 26830, 'satay': 21341, 'fizzy': 9218, 'consomme': 5067, 'anesthesia': 901, 'woozy': 27476, 'administered': 329, 'euthanising': 8344, 'powerbook': 18859, 'maccers': 14742, 'capeesh': 3545, 'imac': 12059, 'oclock': 16998, 'bouncy': 2838, 'gapingvoid': 9939, 'geoffs': 10086, 'submission': 23795, 'roasting': 20879, 'atare': 1508, 'obey': 16917, 'spilt': 23110, 'wreckage': 27562, 'flass': 9255, 'iceberg': 11941, 'aboard': 68, 'futility': 9841, 'pita': 18411, 'confines': 4956, 'treble': 25418, 'afresh': 456, 'herrick': 11353, 'jooo': 13243, 'spybot': 23228, 'spysweeper': 23230, 'hijackthis': 11414, 'incompatible': 12261, 'quasi': 19566, 'neatniks': 16416, 'batty': 2051, 'buttload': 3323, 'realplayer': 19902, 'restart': 20574, 'dweeb': 7487, 'musicmatch': 16183, 'simplified': 22336, 'molly': 15832, 'wordpress': 27481, 'poisonal': 18601, 'xhtml': 27632, 'guru': 10769, 'msie': 16065, 'adt': 372, 'weither': 27073, 'visitation': 26640, 'photoblogging': 18231, 'dimensia': 6699, 'avenge': 1679, 'mastering': 15121, 'inkling': 12507, 'orifice': 17290, 'steamroll': 23438, 'kidman': 13542, 'seano': 21636, 'racheo': 19671, 'rachello': 19668, 'seao': 21637, 'ra': 19653, 'rajello': 19735, 'rejello': 20235, 'presense': 19006, 'hees': 11241, 'abridgement': 86, 'publishes': 19399, 'reassessment': 19924, 'userfriendly': 26288, 'doggers': 7074, 'logger': 14463, 'benihana': 2256, 'awwwwww': 1740, 'cigz': 4265, 'kers': 13492, 'jragons': 13275, 'cigs': 4264, 'sarin': 21330, 'undeclared': 25901, 'doonesbury': 7156, 'reprint': 20458, 'innumerable': 12532, 'ambush': 795, 'debunked': 6075, 'subtly': 23827, 'buffalo': 3160, 'lucchino': 14641, 'garciaparra': 9943, 'pressured': 19028, 'cabrera': 3371, 'intangible': 12638, 'statistically': 23407, 'jeter': 13131, 'outselling': 17403, 'pedo': 17948, 'jehovah': 13088, 'outlasted': 17381, 'nigga': 16610, 'valentin': 26345, 'bledsoe': 2508, 'shortstop': 22136, 'doug': 7198, 'mient': 15545, 'preppy': 18993, 'hoverbikes': 11740, 'accpetance': 186, 'stephanus': 23466, 'tamu': 24359, 'squadron': 23234, 'sparknotes': 23008, 'conservatively': 5039, 'teenagerhood': 24526, 'behave': 2179, 'drury': 7377, 'eppolito': 8153, 'squidgetload': 23255, 'mugged': 16101, 'coppage': 5268, 'mmc': 15745, 'dongdaemoon': 7131, 'charger': 3966, 'subscribing': 23804, 'ubiquitous': 25745, 'rarefied': 19797, 'leggy': 14055, 'vma': 26668, 'newcomer': 16546, 'anastacia': 874, 'santana': 21308, 'boardroom': 2657, 'hamburglar': 10935, 'celery': 3815, 'winsteads': 27329, 'tendecy': 24591, 'matato': 15132, 'inspirational': 12584, 'pirouette': 18395, 'daffodil': 5856, 'pouch': 18836, 'swanston': 24127, 'chawitab': 4004, 'chawribaba': 4005, 'fegget': 8953, 'wadded': 26767, 'bookcase': 2756, 'lucked': 14645, 'zu': 27938, 'faulty': 8881, 'antiterrorism': 1030, 'vaccine': 26331, 'armey': 1277, 'inserted': 12557, 'pharmaceutical': 18182, 'thimerosal': 24790, 'approves': 1173, 'ashington': 1386, 'benefiting': 2248, 'offshore': 17048, 'stopgap': 23575, 'appropriation': 1169, 'convened': 5190, 'pelosi': 17974, 'kaptur': 13394, 'populist': 18721, 'contesting': 5133, 'mitch': 15727, 'mcconnell': 15216, 'kyl': 13763, 'unanimously': 25827, 'daschle': 5972, 'dakota': 5868, 'reid': 20212, 'mikulski': 15557, 'deferred': 6193, 'lengthier': 14093, 'reorganize': 20384, 'reorganization': 20383, 'evading': 8353, 'waxman': 26961, 'thornberry': 24825, 'paled': 17618, 'expactations': 8530, 'pst': 19359, 'lurker': 14692, 'flatulence': 9264, 'puffy': 19414, 'constriction': 5087, 'triage': 25445, 'asthmatic': 1477, 'overate': 17429, 'ingesting': 12463, 'flushed': 9375, 'gradually': 10452, 'bumpy': 3229, 'sensitised': 21794, 'antehestamines': 1004, 'receded': 19954, 'ajeosshi': 577, 'saluting': 21259, 'kia': 13525, 'phonetic': 18227, 'flowershop': 9354, 'shinhan': 22053, 'secutities': 21691, 'flagship': 9223, 'flaunting': 9267, 'conned': 5011, 'summed': 23920, 'begger': 2166, 'factoid': 8722, 'appetit': 1130, 'domo': 7120, 'arigato': 1260, 'roboto': 20898, 'originator': 17298, 'creampuff': 5523, 'enterprising': 8067, 'tattooed': 24437, 'emotionless': 7881, 'dissipates': 6955, 'commemorates': 4726, 'invoking': 12829, 'buildup': 3180, 'chaired': 3896, 'deter': 6503, 'persuaded': 18124, 'feeney': 8950, 'scarborough': 21433, 'pnac': 18569, 'bosd': 2810, 'winblows': 27298, 'reformat': 20137, 'xplay': 27657, 'db': 6017, 'resync': 20612, 'porting': 18754, 'amd': 797, 'twosome': 25706, 'honk': 11609, 'reverberate': 20676, 'embedded': 7837, 'impure': 12203, 'dwindled': 7491, 'handsomely': 10979, 'halen': 10899, 'caseload': 3667, 'plaintiff': 18454, 'eeoc': 7652, 'cowering': 5443, 'babysitter': 1782, 'sabotage': 21153, 'erupt': 8214, 'fedayeen': 8933, 'aubergine': 1592, 'eggplant': 7682, 'lasagne': 13878, 'translucent': 25353, 'tray': 25403, 'spoonful': 23176, 'parmesan': 17744, 'mozzie': 16053, 'chedder': 4027, 'aaaaack': 7, 'applaude': 1132, 'uncleness': 25868, 'capeablities': 3543, 'labling': 13780, 'exaggerated': 8429, 'mannor': 14959, 'huxley': 11877, 'cloning': 4469, 'harvesting': 11084, 'marrs': 15056, 'reminiscent': 20334, 'sputtered': 23226, 'beret': 2272, 'flail': 9224, 'gooooood': 10379, 'shitload': 22075, 'tutored': 25666, 'prettiness': 19042, 'accrue': 189, 'fraid': 9578, 'scandalous': 21426, 'palast': 17615, 'monolithic': 15880, 'ibt': 11936, 'assigns': 1447, 'clairvoiance': 4334, 'unflawed': 25990, 'chesterfield': 4077, 'governemnt': 10420, 'requiem': 20475, 'thunk': 24902, 'bubbled': 3125, 'panting': 17660, 'naturedly': 16367, 'apologised': 1097, 'housed': 11729, 'undamaged': 25898, 'woopadeedooo': 27469, 'grinned': 10610, 'shortcut': 22125, 'epilogue': 8141, 'agian': 494, 'boarded': 2654, 'streight': 23646, 'clinicly': 4449, 'mericals': 15416, 'nascar': 16334, 'earnhardt': 7528, 'talladega': 24338, 'superspeedway': 23989, 'porl': 18734, 'denotes': 6335, 'superlative': 23983, 'mmmmmmm': 15754, 'gilette': 10165, 'mach': 14744, 'schick': 21471, 'quattro': 19567, 'gillette': 10168, 'sometmes': 22865, 'arse': 1332, 'corporal': 5308, 'impelled': 12137, 'redoing': 20086, 'evidently': 8397, 'underemployed': 25912, 'minumum': 15637, 'stalled': 23323, 'heartfelt': 11196, 'fullest': 9772, 'surprisied': 24058, 'salamanca': 21226, 'hiddle': 11384, 'scad': 21411, 'phoebe': 18221, 'ledge': 14022, 'beth': 2297, 'handedly': 10955, 'beady': 2081, 'forked': 9504, 'grahib': 10464, 'ulysses': 25797, 'despairing': 6453, 'combative': 4685, 'vanishing': 26379, 'briliance': 3012, 'flickerd': 9295, 'rebelled': 19935, 'belittle': 2213, 'ruiz': 21090, 'heins': 11259, 'palmdale': 17624, 'homemaker': 11576, 'poached': 18571, 'grover': 10654, 'norquist': 16749, 'politital': 18639, 'nightime': 16614, 'appologize': 1150, 'magnolia': 14816, 'shirtless': 22068, 'veritable': 26489, 'prettyness': 19045, 'romanticize': 20952, 'earwax': 7540, 'exodus': 8526, 'narrowly': 16329, 'approching': 1165, 'preceding': 18926, 'undue': 25959, 'pouting': 18849, 'pitifully': 18420, 'carb': 3580, 'punds': 19445, 'pedigree': 17946, 'fungible': 9801, 'flaunt': 9266, 'ussr': 26297, 'participated': 17762, 'corium': 5295, 'gaudio': 9990, 'nalbandian': 16289, 'scamich': 21421, 'lark': 13870, 'chapes': 3949, 'adverture': 395, 'sadr': 21188, 'sriptwriting': 23275, 'overboard': 17432, 'macho': 14754, 'flimsy': 9302, 'upringing': 26224, 'reering': 20108, 'misplacing': 15686, 'marvel': 15077, 'godhatesshrimp': 10308, 'restraunt': 20593, 'finallly': 9120, 'deleting': 6249, 'lete': 14124, 'insluting': 12573, 'strickthrough': 23665, 'cond': 4913, 'nast': 16342, 'glide': 10235, 'aligns': 652, 'soar': 22763, 'boatload': 2664, 'pronto': 19255, 'swarming': 24133, 'flirty': 9316, 'notread': 16795, 'convenence': 5191, 'useage': 26281, 'regaurding': 20169, 'totem': 25208, 'hasseled': 11086, 'expired': 8574, 'registred': 20184, 'tailgate': 24305, 'piqued': 18390, 'coldest': 4612, 'antarctic': 1001, 'organised': 17273, 'shreck': 22178, 'glastonbury': 10219, 'secks': 21667, 'railcard': 19714, 'intolerance': 12754, 'footballing': 9444, 'aftershock': 470, 'prophecy': 19269, 'postulated': 18812, 'calamari': 3412, 'scrunchy': 21603, 'funniness': 9814, 'sampled': 21274, 'milligan': 15583, 'pieced': 18306, 'lifespan': 14218, 'apocolypse': 1089, 'dioxide': 6733, 'photosynthesis': 18245, 'oft': 17054, 'organism': 17275, 'glucose': 10272, 'paving': 17866, 'farmland': 8831, 'slower': 22591, 'controled': 5177, 'equitably': 8169, 'dirtiest': 6757, 'hawking': 11129, 'smokestck': 22657, 'manufactured': 14979, 'fantasizing': 8817, 'interfaith': 12693, 'curtis': 5773, 'brood': 3062, 'gustatory': 10776, 'andalusian': 882, 'gazpacho': 10011, 'crust': 5656, 'clove': 4491, 'teaspoon': 24491, 'sherry': 22027, 'vinegar': 26594, 'cored': 5292, 'quartered': 19562, 'garnish': 9960, 'finely': 9136, 'mince': 15598, 'processor': 19152, 'blending': 2520, 'seive': 21728, 'hanover': 10997, 'normality': 16746, 'ogre': 17057, 'eastenders': 7546, 'sondheim': 22877, 'pinprick': 18376, 'finn': 9152, 'imp': 12121, 'treibley': 25423, 'sarvay': 21332, 'fearlesshealer': 8912, 'haerod': 10843, 'haerodiel': 10844, 'haerodien': 10845, 'haerodwen': 10846, 'daisytook': 5865, 'varinrocklaughter': 26394, 'mormazh': 15958, 'sleazy': 22527, 'samsung': 21275, 'panitec': 17655, 'curitel': 5750, 'dica': 6604, 'abbreviate': 36, 'yangmalsan': 27685, 'gil': 10162, 'malt': 14896, 'scotch': 21536, 'oriental': 17287, 'brewery': 2978, 'seagram': 21625, 'scottish': 21540, 'throttled': 24876, 'pixelated': 18432, 'scotsman': 21538, 'cameraphone': 3468, 'wisheswithout': 27356, 'crimeto': 5569, 'handschu': 10975, 'probe': 19131, 'undertone': 25940, 'kingpin': 13594, 'whoopsie': 27213, 'momentarily': 15838, 'deepened': 6166, 'worsened': 27510, 'airway': 569, 'mystical': 16246, 'kinsella': 13601, 'harrod': 11073, 'heaney': 11177, 'hardback': 11033, 'shopoholic': 22114, 'leicester': 14072, 'embankment': 7821, 'nonchalant': 16706, 'sloane': 22574, 'yardwork': 27693, 'repacking': 20386, 'bloggerland': 2571, 'blogchild': 2565, 'wahoobuckeye': 26793, 'labeling': 13778, 'mikhail': 15555, 'bulgakov': 3196, 'idiom': 11987, 'crummy': 5644, 'transcribing': 25329, 'soreness': 22922, 'forwarded': 9537, 'freeper': 9640, 'helocopter': 11287, 'greets': 10571, 'evasion': 8361, 'erie': 8191, 'cesspool': 3872, 'pube': 19389, 'outbreak': 17364, 'wariner': 26871, 'disproving': 6924, 'sprinter': 23213, 'marian': 15019, 'dragulescu': 7254, 'begrudgingly': 2175, 'hiroyuki': 11457, 'tomita': 25113, 'gymnast': 10804, 'alexei': 626, 'nemov': 16480, 'rile': 20804, 'postponing': 18808, 'hamm': 10938, 'gymansts': 10802, 'wedgie': 27024, 'richmondfreeradio': 20752, 'unpaying': 26097, 'eversince': 8379, 'workday': 27486, 'zit': 27917, 'yous': 27809, 'binge': 2383, 'jescom': 13121, 'catechist': 3716, 'jesuit': 13128, 'teritory': 24631, 'ateneo': 1514, 'katipunan': 13420, 'carlo': 3614, 'timeframes': 24973, 'excepting': 8449, 'fune': 9798, 'skar': 22430, 'accomodation': 162, 'hiya': 11485, 'drier': 7310, 'refrigerated': 20149, 'resultant': 20604, 'handwash': 10980, 'cutlery': 5801, 'lolly': 14486, 'recycling': 20054, 'womble': 27417, 'inquirer': 12539, 'stolztfus': 23559, 'lancaster': 13839, 'ceded': 3799, 'nevins': 16537, 'dimwitted': 6710, 'aaaaaaaaah': 3, 'wvsucc': 27611, 'iloilo': 12056, 'freefall': 9636, 'guthrie': 10780, 'tequila': 24623, 'statesman': 23398, 'reassurance': 19925, 'wc': 26977, 'underdressed': 25911, 'bulggogi': 3198, 'koeans': 13682, 'mayo': 15193, 'beaksayju': 2084, 'mayshilju': 15195, 'fatigued': 8872, 'burkett': 3263, 'albaugh': 599, 'mabry': 14735, 'crackdown': 5457, 'burglary': 3258, 'dawkins': 5997, 'hypothetically': 11920, 'postage': 18793, 'yipes': 27765, 'perish': 18067, 'embellish': 7840, 'embellishment': 7841, 'sejong': 21733, 'inventing': 12802, 'goldstar': 10329, 'yook': 27787, 'myung': 16253, 'cleanest': 4394, 'groin': 10628, 'crume': 5643, 'brlok': 3036, 'drooler': 7338, 'kahlua': 13366, 'zanzibar': 27864, 'curtians': 5772, 'auntness': 1622, 'smarty': 22626, 'dangles': 5918, 'steadfast': 23422, 'chatty': 4000, 'oldhippie': 17094, 'cased': 3665, 'oon': 17160, 'successive': 23849, 'gooey': 10363, 'gloved': 10267, 'irrisistable': 12889, 'cinnmon': 4282, 'asthetically': 1475, 'culinary': 5702, 'tastebud': 24422, 'zucchini': 27940, 'spanikopita': 22994, 'juicyness': 13302, 'kooteney': 13693, 'treck': 25419, 'pecan': 17929, 'buttercream': 3318, 'scrumptous': 21599, 'sender': 21776, 'reclose': 19992, 'untouched': 26171, 'delinquency': 6263, 'specification': 23045, 'licensing': 14192, 'scarce': 21435, 'xo': 27645, 'droppin': 7345, 'reinforcement': 20222, 'corkendorfer': 5296, 'chipotle': 4145, 'vic': 26529, 'pingpong': 18365, 'backhand': 1793, 'mathematician': 15149, 'designation': 6439, 'bratwurst': 2927, 'compartment': 4783, 'suspend': 24092, 'selective': 21741, 'destitute': 6477, 'nearso': 16410, 'stratum': 23629, 'flock': 9322, 'anysuch': 1055, 'yonsei': 27785, 'returne': 20652, 'intrique': 12772, 'popularity': 18717, 'appreciates': 1154, 'strossnw': 23700, 'solidify': 22838, 'cheddar': 4026, 'resturaunts': 20601, 'rajun': 19736, 'assitant': 1455, 'dilbert': 6687, 'ehuaheuh': 7698, 'formulating': 9518, 'rum': 21097, 'unflattering': 25989, 'mumu': 16137, 'sarandon': 21321, 'neckline': 16433, 'adrian': 369, 'zeta': 27889, 'zorro': 27936, 'julianne': 13306, 'jillion': 13157, 'ahhhhhhhhhhhhhhhhhhh': 528, 'tylonol': 25718, 'halp': 10924, 'inadequate': 12211, 'exec': 8482, 'arduous': 1228, 'perpetuators': 18094, 'centredness': 3846, 'decompressing': 6131, 'conquering': 5022, 'uniformity': 26020, 'ethically': 8313, 'esthetically': 8286, 'memetically': 15370, 'beste': 2289, 'virginian': 26618, 'abrasive': 81, 'henders': 11313, 'fanfair': 8809, 'inhabits': 12474, 'api': 1085, 'adhd': 312, 'cushioned': 5782, 'straightjacket': 23603, 'acussed': 272, 'condemned': 4915, 'tut': 25662, 'inactivity': 12209, 'subscription': 23805, 'axl': 1748, 'fraggle': 9571, 'japantown': 13026, 'merritt': 15425, 'peets': 17965, 'cambodian': 3461, 'battambang': 2040, 'wangs': 26846, 'texting': 24698, 'urging': 26260, 'puma': 19429, 'rohan': 20928, 'karaoked': 13397, 'shouldve': 22149, 'songbook': 22879, 'loeb': 14456, 'chaka': 3900, 'genie': 10063, 'astleyinvoking': 1478, 'chou': 4203, 'michaeldedicated': 15501, 'songcant': 22880, 'mics': 15522, 'bohemian': 2690, 'frontyou': 9713, 'impulse': 12201, 'scented': 21461, 'freshener': 9665, 'hummmm': 11823, 'tybalt': 25712, 'tupac': 25628, 'dingo': 6717, 'robs': 20899, 'slims': 22560, 'incurable': 12296, 'undiminishing': 25953, 'unchanged': 25863, 'dietrician': 6643, 'bestselling': 2293, 'anywayyyy': 1060, 'diluted': 6696, 'huahuhuahuahua': 11770, 'pto': 19384, 'fron': 9709, 'tof': 25070, 'unparalleled': 26095, 'smallworld': 22619, 'aw': 1702, 'remy': 20351, 'candygenius': 3510, 'silflay': 22306, 'matress': 15157, 'lub': 14635, 'contracption': 5154, 'zarnowitz': 27869, 'generates': 10049, 'cocksnugglers': 4551, 'sago': 21208, 'granulated': 10505, 'powdered': 18854, 'starch': 23355, 'pith': 18417, 'testuile': 24681, 'stiffening': 23511, 'claret': 4352, 'sems': 21769, 'cache': 3372, 'sodomize': 22800, 'fvcks': 9852, 'timmay': 24983, 'timeless': 24974, 'binding': 2381, 'alltime': 704, 'pioneer': 18379, 'goony': 10375, 'gamut': 9927, 'cadillac': 3383, 'escalade': 8219, 'wsindow': 27595, 'doodlings': 7150, 'cocroach': 4557, 'ooutside': 17175, 'heate': 11203, 'cockroach': 4549, 'wellies': 27082, 'policewoman': 18620, 'caravan': 3579, 'extrodinaire': 8664, 'buisiness': 3183, 'nailsea': 16280, 'aaaarrrgghhhh': 11, 'incoherant': 12259, 'spontanious': 23171, 'hinders': 11436, 'suffocates': 23878, 'psychiatry': 19365, 'dermatology': 6401, 'gastrology': 9976, 'gynocology': 10807, 'rejoycing': 20239, 'deductables': 6154, 'copays': 5259, 'deductable': 6153, 'punchline': 19442, 'extragant': 8648, 'yeahyeah': 27713, 'influencer': 12432, 'wiht': 27257, 'maxim': 15180, 'barb': 1927, 'buckle': 3137, 'blindfolded': 2529, 'overcautious': 17436, 'confided': 4947, 'virginie': 26619, 'foreigny': 9474, 'unmilitarized': 26076, 'draining': 7257, 'sustaining': 24104, 'blackness': 2464, 'consistant': 5055, 'ion': 12842, 'unquenched': 26119, 'pleasepleaseanswers': 18513, 'lightness': 14239, 'enjoed': 8015, 'olie': 17100, 'raadio': 19654, 'alimony': 654, 'rebudget': 19944, 'pikachu': 18327, 'mohammed': 15809, 'atta': 1545, 'brekky': 2967, 'sourdough': 22956, 'royally': 21051, 'grading': 10450, 'auspug': 1632, 'louiz': 14590, 'reangle': 19906, 'bait': 1844, 'naturopathy': 16369, 'wd': 26978, 'ritey': 20840, 'eeks': 7650, 'ttfn': 25581, 'prerecorded': 18995, 'chute': 4247, 'compensation': 4795, 'earnings': 7529, 'stricken': 23664, 'restricting': 20595, 'grounding': 10649, 'childrearing': 4118, 'celebrator': 3811, 'elude': 7804, 'remmberance': 20340, 'struthers': 23711, 'tranni': 25313, 'tyke': 25714, 'shortened': 22127, 'poped': 18709, 'peeper': 17961, 'vamping': 26368, 'conjecture': 4993, 'snippit': 22725, 'boating': 2663, 'hamstu': 10946, 'blissdev': 2540, 'kwant': 13761, 'etymology': 8323, 'cointe': 4604, 'cognitus': 4586, 'participle': 17766, 'cognoscere': 4588, 'obsolete': 16956, 'skillful': 22453, 'pleasingly': 18516, 'quaintly': 19544, 'adverb': 384, 'quaintness': 19545, 'exhale': 8499, 'guerilla': 10711, 'mongolia': 15866, 'mongol': 15865, 'rememberanything': 20322, 'happeneing': 11009, 'leraned': 14111, 'elitism': 7780, 'multiplex': 16125, 'actly': 259, 'hons': 11620, 'styrofoam': 23771, 'bulletin': 3208, 'trevor': 25443, 'starsky': 23371, 'hutch': 11875, 'coax': 4531, 'tuck': 25592, 'fiancee': 9041, 'donor': 7139, 'politicans': 18635, 'baen': 1822, 'blurb': 2636, 'jul': 13303, 'lagoon': 13813, 'nassau': 16341, 'paradis': 17685, 'gers': 10114, 'izit': 12961, 'recharge': 19972, 'geog': 10087, 'worx': 27525, 'yoke': 27781, 'liping': 14319, 'biggy': 2356, 'rmb': 20857, 'veitnam': 26439, 'cantoring': 3533, 'lector': 14017, 'eucharistic': 8328, 'retraining': 20639, 'contemp': 5115, 'overbooked': 17433, 'npda': 16814, 'metric': 15476, 'recluse': 19993, 'gues': 10714, 'inferred': 12404, 'copycat': 5273, 'suspiscious': 24098, 'cabbage': 3362, 'getaway': 10120, 'aaaaaawwwwww': 6, 'tsa': 25571, 'beachchick': 2076, 'myrtle': 16238, 'bebe': 2120, 'caleb': 3423, 'operated': 17192, 'lifeguard': 14211, 'blvd': 2643, 'aikido': 544, 'ky': 13762, 'morhehei': 15953, 'ueshiba': 25753, 'harassed': 11025, 'explodes': 8589, 'galleon': 9903, 'mullett': 16117, 'nutso': 16878, 'chateau': 3993, 'chenonceau': 4063, 'lao': 13859, 'ramadan': 19747, 'incidentally': 12247, 'yuan': 27821, 'congratulatory': 4987, 'affluently': 439, 'uhhh': 25770, 'ceasar': 3789, 'ame': 798, 'sheraton': 22022, 'converse': 5202, 'ugn': 25766, 'scht': 21497, 'allentown': 674, 'turnpike': 25650, 'philly': 18206, 'bagging': 1829, 'escapade': 8224, 'std': 23420, 'preachy': 18918, 'mull': 16113, 'withstanding': 27377, 'wishbone': 27354, 'reread': 20482, 'lolita': 14483, 'humbert': 11809, 'veil': 26437, 'prententious': 18980, 'premier': 18973, 'bustamante': 3302, 'wirelessly': 27343, 'citizenry': 4306, 'carville': 3656, 'tracked': 25262, 'jihadist': 13154, 'smuggled': 22679, 'misinformed': 15677, 'oxyclean': 17537, 'encroach': 7948, 'fiercely': 9070, 'moh': 15806, 'freakinghonor': 9621, 'absurd': 118, 'kryptonite': 13726, 'rocktober': 20911, 'avenging': 1681, 'slay': 22523, 'demonic': 6306, 'chuckling': 4236, 'terrorits': 24661, 'ennui': 8033, 'malthiir': 14897, 'plume': 18553, 'orc': 17248, 'enlistee': 8031, 'unidentified': 26018, 'zhentarim': 27896, 'jalal': 12994, 'cormanthor': 5297, 'garovia': 9962, 'orcs': 17254, 'moonsea': 15920, 'sacking': 21158, 'machinist': 14752, 'eyez': 8682, 'paperboy': 17674, 'dand': 5907, 'ceasers': 3793, 'honked': 11610, 'woodchips': 27440, 'ville': 26584, 'hahahahahahha': 10862, 'undermy': 25922, 'tswear': 25579, 'unspecified': 26149, 'richmonder': 20751, 'oldenburg': 17090, 'humane': 11803, 'hapless': 11004, 'mauve': 15177, 'skylight': 22480, 'canine': 3514, 'cotillion': 5365, 'unmistakenly': 26077, 'homelike': 11574, 'loudoun': 14583, 'defy': 6220, 'preconception': 18935, 'motive': 16002, 'denise': 6327, 'deisler': 6234, 'verdigris': 26481, 'doored': 7160, 'furnished': 9825, 'labrador': 13783, 'windowsill': 27307, 'zimmer': 27907, 'oversaw': 17480, 'kennel': 13471, 'cubbyhole': 5684, 'waterproof': 26941, 'epoxy': 8152, 'absorbent': 108, 'cacophony': 3374, 'khz': 13524, 'elevates': 7756, 'emerson': 7862, 'soothe': 22905, 'belfast': 2203, 'alleviated': 681, 'damper': 5895, 'ultrahigh': 25792, 'reduces': 20091, 'immune': 12115, 'rehabbed': 20203, 'behavioral': 2183, 'checkup': 4025, 'contagious': 5108, 'raspie': 19810, 'sheltie': 22015, 'acclimate': 156, 'zephia': 27885, 'steinway': 23452, 'centrally': 3844, 'hydro': 11890, 'borrows': 2806, 'hairball': 10878, 'spay': 23017, 'neuter': 16527, 'euthanized': 8345, 'spays': 23018, 'auditorium': 1608, 'padded': 17565, 'obedience': 16911, 'robertson': 20894, 'spcas': 23025, 'behaviorally': 2184, 'rehabilitate': 20205, 'adoptable': 357, 'exceed': 8441, 'towne': 25242, 'springfield': 23205, 'hydrotherapy': 11894, 'agility': 495, 'claiborne': 4328, 'downturn': 7231, 'derived': 6400, 'mutt': 16208, 'nibblet': 16580, 'licked': 14196, 'clanky': 4344, 'homelessness': 11573, 'enormously': 8035, 'tracker': 25263, 'declaration': 6116, 'sanctioned': 21281, 'quandary': 19554, 'conundrum': 5189, 'pullout': 19423, 'nonaffiliated': 16703, 'coucil': 5370, 'nebudchanazar': 16419, 'thenation': 24752, 'mhtml': 15490, 'schulz': 21500, 'chot': 4202, 'dol': 7088, 'biggies': 2354, 'treacherous': 25405, 'foreingers': 9475, 'weigook': 27058, 'saram': 21320, 'borough': 2798, 'waaaaaaaaa': 26745, 'daewoo': 5855, 'daehan': 5850, 'sengmyung': 21782, 'macquarie': 14761, 'disclose': 6805, 'purchaser': 19459, 'kyobo': 13767, 'buyout': 3331, 'pca': 17897, 'tooja': 25138, 'jeunkwon': 13133, 'itc': 12937, 'daetoo': 5854, 'cam': 3454, 'unawares': 25842, 'unprepared': 26113, 'improvised': 12200, 'entices': 8085, 'dictated': 6618, 'gator': 9986, 'wrestlin': 27567, 'bobin': 2674, 'fiar': 9042, 'crazyest': 5516, 'comprized': 4850, 'tpyes': 25252, 'elton': 7803, 'raddishes': 19684, 'beacuze': 2079, 'shearching': 21994, 'fiars': 9043, 'wirerless': 27344, 'hahahhahahah': 10871, 'hitched': 11475, 'askeda': 1402, 'jusrt': 13338, 'fryed': 9743, 'trilled': 25473, 'countyparis': 5399, 'asure': 1502, 'crazyeyes': 5517, 'ddint': 6028, 'poeple': 18585, 'ohhh': 17061, 'oki': 17080, 'wishpers': 27360, 'wacken': 26762, 'paires': 17605, 'wazz': 26974, 'screwin': 21580, 'kil': 13549, 'amm': 823, 'gargen': 9951, 'loove': 14541, 'hick': 11379, 'clause': 4380, 'cutsey': 5802, 'rampant': 19759, 'teresian': 24629, 'walled': 26827, 'mueslix': 16096, 'competed': 4797, 'knoep': 13662, 'condoning': 4931, 'anarchic': 870, 'punishes': 19449, 'unfucked': 26001, 'insulated': 12625, 'fiured': 9208, 'hizzle': 11487, 'tommarow': 25114, 'yayyyy': 27704, 'talko': 24335, 'gooo': 10376, 'befooore': 2160, 'tooo': 25144, 'rover': 21038, 'standstill': 23343, 'crater': 5501, 'nazgul': 16384, 'wayway': 26968, 'sid': 22249, 'elise': 7778, 'winstead': 27328, 'mobbed': 15770, 'imaginarygirlfriends': 12064, 'artificer': 1348, 'dante': 5929, 'twat': 25675, 'amterial': 841, 'hiways': 11484, 'helop': 11288, 'hauler': 11106, 'hauled': 11105, 'rancher': 19762, 'pander': 17644, 'tenured': 24621, 'sprawled': 23198, 'bracing': 2886, 'chimaira': 4129, 'ivillage': 12956, 'healthcalc': 11173, 'br': 2880, 'butchered': 3312, 'hellishly': 11279, 'areo': 1233, 'thees': 24742, 'faraway': 8822, 'bravely': 2933, 'mrowo': 16061, 'facejr': 8704, 'hinrich': 11442, 'zmattyb': 27922, 'fonder': 9420, 'confidant': 4945, 'sitemeter': 22408, 'grossed': 10638, 'withered': 27372, 'enchantment': 7927, 'tapered': 24388, 'squier': 23256, 'strat': 23624, 'mids': 15537, 'dathunkit': 5982, 'kubrick': 13733, 'existentialist': 8519, 'satre': 21359, 'obsessing': 16952, 'blogge': 2568, 'textile': 24697, 'starved': 23384, 'oryx': 17319, 'rippling': 20829, 'moonlit': 15919, 'crake': 5471, 'wineglass': 27315, 'megadeath': 15328, 'geranium': 10101, 'hurtle': 11867, 'addled': 301, 'spiderwebs': 23097, 'disliking': 6883, 'pitt': 18422, 'strangly': 23620, 'delt': 6275, 'physisist': 18265, 'shofar': 22100, 'retires': 20634, 'intricately': 12767, 'disintegrates': 6876, 'dawdle': 5994, 'steamrolling': 23439, 'herded': 11332, 'unmotivated': 26078, 'sparky': 23009, 'ratemyschlong': 19816, 'cmu': 4517, 'rms': 20858, 'aaahhhh': 13, 'kamen': 13378, 'aerosmith': 411, 'tenth': 24618, 'teeeheeee': 24516, 'padawan': 17564, 'myer': 16228, 'whisk': 27174, 'westfield': 27107, 'condi': 4919, 'clemson': 4417, 'bowden': 2854, 'roberson': 20890, 'sproles': 23216, 'schaub': 21463, 'auburn': 1593, 'offensively': 17032, 'usc': 26277, 'stealthdisco': 23432, 'hepburn': 11322, 'loveseat': 14609, 'downtime': 7227, 'pigpen': 18325, 'shamble': 21945, 'germenate': 10109, 'shihab': 22039, 'skyward': 22487, 'lester': 14122, 'ext': 8623, 'farni': 8832, 'hui': 11796, 'suay': 23778, 'pavilion': 17864, 'chang': 3926, 'kee': 13444, 'heez': 11243, 'suppa': 23999, 'oppinion': 17208, 'rarley': 19801, 'expendable': 8550, 'crewman': 5560, 'blackboard': 2455, 'cinemark': 4277, 'amc': 796, 'starworld': 23389, 'cushioning': 5783, 'backlighting': 1796, 'yorkcontrary': 27790, 'cosmetologist': 5352, 'mascara': 15086, 'karns': 13408, 'daley': 5875, 'spokeswoman': 23160, 'cosmetology': 5353, 'masturbated': 15126, 'waan': 26754, 'leydner': 14159, 'ginny': 10180, 'redheaded': 20077, 'bistro': 2420, 'mtl': 16073, 'zambrano': 27862, 'chc': 4008, 'schmidt': 21481, 'benitez': 2257, 'fossum': 9541, 'bautista': 2054, 'aberration': 52, 'pavano': 17862, 'burnett': 3269, 'peaking': 17918, 'ishii': 12906, 'marginally': 15015, 'livan': 14373, 'leiter': 14077, 'nym': 16893, 'enhances': 8014, 'shutout': 22217, 'hardship': 11040, 'ankiel': 948, 'atl': 1530, 'redvsblue': 20097, 'uncensored': 25860, 'danie': 5922, 'stuf': 23734, 'aime': 548, 'oktoberblogfest': 17085, 'absentia': 95, 'pref': 18953, 'astoria': 1484, 'katharine': 13415, 'housewarming': 11734, 'gusev': 10771, 'tarus': 24414, 'xxvi': 27665, 'mpi': 16057, 'spokesthing': 23159, 'denounced': 6337, 'vallis': 26360, 'rgrmrmy': 20717, 'altitude': 744, 'spacecraft': 22977, 'deflating': 6217, 'telepathically': 24546, 'detachable': 6487, 'incidence': 12244, 'preferring': 18961, 'theorist': 24759, 'driv': 7325, 'rhodo': 20727, 'sentient': 21808, 'inhospitable': 12487, 'consternation': 5076, 'unfounded': 26000, 'traitorous': 25303, 'disservice': 6952, 'scoreless': 21529, 'inconsistent': 12271, 'righted': 20788, 'zack': 27856, 'greinke': 10576, 'ratio': 19820, 'kelvim': 13461, 'escobar': 8235, 'tor': 25166, 'rebounded': 19942, 'notching': 16772, 'averaging': 1684, 'javier': 13044, 'vazquez': 26413, 'clement': 4415, 'edgar': 7601, 'milton': 15591, 'siow': 22384, 'utr': 26315, 'koran': 13695, 'everwhere': 8380, 'somedays': 22859, 'idiosynchrasies': 11988, 'uncompleted': 25875, 'clincher': 4444, 'casing': 3673, 'decrepit': 6144, 'defenseless': 6189, 'untreated': 26172, 'unbathed': 25844, 'staten': 23397, 'dementia': 6293, 'lesion': 14114, 'psychotropic': 19380, 'manor': 14963, 'nonexistent': 16711, 'eden': 7600, 'bensonhurst': 2261, 'eviction': 8393, 'compliance': 4824, 'haphazardly': 11002, 'vomited': 26708, 'monitored': 15875, 'unappetizing': 25831, 'leben': 14015, 'elmhurst': 7797, 'distributed': 6982, 'malodorous': 14894, 'psychologically': 19373, 'rockaway': 20902, 'rotted': 21009, 'embezzling': 7843, 'parkview': 17737, 'olinville': 17101, 'bronx': 3059, 'deteriorate': 6505, 'evaluation': 8356, 'scioto': 21509, 'kader': 13361, 'kernfusie': 13485, 'aarde': 22, 'maak': 14731, 'je': 13061, 'eigen': 7702, 'waterstofbom': 26943, 'ascott': 1372, 'tartarus': 24411, 'uwa': 26321, 'newsgroups': 16557, 'microscope': 15517, 'distribute': 6981, 'dionisio': 6729, 'infinet': 12412, 'edits': 7618, 'validates': 26354, 'huddle': 11780, 'clamped': 4339, 'ehrenreich': 7696, 'biskind': 2418, 'melnick': 15354, 'michio': 15510, 'kaku': 13371, 'workable': 27485, 'ddt': 6030, 'dbcp': 6018, 'aflatoxin': 450, 'pbbs': 17894, 'pbcs': 17895, 'latvian': 13912, 'nationalist': 16356, 'brandishing': 2914, 'peddler': 17938, 'westinghouse': 27108, 'gagging': 9873, 'frosting': 9716, 'detonate': 6517, 'nucleus': 16828, 'emits': 7872, 'isotope': 12922, 'enriched': 8041, 'plutonium': 18564, 'purifying': 19469, 'hurdle': 11855, 'enrich': 8040, 'diffusion': 6662, 'portsmouth': 18765, 'oxide': 17535, 'kilogram': 13562, 'hematite': 11300, 'kerr': 13487, 'mcgee': 15231, 'silkwood': 22309, 'fabricating': 8694, 'lynchburg': 14721, 'precaution': 18922, 'theft': 24745, 'testified': 24672, 'pawling': 17872, 'pleasanton': 18510, 'cheswick': 4079, 'numec': 16852, 'leechburg': 14027, 'hanfford': 10983, 'morris': 15968, 'transported': 25363, 'brownish': 3081, 'resembling': 20501, 'stacked': 23294, 'cylinder': 5818, 'welded': 27078, 'strut': 23710, 'fissible': 9194, 'enrichment': 8043, 'trucked': 25538, 'nw': 16886, 'xerox': 27631, 'reactor': 19866, 'triga': 25466, 'tacky': 24276, 'unenriched': 25973, 'hydrofluoric': 11891, 'tetrafluoride': 24686, 'corrosive': 5339, 'hexafluoride': 11366, 'fluorine': 9372, 'pressurized': 19029, 'membrane': 15368, 'subjecting': 23788, 'centrifuge': 3848, 'skimmed': 22456, 'spooning': 23177, 'ladlefuls': 13801, 'drugstore': 7361, 'fluoride': 9371, 'colorless': 4666, 'inhaled': 12476, 'thousandth': 24841, 'metabolized': 15446, 'orally': 17242, 'dozing': 7237, 'sterile': 23478, 'leukemia': 14137, 'bloodstream': 2598, 'eventual': 8370, 'subcritical': 23784, 'forcefully': 9462, 'hemispherical': 11305, 'hemisphere': 11304, 'fission': 9195, 'potassium': 18818, 'nitrate': 16657, 'sulfur': 23903, 'mold': 15825, 'impolite': 12163, 'detonation': 6519, 'bucketful': 3135, 'trampling': 25310, 'inexpensively': 12387, 'consonant': 5068, 'frill': 9695, 'megaton': 15332, 'metropolitan': 15479, 'centrifuging': 3849, 'fussier': 9836, 'hiroshima': 11456, 'fissioned': 9197, 'yielded': 27758, 'kiloton': 13563, 'evenly': 8365, 'exerted': 8497, 'fashioning': 8849, 'julius': 13310, 'ethel': 8306, 'rosenberg': 20991, 'detonated': 6518, 'lithium': 14360, 'deuteride': 6527, 'deuterium': 6528, 'hydride': 11889, 'detonator': 6520, 'fissionable': 9196, 'billionth': 2373, 'humiliation': 11818, 'invaluable': 12797, 'tupperware': 25629, 'pirated': 18393, 'entebee': 8060, 'waterloo': 26938, 'hijacking': 11413, 'disapprove': 6782, 'yemen': 27738, 'ethiopian': 8314, 'ulster': 25783, 'tanzanian': 24384, 'discourage': 6819, 'hive': 11483, 'fallout': 8779, 'botulism': 2829, 'toxin': 25246, 'hustler': 11873, 'compactor': 4768, 'snowmobile': 22749, 'psychosomatic': 19378, 'ushered': 26292, 'monger': 15864, 'lobbied': 14430, 'campaigned': 3476, 'demonstrated': 6310, 'demoralized': 6315, 'habitation': 10825, 'mcpee': 15244, 'bacteria': 1814, 'lichen': 14193, 'vaporizes': 26385, 'acne': 228, 'blemish': 2516, 'tablature': 24264, 'tightrope': 24952, 'adequacy': 308, 'underrated': 25926, 'squire': 23259, 'quida': 19603, 'demaning': 6289, 'behead': 2187, 'atlas': 1533, 'clobbered': 4460, 'unravel': 26121, 'wyden': 27620, 'scheppach': 21470, 'vashon': 26403, 'adoration': 363, 'detective': 6499, 'imap': 12072, 'chadstone': 3887, 'dandenong': 5909, 'marples': 15046, 'enrolment': 8045, 'mooshed': 15930, 'gossiping': 10397, 'wisecrack': 27349, 'meetup': 15324, 'bella': 2216, 'cip': 4283, 'macritchie': 14762, 'clocked': 4462, 'sppeding': 23195, 'beamed': 2086, 'sham': 21944, 'tarazan': 24398, 'deven': 6542, 'incorporating': 12280, 'mortified': 15979, 'poisonous': 18605, 'mucky': 16088, 'disorient': 6899, 'basking': 2012, 'silenced': 22298, 'horseshit': 11688, 'sweeny': 24158, 'curling': 5754, 'conceeded': 4872, 'halfpipe': 10905, 'xx': 27662, 'jinxed': 13168, 'sayable': 21400, 'textamerica': 24693, 'picblog': 18276, 'mooch': 15907, 'misquoted': 15688, 'firestorm': 9169, 'passable': 17794, 'fascinate': 8840, 'lifei': 14213, 'fervour': 9007, 'vvv': 26739, 'adapter': 285, 'tripping': 25490, 'boooooo': 2768, 'furnish': 9824, 'callouses': 3442, 'bedframe': 2142, 'varnish': 26397, 'daylong': 6003, 'timberlake': 24969, 'retied': 20628, 'daly': 5879, 'serramonte': 21861, 'reshifted': 20513, 'aaja': 16, 'leary': 14007, 'pinada': 18353, 'decapitated': 6082, 'cricketts': 5563, 'unbendable': 25851, 'unimaginative': 26024, 'teasingly': 24490, 'sippy': 22391, 'prolong': 19227, 'wigged': 27251, 'bellowed': 2220, 'hoarse': 11506, 'scratchy': 21558, 'tromped': 25511, 'fledged': 9279, 'memoriam': 15375, 'sause': 21374, 'damnnit': 5891, 'sniveling': 22727, 'cordial': 5284, 'peseta': 18143, 'wwwfdtd': 27618, 'smackdown': 22610, 'clipse': 4454, 'synching': 24241, 'ferrell': 8997, 'retentive': 20626, 'harboring': 11029, 'craigslist': 5470, 'spamsilog': 22990, 'clarathe': 4349, 'ityou': 12950, 'fluctuated': 9361, 'cinched': 4270, 'cosmo': 5355, 'outthe': 17414, 'boobage': 2743, 'scuse': 21616, 'breastesses': 2953, 'mwahaha': 16222, 'onand': 17130, 'slipmats': 22566, 'sprite': 23215, 'headstone': 11163, 'mortuary': 15980, 'viewingmy': 26568, 'mobbing': 15771, 'trailblazer': 25291, 'montero': 15895, 'shrimpy': 22187, 'centimeter': 3839, 'camry': 3486, 'uncool': 25891, 'keyless': 13508, 'ohmyfreakinggod': 17065, 'ironed': 12869, 'lindsay': 14285, 'lohan': 14478, 'wilmer': 27291, 'valderrama': 26344, 'buff': 3159, 'carey': 3607, 'hart': 11080, 'skateboarder': 22433, 'bucky': 3140, 'lasek': 13880, 'bmx': 2646, 'mirra': 15653, 'nyquist': 16896, 'snowboarder': 22745, 'shaun': 21983, 'forgoing': 9499, 'wield': 27241, 'tamed': 24350, 'bigscreen': 2361, 'dlp': 7035, 'aerobed': 408, 'pried': 19077, 'vehamavin': 26433, 'yavin': 27696, 'ubermensch': 25743, 'casn': 3677, 'catered': 3722, 'sheva': 22029, 'brachot': 2885, 'homa': 11560, 'murad': 16151, 'asume': 1499, 'zev': 27891, 'shushan': 22215, 'rivendale': 20846, 'rotary': 21002, 'vesper': 26504, 'hwy': 11885, 'gregs': 10575, 'westerville': 27106, 'roundabout': 21024, 'fairish': 8751, 'xinyi': 27640, 'jiehui': 13150, 'althou': 743, 'xinwei': 27639, 'trting': 25534, 'pfd': 18170, 'toffee': 25071, 'macadamia': 14738, 'prepped': 18991, 'felony': 8967, 'smacked': 22611, 'allege': 668, 'apalling': 1069, 'unwise': 26184, 'poodle': 18684, 'niki': 16627, 'eeg': 7647, 'gremlin': 10577, 'scripting': 21588, 'cleanup': 4400, 'unconquerable': 25881, 'fonda': 9419, 'captor': 3570, 'vince': 26590, 'vicky': 26537, 'metacognition': 15447, 'sexism': 21904, 'ageism': 479, 'unfunded': 26002, 'sacrilege': 21166, 'quiche': 19595, 'toliet': 25095, 'shim': 22044, 'fma': 9386, 'samui': 21277, 'indulged': 12359, 'kilo': 13561, 'stilted': 23520, 'tailfeather': 24304, 'fuelled': 9763, 'disowned': 6901, 'rox': 21045, 'asylum': 1505, 'unappreciated': 25832, 'republishing': 20465, 'pyra': 19518, 'customised': 5790, 'indexing': 12314, 'ronnander': 20964, 'sendi': 21777, 'supersize': 23987, 'didnot': 6626, 'baited': 1845, 'reinstating': 20227, 'haiya': 10892, 'shrooms': 22192, 'coleslaw': 4619, 'tangyuan': 24371, 'soya': 22972, 'eunos': 8331, 'mrt': 16062, 'genki': 10068, 'anot': 986, 'calamansi': 3411, 'eww': 8421, 'valerie': 26348, 'sakae': 21221, 'harbourfront': 11031, 'soulmates': 22942, 'papier': 17677, 'mache': 14745, 'outstretched': 17410, 'humming': 11821, 'buttock': 3324, 'birch': 2395, 'catwalk': 3739, 'flake': 9228, 'mohamed': 15807, 'mustafa': 16192, 'gulag': 10745, 'shing': 22052, 'unintiated': 26034, 'blughpz': 2630, 'leach': 13979, 'daaaaah': 5836, 'gall': 9902, 'pouncing': 18839, 'lowry': 14624, 'nro': 16819, 'redesigning': 20075, 'sighted': 22273, 'fittest': 9204, 'environmentalist': 8120, 'scanty': 21430, 'entangled': 8058, 'resigning': 20526, 'barrowdowns': 1980, 'middleearthname': 15525, 'barrow': 1979, 'wight': 27255, 'angafaug': 907, 'ando': 888, 'andoion': 889, 'ponto': 18678, 'boffin': 2681, 'grindwall': 10608, 'fili': 9093, 'stonespear': 23566, 'brzghash': 3118, 'camper': 3479, 'leopard': 14106, 'molatav': 15824, 'astor': 1483, 'abbey': 35, 'xtreme': 27661, 'poompsy': 18690, 'angelica': 913, 'lifttow': 14225, 'akida': 581, 'hirsute': 11458, 'sylvester': 24222, 'dissolved': 6957, 'hrmmm': 11756, 'beaming': 2087, 'raunch': 19830, 'femme': 8979, 'dd': 6025, 'swordplay': 24214, 'eeh': 7648, 'hemmorrhaging': 11309, 'abscess': 91, 'losas': 14555, 'annihi': 960, 'unlocks': 26069, 'jehova': 13087, 'krishna': 13713, 'sect': 21680, 'meanness': 15265, 'incensed': 12234, 'zeal': 27872, 'mohhamed': 15812, 'recuperate': 20051, 'imu': 12205, 'irregular': 12879, 'sporadically': 23180, 'famine': 8795, 'impersonal': 12146, 'duncan': 7434, 'overplay': 17472, 'hootie': 11643, 'hanson': 10998, 'downloadable': 7213, 'bizzare': 2443, 'marraige': 15049, 'repeditiveness': 20400, 'paniced': 17653, 'nacho': 16260, 'errrr': 8211, 'monotheistic': 15885, 'malevolent': 14878, 'nationalized': 16358, 'comparable': 4773, 'montmatre': 15903, 'batignolles': 2037, 'vie': 26556, 'romantique': 20953, 'eroticisme': 8203, 'funiculaire': 9802, 'butte': 3315, 'interwoven': 12745, 'tamilians': 24353, 'srilankans': 23273, 'tertre': 24664, 'sexodrome': 21905, 'jewellery': 13137, 'pigalle': 18316, 'demarcated': 6290, 'passersby': 17801, 'purified': 19468, 'porno': 18736, 'indelible': 12304, 'windmill': 27304, 'accosted': 178, 'uphill': 26205, 'unanswerable': 25828, 'enthuse': 8079, 'inconsonant': 12272, 'resonates': 20542, 'worthlessness': 27522, 'belleville': 2217, 'neuf': 16521, 'countenance': 5388, 'voltaire': 26692, 'jardin': 13029, 'rouart': 21014, 'amarnath': 766, 'swash': 24135, 'medicating': 15297, 'whfs': 27152, 'edgier': 7604, 'unclothed': 25870, 'reguardless': 20194, 'grifter': 10595, 'panhandling': 17651, 'pickpocketing': 18288, 'mugging': 16103, 'grifting': 10596, 'prostitution': 19297, 'robbery': 20885, 'wetworks': 27114, 'heisting': 11264, 'hootch': 11642, 'offsure': 17050, 'cayman': 3774, 'mansion': 14967, 'extradition': 8647, 'fibroid': 9051, 'syllable': 24221, 'therefor': 24765, 'refrence': 20142, 'vicim': 26532, 'buhl': 3174, 'sustained': 24103, 'archer': 1214, 'howitzer': 11744, 'apatheic': 1076, 'unsolved': 26148, 'nomatter': 16696, 'neway': 16541, 'boyfrends': 2873, 'devon': 6556, 'mwa': 16220, 'catchya': 3714, 'pacing': 17555, 'unreplaceable': 26130, 'saigon': 21211, 'bucaneers': 3129, 'tenacity': 24587, 'gaffe': 9871, 'alerting': 622, 'vx': 26742, 'unaccounted': 25820, 'defiance': 6194, 'kerrey': 13489, 'bzzzt': 3353, 'homefront': 11568, 'pulpable': 19424, 'kmfd': 13637, 'needful': 16441, 'heartrending': 11200, 'dedicates': 6151, 'institutionalized': 12614, 'glassful': 10217, 'digger': 6669, 'hander': 10956, 'booo': 2766, 'fastest': 8856, 'tubeless': 25589, 'camber': 3458, 'deg': 6222, 'clarificaton': 4354, 'lawlessness': 13944, 'bianca': 2332, 'drunkend': 7373, 'brookvale': 3069, 'lunchbox': 14679, 'caw': 3772, 'facination': 8717, 'mmmhmmm': 15749, 'louise': 14587, 'canoly': 3523, 'heebie': 11230, 'jeebies': 13070, 'hubba': 11773, 'bubba': 3123, 'cm': 4513, 'newsid': 16558, 'declaritive': 6122, 'quinton': 19617, 'tarantino': 24397, 'affords': 444, 'tile': 24958, 'invents': 12805, 'noticeably': 16786, 'nasdaq': 16336, 'nyse': 16897, 'weaken': 26981, 'govern': 10416, 'upheld': 26204, 'transferring': 25335, 'proclamation': 19157, 'keefe': 13447, 'hst': 11759, 'gyro': 10811, 'hubble': 11775, 'reenter': 20106, 'palmetto': 17626, 'granny': 10499, 'undie': 25952, 'waistline': 26800, 'shrivel': 22191, 'aieeee': 541, 'pisa': 18396, 'disfigured': 6855, 'messageboard': 15434, 'questioned': 19586, 'sappy': 21316, 'rebuilt': 19947, 'fundies': 9794, 'slanted': 22502, 'aborted': 74, 'infuriated': 12454, 'changeable': 3928, 'quieter': 19608, 'understated': 25937, 'regrettably': 20190, 'overreact': 17478, 'poorer': 18702, 'successively': 23850, 'imported': 12169, 'academia': 132, 'summing': 23924, 'jingle': 13166, 'woodstock': 27445, 'sublimate': 23790, 'ghozi': 10137, 'jennett': 13102, 'relentless': 20271, 'prosper': 19294, 'diatribe': 6602, 'furnishing': 9826, 'kababayan': 13358, 'kenkoyswhere': 13467, 'anyhowi': 1049, 'tvvh': 25671, 'pinoy': 18375, 'captivating': 3567, 'danzy': 5931, 'senna': 21784, 'symptomatic': 24238, 'handnamely': 10972, 'reciprocal': 19981, 'handicap': 10961, 'nowadaysit': 16809, 'unresolved': 26133, 'cbc': 3777, 'canadavotes': 3489, 'ewe': 8415, 'mamma': 14900, 'motherly': 15993, 'chel': 4049, 'scorn': 21531, 'ohhhh': 17062, 'hckychica': 11146, 'fricken': 9673, 'baseballa': 1993, 'weew': 27051, 'tappin': 24393, 'reallyi': 19900, 'avitals': 1692, 'feedle': 8946, 'espresso': 8261, 'prying': 19350, 'tweety': 25681, 'slung': 22599, 'lovenotes': 14606, 'aboout': 72, 'ambishious': 787, 'perculiar': 18042, 'squealing': 23249, 'selfishness': 21747, 'moany': 15768, 'occasionly': 16971, 'suprisingly': 24031, 'holidaybut': 11544, 'occurances': 16984, 'classed': 4367, 'parentist': 17727, 'edonkey': 7622, 'stalling': 23324, 'astonishing': 1480, 'maj': 14851, 'antonio': 1036, 'taguba': 24295, 'sodomized': 22801, 'annex': 958, 'squalid': 23235, 'mortar': 15976, 'gerund': 10116, 'oww': 17531, 'chiropractor': 4153, 'alles': 679, 'mwhahahahahat': 16223, 'shipwreck': 22063, 'militia': 15574, 'meekly': 15319, 'sasser': 21336, 'alanis': 591, 'balm': 1875, 'sooth': 22904, 'unplanned': 26100, 'joblessness': 13189, 'dispair': 6902, 'nasuem': 16347, 'wonderment': 27429, 'camero': 3469, 'nimitz': 16633, 'waikiki': 26796, 'burgeoning': 3255, 'diem': 6634, 'wierdest': 27243, 'loveliest': 14603, 'gad': 9867, 'chippy': 4148, 'dayquil': 6004, 'byproduct': 3347, 'townhouse': 25243, 'cockatoo': 4546, 'sicky': 22248, 'austrailian': 1637, 'diplomat': 6736, 'nutrition': 16876, 'atm': 1535, 'paralegal': 17693, 'titleist': 25029, 'trombone': 25510, 'peggy': 17968, 'neel': 16447, 'monthsish': 15901, 'undesirable': 25949, 'overanalyzing': 17428, 'xxrays': 27663, 'dislocated': 6884, 'deems': 6163, 'stipulation': 23539, 'controll': 5179, 'pictoral': 18294, 'itemizing': 12943, 'amex': 812, 'ovary': 17422, 'webhost': 27010, 'malformed': 14879, 'bystander': 3350, 'mhz': 15491, 'nvidia': 16884, 'ata': 1506, 'rpm': 21056, 'rw': 21139, 'unlearning': 26056, 'cherahola': 4067, 'skyway': 22488, 'godiva': 10310, 'ooooooh': 17171, 'faaaaabulous': 8687, 'fairway': 8756, 'stimp': 23521, 'limped': 14280, 'noticable': 16783, 'tanning': 24379, 'hungs': 11847, 'patronizing': 17849, 'wt': 27597, 'gwee': 10796, 'chia': 4094, 'nxt': 16888, 'bahz': 1840, 'gahhh': 9877, 'yayness': 27702, 'mortem': 15977, 'froguts': 9705, 'gamma': 9926, 'foreseeable': 9478, 'bannister': 1917, 'emulater': 7909, 'emulationstation': 7910, 'sai': 21209, 'stewardess': 23495, 'bunched': 3232, 'cabbie': 3364, 'jmsatb': 13181, 'moderated': 15789, 'consummate': 5102, 'honorable': 11614, 'drinketh': 7319, 'immortality': 12113, 'ptolemy': 19386, 'regan': 20164, 'pomp': 18666, 'ronnie': 20965, 'kinship': 13602, 'letterhead': 14131, 'febuuary': 8927, 'raegan': 19701, 'anny': 978, 'turok': 25652, 'lasgana': 13882, 'vistied': 26647, 'ciara': 4253, 'trustworthy': 25561, 'shyest': 22227, 'inperson': 12536, 'hummm': 11822, 'arrogence': 1325, 'betcha': 2296, 'nopers': 16732, 'inaugural': 12221, 'gluggy': 10275, 'eurk': 8336, 'depleting': 6369, 'diggity': 6672, 'beomjwi': 2266, 'jaegooseong': 12979, 'swindle': 24189, 'wildcard': 27264, 'hak': 10895, 'kkoon': 13624, 'imitator': 12087, 'personnally': 18120, 'savagely': 21379, 'fotography': 9544, 'forgery': 9488, 'analog': 860, 'blogware': 2582, 'branding': 2912, 'accessibility': 148, 'hacking': 10837, 'redmond': 20081, 'halcyon': 10897, 'redesign': 20073, 'zogging': 27926, 'zagging': 27857, 'zigging': 27901, 'golive': 10336, 'awaited': 1704, 'eschewed': 8233, 'plowing': 18539, 'relaunch': 20256, 'dxf': 7494, 'yiks': 27760, 'ritezx': 20841, 'wahaha': 26787, 'polytechnic': 18660, 'biomedical': 2390, 'biotech': 2392, 'pimple': 18351, 'storybook': 23591, 'sters': 23485, 'unearthing': 25965, 'seperation': 21825, 'realising': 19885, 'sph': 23089, 'ber': 2269, 'jillian': 13156, 'erin': 8194, 'sweetpea': 24170, 'reddish': 20059, 'englewood': 8005, 'sagitarrius': 21206, 'fluently': 9363, 'nichols': 16589, 'granpa': 10501, 'granma': 10498, 'marr': 15048, 'neopets': 16484, 'waco': 26765, 'beagle': 2082, 'shepard': 22019, 'gpa': 10428, 'acamedic': 135, 'continuation': 5140, 'sano': 21304, 'clubine': 4498, 'kitchell': 13612, 'barlock': 1958, 'deserino': 6426, 'mcmillan': 15242, 'extracurricular': 8646, 'sterotype': 23484, 'everwood': 8381, 'edd': 7597, 'pinapples': 18354, 'thirteen': 24811, 'dubble': 7390, 'sandelwood': 21287, 'equniox': 8174, 'yule': 27835, 'muertos': 16094, 'kbpi': 13435, 'enchilladas': 7928, 'torrid': 25185, 'sketcher': 22439, 'sonics': 22885, 'cresent': 5554, 'darien': 5940, 'lita': 14350, 'monoplay': 15882, 'mustang': 16193, 'mcentire': 15229, 'liza': 14389, 'fransisco': 9604, 'bisexual': 2415, 'cucumber': 5690, 'lifehouse': 14212, 'duster': 7466, 'kinky': 13600, 'volcano': 26685, 'cagle': 3397, 'perserveres': 18101, 'teehee': 24517, 'bleau': 2505, 'azalea': 1758, 'overcharging': 17437, 'greenery': 10562, 'jumpstart': 13319, 'reeeeeally': 20099, 'rabs': 19659, 'finnish': 9154, 'fray': 9615, 'possbly': 18782, 'bittersweet': 2435, 'inheritance': 12482, 'haciendera': 10833, 'valuebecause': 26364, 'kuripot': 13747, 'frugal': 9726, 'studentto': 23729, 'antsy': 1038, 'resented': 20503, 'degreeto': 6229, 'reenforced': 20105, 'impeccably': 12133, 'sarasota': 21322, 'abduction': 47, 'abductor': 48, 'cooperative': 5249, 'impervious': 12150, 'payphone': 17887, 'spongebob': 23163, 'dolepants': 7092, 'chaddy': 3886, 'dandenongnongnenong': 5910, 'devonshire': 6557, 'scone': 21514, 'hugest': 11789, 'asparagus': 1412, 'yummm': 27841, 'depletion': 6370, 'ouevers': 17354, 'europle': 8341, 'irritate': 12891, 'smothering': 22673, 'blubbering': 2617, 'eeek': 7644, 'irritates': 12893, 'elicit': 7765, 'mushy': 16178, 'blogathering': 2564, 'wpm': 27547, 'shimmered': 22046, 'hamstringing': 10945, 'brutish': 3114, 'deafening': 6037, 'nimbly': 16632, 'orcish': 17253, 'mansuetus': 14972, 'commanded': 4719, 'crossbowmen': 5613, 'crossbow': 5612, 'roared': 20875, 'unleashing': 26059, 'savored': 21388, 'lumbered': 14667, 'splattered': 23135, 'slashing': 22512, 'bawled': 2057, 'fle': 9276, 'fet': 9017, 'boomed': 2764, 'unstoppable': 26153, 'parried': 17750, 'humongous': 11825, 'inche': 12241, 'riposte': 20824, 'harmlessly': 11055, 'bead': 2080, 'perspiration': 18123, 'tireless': 25012, 'gripped': 10614, 'descended': 6408, 'groaned': 10622, 'streamed': 23640, 'mansuetues': 14971, 'courtly': 5421, 'wouldst': 27533, 'armour': 1282, 'scabbard': 21410, 'mliara': 15741, 'gushing': 10773, 'rustled': 21136, 'bloodstained': 2597, 'tunic': 25624, 'riverbank': 20849, 'splashing': 23134, 'sewn': 21899, 'barbaric': 1929, 'ther': 24761, 'slurred': 22603, 'pursuer': 19486, 'thud': 24890, 'droplet': 7342, 'spurted': 23223, 'protruded': 19319, 'glint': 10240, 'beheading': 2189, 'glared': 10213, 'rune': 21112, 'lunged': 14684, 'skewering': 22444, 'hewed': 11363, 'irritation': 12895, 'staggered': 23303, 'knelt': 13646, 'coolness': 5241, 'daphne': 5934, 'cra': 5454, 'zy': 27943, 'irrevelant': 12884, 'goona': 10374, 'slacking': 22492, 'crook': 5605, 'stardee': 23358, 'forthe': 9528, 'occuring': 16987, 'addage': 289, 'quarantined': 19558, 'customvalidators': 5792, 'validate': 26352, 'runtime': 21120, 'waht': 26795, 'transmitting': 25355, 'transponder': 25360, 'atc': 1512, 'norad': 16733, 'scooted': 21520, 'locating': 14444, 'fdr': 8906, 'lewinski': 14151, 'twa': 25672, 'schlessinger': 21479, 'marries': 15053, 'resists': 20532, 'blissfull': 2542, 'repenting': 20407, 'arsenic': 1334, 'penniless': 18003, 'orphaned': 17309, 'madlib': 14780, 'quibbled': 19594, 'ninelavender': 16636, 'conjugated': 4995, 'haystack': 11137, 'breathlessly': 2959, 'lemurcapitulated': 14086, 'seatchafed': 21654, 'gleamed': 10224, 'unsheathed': 26146, 'shuddered': 22205, 'meer': 15321, 'timber': 24968, 'gleefully': 10229, 'terra': 24641, 'savurs': 21392, 'bandaids': 1888, 'metally': 15453, 'phyically': 18255, 'scoll': 21513, 'sepia': 21829, 'tremor': 25433, 'piv': 18426, 'blaster': 2492, 'adieu': 316, 'moran': 15943, 'louick': 14584, 'sandbox': 21285, 'amateau': 770, 'leted': 14125, 'barbieux': 1934, 'fairyland': 8759, 'prewar': 19062, 'andyeah': 897, 'madduxmir': 14774, 'apon': 1105, 'angery': 919, 'disobeyed': 6895, 'alowed': 718, 'madder': 14770, 'pokemon': 18609, 'charaters': 3960, 'ablity': 64, 'desided': 6436, 'pikahu': 18328, 'hungery': 11842, 'heroin': 11348, 'cystal': 5829, 'amune': 842, 'deathbed': 6053, 'chaned': 3924, 'bedpan': 2144, 'cccrap': 3784, 'dint': 6725, 'secert': 21666, 'linscott': 14311, 'romm': 20957, 'picahu': 18273, 'kiddy': 13541, 'impossable': 12173, 'sweety': 24171, 'tetri': 24687, 'ditzyblondegirl': 6999, 'quiting': 19628, 'transcription': 25331, 'qoo': 19532, 'kachang': 13360, 'custard': 5786, 'imitaing': 12081, 'geokeng': 10093, 'precedent': 18925, 'caselaw': 3666, 'lp': 14628, 'findlaw': 9132, 'getcase': 10121, 'pl': 18440, 'invol': 12830, 'resolving': 20538, 'standardless': 23336, 'violation': 26608, 'discerned': 6798, 'unobjectionable': 26088, 'inheres': 12480, 'formulation': 9519, 'practicable': 18881, 'etat': 8298, 'notedin': 16777, 'antiquated': 1026, 'wheneach': 27145, 'osx': 17339, 'zippy': 27915, 'warp': 26884, 'forsee': 9523, 'unbind': 25853, 'rebirth': 19938, 'shone': 22102, 'mobility': 15773, 'barack': 1926, 'keynote': 13510, 'eradicate': 8177, 'delegate': 6244, 'galvanizing': 9910, 'pilloried': 18341, 'frequents': 9662, 'barbershop': 1932, 'funnnee': 9816, 'iliekmuse': 12031, 'stuffing': 23739, 'solicitation': 22832, 'riveting': 20853, 'flier': 9298, 'caddying': 3379, 'thundercats': 24898, 'whoah': 27200, 'sometype': 22866, 'dianna': 6595, 'distinctly': 6967, 'tormentor': 25175, 'jajaja': 12989, 'toughens': 25217, 'erroneously': 8209, 'pinkish': 18369, 'glazed': 10221, 'shrewd': 22182, 'courting': 5420, 'fastening': 8854, 'astaire': 1471, 'kimble': 13570, 'sinise': 22374, 'naff': 16269, 'parlour': 17743, 'radleys': 19698, 'wilder': 27266, 'bluetones': 2625, 'eddie': 7598, 'evaporated': 8360, 'preticular': 19038, 'missin': 15694, 'urhome': 26261, 'umd': 25805, 'newsdesk': 16556, 'squeaky': 23246, 'chewed': 4087, 'beignet': 2195, 'monde': 15854, 'authorites': 1647, 'injure': 12499, 'shari': 21970, 'fluctuate': 9360, 'barometer': 1967, 'estrada': 8293, 'rp': 21054, 'cordero': 5283, 'mackowiak': 14756, 'burrell': 3277, 'overbay': 17430, 'hou': 11724, 'wk': 27389, 'coors': 5254, 'blister': 2543, 'halladay': 10909, 'retroactive': 20646, 'peavy': 17926, 'completeness': 4818, 'fullfillment': 9773, 'hapiness': 11003, 'conucopia': 5188, 'barber': 1931, 'luis': 14661, 'luise': 14662, 'obeyed': 16918, 'hexum': 11367, 'tropicana': 25517, 'urgently': 26258, 'delgados': 6250, 'clare': 4350, 'slater': 22515, 'underline': 25920, 'ditching': 6994}\n",
      "[8.37796722 8.09028515 8.78343233 ... 8.78343233 8.78343233 8.78343233]\n"
     ]
    }
   ],
   "source": [
    "from sklearn.feature_extraction.text import TfidfVectorizer\n",
    "# create the transform\n",
    "tfidf = TfidfVectorizer(stop_words= 'english')\n",
    "# tokenize and build vocab\n",
    "tfidf.fit(X_train1)\n",
    "# summarize\n",
    "print(tfidf.vocabulary_)\n",
    "print(tfidf.idf_)"
   ]
  },
  {
   "cell_type": "code",
   "execution_count": 86,
   "id": "13de6bae",
   "metadata": {},
   "outputs": [
    {
     "name": "stdout",
     "output_type": "stream",
     "text": [
      "(4800, 27950)\n"
     ]
    }
   ],
   "source": [
    "# encode document\n",
    "X_train_tfidf = tfidf.transform(X_train1)\n",
    "# summarize encoded vector\n",
    "print(X_train_tfidf.shape)\n",
    "#print(vector.toarray())"
   ]
  },
  {
   "cell_type": "code",
   "execution_count": 87,
   "id": "2a82c631",
   "metadata": {},
   "outputs": [
    {
     "name": "stdout",
     "output_type": "stream",
     "text": [
      "(4800,)\n"
     ]
    }
   ],
   "source": [
    "print(y_train1.shape)"
   ]
  },
  {
   "cell_type": "code",
   "execution_count": 88,
   "id": "f5b9e7fb",
   "metadata": {},
   "outputs": [
    {
     "data": {
      "text/plain": [
       "<4800x27950 sparse matrix of type '<class 'numpy.float64'>'\n",
       "\twith 229951 stored elements in Compressed Sparse Row format>"
      ]
     },
     "execution_count": 88,
     "metadata": {},
     "output_type": "execute_result"
    }
   ],
   "source": [
    "x3 = X_train_tfidf\n",
    "x3"
   ]
  },
  {
   "cell_type": "code",
   "execution_count": 89,
   "id": "d30c03ce",
   "metadata": {},
   "outputs": [
    {
     "name": "stdout",
     "output_type": "stream",
     "text": [
      "(1200, 27950)\n"
     ]
    }
   ],
   "source": [
    "X_test_tfidf  = tfidf.transform(X_test1)\n",
    "print(X_test_tfidf.shape)"
   ]
  },
  {
   "cell_type": "code",
   "execution_count": 90,
   "id": "cfc86886",
   "metadata": {},
   "outputs": [
    {
     "data": {
      "text/plain": [
       "<1200x27950 sparse matrix of type '<class 'numpy.float64'>'\n",
       "\twith 53507 stored elements in Compressed Sparse Row format>"
      ]
     },
     "execution_count": 90,
     "metadata": {},
     "output_type": "execute_result"
    }
   ],
   "source": [
    "x4 = X_test_tfidf\n",
    "x4"
   ]
  },
  {
   "cell_type": "markdown",
   "id": "b92d8375",
   "metadata": {},
   "source": [
    "### 4.B. Build classifier Models using other algorithms than base model:"
   ]
  },
  {
   "cell_type": "code",
   "execution_count": 96,
   "id": "6061dec2",
   "metadata": {},
   "outputs": [
    {
     "name": "stdout",
     "output_type": "stream",
     "text": [
      "Accuracy of this Random Forest Classifier Model is 0.408\n"
     ]
    }
   ],
   "source": [
    "# Using the RandomForest Classifier and CountVectorizer\n",
    "\n",
    "\n",
    "from sklearn.ensemble import RandomForestClassifier\n",
    "from sklearn.model_selection import cross_val_score\n",
    "\n",
    "clf = RandomForestClassifier(n_estimators=10, n_jobs=4)\n",
    "\n",
    "clf.fit(Xtrain, Ytrain)\n",
    "print('Accuracy of this Random Forest Classifier Model is',clf.score(Xtest, Ytest))"
   ]
  },
  {
   "cell_type": "code",
   "execution_count": 97,
   "id": "97bb29c7",
   "metadata": {},
   "outputs": [],
   "source": [
    "from sklearn.preprocessing import LabelEncoder\n",
    "from sklearn.preprocessing import MinMaxScaler\n",
    "from scipy.stats import zscore\n",
    "from sklearn.model_selection import train_test_split\n",
    "from sklearn.neighbors import KNeighborsClassifier\n",
    "from sklearn.metrics import accuracy_score,confusion_matrix\n",
    "from sklearn.linear_model import LogisticRegression\n",
    "from sklearn.svm import SVC\n",
    "from sklearn.metrics import classification_report\n",
    "from sklearn import model_selection\n",
    "import warnings\n",
    "warnings.filterwarnings(\"ignore\")"
   ]
  },
  {
   "cell_type": "code",
   "execution_count": 98,
   "id": "261d8604",
   "metadata": {},
   "outputs": [],
   "source": [
    "#Using KNN Model and CountVectorizer:\n",
    "\n",
    "KNN = KNeighborsClassifier(n_neighbors = 5, metric = 'euclidean')"
   ]
  },
  {
   "cell_type": "code",
   "execution_count": 99,
   "id": "9859d27e",
   "metadata": {},
   "outputs": [],
   "source": [
    "KNN.fit(Xtrain,Ytrain)\n",
    "pred_labels = KNN.predict(Xtest)"
   ]
  },
  {
   "cell_type": "code",
   "execution_count": 100,
   "id": "968742c7",
   "metadata": {},
   "outputs": [
    {
     "name": "stdout",
     "output_type": "stream",
     "text": [
      "Accuracy on Training Data using KNN Classifier and CountVectorizer 0.433\n",
      "\n",
      "\n",
      "Accuracy on Testing Data using KNN Classifier and CountVectorizer 0.373\n"
     ]
    }
   ],
   "source": [
    "print('Accuracy on Training Data using KNN Classifier and CountVectorizer',KNN.score(Xtrain,Ytrain))\n",
    "print('\\n')\n",
    "print('Accuracy on Testing Data using KNN Classifier and CountVectorizer',KNN.score(Xtest,Ytest))"
   ]
  },
  {
   "cell_type": "code",
   "execution_count": 101,
   "id": "94563fca",
   "metadata": {},
   "outputs": [
    {
     "name": "stdout",
     "output_type": "stream",
     "text": [
      "Classification Matrix:\n",
      "               precision    recall  f1-score   support\n",
      "\n",
      "           0       0.00      0.00      0.00        35\n",
      "           1       0.00      0.00      0.00        69\n",
      "           2       0.00      0.00      0.00        19\n",
      "           3       0.06      0.03      0.04        67\n",
      "           4       0.00      0.00      0.00        29\n",
      "           5       1.00      0.06      0.11        66\n",
      "           6       0.00      0.00      0.00        39\n",
      "           7       0.00      0.00      0.00        25\n",
      "           8       0.00      0.00      0.00        21\n",
      "           9       0.00      0.00      0.00        22\n",
      "          10       1.00      0.03      0.05       117\n",
      "          11       0.46      0.82      0.59       449\n",
      "          12       0.00      0.00      0.00        11\n",
      "          13       0.00      0.00      0.00         7\n",
      "          14       0.00      0.00      0.00        15\n",
      "          15       0.00      0.00      0.00         6\n",
      "          16       0.00      0.00      0.00         1\n",
      "          17       0.00      0.00      0.00         0\n",
      "          18       0.00      0.00      0.00         2\n",
      "          19       0.00      0.00      0.00         0\n",
      "          20       0.00      0.00      0.00         1\n",
      "          21       0.00      0.00      0.00        67\n",
      "          22       0.51      0.83      0.63       489\n",
      "          23       0.00      0.00      0.00         7\n",
      "          24       0.00      0.00      0.00         3\n",
      "          25       0.00      0.00      0.00         4\n",
      "          26       1.00      0.17      0.29        18\n",
      "          27       1.00      0.23      0.38        13\n",
      "          28       0.00      0.00      0.00        17\n",
      "          29       0.00      0.00      0.00        14\n",
      "          30       0.00      0.00      0.00         1\n",
      "          31       0.00      0.00      0.00        28\n",
      "          32       0.00      0.00      0.00        22\n",
      "          33       0.00      0.00      0.00        10\n",
      "          34       0.00      0.00      0.00         4\n",
      "          35       0.00      0.00      0.00        14\n",
      "          36       0.00      0.00      0.00         0\n",
      "          37       0.00      0.00      0.00        50\n",
      "          38       0.00      0.00      0.00        86\n",
      "          39       0.00      0.00      0.00         1\n",
      "          40       0.00      0.00      0.00         2\n",
      "          41       0.00      0.00      0.00        11\n",
      "          42       0.00      0.00      0.00         1\n",
      "          43       1.00      0.02      0.04       154\n",
      "          44       0.00      0.00      0.00         5\n",
      "          45       0.12      0.05      0.07        81\n",
      "          46       0.00      0.00      0.00        15\n",
      "          47       0.33      0.01      0.02       125\n",
      "          48       0.00      0.00      0.00        13\n",
      "          49       0.47      0.82      0.60       451\n",
      "          50       0.00      0.00      0.00         9\n",
      "          51       0.66      0.13      0.22       361\n",
      "          52       0.35      0.10      0.15       284\n",
      "          53       0.66      0.96      0.78       639\n",
      "\n",
      "   micro avg       0.52      0.46      0.49      4000\n",
      "   macro avg       0.16      0.08      0.07      4000\n",
      "weighted avg       0.46      0.46      0.38      4000\n",
      " samples avg       0.54      0.46      0.48      4000\n",
      "\n"
     ]
    }
   ],
   "source": [
    "print('Classification Matrix:\\n',classification_report(Ytest,pred_labels))"
   ]
  },
  {
   "cell_type": "markdown",
   "id": "3ef5398e",
   "metadata": {},
   "source": [
    "### C. Tune Parameters/Hyperparameters of the model/s"
   ]
  },
  {
   "cell_type": "code",
   "execution_count": 102,
   "id": "adf600cb",
   "metadata": {},
   "outputs": [],
   "source": [
    "myList = list(range(1,51))\n",
    "# This 1 to 51 tells the no of neighbours for each query\n",
    "n_neighbors = list(filter(lambda x:x % 2 != 0,myList))"
   ]
  },
  {
   "cell_type": "code",
   "execution_count": 104,
   "id": "22fc2490",
   "metadata": {},
   "outputs": [
    {
     "name": "stdout",
     "output_type": "stream",
     "text": [
      "The optimal number of neighbors is 3\n"
     ]
    }
   ],
   "source": [
    "ac_scores = []\n",
    "\n",
    "# perform accuracy metrics for values from 1,3,5....19\n",
    "for k in n_neighbors:\n",
    "    knn = KNeighborsClassifier(n_neighbors=k)\n",
    "    knn.fit(Xtrain, Ytrain)\n",
    "    # predict the response\n",
    "    y_pred = knn.predict(Xtest)\n",
    "    # evaluate accuracy\n",
    "    scores = accuracy_score(Ytest, y_pred)\n",
    "    ac_scores.append(scores)\n",
    "\n",
    "# changing to misclassification error\n",
    "MSE = [1 - x for x in ac_scores]\n",
    "\n",
    "# determining best k\n",
    "optimal_k = n_neighbors[MSE.index(min(MSE))]\n",
    "print(\"The optimal number of neighbors is %d\" % optimal_k)"
   ]
  },
  {
   "cell_type": "code",
   "execution_count": 105,
   "id": "0d785951",
   "metadata": {},
   "outputs": [],
   "source": [
    "#Using KNN Model and CountVectorizer:\n",
    "\n",
    "KNN = KNeighborsClassifier(n_neighbors = 3, metric = 'euclidean')\n",
    "\n",
    "KNN.fit(Xtrain,Ytrain)\n",
    "pred_labels = KNN.predict(Xtest)"
   ]
  },
  {
   "cell_type": "markdown",
   "id": "5d01fffd",
   "metadata": {},
   "source": [
    "In order to tune the parameters, Optimal value of No. of Neighbors for a KNN Model is found and its said to be 3."
   ]
  },
  {
   "cell_type": "markdown",
   "id": "ef124571",
   "metadata": {},
   "source": [
    "### 4.D. Clearly print Performance Metrics:"
   ]
  },
  {
   "cell_type": "markdown",
   "id": "9e116930",
   "metadata": {},
   "source": [
    "The performance metrics are :\n",
    "\n",
    "1. Accuracy\n",
    "\n",
    "2. Classification report - precision,recall,f1_score"
   ]
  },
  {
   "cell_type": "code",
   "execution_count": 106,
   "id": "6fb7311d",
   "metadata": {},
   "outputs": [
    {
     "name": "stdout",
     "output_type": "stream",
     "text": [
      "Accuracy on Training Data using KNN Classifier and CountVectorizer 0.479\n",
      "\n",
      "\n",
      "Accuracy on Testing Data using KNN Classifier and CountVectorizer 0.451\n"
     ]
    }
   ],
   "source": [
    "print('Accuracy on Training Data using KNN Classifier and CountVectorizer',KNN.score(Xtrain,Ytrain))\n",
    "print('\\n')\n",
    "print('Accuracy on Testing Data using KNN Classifier and CountVectorizer',KNN.score(Xtest,Ytest))"
   ]
  },
  {
   "cell_type": "markdown",
   "id": "ee462c01",
   "metadata": {},
   "source": [
    "## Accuracy on Data using KNN Classifier and CountVectorizer is improved from 37 to 45%."
   ]
  },
  {
   "cell_type": "code",
   "execution_count": 107,
   "id": "8513fe1b",
   "metadata": {},
   "outputs": [
    {
     "name": "stdout",
     "output_type": "stream",
     "text": [
      "Classification Matrix:\n",
      "               precision    recall  f1-score   support\n",
      "\n",
      "           0       1.00      0.03      0.06        35\n",
      "           1       0.00      0.00      0.00        69\n",
      "           2       0.00      0.00      0.00        19\n",
      "           3       0.00      0.00      0.00        67\n",
      "           4       0.00      0.00      0.00        29\n",
      "           5       1.00      0.06      0.11        66\n",
      "           6       0.00      0.00      0.00        39\n",
      "           7       0.00      0.00      0.00        25\n",
      "           8       0.00      0.00      0.00        21\n",
      "           9       0.00      0.00      0.00        22\n",
      "          10       1.00      0.03      0.05       117\n",
      "          11       0.47      1.00      0.64       449\n",
      "          12       0.00      0.00      0.00        11\n",
      "          13       0.00      0.00      0.00         7\n",
      "          14       0.00      0.00      0.00        15\n",
      "          15       0.00      0.00      0.00         6\n",
      "          16       0.00      0.00      0.00         1\n",
      "          17       0.00      0.00      0.00         0\n",
      "          18       0.00      0.00      0.00         2\n",
      "          19       0.00      0.00      0.00         0\n",
      "          20       0.00      0.00      0.00         1\n",
      "          21       1.00      0.01      0.03        67\n",
      "          22       0.51      1.00      0.68       489\n",
      "          23       0.00      0.00      0.00         7\n",
      "          24       0.00      0.00      0.00         3\n",
      "          25       0.00      0.00      0.00         4\n",
      "          26       1.00      0.17      0.29        18\n",
      "          27       1.00      0.23      0.38        13\n",
      "          28       0.00      0.00      0.00        17\n",
      "          29       0.00      0.00      0.00        14\n",
      "          30       0.00      0.00      0.00         1\n",
      "          31       0.00      0.00      0.00        28\n",
      "          32       0.00      0.00      0.00        22\n",
      "          33       0.00      0.00      0.00        10\n",
      "          34       0.00      0.00      0.00         4\n",
      "          35       0.00      0.00      0.00        14\n",
      "          36       0.00      0.00      0.00         0\n",
      "          37       0.00      0.00      0.00        50\n",
      "          38       0.00      0.00      0.00        86\n",
      "          39       0.00      0.00      0.00         1\n",
      "          40       0.00      0.00      0.00         2\n",
      "          41       0.00      0.00      0.00        11\n",
      "          42       0.00      0.00      0.00         1\n",
      "          43       1.00      0.02      0.04       154\n",
      "          44       0.00      0.00      0.00         5\n",
      "          45       0.80      0.05      0.09        81\n",
      "          46       0.00      0.00      0.00        15\n",
      "          47       0.33      0.01      0.02       125\n",
      "          48       0.00      0.00      0.00        13\n",
      "          49       0.47      1.00      0.64       451\n",
      "          50       0.00      0.00      0.00         9\n",
      "          51       0.97      0.09      0.17       361\n",
      "          52       0.91      0.04      0.07       284\n",
      "          53       0.66      1.00      0.80       639\n",
      "\n",
      "   micro avg       0.54      0.52      0.53      4000\n",
      "   macro avg       0.22      0.09      0.07      4000\n",
      "weighted avg       0.57      0.52      0.38      4000\n",
      " samples avg       0.54      0.52      0.53      4000\n",
      "\n"
     ]
    }
   ],
   "source": [
    "print('Classification Matrix:\\n',classification_report(Ytest,pred_labels))"
   ]
  },
  {
   "cell_type": "markdown",
   "id": "d185f0de",
   "metadata": {},
   "source": [
    "### But the Logistic Regression model with CountVectorizer has an Accuracy of 52%.(Final Model)"
   ]
  },
  {
   "cell_type": "markdown",
   "id": "d21e01bc",
   "metadata": {},
   "source": [
    "### 5. Share insights on relative performance comparison \n"
   ]
  },
  {
   "cell_type": "markdown",
   "id": "351de248",
   "metadata": {},
   "source": [
    "##### - 5.A. Which vectorizer performed better? Probable reason?\n",
    "\n",
    "1. Count Vectorizer makes the text data to be used directly in machine learning and deep learning models such as text classification.Each input is preprocessed, tokenized, and represented as a sparse matrix. CountVectorizer is used to transform a corpora of text to a vector of term / token counts. \n",
    "\n",
    "2. It also provides the capability to preprocess your text data prior to generating the vector representation making it a highly flexible feature representation module for text.\n",
    "\n",
    "So CountVectorizer model has performed better."
   ]
  },
  {
   "cell_type": "markdown",
   "id": "58aa26fe",
   "metadata": {},
   "source": [
    "##### - 5.B. Which model outperformed? Probable reason? \n",
    "\n",
    "1. Among the RandomForest Classifier, Logistic Regression and KNN Model,\n",
    "\n",
    "2. Logistic Regression model has performed well with Count Vectorizer and has an accuracy of 52%."
   ]
  },
  {
   "cell_type": "markdown",
   "id": "739c0f41",
   "metadata": {},
   "source": [
    "#### - 5.C. Which parameter/hyperparameter significantly helped to improve performance?Probable reason?. \n",
    "\n",
    "1. I tried to improve performance of KNN Model by finding the optimal n_neighbours and its found to be 3.\n",
    "\n",
    "2. Now the accuracy of KNN Model has improved from 37% to 45%.\n",
    "\n",
    "Hence n_neighbours parameter significantly helped to improve performance of the Model."
   ]
  },
  {
   "cell_type": "markdown",
   "id": "cc4720e4",
   "metadata": {},
   "source": [
    "#### - 5.D. According to you, which performance metric should be given most importance, why?. \n",
    ".\n",
    "1. Precision is the most important performace metric that is needed to be considered.\n",
    "\n",
    "2.  Precision is how good the model is at predicting a specific category, So for me its the most important performance metric to be considered for evaluating the performance. \n",
    "\n",
    "3. Based on precision of a model, we can decide to tune the parameters so as to get the best predicting model."
   ]
  },
  {
   "cell_type": "markdown",
   "id": "e175c56c",
   "metadata": {},
   "source": [
    "# NLP_PROJECT1_PART         -         THE END"
   ]
  },
  {
   "cell_type": "code",
   "execution_count": null,
   "id": "0da2a478",
   "metadata": {},
   "outputs": [],
   "source": []
  },
  {
   "cell_type": "code",
   "execution_count": null,
   "id": "e05d7943",
   "metadata": {},
   "outputs": [],
   "source": []
  }
 ],
 "metadata": {
  "kernelspec": {
   "display_name": "Python 3 (ipykernel)",
   "language": "python",
   "name": "python3"
  },
  "language_info": {
   "codemirror_mode": {
    "name": "ipython",
    "version": 3
   },
   "file_extension": ".py",
   "mimetype": "text/x-python",
   "name": "python",
   "nbconvert_exporter": "python",
   "pygments_lexer": "ipython3",
   "version": "3.9.12"
  }
 },
 "nbformat": 4,
 "nbformat_minor": 5
}
